{
 "cells": [
  {
   "cell_type": "code",
   "execution_count": 1,
   "metadata": {
    "hideCode": false,
    "scrolled": true,
    "slideshow": {
     "slide_type": "notes"
    }
   },
   "outputs": [
    {
     "data": {
      "text/html": [
       "        <script type=\"text/javascript\">\n",
       "        window.PlotlyConfig = {MathJaxConfig: 'local'};\n",
       "        if (window.MathJax) {MathJax.Hub.Config({SVG: {font: \"STIX-Web\"}});}\n",
       "        if (typeof require !== 'undefined') {\n",
       "        require.undef(\"plotly\");\n",
       "        requirejs.config({\n",
       "            paths: {\n",
       "                'plotly': ['https://cdn.plot.ly/plotly-latest.min']\n",
       "            }\n",
       "        });\n",
       "        require(['plotly'], function(Plotly) {\n",
       "            window._Plotly = Plotly;\n",
       "        });\n",
       "        }\n",
       "        </script>\n",
       "        "
      ]
     },
     "metadata": {},
     "output_type": "display_data"
    },
    {
     "data": {
      "text/html": [
       "        <script type=\"text/javascript\">\n",
       "        window.PlotlyConfig = {MathJaxConfig: 'local'};\n",
       "        if (window.MathJax) {MathJax.Hub.Config({SVG: {font: \"STIX-Web\"}});}\n",
       "        if (typeof require !== 'undefined') {\n",
       "        require.undef(\"plotly\");\n",
       "        requirejs.config({\n",
       "            paths: {\n",
       "                'plotly': ['https://cdn.plot.ly/plotly-latest.min']\n",
       "            }\n",
       "        });\n",
       "        require(['plotly'], function(Plotly) {\n",
       "            window._Plotly = Plotly;\n",
       "        });\n",
       "        }\n",
       "        </script>\n",
       "        "
      ]
     },
     "metadata": {},
     "output_type": "display_data"
    },
    {
     "data": {
      "application/javascript": [
       "window.genUID = function() {\n",
       "    return 'xxxxxxxx-xxxx-4xxx-yxxx-xxxxxxxxxxxx'.replace(/[xy]/g, function(c) {\n",
       "        var r = Math.random()*16|0, v = c == 'x' ? r : (r&0x3|0x8);\n",
       "        return v.toString(16);\n",
       "    });\n",
       "};\n",
       "\n",
       "\n",
       "define('graphWidget', [\"@jupyter-widgets/base\"], function (widget) {\n",
       "\n",
       "    var GraphView = widget.DOMWidgetView.extend({\n",
       "        render: function(){\n",
       "            var that = this;\n",
       "\n",
       "            var graphId = window.genUID();\n",
       "            var loadingId = 'loading-'+graphId;\n",
       "\n",
       "\n",
       "            var _graph_url = that.model.get('_graph_url');\n",
       "\n",
       "            // variable plotlyDomain in the case of enterprise\n",
       "            var url_parts = _graph_url.split('/');\n",
       "            var plotlyDomain = url_parts[0] + '//' + url_parts[2];\n",
       "\n",
       "            if(!('plotlyDomains' in window)){\n",
       "                window.plotlyDomains = {};\n",
       "            }\n",
       "            window.plotlyDomains[graphId] = plotlyDomain;\n",
       "\n",
       "            // Place IFrame in output cell div `$el`\n",
       "            that.$el.css('width', '100%');\n",
       "            that.$graph = $(['<iframe id=\"'+graphId+'\"',\n",
       "                             'src=\"'+_graph_url+'.embed\"',\n",
       "                             'seamless',\n",
       "                             'style=\"border: none;\"',\n",
       "                             'width=\"100%\"',\n",
       "                             'height=\"600\">',\n",
       "                             '</iframe>'].join(' '));\n",
       "            that.$graph.appendTo(that.$el);\n",
       "\n",
       "            that.$loading = $('<div id=\"'+loadingId+'\">Initializing...</div>')\n",
       "                            .appendTo(that.$el);\n",
       "\n",
       "            // for some reason the 'width' is being changed in IPython 3.0.0\n",
       "            // for the containing `div` element. There's a flicker here, but\n",
       "            // I was unable to fix it otherwise.\n",
       "            setTimeout(function ()  {\n",
       "                if (IPYTHON_VERSION === '3') {\n",
       "                    $('#' + graphId)[0].parentElement.style.width = '100%';\n",
       "                }\n",
       "            }, 500);\n",
       "\n",
       "            // initialize communication with the iframe\n",
       "            if(!('pingers' in window)){\n",
       "                window.pingers = {};\n",
       "            }\n",
       "\n",
       "            window.pingers[graphId] = setInterval(function() {\n",
       "                that.graphContentWindow = $('#'+graphId)[0].contentWindow;\n",
       "                that.graphContentWindow.postMessage({task: 'ping'}, plotlyDomain);\n",
       "            }, 200);\n",
       "\n",
       "            // Assign a message listener to the 'message' events\n",
       "            // from iframe's postMessage protocol.\n",
       "            // Filter the messages by iframe src so that the right message\n",
       "            // gets passed to the right widget\n",
       "            if(!('messageListeners' in window)){\n",
       "                 window.messageListeners = {};\n",
       "            }\n",
       "\n",
       "            window.messageListeners[graphId] = function(e) {\n",
       "                if(_graph_url.indexOf(e.origin)>-1) {\n",
       "                    var frame = document.getElementById(graphId);\n",
       "\n",
       "                    if(frame === null){\n",
       "                        // frame doesn't exist in the dom anymore, clean up it's old event listener\n",
       "                        window.removeEventListener('message', window.messageListeners[graphId]);\n",
       "                        clearInterval(window.pingers[graphId]);\n",
       "                    } else if(frame.contentWindow === e.source) {\n",
       "                        // TODO: Stop event propagation, so each frame doesn't listen and filter\n",
       "                        var frameContentWindow = $('#'+graphId)[0].contentWindow;\n",
       "                        var message = e.data;\n",
       "\n",
       "                        if('pong' in message && message.pong) {\n",
       "                            $('#loading-'+graphId).hide();\n",
       "                            clearInterval(window.pingers[graphId]);\n",
       "                            that.send({event: 'pong', graphId: graphId});\n",
       "                        } else if (message.type==='hover' ||\n",
       "                                   message.type==='zoom'  ||\n",
       "                                   message.type==='click' ||\n",
       "                                   message.type==='unhover') {\n",
       "\n",
       "                            // click and hover events contain all of the data in the traces,\n",
       "                            // which can be a very large object and may take a ton of time\n",
       "                            // to pass to the python backend. Strip out the data, and require\n",
       "                            // the user to call get_figure if they need trace information\n",
       "                            if(message.type !== 'zoom') {\n",
       "                                for(var i in message.points) {\n",
       "                                    delete message.points[i].data;\n",
       "                                    delete message.points[i].fullData;\n",
       "                                }\n",
       "                            }\n",
       "                            that.send({event: message.type, message: message, graphId: graphId});\n",
       "                        } else if (message.task === 'getAttributes') {\n",
       "                            that.send({event: 'getAttributes', response: message.response});\n",
       "                        }\n",
       "                    }\n",
       "                }\n",
       "            };\n",
       "\n",
       "            window.removeEventListener('message', window.messageListeners[graphId]);\n",
       "            window.addEventListener('message', window.messageListeners[graphId]);\n",
       "\n",
       "        },\n",
       "\n",
       "        update: function() {\n",
       "            // Listen for messages from the graph widget in python\n",
       "            var jmessage = this.model.get('_message');\n",
       "            var message = JSON.parse(jmessage);\n",
       "\n",
       "            // check for duplicate messages\n",
       "            if(!('messageIds' in window)){\n",
       "                window.messageIds = {};\n",
       "            }\n",
       "\n",
       "            if(!(message.uid in window.messageIds)){\n",
       "                // message hasn't been received yet, do stuff\n",
       "                window.messageIds[message.uid] = true;\n",
       "\n",
       "                if (message.fadeTo) {\n",
       "                    this.fadeTo(message);\n",
       "                } else {\n",
       "                    var plot = $('#' + message.graphId)[0].contentWindow;\n",
       "                    plot.postMessage(message, window.plotlyDomains[message.graphId]);\n",
       "                }\n",
       "            }\n",
       "\n",
       "            return GraphView.__super__.update.apply(this);\n",
       "        },\n",
       "\n",
       "        /**\n",
       "         * Wrapper for jquery's `fadeTo` function.\n",
       "         *\n",
       "         * @param message Contains the id we need to find the element.\n",
       "         */\n",
       "        fadeTo: function (message) {\n",
       "            var plot = $('#' + message.graphId);\n",
       "            plot.fadeTo(message.duration, message.opacity);\n",
       "        }\n",
       "    });\n",
       "\n",
       "    // Register the GraphView with the widget manager.\n",
       "    return {\n",
       "        GraphView: GraphView\n",
       "    }\n",
       "\n",
       "});\n",
       "\n",
       "//@ sourceURL=graphWidget.js\n"
      ],
      "text/plain": [
       "<IPython.core.display.Javascript object>"
      ]
     },
     "metadata": {},
     "output_type": "display_data"
    }
   ],
   "source": [
    "import pandas as pd \n",
    "import numpy as np \n",
    "import datetime\n",
    "import pandas_datareader.data as web\n",
    "import yahoo_finance as yf\n",
    "import plotly.graph_objects as go\n",
    "from plotly.offline import iplot, init_notebook_mode\n",
    "import cufflinks\n",
    "cufflinks.go_offline(connected=True)\n",
    "init_notebook_mode(connected=True)\n",
    "\n",
    "\n",
    "import random \n",
    "from ipywidgets import widgets\n",
    "from chart_studio.widgets import GraphWidget\n",
    "from scipy.stats import ttest_ind,probplot,bayes_mvs, linregress\n",
    "from ipywidgets import interact,interact_manual,interactive_output\n"
   ]
  },
  {
   "cell_type": "markdown",
   "metadata": {},
   "source": [
    "<h1>Symbol in Consumer Industry "
   ]
  },
  {
   "cell_type": "code",
   "execution_count": 2,
   "metadata": {
    "hideCode": false,
    "hidePrompt": false
   },
   "outputs": [],
   "source": [
    "#get basic stock date from 2018-01-01 to today\n",
    "start = datetime.datetime(2018,1,1)\n",
    "end = datetime.date.today()\n",
    "symbols = ['CPB','CL','COST','SJM','K','PEP','KO','HSY','KHC','WMT']\n",
    "\n",
    "solar_df = web.get_data_yahoo(symbols, start,end)\n",
    "df = solar_df.stack().reset_index().set_index('Date')\n",
    "df['log_return']= np.log(df['Close']/df['Open'])"
   ]
  },
  {
   "cell_type": "code",
   "execution_count": 3,
   "metadata": {
    "hideCode": false,
    "hidePrompt": false
   },
   "outputs": [],
   "source": [
    "symbol_names ={'CPB': 'Campbell Soup Company',\n",
    " 'CL': 'Colgate-Palmolive Company',\n",
    " 'COST': 'Costco Wholesale Corporation',\n",
    " 'SJM': 'J.M.Smucker Company',\n",
    " 'K': 'Kellogg Company',\n",
    " 'PEP': 'PepsiCo, Inc.',\n",
    " 'KO': 'The Coca-Cola Company',\n",
    " 'HSY': 'The Hershey Company',\n",
    " 'KHC': 'The Kraft Heinz Company',\n",
    " 'WMT': 'Walmart Inc.'}"
   ]
  },
  {
   "cell_type": "code",
   "execution_count": 4,
   "metadata": {
    "hideCode": true,
    "hidePrompt": false
   },
   "outputs": [],
   "source": [
    "#some essential widgets list\n",
    "s = [(value,key) for key, value in symbol_names.items() ]\n",
    "num = widgets.BoundedIntText(\n",
    "    value=300,\n",
    "    min=1,\n",
    "    max=len(df),\n",
    "    step=1,\n",
    "    description='#Samples',\n",
    "    disabled=False\n",
    ")\n",
    "start_date = widgets.DatePicker(\n",
    "    description='Start Date',\n",
    "    value= pd.to_datetime('2018-11-01'))\n",
    "end_date = widgets.DatePicker(\n",
    "    description = 'End Date',\n",
    "    value= pd.to_datetime('2019-12-05'))\n",
    "\n",
    "\n",
    "first_textbox = widgets.Dropdown(\n",
    "    description='First Type:   ',\n",
    "    value='Open',\n",
    "    options=list(df.select_dtypes('number').columns)\n",
    ")\n",
    "\n",
    "second_textbox = widgets.Dropdown(\n",
    "    description='Second Type:   ',\n",
    "    value='Close',\n",
    "    options=list(df.select_dtypes('number').columns)\n",
    ")\n",
    "\n",
    "symbol = widgets.Dropdown(\n",
    "    description='Symbol:   ',\n",
    "    value='WMT',\n",
    "    options = s\n",
    ")\n"
   ]
  },
  {
   "cell_type": "markdown",
   "metadata": {},
   "source": [
    "<h2> Part1. Time Series Figure"
   ]
  },
  {
   "cell_type": "code",
   "execution_count": 5,
   "metadata": {
    "hideCode": true,
    "hidePrompt": false
   },
   "outputs": [],
   "source": [
    "trace1 = go.Scatter(x=df.loc[df.Symbols=='WMT'].index, y=df.loc[df.Symbols=='WMT']['Open'], opacity=0.75, name='Open Price',mode='markers+lines')\n",
    "trace2 = go.Scatter(x=df.loc[df.Symbols=='WMT'].index, y=df.loc[df.Symbols=='WMT']['Close'], opacity=0.75, name='Close Price',mode='markers+lines')\n",
    "g = go.FigureWidget(data=[trace1, trace2],\n",
    "                    layout=go.Layout(height=600,width=1000,\n",
    "                        title=dict(\n",
    "                            text='Open and Close Price of Walmart'\n",
    "                        ),\n",
    "                          yaxis_title_text = 'Price(USD)',\n",
    "                        barmode='overlay'\n",
    "                                     \n",
    "                    ))"
   ]
  },
  {
   "cell_type": "code",
   "execution_count": 6,
   "metadata": {
    "hideCode": true
   },
   "outputs": [],
   "source": [
    "def validate():\n",
    "    if (start_date.value >= pd.Timestamp(start)) and (end_date.value <= pd.Timestamp(end)) and (symbol.value in symbols):\n",
    "        return True\n",
    "    else:\n",
    "        return False\n",
    "    \n",
    "\n",
    "def response(change):\n",
    "\n",
    "    if validate():\n",
    "        start= pd.Timestamp(start_date.value)\n",
    "        end = pd.Timestamp(end_date.value)\n",
    "        filter_list = [i and j and k for i,j,k in\n",
    "                          zip(df['Symbols'] == symbol.value, df.index >= start,\n",
    "                              df.index <=end)]\n",
    "        temp_df = df[filter_list]\n",
    "        y1 = temp_df[first_textbox.value]\n",
    "        y2 = temp_df[second_textbox.value]\n",
    "        with g.batch_update():\n",
    "            g.data[0].y = y1\n",
    "            g.data[1].y = y2\n",
    "            g.data[0].name = f'{first_textbox.value}'\n",
    "            g.data[1].name = f'{second_textbox.value}'\n",
    "            g.layout.barmode = 'overlay'\n",
    "            g.layout.title = f'The {first_textbox.value} and {second_textbox.value} Price of {symbol_names[symbol.value]}(USD)'\n",
    "            g.layout.yaxis.title = 'Price(USD)'\n",
    "\n",
    "\n",
    "\n",
    "\n",
    "\n",
    "start_date.observe(response, names=\"value\")\n",
    "end_date.observe(response, names=\"value\")\n",
    "first_textbox.observe(response, names=\"value\")\n",
    "second_textbox.observe(response, names=\"value\")\n",
    "symbol.observe(response, names=\"value\")"
   ]
  },
  {
   "cell_type": "markdown",
   "metadata": {},
   "source": [
    "Please Select your interested symbol to display graphs"
   ]
  },
  {
   "cell_type": "code",
   "execution_count": 7,
   "metadata": {
    "hideCode": true
   },
   "outputs": [
    {
     "data": {
      "application/vnd.jupyter.widget-view+json": {
       "model_id": "2b250e453e11440792532ad348fa2f37",
       "version_major": 2,
       "version_minor": 0
      },
      "text/plain": [
       "VBox(children=(HBox(children=(DatePicker(value=Timestamp('2018-11-01 00:00:00'), description='Start Date'), Da…"
      ]
     },
     "metadata": {},
     "output_type": "display_data"
    }
   ],
   "source": [
    "container = widgets.HBox(children=[start_date, end_date])\n",
    "container2 = widgets.HBox([first_textbox, second_textbox])\n",
    "widgets.VBox([container,\n",
    "               container2,symbol,g])"
   ]
  },
  {
   "cell_type": "markdown",
   "metadata": {},
   "source": [
    "<h2> Part 2.One Symbol Analysis"
   ]
  },
  {
   "cell_type": "markdown",
   "metadata": {},
   "source": [
    "<h3> 2.1 Visualization"
   ]
  },
  {
   "cell_type": "code",
   "execution_count": 8,
   "metadata": {
    "hideCode": true
   },
   "outputs": [],
   "source": [
    "def one_symbol_visualizatoin(symbol,n):\n",
    "    \n",
    "    filter_idx  = random.sample(list(df.index.unique()),n)\n",
    "    regre_df = df.loc[filter_idx]\n",
    "\n",
    "    data1 =np.array(regre_df.loc[regre_df.Symbols==symbol]['log_return'])\n",
    "    (osm, osr), (slope, intercept, r) = probplot(data1,fit=True)\n",
    "    \n",
    "    trace1=go.Histogram(\n",
    "        x= data1,\n",
    "        histnorm='percent',\n",
    "        opacity=0.75,\n",
    "        xaxis='x1',\n",
    "        yaxis='y1'\n",
    "    )\n",
    "    trace2 = go.Scatter(x=osm,y=osr,mode='markers',opacity=0.6,name='data', xaxis='x2',yaxis='y2')\n",
    "    trace3 = go.Scatter(x=osm,y=osm*slope+intercept,mode='lines',name='fit', xaxis='x2',yaxis='y2')\n",
    "\n",
    "    axis=dict(\n",
    "       showline=True,\n",
    "       zeroline=False,\n",
    "       showgrid=True,\n",
    "       mirror=True,\n",
    "       ticklen=4,\n",
    "       gridcolor='#ffffff',\n",
    "       tickfont=dict(size=10))\n",
    "    \n",
    "    layout = dict(\n",
    "        width=1000,\n",
    "        height=500,\n",
    "        autosize=False,\n",
    "        title=f'Histogram and Probability plot of the log return for {symbol_names[symbol]}',\n",
    "        margin = dict(t=50),\n",
    "        showlegend=False,\n",
    "        xaxis1=dict(axis, **dict(domain=[0, 0.45], anchor='y1', showticklabels=True,title='Log Return(day)')),\n",
    "        xaxis2=dict(axis, **dict(domain=[0.52, 0.95], anchor='y2', showticklabels=True,title='Theoretical quantiles')),\n",
    "        #xaxis3=dict(axis, **dict(domain=[0, 1], anchor='y3')),\n",
    "        yaxis1=dict(axis, **dict(domain=[0, 1], anchor='x1',title = \"Percentage\")),\n",
    "        yaxis2=dict(axis, **dict(domain=[0, 1], anchor='x2', title='Ordered Values')))\n",
    "    fig = dict(data=[trace1, trace2, trace3], layout=layout)\n",
    "    iplot(fig)"
   ]
  },
  {
   "cell_type": "markdown",
   "metadata": {},
   "source": [
    "Please Select your interested symbol and input a number $\\leq 487$ for samples"
   ]
  },
  {
   "cell_type": "code",
   "execution_count": 9,
   "metadata": {
    "hideCode": true
   },
   "outputs": [
    {
     "data": {
      "application/vnd.jupyter.widget-view+json": {
       "model_id": "92927f42ea634896aabfb54f9be8326e",
       "version_major": 2,
       "version_minor": 0
      },
      "text/plain": [
       "HBox(children=(Dropdown(description='Symbol:   ', index=9, options=(('Campbell Soup Company', 'CPB'), ('Colgat…"
      ]
     },
     "metadata": {},
     "output_type": "display_data"
    },
    {
     "data": {
      "application/vnd.jupyter.widget-view+json": {
       "model_id": "222f82b4804b4372b328d0aa7d88fbcf",
       "version_major": 2,
       "version_minor": 0
      },
      "text/plain": [
       "Output()"
      ]
     },
     "metadata": {},
     "output_type": "display_data"
    }
   ],
   "source": [
    "out = interactive_output(one_symbol_visualizatoin, \n",
    "             {'symbol':  symbol, \n",
    "             'n':num})\n",
    "\n",
    "u=widgets.HBox([symbol,num])\n",
    "display(u,out)"
   ]
  },
  {
   "cell_type": "markdown",
   "metadata": {},
   "source": [
    "<h3>2.2 Analysis"
   ]
  },
  {
   "cell_type": "markdown",
   "metadata": {},
   "source": [
    "<h4>2.2.1 Confidence Interval"
   ]
  },
  {
   "cell_type": "code",
   "execution_count": 10,
   "metadata": {
    "hideCode": true
   },
   "outputs": [],
   "source": [
    "def confidence(symbol,confidence_level,n):\n",
    "    filter_idx  = random.sample(list(df.index.unique()),n)\n",
    "    regre_df = df.loc[filter_idx]\n",
    "    log_return_data = np.array(df.loc[df.Symbols==symbol]['log_return'])\n",
    "    mean_cntr, var_cntr, std_cntr = bayes_mvs(log_return_data,alpha=confidence_level)\n",
    "    CI_mu = mean_cntr.minmax\n",
    "    CI_var = var_cntr.minmax\n",
    "    CI_mur = tuple([round(x,5) if isinstance(x, float) else x for x in CI_mu])\n",
    "    CI_varr = tuple([round(x,5) if isinstance(x, float) else x for x in CI_var])\n",
    "    trace = go.Table(header=dict(values=['Company',f'{str(confidence_level*100)}% Confidence Interval of \\u03BC',\n",
    "                                          f'{str(confidence_level*100)}% Confidence Interval of \\u03C3']),\n",
    "                     cells=dict(values= [[symbol_names[symbol]], [str(CI_mur)], [str(CI_varr)]]))\n",
    "    layout = go.Layout(height=280,title=f'{str(confidence_level*100)}% Confidence Interval Analysis of {symbol_names[symbol]}')\n",
    "    fig = go.Figure(data=trace,layout=layout)\n",
    "    fig.show()"
   ]
  },
  {
   "cell_type": "markdown",
   "metadata": {},
   "source": [
    "Please Select your interested symbol to display graphs"
   ]
  },
  {
   "cell_type": "code",
   "execution_count": 11,
   "metadata": {
    "hideCode": true
   },
   "outputs": [
    {
     "data": {
      "application/vnd.jupyter.widget-view+json": {
       "model_id": "fa017e0746364ac2ad457790ec4fe43c",
       "version_major": 2,
       "version_minor": 0
      },
      "text/plain": [
       "HBox(children=(Dropdown(description='Symbol:   ', index=9, options=(('Campbell Soup Company', 'CPB'), ('Colgat…"
      ]
     },
     "metadata": {},
     "output_type": "display_data"
    },
    {
     "data": {
      "application/vnd.jupyter.widget-view+json": {
       "model_id": "015a9eb670684d95975bdba86d4b8ac1",
       "version_major": 2,
       "version_minor": 0
      },
      "text/plain": [
       "Output()"
      ]
     },
     "metadata": {},
     "output_type": "display_data"
    }
   ],
   "source": [
    "cl = widgets.BoundedFloatText(\n",
    "    value=0.95,\n",
    "    min=0,\n",
    "    max=1.0,\n",
    "    step = 0.005,\n",
    "    description='Confidence Level',\n",
    "    disabled=False\n",
    ")\n",
    "\n",
    "u =   widgets.HBox([symbol,cl,num])\n",
    "out = interactive_output(confidence, \n",
    "             {'symbol':  symbol, \n",
    "             'confidence_level':cl,\n",
    "              'n':num})\n",
    "\n",
    "display(u,out)"
   ]
  },
  {
   "cell_type": "markdown",
   "metadata": {},
   "source": [
    "<h4> 2.2.2 Regression Over Time"
   ]
  },
  {
   "cell_type": "code",
   "execution_count": 12,
   "metadata": {
    "hideCode": true
   },
   "outputs": [],
   "source": [
    "def one_symbol_regression(symbol):\n",
    "    \n",
    "    start_price  = df.loc[df.Symbols==symbol]['Open'][0]\n",
    "    regre_df = df.loc[df.Symbols==symbol]\n",
    "    log_return_vs_180102 = np.array(np.log(regre_df['Close']/start_price))\n",
    "    accumulate_days = np.array((regre_df.index - start).days)\n",
    "    \n",
    "    slope, intercept, r_value, p_value, std_err  = linregress(accumulate_days,log_return_vs_180102 )\n",
    " \n",
    "    \n",
    "    trace1 = go.Scatter(x=accumulate_days,y=log_return_vs_180102,mode='markers',name='data', xaxis='x1',yaxis='y1')\n",
    "    trace2 = go.Scatter(x=accumulate_days,y=intercept+slope*accumulate_days,mode='lines',name='fit',xaxis='x1',yaxis='y1')\n",
    "    trace3 = go.Scatter(x=accumulate_days,y=intercept+slope*accumulate_days-log_return_vs_180102,mode='markers',name='residual',xaxis='x2',yaxis='y2')\n",
    "    trace4 = go.Table(header=dict(values=['slope', 'intercept', 'R^2', 'p_value', 'std_err']),\n",
    "                 cells=dict(values= [round(x,6) for x in [slope, intercept, (r_value)**2, p_value, std_err]]))\n",
    "   \n",
    "    axis=dict(\n",
    "    showline=True,\n",
    "    zeroline=False,\n",
    "    showgrid=True,\n",
    "    mirror=True,\n",
    "    ticklen=4,\n",
    "    gridcolor='#ffffff',\n",
    "    tickfont=dict(size=10)\n",
    ")\n",
    "    layout2 = dict(\n",
    "        width=950,\n",
    "        height=800,\n",
    "        autosize=False,\n",
    "        title=f'Regression Model of log return of {symbol_names[symbol]} vs Time',\n",
    "        margin = dict(t=100),\n",
    "        showlegend=False,\n",
    "        xaxis1=dict(axis, **dict(domain=[0, 1], anchor='y1', showticklabels=False)),\n",
    "        xaxis2=dict(axis, **dict(domain=[0, 1], anchor='y2', showticklabels=True,title='Accumulated Datys')),\n",
    "        #xaxis3=dict(axis, **dict(domain=[0, 1], anchor='y3')),\n",
    "        yaxis1=dict(axis, **dict(domain=[0.4+0.05, 0.85], anchor='x1', hoverformat='.2f',title = f'Log return vs 2018-01-02')),\n",
    "        yaxis2=dict(axis, **dict(domain=[0.0, 0.4], anchor='x2',  hoverformat='.2f',title='Residual')))\n",
    "        #yaxis3=dict(axis, **dict(domain=[0.0, 0.21], anchor='x3', , hoverformat='.2f')))\n",
    "\n",
    "    fig2 = dict(data=[trace1, trace2, trace3, trace4], layout=layout2)\n",
    "    iplot(fig2)\n"
   ]
  },
  {
   "cell_type": "markdown",
   "metadata": {},
   "source": [
    "Please Select your interested symbol"
   ]
  },
  {
   "cell_type": "code",
   "execution_count": 13,
   "metadata": {
    "hideCode": true
   },
   "outputs": [
    {
     "data": {
      "application/vnd.jupyter.widget-view+json": {
       "model_id": "7168f50a12524c84a122f91fe148b442",
       "version_major": 2,
       "version_minor": 0
      },
      "text/plain": [
       "interactive(children=(Dropdown(description='Symbol:   ', index=9, options=(('Campbell Soup Company', 'CPB'), (…"
      ]
     },
     "metadata": {},
     "output_type": "display_data"
    },
    {
     "data": {
      "text/plain": [
       "<function __main__.one_symbol_regression(symbol)>"
      ]
     },
     "execution_count": 13,
     "metadata": {},
     "output_type": "execute_result"
    }
   ],
   "source": [
    "interact(one_symbol_regression,symbol=symbol)"
   ]
  },
  {
   "cell_type": "markdown",
   "metadata": {},
   "source": [
    "<h2> Part 3. Two Symbol Analysis"
   ]
  },
  {
   "cell_type": "markdown",
   "metadata": {},
   "source": [
    "### 1. If the two population means are equal?"
   ]
  },
  {
   "cell_type": "code",
   "execution_count": 14,
   "metadata": {
    "hideCode": true
   },
   "outputs": [],
   "source": [
    "def test_two_symbol_mean(symbol_1,symbol_2,num_of_sample1,num_of_sample2,alpha):\n",
    "    import random\n",
    "    s1 = list(df.loc[df.Symbols==symbol_1]['log_return'])\n",
    "    s2 = list(df.loc[df.Symbols==symbol_2]['log_return'])\n",
    "    data1 = random.sample(s1, num_of_sample1)\n",
    "    data2 = random.sample(s2, num_of_sample2)\n",
    "    mean1,mean2=  round(np.mean(data1),4),round(np.mean(data2),4)\n",
    "    std1,std2 = round(np.std(data1,ddof=1),4),round(np.std(data2,ddof=1),4)\n",
    "    \n",
    "    print(f'The sample mean of {num_of_sample1} sample {symbol_names[symbol_1]} and {num_of_sample2} sample {symbol_names[symbol_2]}\\n are {mean1} and {mean2}\\n')\n",
    "    print(f'The standard divation of {num_of_sample1} {symbol_names[symbol_1]} and {num_of_sample2} {symbol_names[symbol_2]}\\n are {std1} and {std2}\\n')\n",
    "    plot_df = df.pivot(values='log_return',columns='Symbols')\n",
    "    plot_df[[symbol_1,symbol_2]].iplot(kind='histogram',title=f\"Distribution of {symbol_names[symbol_1]} and {symbol_names[symbol_2]}\",xTitle='log return', yTitle='Count')\n",
    "\n",
    "    t_statistic, p_value = ttest_ind(data1,data2,equal_var=False)\n",
    "    print(f\"Use t-test to test the equality of  {symbol_names[symbol_1]} and {symbol_names[symbol_2]}'s population means\\n\")\n",
    "    print(f'the t_statisc value is {t_statistic}\\n')\n",
    "    print(f'the p value value is {p_value}\\n')\n",
    "    if p_value > alpha:\n",
    "        print('Accept null hypothesis that the means are equal.')\n",
    "    else:\n",
    "        print('Reject the null hypothesis that the means are equal.')\n",
    "\n",
    "          \n"
   ]
  },
  {
   "cell_type": "markdown",
   "metadata": {},
   "source": [
    "Please select two your interested symbols and input Amounts $\\leq 487$ , $\\alpha\\leq 1$"
   ]
  },
  {
   "cell_type": "code",
   "execution_count": 15,
   "metadata": {
    "hideCode": true
   },
   "outputs": [
    {
     "data": {
      "application/vnd.jupyter.widget-view+json": {
       "model_id": "be2267d79ca644bdb83665c7d9b0686e",
       "version_major": 2,
       "version_minor": 0
      },
      "text/plain": [
       "HBox(children=(Dropdown(description='Symbol 1', index=9, options=(('Campbell Soup Company', 'CPB'), ('Colgate-…"
      ]
     },
     "metadata": {},
     "output_type": "display_data"
    },
    {
     "data": {
      "application/vnd.jupyter.widget-view+json": {
       "model_id": "5934500d88044dcaa42f579e1ec87c83",
       "version_major": 2,
       "version_minor": 0
      },
      "text/plain": [
       "HBox(children=(BoundedIntText(value=300, description='1 Amounts', max=4920, min=1), BoundedIntText(value=300, …"
      ]
     },
     "metadata": {},
     "output_type": "display_data"
    },
    {
     "data": {
      "application/vnd.jupyter.widget-view+json": {
       "model_id": "1546de541cba49518dcee5a7b26db670",
       "version_major": 2,
       "version_minor": 0
      },
      "text/plain": [
       "BoundedFloatText(value=0.05, description='Alpha(0-1)', max=1.0, step=0.005)"
      ]
     },
     "metadata": {},
     "output_type": "display_data"
    },
    {
     "data": {
      "application/vnd.jupyter.widget-view+json": {
       "model_id": "371fcdb541f044c1bc0eed35f538dbe8",
       "version_major": 2,
       "version_minor": 0
      },
      "text/plain": [
       "Output()"
      ]
     },
     "metadata": {},
     "output_type": "display_data"
    }
   ],
   "source": [
    "symbol_1= widgets.Dropdown(options=s,value='WMT',description='Symbol 1')\n",
    "symbol_2 = widgets.Dropdown(options=s,value='COST',description='Symbol 2')\n",
    "num1 = widgets.BoundedIntText(\n",
    "    value=300,\n",
    "    min=1,\n",
    "    max=len(df),\n",
    "    step=1,\n",
    "    description='1 Amounts',\n",
    "    disabled=False\n",
    ")\n",
    "num2= widgets.BoundedIntText(\n",
    "    value=300,\n",
    "    min=1,\n",
    "    max=len(df),\n",
    "    step=1,\n",
    "    description='2 Amounts',\n",
    "    disabled=False\n",
    ")\n",
    "a = widgets.BoundedFloatText(\n",
    "    value=0.05,\n",
    "    min=0,\n",
    "    max=1.0,\n",
    "    step = 0.005,\n",
    "    description='Alpha(0-1)',\n",
    "    disabled=False\n",
    ")\n",
    "u1 = widgets.HBox([symbol_1,symbol_2])\n",
    "u2 = widgets.HBox([num1,num2])\n",
    "\n",
    "out = interactive_output(test_two_symbol_mean, \n",
    "             {'symbol_1':  symbol_1, \n",
    "             'symbol_2':symbol_2,\n",
    "             'num_of_sample1':num1, \n",
    "             'num_of_sample2':num2,\n",
    "             'alpha':a})\n",
    "\n",
    "display(u1,u2,a,out)"
   ]
  },
  {
   "cell_type": "markdown",
   "metadata": {},
   "source": [
    "### 2. Perform a Regression  Model"
   ]
  },
  {
   "cell_type": "code",
   "execution_count": 16,
   "metadata": {
    "hideCode": true
   },
   "outputs": [],
   "source": [
    "def regression(symbol_1,symbol_2,n):\n",
    "    #from plotly.subplots import make_subplots\n",
    "    from scipy.stats import linregress\n",
    "    import random \n",
    "    filter_idx  = random.sample(list(df.index.unique()),n)\n",
    "    regre_df = df.loc[filter_idx]\n",
    "    plot_df= regre_df.pivot(values='log_return',columns='Symbols')\n",
    "    data1 =np.array(regre_df.loc[regre_df.Symbols==symbol_1]['log_return'])\n",
    "    data2 =np.array(regre_df.loc[regre_df.Symbols==symbol_2]['log_return'])\n",
    "    slope, intercept, r_value, p_value, std_err  = linregress(data1,data2)\n",
    "    trace1 = go.Scatter(x=data1,y=data2,mode='markers',name='data', xaxis='x1',yaxis='y1')\n",
    "    trace2 = go.Scatter(x=data1,y=intercept+slope*data1,mode='lines',name='fit',xaxis='x1',yaxis='y1')\n",
    "    trace3 = go.Scatter(x=data1,y=intercept+slope*data1-data2,mode='markers',name='residual',xaxis='x2',yaxis='y2')\n",
    "    trace4 = go.Table(header=dict(values=['slope', 'intercept', 'r_value', 'p_value', 'std_err']),\n",
    "                 cells=dict(values= [round(x,8) for x in [slope, intercept, (r_value)**2, p_value, std_err]]))\n",
    "    \n",
    "    axis=dict(\n",
    "    showline=True,\n",
    "    zeroline=False,\n",
    "    showgrid=True,\n",
    "    mirror=True,\n",
    "    ticklen=4,\n",
    "    gridcolor='#ffffff',\n",
    "    tickfont=dict(size=10)\n",
    ")\n",
    "    layout2 = dict(\n",
    "        width=950,\n",
    "        height=800,\n",
    "        autosize=False,\n",
    "        title=f'Regression Model of log return of {symbol_names[symbol_1]} and {symbol_names[symbol_2]}',\n",
    "        margin = dict(t=100),\n",
    "        showlegend=False,\n",
    "        xaxis1=dict(axis, **dict(domain=[0, 1], anchor='y1', showticklabels=False)),\n",
    "        xaxis2=dict(axis, **dict(domain=[0, 1], anchor='y2', showticklabels=True,title=f'Log return of {symbol_names[symbol_1]}')),\n",
    "        #xaxis3=dict(axis, **dict(domain=[0, 1], anchor='y3')),\n",
    "        yaxis1=dict(axis, **dict(domain=[0.4+0.05, 0.85], anchor='x1', hoverformat='.2f',title = f'Log return of {symbol_names[symbol_2]}')),\n",
    "        yaxis2=dict(axis, **dict(domain=[0.0, 0.4], anchor='x2',  hoverformat='.2f',title='Residual')))\n",
    "        #yaxis3=dict(axis, **dict(domain=[0.0, 0.21], anchor='x3', , hoverformat='.2f')))\n",
    "\n",
    "    fig2 = dict(data=[trace1, trace2, trace3, trace4], layout=layout2)\n",
    "    iplot(fig2)\n"
   ]
  },
  {
   "cell_type": "markdown",
   "metadata": {},
   "source": [
    "Please select two interestd symbols and a number $\\leq 487$"
   ]
  },
  {
   "cell_type": "code",
   "execution_count": 17,
   "metadata": {
    "hideCode": true
   },
   "outputs": [
    {
     "data": {
      "application/vnd.jupyter.widget-view+json": {
       "model_id": "8d89cee2830d408a8c8c495bf0e7f49c",
       "version_major": 2,
       "version_minor": 0
      },
      "text/plain": [
       "HBox(children=(Dropdown(description='Symbol 1', index=9, options=(('Campbell Soup Company', 'CPB'), ('Colgate-…"
      ]
     },
     "metadata": {},
     "output_type": "display_data"
    },
    {
     "data": {
      "application/vnd.jupyter.widget-view+json": {
       "model_id": "9d1d1bc2fbe645529ead870fe1d8bace",
       "version_major": 2,
       "version_minor": 0
      },
      "text/plain": [
       "Output()"
      ]
     },
     "metadata": {},
     "output_type": "display_data"
    }
   ],
   "source": [
    "out2 = interactive_output(regression, \n",
    "             {'symbol_1':  symbol_1, \n",
    "             'symbol_2':symbol_2,\n",
    "             'n':num})\n",
    "\n",
    "u3=widgets.HBox([symbol_1,symbol_2,num])\n",
    "display(u3,out2)"
   ]
  },
  {
   "cell_type": "code",
   "execution_count": null,
   "metadata": {},
   "outputs": [],
   "source": []
  }
 ],
 "metadata": {
  "celltoolbar": "Hide code",
  "kernelspec": {
   "display_name": "Python 3",
   "language": "python",
   "name": "python3"
  },
  "language_info": {
   "codemirror_mode": {
    "name": "ipython",
    "version": 3
   },
   "file_extension": ".py",
   "mimetype": "text/x-python",
   "name": "python",
   "nbconvert_exporter": "python",
   "pygments_lexer": "ipython3",
   "version": "3.7.3"
  },
  "widgets": {
   "application/vnd.jupyter.widget-state+json": {
    "state": {
     "015a9eb670684d95975bdba86d4b8ac1": {
      "model_module": "@jupyter-widgets/output",
      "model_module_version": "1.0.0",
      "model_name": "OutputModel",
      "state": {
       "layout": "IPY_MODEL_e3decd9a3dac45c19189d06dbf6c97e9",
       "outputs": [
        {
         "data": {
          "application/vnd.plotly.v1+json": {
           "config": {
            "plotlyServerURL": "https://plot.ly"
           },
           "data": [
            {
             "cells": {
              "values": [
               [
                "The Coca-Cola Company"
               ],
               [
                "(-0.00073, 0.00079)"
               ],
               [
                "(6e-05, 8e-05)"
               ]
              ]
             },
             "header": {
              "values": [
               "Company",
               "95.0% Confidence Interval of μ",
               "95.0% Confidence Interval of σ"
              ]
             },
             "type": "table"
            }
           ],
           "layout": {
            "height": 280,
            "template": {
             "data": {
              "bar": [
               {
                "error_x": {
                 "color": "#2a3f5f"
                },
                "error_y": {
                 "color": "#2a3f5f"
                },
                "marker": {
                 "line": {
                  "color": "#E5ECF6",
                  "width": 0.5
                 }
                },
                "type": "bar"
               }
              ],
              "barpolar": [
               {
                "marker": {
                 "line": {
                  "color": "#E5ECF6",
                  "width": 0.5
                 }
                },
                "type": "barpolar"
               }
              ],
              "carpet": [
               {
                "aaxis": {
                 "endlinecolor": "#2a3f5f",
                 "gridcolor": "white",
                 "linecolor": "white",
                 "minorgridcolor": "white",
                 "startlinecolor": "#2a3f5f"
                },
                "baxis": {
                 "endlinecolor": "#2a3f5f",
                 "gridcolor": "white",
                 "linecolor": "white",
                 "minorgridcolor": "white",
                 "startlinecolor": "#2a3f5f"
                },
                "type": "carpet"
               }
              ],
              "choropleth": [
               {
                "colorbar": {
                 "outlinewidth": 0,
                 "ticks": ""
                },
                "type": "choropleth"
               }
              ],
              "contour": [
               {
                "colorbar": {
                 "outlinewidth": 0,
                 "ticks": ""
                },
                "colorscale": [
                 [
                  0,
                  "#0d0887"
                 ],
                 [
                  0.1111111111111111,
                  "#46039f"
                 ],
                 [
                  0.2222222222222222,
                  "#7201a8"
                 ],
                 [
                  0.3333333333333333,
                  "#9c179e"
                 ],
                 [
                  0.4444444444444444,
                  "#bd3786"
                 ],
                 [
                  0.5555555555555556,
                  "#d8576b"
                 ],
                 [
                  0.6666666666666666,
                  "#ed7953"
                 ],
                 [
                  0.7777777777777778,
                  "#fb9f3a"
                 ],
                 [
                  0.8888888888888888,
                  "#fdca26"
                 ],
                 [
                  1,
                  "#f0f921"
                 ]
                ],
                "type": "contour"
               }
              ],
              "contourcarpet": [
               {
                "colorbar": {
                 "outlinewidth": 0,
                 "ticks": ""
                },
                "type": "contourcarpet"
               }
              ],
              "heatmap": [
               {
                "colorbar": {
                 "outlinewidth": 0,
                 "ticks": ""
                },
                "colorscale": [
                 [
                  0,
                  "#0d0887"
                 ],
                 [
                  0.1111111111111111,
                  "#46039f"
                 ],
                 [
                  0.2222222222222222,
                  "#7201a8"
                 ],
                 [
                  0.3333333333333333,
                  "#9c179e"
                 ],
                 [
                  0.4444444444444444,
                  "#bd3786"
                 ],
                 [
                  0.5555555555555556,
                  "#d8576b"
                 ],
                 [
                  0.6666666666666666,
                  "#ed7953"
                 ],
                 [
                  0.7777777777777778,
                  "#fb9f3a"
                 ],
                 [
                  0.8888888888888888,
                  "#fdca26"
                 ],
                 [
                  1,
                  "#f0f921"
                 ]
                ],
                "type": "heatmap"
               }
              ],
              "heatmapgl": [
               {
                "colorbar": {
                 "outlinewidth": 0,
                 "ticks": ""
                },
                "colorscale": [
                 [
                  0,
                  "#0d0887"
                 ],
                 [
                  0.1111111111111111,
                  "#46039f"
                 ],
                 [
                  0.2222222222222222,
                  "#7201a8"
                 ],
                 [
                  0.3333333333333333,
                  "#9c179e"
                 ],
                 [
                  0.4444444444444444,
                  "#bd3786"
                 ],
                 [
                  0.5555555555555556,
                  "#d8576b"
                 ],
                 [
                  0.6666666666666666,
                  "#ed7953"
                 ],
                 [
                  0.7777777777777778,
                  "#fb9f3a"
                 ],
                 [
                  0.8888888888888888,
                  "#fdca26"
                 ],
                 [
                  1,
                  "#f0f921"
                 ]
                ],
                "type": "heatmapgl"
               }
              ],
              "histogram": [
               {
                "marker": {
                 "colorbar": {
                  "outlinewidth": 0,
                  "ticks": ""
                 }
                },
                "type": "histogram"
               }
              ],
              "histogram2d": [
               {
                "colorbar": {
                 "outlinewidth": 0,
                 "ticks": ""
                },
                "colorscale": [
                 [
                  0,
                  "#0d0887"
                 ],
                 [
                  0.1111111111111111,
                  "#46039f"
                 ],
                 [
                  0.2222222222222222,
                  "#7201a8"
                 ],
                 [
                  0.3333333333333333,
                  "#9c179e"
                 ],
                 [
                  0.4444444444444444,
                  "#bd3786"
                 ],
                 [
                  0.5555555555555556,
                  "#d8576b"
                 ],
                 [
                  0.6666666666666666,
                  "#ed7953"
                 ],
                 [
                  0.7777777777777778,
                  "#fb9f3a"
                 ],
                 [
                  0.8888888888888888,
                  "#fdca26"
                 ],
                 [
                  1,
                  "#f0f921"
                 ]
                ],
                "type": "histogram2d"
               }
              ],
              "histogram2dcontour": [
               {
                "colorbar": {
                 "outlinewidth": 0,
                 "ticks": ""
                },
                "colorscale": [
                 [
                  0,
                  "#0d0887"
                 ],
                 [
                  0.1111111111111111,
                  "#46039f"
                 ],
                 [
                  0.2222222222222222,
                  "#7201a8"
                 ],
                 [
                  0.3333333333333333,
                  "#9c179e"
                 ],
                 [
                  0.4444444444444444,
                  "#bd3786"
                 ],
                 [
                  0.5555555555555556,
                  "#d8576b"
                 ],
                 [
                  0.6666666666666666,
                  "#ed7953"
                 ],
                 [
                  0.7777777777777778,
                  "#fb9f3a"
                 ],
                 [
                  0.8888888888888888,
                  "#fdca26"
                 ],
                 [
                  1,
                  "#f0f921"
                 ]
                ],
                "type": "histogram2dcontour"
               }
              ],
              "mesh3d": [
               {
                "colorbar": {
                 "outlinewidth": 0,
                 "ticks": ""
                },
                "type": "mesh3d"
               }
              ],
              "parcoords": [
               {
                "line": {
                 "colorbar": {
                  "outlinewidth": 0,
                  "ticks": ""
                 }
                },
                "type": "parcoords"
               }
              ],
              "scatter": [
               {
                "marker": {
                 "colorbar": {
                  "outlinewidth": 0,
                  "ticks": ""
                 }
                },
                "type": "scatter"
               }
              ],
              "scatter3d": [
               {
                "line": {
                 "colorbar": {
                  "outlinewidth": 0,
                  "ticks": ""
                 }
                },
                "marker": {
                 "colorbar": {
                  "outlinewidth": 0,
                  "ticks": ""
                 }
                },
                "type": "scatter3d"
               }
              ],
              "scattercarpet": [
               {
                "marker": {
                 "colorbar": {
                  "outlinewidth": 0,
                  "ticks": ""
                 }
                },
                "type": "scattercarpet"
               }
              ],
              "scattergeo": [
               {
                "marker": {
                 "colorbar": {
                  "outlinewidth": 0,
                  "ticks": ""
                 }
                },
                "type": "scattergeo"
               }
              ],
              "scattergl": [
               {
                "marker": {
                 "colorbar": {
                  "outlinewidth": 0,
                  "ticks": ""
                 }
                },
                "type": "scattergl"
               }
              ],
              "scattermapbox": [
               {
                "marker": {
                 "colorbar": {
                  "outlinewidth": 0,
                  "ticks": ""
                 }
                },
                "type": "scattermapbox"
               }
              ],
              "scatterpolar": [
               {
                "marker": {
                 "colorbar": {
                  "outlinewidth": 0,
                  "ticks": ""
                 }
                },
                "type": "scatterpolar"
               }
              ],
              "scatterpolargl": [
               {
                "marker": {
                 "colorbar": {
                  "outlinewidth": 0,
                  "ticks": ""
                 }
                },
                "type": "scatterpolargl"
               }
              ],
              "scatterternary": [
               {
                "marker": {
                 "colorbar": {
                  "outlinewidth": 0,
                  "ticks": ""
                 }
                },
                "type": "scatterternary"
               }
              ],
              "surface": [
               {
                "colorbar": {
                 "outlinewidth": 0,
                 "ticks": ""
                },
                "colorscale": [
                 [
                  0,
                  "#0d0887"
                 ],
                 [
                  0.1111111111111111,
                  "#46039f"
                 ],
                 [
                  0.2222222222222222,
                  "#7201a8"
                 ],
                 [
                  0.3333333333333333,
                  "#9c179e"
                 ],
                 [
                  0.4444444444444444,
                  "#bd3786"
                 ],
                 [
                  0.5555555555555556,
                  "#d8576b"
                 ],
                 [
                  0.6666666666666666,
                  "#ed7953"
                 ],
                 [
                  0.7777777777777778,
                  "#fb9f3a"
                 ],
                 [
                  0.8888888888888888,
                  "#fdca26"
                 ],
                 [
                  1,
                  "#f0f921"
                 ]
                ],
                "type": "surface"
               }
              ],
              "table": [
               {
                "cells": {
                 "fill": {
                  "color": "#EBF0F8"
                 },
                 "line": {
                  "color": "white"
                 }
                },
                "header": {
                 "fill": {
                  "color": "#C8D4E3"
                 },
                 "line": {
                  "color": "white"
                 }
                },
                "type": "table"
               }
              ]
             },
             "layout": {
              "annotationdefaults": {
               "arrowcolor": "#2a3f5f",
               "arrowhead": 0,
               "arrowwidth": 1
              },
              "colorscale": {
               "diverging": [
                [
                 0,
                 "#8e0152"
                ],
                [
                 0.1,
                 "#c51b7d"
                ],
                [
                 0.2,
                 "#de77ae"
                ],
                [
                 0.3,
                 "#f1b6da"
                ],
                [
                 0.4,
                 "#fde0ef"
                ],
                [
                 0.5,
                 "#f7f7f7"
                ],
                [
                 0.6,
                 "#e6f5d0"
                ],
                [
                 0.7,
                 "#b8e186"
                ],
                [
                 0.8,
                 "#7fbc41"
                ],
                [
                 0.9,
                 "#4d9221"
                ],
                [
                 1,
                 "#276419"
                ]
               ],
               "sequential": [
                [
                 0,
                 "#0d0887"
                ],
                [
                 0.1111111111111111,
                 "#46039f"
                ],
                [
                 0.2222222222222222,
                 "#7201a8"
                ],
                [
                 0.3333333333333333,
                 "#9c179e"
                ],
                [
                 0.4444444444444444,
                 "#bd3786"
                ],
                [
                 0.5555555555555556,
                 "#d8576b"
                ],
                [
                 0.6666666666666666,
                 "#ed7953"
                ],
                [
                 0.7777777777777778,
                 "#fb9f3a"
                ],
                [
                 0.8888888888888888,
                 "#fdca26"
                ],
                [
                 1,
                 "#f0f921"
                ]
               ],
               "sequentialminus": [
                [
                 0,
                 "#0d0887"
                ],
                [
                 0.1111111111111111,
                 "#46039f"
                ],
                [
                 0.2222222222222222,
                 "#7201a8"
                ],
                [
                 0.3333333333333333,
                 "#9c179e"
                ],
                [
                 0.4444444444444444,
                 "#bd3786"
                ],
                [
                 0.5555555555555556,
                 "#d8576b"
                ],
                [
                 0.6666666666666666,
                 "#ed7953"
                ],
                [
                 0.7777777777777778,
                 "#fb9f3a"
                ],
                [
                 0.8888888888888888,
                 "#fdca26"
                ],
                [
                 1,
                 "#f0f921"
                ]
               ]
              },
              "colorway": [
               "#636efa",
               "#EF553B",
               "#00cc96",
               "#ab63fa",
               "#FFA15A",
               "#19d3f3",
               "#FF6692",
               "#B6E880",
               "#FF97FF",
               "#FECB52"
              ],
              "font": {
               "color": "#2a3f5f"
              },
              "geo": {
               "bgcolor": "white",
               "lakecolor": "white",
               "landcolor": "#E5ECF6",
               "showlakes": true,
               "showland": true,
               "subunitcolor": "white"
              },
              "hoverlabel": {
               "align": "left"
              },
              "hovermode": "closest",
              "mapbox": {
               "style": "light"
              },
              "paper_bgcolor": "white",
              "plot_bgcolor": "#E5ECF6",
              "polar": {
               "angularaxis": {
                "gridcolor": "white",
                "linecolor": "white",
                "ticks": ""
               },
               "bgcolor": "#E5ECF6",
               "radialaxis": {
                "gridcolor": "white",
                "linecolor": "white",
                "ticks": ""
               }
              },
              "scene": {
               "xaxis": {
                "backgroundcolor": "#E5ECF6",
                "gridcolor": "white",
                "gridwidth": 2,
                "linecolor": "white",
                "showbackground": true,
                "ticks": "",
                "zerolinecolor": "white"
               },
               "yaxis": {
                "backgroundcolor": "#E5ECF6",
                "gridcolor": "white",
                "gridwidth": 2,
                "linecolor": "white",
                "showbackground": true,
                "ticks": "",
                "zerolinecolor": "white"
               },
               "zaxis": {
                "backgroundcolor": "#E5ECF6",
                "gridcolor": "white",
                "gridwidth": 2,
                "linecolor": "white",
                "showbackground": true,
                "ticks": "",
                "zerolinecolor": "white"
               }
              },
              "shapedefaults": {
               "line": {
                "color": "#2a3f5f"
               }
              },
              "ternary": {
               "aaxis": {
                "gridcolor": "white",
                "linecolor": "white",
                "ticks": ""
               },
               "baxis": {
                "gridcolor": "white",
                "linecolor": "white",
                "ticks": ""
               },
               "bgcolor": "#E5ECF6",
               "caxis": {
                "gridcolor": "white",
                "linecolor": "white",
                "ticks": ""
               }
              },
              "title": {
               "x": 0.05
              },
              "xaxis": {
               "automargin": true,
               "gridcolor": "white",
               "linecolor": "white",
               "ticks": "",
               "zerolinecolor": "white",
               "zerolinewidth": 2
              },
              "yaxis": {
               "automargin": true,
               "gridcolor": "white",
               "linecolor": "white",
               "ticks": "",
               "zerolinecolor": "white",
               "zerolinewidth": 2
              }
             }
            },
            "title": {
             "text": "95.0% Confidence Interval Analysis of The Coca-Cola Company"
            }
           }
          },
          "text/html": "<div>\n        \n        \n            <div id=\"e6f48301-81ce-4d75-b368-7a2aaf83ad3a\" class=\"plotly-graph-div\" style=\"height:280px; width:100%;\"></div>\n            <script type=\"text/javascript\">\n                require([\"plotly\"], function(Plotly) {\n                    window.PLOTLYENV=window.PLOTLYENV || {};\n                    \n                if (document.getElementById(\"e6f48301-81ce-4d75-b368-7a2aaf83ad3a\")) {\n                    Plotly.newPlot(\n                        'e6f48301-81ce-4d75-b368-7a2aaf83ad3a',\n                        [{\"cells\": {\"values\": [[\"The Coca-Cola Company\"], [\"(-0.00073, 0.00079)\"], [\"(6e-05, 8e-05)\"]]}, \"header\": {\"values\": [\"Company\", \"95.0% Confidence Interval of \\u03bc\", \"95.0% Confidence Interval of \\u03c3\"]}, \"type\": \"table\"}],\n                        {\"height\": 280, \"template\": {\"data\": {\"bar\": [{\"error_x\": {\"color\": \"#2a3f5f\"}, \"error_y\": {\"color\": \"#2a3f5f\"}, \"marker\": {\"line\": {\"color\": \"#E5ECF6\", \"width\": 0.5}}, \"type\": \"bar\"}], \"barpolar\": [{\"marker\": {\"line\": {\"color\": \"#E5ECF6\", \"width\": 0.5}}, \"type\": \"barpolar\"}], \"carpet\": [{\"aaxis\": {\"endlinecolor\": \"#2a3f5f\", \"gridcolor\": \"white\", \"linecolor\": \"white\", \"minorgridcolor\": \"white\", \"startlinecolor\": \"#2a3f5f\"}, \"baxis\": {\"endlinecolor\": \"#2a3f5f\", \"gridcolor\": \"white\", \"linecolor\": \"white\", \"minorgridcolor\": \"white\", \"startlinecolor\": \"#2a3f5f\"}, \"type\": \"carpet\"}], \"choropleth\": [{\"colorbar\": {\"outlinewidth\": 0, \"ticks\": \"\"}, \"type\": \"choropleth\"}], \"contour\": [{\"colorbar\": {\"outlinewidth\": 0, \"ticks\": \"\"}, \"colorscale\": [[0.0, \"#0d0887\"], [0.1111111111111111, \"#46039f\"], [0.2222222222222222, \"#7201a8\"], [0.3333333333333333, \"#9c179e\"], [0.4444444444444444, \"#bd3786\"], [0.5555555555555556, \"#d8576b\"], [0.6666666666666666, \"#ed7953\"], [0.7777777777777778, \"#fb9f3a\"], [0.8888888888888888, \"#fdca26\"], [1.0, \"#f0f921\"]], \"type\": \"contour\"}], \"contourcarpet\": [{\"colorbar\": {\"outlinewidth\": 0, \"ticks\": \"\"}, \"type\": \"contourcarpet\"}], \"heatmap\": [{\"colorbar\": {\"outlinewidth\": 0, \"ticks\": \"\"}, \"colorscale\": [[0.0, \"#0d0887\"], [0.1111111111111111, \"#46039f\"], [0.2222222222222222, \"#7201a8\"], [0.3333333333333333, \"#9c179e\"], [0.4444444444444444, \"#bd3786\"], [0.5555555555555556, \"#d8576b\"], [0.6666666666666666, \"#ed7953\"], [0.7777777777777778, \"#fb9f3a\"], [0.8888888888888888, \"#fdca26\"], [1.0, \"#f0f921\"]], \"type\": \"heatmap\"}], \"heatmapgl\": [{\"colorbar\": {\"outlinewidth\": 0, \"ticks\": \"\"}, \"colorscale\": [[0.0, \"#0d0887\"], [0.1111111111111111, \"#46039f\"], [0.2222222222222222, \"#7201a8\"], [0.3333333333333333, \"#9c179e\"], [0.4444444444444444, \"#bd3786\"], [0.5555555555555556, \"#d8576b\"], [0.6666666666666666, \"#ed7953\"], [0.7777777777777778, \"#fb9f3a\"], [0.8888888888888888, \"#fdca26\"], [1.0, \"#f0f921\"]], \"type\": \"heatmapgl\"}], \"histogram\": [{\"marker\": {\"colorbar\": {\"outlinewidth\": 0, \"ticks\": \"\"}}, \"type\": \"histogram\"}], \"histogram2d\": [{\"colorbar\": {\"outlinewidth\": 0, \"ticks\": \"\"}, \"colorscale\": [[0.0, \"#0d0887\"], [0.1111111111111111, \"#46039f\"], [0.2222222222222222, \"#7201a8\"], [0.3333333333333333, \"#9c179e\"], [0.4444444444444444, \"#bd3786\"], [0.5555555555555556, \"#d8576b\"], [0.6666666666666666, \"#ed7953\"], [0.7777777777777778, \"#fb9f3a\"], [0.8888888888888888, \"#fdca26\"], [1.0, \"#f0f921\"]], \"type\": \"histogram2d\"}], \"histogram2dcontour\": [{\"colorbar\": {\"outlinewidth\": 0, \"ticks\": \"\"}, \"colorscale\": [[0.0, \"#0d0887\"], [0.1111111111111111, \"#46039f\"], [0.2222222222222222, \"#7201a8\"], [0.3333333333333333, \"#9c179e\"], [0.4444444444444444, \"#bd3786\"], [0.5555555555555556, \"#d8576b\"], [0.6666666666666666, \"#ed7953\"], [0.7777777777777778, \"#fb9f3a\"], [0.8888888888888888, \"#fdca26\"], [1.0, \"#f0f921\"]], \"type\": \"histogram2dcontour\"}], \"mesh3d\": [{\"colorbar\": {\"outlinewidth\": 0, \"ticks\": \"\"}, \"type\": \"mesh3d\"}], \"parcoords\": [{\"line\": {\"colorbar\": {\"outlinewidth\": 0, \"ticks\": \"\"}}, \"type\": \"parcoords\"}], \"scatter\": [{\"marker\": {\"colorbar\": {\"outlinewidth\": 0, \"ticks\": \"\"}}, \"type\": \"scatter\"}], \"scatter3d\": [{\"line\": {\"colorbar\": {\"outlinewidth\": 0, \"ticks\": \"\"}}, \"marker\": {\"colorbar\": {\"outlinewidth\": 0, \"ticks\": \"\"}}, \"type\": \"scatter3d\"}], \"scattercarpet\": [{\"marker\": {\"colorbar\": {\"outlinewidth\": 0, \"ticks\": \"\"}}, \"type\": \"scattercarpet\"}], \"scattergeo\": [{\"marker\": {\"colorbar\": {\"outlinewidth\": 0, \"ticks\": \"\"}}, \"type\": \"scattergeo\"}], \"scattergl\": [{\"marker\": {\"colorbar\": {\"outlinewidth\": 0, \"ticks\": \"\"}}, \"type\": \"scattergl\"}], \"scattermapbox\": [{\"marker\": {\"colorbar\": {\"outlinewidth\": 0, \"ticks\": \"\"}}, \"type\": \"scattermapbox\"}], \"scatterpolar\": [{\"marker\": {\"colorbar\": {\"outlinewidth\": 0, \"ticks\": \"\"}}, \"type\": \"scatterpolar\"}], \"scatterpolargl\": [{\"marker\": {\"colorbar\": {\"outlinewidth\": 0, \"ticks\": \"\"}}, \"type\": \"scatterpolargl\"}], \"scatterternary\": [{\"marker\": {\"colorbar\": {\"outlinewidth\": 0, \"ticks\": \"\"}}, \"type\": \"scatterternary\"}], \"surface\": [{\"colorbar\": {\"outlinewidth\": 0, \"ticks\": \"\"}, \"colorscale\": [[0.0, \"#0d0887\"], [0.1111111111111111, \"#46039f\"], [0.2222222222222222, \"#7201a8\"], [0.3333333333333333, \"#9c179e\"], [0.4444444444444444, \"#bd3786\"], [0.5555555555555556, \"#d8576b\"], [0.6666666666666666, \"#ed7953\"], [0.7777777777777778, \"#fb9f3a\"], [0.8888888888888888, \"#fdca26\"], [1.0, \"#f0f921\"]], \"type\": \"surface\"}], \"table\": [{\"cells\": {\"fill\": {\"color\": \"#EBF0F8\"}, \"line\": {\"color\": \"white\"}}, \"header\": {\"fill\": {\"color\": \"#C8D4E3\"}, \"line\": {\"color\": \"white\"}}, \"type\": \"table\"}]}, \"layout\": {\"annotationdefaults\": {\"arrowcolor\": \"#2a3f5f\", \"arrowhead\": 0, \"arrowwidth\": 1}, \"colorscale\": {\"diverging\": [[0, \"#8e0152\"], [0.1, \"#c51b7d\"], [0.2, \"#de77ae\"], [0.3, \"#f1b6da\"], [0.4, \"#fde0ef\"], [0.5, \"#f7f7f7\"], [0.6, \"#e6f5d0\"], [0.7, \"#b8e186\"], [0.8, \"#7fbc41\"], [0.9, \"#4d9221\"], [1, \"#276419\"]], \"sequential\": [[0.0, \"#0d0887\"], [0.1111111111111111, \"#46039f\"], [0.2222222222222222, \"#7201a8\"], [0.3333333333333333, \"#9c179e\"], [0.4444444444444444, \"#bd3786\"], [0.5555555555555556, \"#d8576b\"], [0.6666666666666666, \"#ed7953\"], [0.7777777777777778, \"#fb9f3a\"], [0.8888888888888888, \"#fdca26\"], [1.0, \"#f0f921\"]], \"sequentialminus\": [[0.0, \"#0d0887\"], [0.1111111111111111, \"#46039f\"], [0.2222222222222222, \"#7201a8\"], [0.3333333333333333, \"#9c179e\"], [0.4444444444444444, \"#bd3786\"], [0.5555555555555556, \"#d8576b\"], [0.6666666666666666, \"#ed7953\"], [0.7777777777777778, \"#fb9f3a\"], [0.8888888888888888, \"#fdca26\"], [1.0, \"#f0f921\"]]}, \"colorway\": [\"#636efa\", \"#EF553B\", \"#00cc96\", \"#ab63fa\", \"#FFA15A\", \"#19d3f3\", \"#FF6692\", \"#B6E880\", \"#FF97FF\", \"#FECB52\"], \"font\": {\"color\": \"#2a3f5f\"}, \"geo\": {\"bgcolor\": \"white\", \"lakecolor\": \"white\", \"landcolor\": \"#E5ECF6\", \"showlakes\": true, \"showland\": true, \"subunitcolor\": \"white\"}, \"hoverlabel\": {\"align\": \"left\"}, \"hovermode\": \"closest\", \"mapbox\": {\"style\": \"light\"}, \"paper_bgcolor\": \"white\", \"plot_bgcolor\": \"#E5ECF6\", \"polar\": {\"angularaxis\": {\"gridcolor\": \"white\", \"linecolor\": \"white\", \"ticks\": \"\"}, \"bgcolor\": \"#E5ECF6\", \"radialaxis\": {\"gridcolor\": \"white\", \"linecolor\": \"white\", \"ticks\": \"\"}}, \"scene\": {\"xaxis\": {\"backgroundcolor\": \"#E5ECF6\", \"gridcolor\": \"white\", \"gridwidth\": 2, \"linecolor\": \"white\", \"showbackground\": true, \"ticks\": \"\", \"zerolinecolor\": \"white\"}, \"yaxis\": {\"backgroundcolor\": \"#E5ECF6\", \"gridcolor\": \"white\", \"gridwidth\": 2, \"linecolor\": \"white\", \"showbackground\": true, \"ticks\": \"\", \"zerolinecolor\": \"white\"}, \"zaxis\": {\"backgroundcolor\": \"#E5ECF6\", \"gridcolor\": \"white\", \"gridwidth\": 2, \"linecolor\": \"white\", \"showbackground\": true, \"ticks\": \"\", \"zerolinecolor\": \"white\"}}, \"shapedefaults\": {\"line\": {\"color\": \"#2a3f5f\"}}, \"ternary\": {\"aaxis\": {\"gridcolor\": \"white\", \"linecolor\": \"white\", \"ticks\": \"\"}, \"baxis\": {\"gridcolor\": \"white\", \"linecolor\": \"white\", \"ticks\": \"\"}, \"bgcolor\": \"#E5ECF6\", \"caxis\": {\"gridcolor\": \"white\", \"linecolor\": \"white\", \"ticks\": \"\"}}, \"title\": {\"x\": 0.05}, \"xaxis\": {\"automargin\": true, \"gridcolor\": \"white\", \"linecolor\": \"white\", \"ticks\": \"\", \"zerolinecolor\": \"white\", \"zerolinewidth\": 2}, \"yaxis\": {\"automargin\": true, \"gridcolor\": \"white\", \"linecolor\": \"white\", \"ticks\": \"\", \"zerolinecolor\": \"white\", \"zerolinewidth\": 2}}}, \"title\": {\"text\": \"95.0% Confidence Interval Analysis of The Coca-Cola Company\"}},\n                        {\"responsive\": true}\n                    ).then(function(){\n                            \nvar gd = document.getElementById('e6f48301-81ce-4d75-b368-7a2aaf83ad3a');\nvar x = new MutationObserver(function (mutations, observer) {{\n        var display = window.getComputedStyle(gd).display;\n        if (!display || display === 'none') {{\n            console.log([gd, 'removed!']);\n            Plotly.purge(gd);\n            observer.disconnect();\n        }}\n}});\n\n// Listen for the removal of the full notebook cells\nvar notebookContainer = gd.closest('#notebook-container');\nif (notebookContainer) {{\n    x.observe(notebookContainer, {childList: true});\n}}\n\n// Listen for the clearing of the current output cell\nvar outputEl = gd.closest('.output');\nif (outputEl) {{\n    x.observe(outputEl, {childList: true});\n}}\n\n                        })\n                };\n                });\n            </script>\n        </div>"
         },
         "metadata": {},
         "output_type": "display_data"
        }
       ]
      }
     },
     "0166243385ce405181565f12ebc98c59": {
      "model_module": "@jupyter-widgets/controls",
      "model_module_version": "1.5.0",
      "model_name": "BoundedIntTextModel",
      "state": {
       "description": "2 Amounts",
       "layout": "IPY_MODEL_7a317c08570e40b084dfd0a76884ba91",
       "max": 4920,
       "min": 1,
       "style": "IPY_MODEL_e171a90895784a43948b959c3638845c",
       "value": 300
      }
     },
     "1155376f03e345138176cd8cdb3fdcd6": {
      "model_module": "@jupyter-widgets/base",
      "model_module_version": "1.2.0",
      "model_name": "LayoutModel",
      "state": {}
     },
     "1361eade04a2442fadd62ab64fa917b2": {
      "model_module": "@jupyter-widgets/controls",
      "model_module_version": "1.5.0",
      "model_name": "HBoxModel",
      "state": {
       "children": [
        "IPY_MODEL_ba90345942a547e99fa2562bdc39cc46",
        "IPY_MODEL_222982dcc6c141e39073d0b63f2b5e21"
       ],
       "layout": "IPY_MODEL_8c71f5b480bb4c52b6137183cbae1bdb"
      }
     },
     "1546de541cba49518dcee5a7b26db670": {
      "model_module": "@jupyter-widgets/controls",
      "model_module_version": "1.5.0",
      "model_name": "BoundedFloatTextModel",
      "state": {
       "description": "Alpha(0-1)",
       "layout": "IPY_MODEL_44e443941b604d328bb75a7956227972",
       "max": 1,
       "step": 0.005,
       "style": "IPY_MODEL_53967a95a2454e94b8361a560535fb5a",
       "value": 0.05
      }
     },
     "174f4b33c50a401b920b2bb51a9d883e": {
      "model_module": "@jupyter-widgets/controls",
      "model_module_version": "1.5.0",
      "model_name": "DropdownModel",
      "state": {
       "_options_labels": [
        "Campbell Soup Company",
        "Colgate-Palmolive Company",
        "Costco Wholesale Corporation",
        "J.M.Smucker Company",
        "Kellogg Company",
        "PepsiCo, Inc.",
        "The Coca-Cola Company",
        "The Hershey Company",
        "The Kraft Heinz Company",
        "Walmart Inc."
       ],
       "description": "Symbol 2",
       "index": 2,
       "layout": "IPY_MODEL_e5b98534ef68411781b52963d99f50d8",
       "style": "IPY_MODEL_93e60288672a4f0caf8394676d6667fe"
      }
     },
     "1e4f5c59051648e285c06817762c8114": {
      "model_module": "@jupyter-widgets/controls",
      "model_module_version": "1.5.0",
      "model_name": "DescriptionStyleModel",
      "state": {
       "description_width": ""
      }
     },
     "21522587315e48fda135ed76e94ce004": {
      "model_module": "@jupyter-widgets/controls",
      "model_module_version": "1.5.0",
      "model_name": "DescriptionStyleModel",
      "state": {
       "description_width": ""
      }
     },
     "222982dcc6c141e39073d0b63f2b5e21": {
      "model_module": "@jupyter-widgets/controls",
      "model_module_version": "1.5.0",
      "model_name": "DatePickerModel",
      "state": {
       "description": "End Date",
       "disabled": false,
       "layout": "IPY_MODEL_7712ac6b3b6e46a186337152e1a9ae99",
       "style": "IPY_MODEL_c9f53f1b6a60487bacfb2796f444d72b",
       "value": {
        "date": 5,
        "month": 11,
        "year": 2019
       }
      }
     },
     "222f82b4804b4372b328d0aa7d88fbcf": {
      "model_module": "@jupyter-widgets/output",
      "model_module_version": "1.0.0",
      "model_name": "OutputModel",
      "state": {
       "layout": "IPY_MODEL_cc61115656564470b31059e9c73f71ae",
       "outputs": [
        {
         "data": {
          "application/vnd.plotly.v1+json": {
           "config": {
            "linkText": "Export to plot.ly",
            "plotlyServerURL": "https://plot.ly",
            "showLink": false
           },
           "data": [
            {
             "histnorm": "percent",
             "opacity": 0.75,
             "type": "histogram",
             "x": [
              -0.03548138556828052,
              0.017388048294194873,
              -0.004780213681725325,
              0.0009612465570264075,
              -0.014512792854172363,
              0.007590182086494061,
              0.009974593920742392,
              0.004230799016640242,
              0.004864064927760841,
              0.010861928558867312,
              0.0003707908378715779,
              -0.012947362581851179,
              0.008381902483037567,
              0.007682033711354862,
              0.004486341380377129,
              -0.014722450604758613,
              -0.010870830414253718,
              0.0042661902702577515,
              0.002314780486252647,
              -0.004455359500983664,
              -0.005183550866160614,
              0.0019019079328249943,
              0.006633923780559553,
              0.00986094898914302,
              -0.0011267148345713346,
              -0.004982786016903179,
              0.006324818382830186,
              -0.002952410498058216,
              0.0035810211309792827,
              0.0040872059948450345,
              0.002070159492580687,
              -0.0025296232600981188,
              0.010662019209796127,
              -0.0012872251897123922,
              0.003967411449766391,
              -0.007073050940638605,
              0.014397883944064173,
              -0.004532089487303559,
              0.010499961110606557,
              -0.007314629045237663,
              -0.01401517688432419,
              0.014272631081932512,
              0.008672463680088687,
              -0.004592641372588826,
              0.008032177420741046,
              -0.0018168984128270978,
              -0.004776927099832544,
              -0.005294051581006989,
              -0.0049719366896926655,
              -0.0010594990308014916,
              -0.005318535782994701,
              0.002632217930854976,
              -0.003558435064496973,
              -0.010131799243682795,
              0.0012987312383333544,
              -0.000440344739173351,
              -0.005663370171849665,
              0.0050715193249974665,
              -0.0061525703330343445,
              0.006694713624226086,
              0.005176531064046777,
              -0.006106252276411305,
              -0.00805119530030706,
              -0.0030587611405137956,
              -0.0037002782335708996,
              0.00880254237255159,
              0.0025845169296742467,
              0.011278286193115886,
              -0.000857836522926795,
              -0.0028732461372196916,
              -0.011509178245094023,
              0.008859407456396223,
              -0.0014217468416307432,
              -0.007835286246472475,
              -0.0038577052934654203,
              0.01893080096845637,
              -0.017129071204592318,
              0.015276801458116971,
              0.004957431198702311,
              -0.008284352179316234,
              0.007317656668663355,
              0.0016742661150921313,
              -0.002768834772919241,
              0.0017463007557298644,
              0.0007327517348474437,
              0.002979427720682445,
              -0.004552635836307636,
              0.01654263465393853,
              0.002628182568069741,
              0.003757055259472545,
              0.021433226541514788,
              0.0010155223453770425,
              -0.0030187197312072584,
              -0.003819528216167009,
              0.0028925512985040493,
              0.012773840584797752,
              -0.007279622755881904,
              0.007968191957347815,
              -0.009310853664580345,
              0.0010858777693706072,
              0.004944641608880161,
              -0.0028889700714951907,
              0.0005533298898431419,
              -0.002591143274872804,
              0,
              -0.01431185610635248,
              -0.004828749693910991,
              -0.02068259045029556,
              0.00018151050432840428,
              0.002706423532205922,
              0.00018541359376606254,
              -0.007340277793991603,
              0.00021555074965139154,
              0.004855906160526096,
              -0.0023776216064621803,
              0.006879422788530908,
              0.004221728973387437,
              -0.0021276279115713635,
              0.007559467022700915,
              0.004527713435912795,
              0.006272177691567977,
              -0.0006717899730184395,
              -0.0015025926324729517,
              -0.0006039009696893571,
              -0.014483461960740997,
              0.002404089384740399,
              -0.0011350143406991123,
              -0.007442280180801713,
              0.0026297389387777283,
              0.008400682598256859,
              0.008220797157147816,
              0.004257286279417821,
              0.004987531609164131,
              -0.006302155423901956,
              -0.01348137258552885,
              0.011906212456662724,
              -0.003148178579572494,
              -0.0018070510987630312,
              -0.0136118773598879,
              -0.009601509658967262,
              -0.010708808610630885,
              0.018071403542482878,
              -0.000430024897300676,
              0.001320873788328809,
              -0.007794301506256358,
              -0.00456243892198649,
              0.0010705329604392439,
              -0.0038602781965723335,
              0.008596607965842277,
              0.006813445831681077,
              0.0009212204688704652,
              -0.009751963232325413,
              0.00530504149374492,
              0.013482347991940237,
              -0.004046377141832813,
              0.0020233023754689405,
              -0.01020833701010248,
              0.017678053460778692,
              -0.007314629045237663,
              0.028170907242071087,
              -0.0014200937453619194,
              0.010424256769801122,
              0.022840845624772704,
              -0.002629129924203389,
              -0.0028283515849182755,
              -0.004640397217137494,
              0.002663684789965606,
              0.0018756867649948323,
              0.010819719160973768,
              0.001498844293786104,
              -0.0010415423904722191,
              0.010285706696857118,
              0.001056731293436794,
              -0.009965400624619031,
              0.01012833209587102,
              -0.005983736302619048,
              0.010324408232304415,
              -0.005839986077335385,
              0.009578837230442904,
              -0.004102752240052645,
              0.016318328459261677,
              -0.0031092105173736884,
              0.013207771676962354,
              -0.015313085526837127,
              -0.0040080436812762864,
              0.008201325183423853,
              -0.002335064864389605,
              -0.024055783439575037,
              -0.004171033528102662,
              0.001496129274491253,
              0.0022319297221512564,
              -0.0014698115930327218,
              0.008058408474983045,
              0.000894474890484434,
              0.00038603470793689454,
              -0.0033283405491298474,
              -0.0028128819366779515,
              0.025178768341254106,
              -0.007846950944482765,
              -0.004148900511748216,
              -0.0021445101898839823,
              -0.014774031285249723,
              -0.013640725124043749,
              -0.006889712051860929,
              0.0019491105327577953,
              0.0021597951326332338,
              -0.004797334180642708,
              0.004228352137087397,
              0.009066611794297819,
              -0.006850056994333845,
              -0.00043822211909222127,
              0.005758561289342751,
              0.002930698943089202,
              -0.00021302485745776018,
              -0.004224065092514564,
              0.006932430187221132,
              0.0031641774951435644,
              -0.004612572036904649,
              -0.01097371565946101,
              0.009684234677880137,
              -0.00453737951961866,
              0.004121898222069567,
              -0.001008761036250198,
              0.008199021261955054,
              -0.0006854514084268913,
              -0.0143648656150635,
              -0.010178276132330464,
              0.003472827930694772,
              -0.011364803012822965,
              0.010217424991788248,
              -0.0030056528547335207,
              -0.00864994137161257,
              0.0032619692703019488,
              0.007215357252196822,
              0.00898040745397385,
              0.02007878967635722,
              0.0023827718014738167,
              0.004100240343946087,
              -0.001317889536734762,
              -0.0256537700617671,
              -0.003575504638428773,
              0.0017316417689299593,
              0.006538067785720013,
              -0.0026707990207570976,
              -0.008163324762020696,
              -0.006583273434702116,
              0.005471921095816496,
              0.0021982559914087403,
              0,
              -0.00784832061521262,
              -0.006475292160293259,
              0.016760699921699464,
              -0.0038932412712100006,
              0.01354743677424985,
              0.005854481573316105,
              -0.006338146204471079,
              0.0067501914571231605,
              -0.014488807672058278,
              -0.005602241181597402,
              0.005070825969207001,
              -0.0013068518260100862,
              -0.021065132423576043,
              0.007627491867094704,
              0.011230321863446042,
              -0.003851926588903312,
              0.003458222616791846,
              0.00046394012350131994,
              -0.008196798600864304,
              -0.0024911590816613506,
              -0.008091874198100127,
              -0.006545180660328334,
              -0.006689009338654833,
              0.0044397461961495745,
              0.011348887402612081,
              -0.008287354561257305,
              -0.011973852235352857,
              0,
              0.003101977044308911,
              0.0010724516150221477,
              0.010109265415824754,
              0.00038850927451566805,
              0.016090838194097942,
              0.007414299394541882,
              -0.002177839899880737,
              -0.004279013031360403,
              -0.010635035538294247,
              0.0014161289150315995,
              0.0022573889745240157,
              0.0008066327399308304,
              0.0021738807282999473,
              0.005333362812766757,
              0.005262557452190634,
              -0.011220050033591703,
              0.008200245609476834,
              0.00868380836535867,
              -0.0017368223489976355,
              0.00633503426861058,
              0.015575021914295668,
              0.002776912318089041,
              -0.0037950544861055538
             ],
             "xaxis": "x",
             "yaxis": "y"
            },
            {
             "mode": "markers",
             "name": "data",
             "opacity": 0.6,
             "type": "scatter",
             "x": [
              -2.8327014709530194,
              -2.5363010998109683,
              -2.368474705155519,
              -2.2488794444109725,
              -2.1547841064119244,
              -2.07661293642451,
              -2.009389306793238,
              -1.950182013772404,
              -1.8971132396781976,
              -1.8489048060820008,
              -1.8046458079323007,
              -1.7636632588085384,
              -1.7254452871519566,
              -1.6895931295784443,
              -1.6557898367901052,
              -1.623779147136915,
              -1.5933507951363555,
              -1.5643300316394355,
              -1.5365699813679379,
              -1.509945960714915,
              -1.484351180137345,
              -1.459693443888685,
              -1.4358925808262453,
              -1.4128784195994215,
              -1.3905891749923407,
              -1.368970148823431,
              -1.347972674341381,
              -1.3275532511472137,
              -1.3076728306755885,
              -1.2882962217414569,
              -1.26939159264497,
              -1.2509300515398374,
              -1.2328852907000716,
              -1.2152332833122248,
              -1.197952023719461,
              -1.1810213038257737,
              -1.1644225197609155,
              -1.1481385040025676,
              -1.132153379021149,
              -1.1164524292061233,
              -1.1010219883896202,
              -1.0858493407331675,
              -1.0709226331089852,
              -1.0562307974059553,
              -1.0417634814356225,
              -1.0275109873159134,
              -1.0134642163779326,
              -0.9996146197808252,
              -0.9859541541363692,
              -0.9724752415429261,
              -0.9591707335109044,
              -0.9460338783316593,
              -0.9330582915009952,
              -0.9202379288588358,
              -0.9075670621497136,
              -0.8950402567456227,
              -0.8826523513045057,
              -0.8703984391649741,
              -0.858273851301484,
              -0.846274140684674,
              -0.8343950679093391,
              -0.8226325879680235,
              -0.8109828380617272,
              -0.7994421263510547,
              -0.788006921561525,
              -0.7766738433658618,
              -0.7654396534741378,
              -0.7543012473697184,
              -0.7432556466352316,
              -0.7322999918183356,
              -0.7214315357919867,
              -0.7106476375682983,
              -0.6999457565289705,
              -0.6893234470387711,
              -0.6787783534116428,
              -0.6683082052018084,
              -0.657910812794737,
              -0.647584063275075,
              -0.6373259165506682,
              -0.6271344017136014,
              -0.6170076136208352,
              -0.6069437096784808,
              -0.5969409068150991,
              -0.5869974786306134,
              -0.5771117527085223,
              -0.5672821080800923,
              -0.557506972830111,
              -0.547784821834606,
              -0.5381141746216783,
              -0.528493593347284,
              -0.5189216808784135,
              -0.5093970789766968,
              -0.4999184665759672,
              -0.4904845581478047,
              -0.48109410214950776,
              -0.47174587954934516,
              -0.4624387024243017,
              -0.45317141262587485,
              -0.4439428805097819,
              -0.4347520037257264,
              -0.42559770606363445,
              -0.4164789363530105,
              -0.4073946674122892,
              -0.39834389504526424,
              -0.38932563708186213,
              -0.3803389324607112,
              -0.37138284035111313,
              -0.36245643931217786,
              -0.35355882648702075,
              -0.34468911683005377,
              -0.3358464423655151,
              -0.32702995147550235,
              -0.31823880821586986,
              -0.30947219165845236,
              -0.300729295258162,
              -0.2920093262435936,
              -0.2833115050298456,
              -0.2746350646523387,
              -0.265979250220482,
              -0.25734331839009567,
              -0.2487265368535595,
              -0.24012818384671258,
              -0.2315475476715739,
              -0.22298392623400762,
              -0.21443662659549603,
              -0.20590496453822602,
              -0.1973882641427314,
              -0.1888858573773723,
              -0.180397083698961,
              -0.17192128966387865,
              -0.1634578285490535,
              -0.15500605998219966,
              -0.14656534958073864,
              -0.13813506859884903,
              -0.1297145935821139,
              -0.12130330602925031,
              -0.11290059206042778,
              -0.10450584209169801,
              -0.0961184505150732,
              -0.08773781538380465,
              -0.0793633381024285,
              -0.07099442312115299,
              -0.06263047763417696,
              -0.0542709112815361,
              -0.04591513585408334,
              -0.03756256500121628,
              -0.029212613940973967,
              -0.020864699172126442,
              -0.012518238187890121,
              -0.0041726491909028825,
              0.0041726491909028825,
              0.012518238187890262,
              0.020864699172126442,
              0.02921261394097383,
              0.03756256500121628,
              0.0459151358540832,
              0.05427091128153624,
              0.06263047763417696,
              0.07099442312115313,
              0.0793633381024285,
              0.08773781538380451,
              0.0961184505150732,
              0.10450584209169801,
              0.11290059206042792,
              0.12130330602925031,
              0.12971459358211376,
              0.13813506859884903,
              0.1465653495807385,
              0.1550060599821998,
              0.1634578285490535,
              0.1719212896638788,
              0.180397083698961,
              0.18888585737737215,
              0.1973882641427314,
              0.20590496453822588,
              0.21443662659549617,
              0.22298392623400762,
              0.23154754767157404,
              0.24012818384671258,
              0.24872653685355936,
              0.25734331839009567,
              0.265979250220482,
              0.27463506465233883,
              0.2833115050298456,
              0.2920093262435935,
              0.300729295258162,
              0.30947219165845224,
              0.31823880821587,
              0.32702995147550235,
              0.33584644236551525,
              0.34468911683005377,
              0.35355882648702064,
              0.36245643931217786,
              0.37138284035111313,
              0.3803389324607114,
              0.38932563708186213,
              0.39834389504526413,
              0.4073946674122892,
              0.41647893635301036,
              0.4255977060636346,
              0.4347520037257264,
              0.44394288050978203,
              0.45317141262587485,
              0.4624387024243015,
              0.47174587954934516,
              0.48109410214950776,
              0.4904845581478048,
              0.4999184665759672,
              0.5093970789766967,
              0.5189216808784135,
              0.5284935933472837,
              0.5381141746216784,
              0.547784821834606,
              0.5575069728301112,
              0.5672821080800923,
              0.5771117527085222,
              0.5869974786306134,
              0.5969409068150989,
              0.606943709678481,
              0.6170076136208352,
              0.6271344017136016,
              0.6373259165506682,
              0.6475840632750749,
              0.657910812794737,
              0.6683082052018084,
              0.6787783534116429,
              0.6893234470387711,
              0.6999457565289704,
              0.7106476375682983,
              0.7214315357919867,
              0.7322999918183356,
              0.7432556466352316,
              0.7543012473697186,
              0.7654396534741378,
              0.7766738433658618,
              0.788006921561525,
              0.7994421263510546,
              0.8109828380617272,
              0.8226325879680235,
              0.8343950679093387,
              0.846274140684674,
              0.8582738513014837,
              0.8703984391649741,
              0.8826523513045057,
              0.8950402567456227,
              0.9075670621497136,
              0.9202379288588357,
              0.9330582915009952,
              0.946033878331659,
              0.9591707335109044,
              0.9724752415429261,
              0.9859541541363687,
              0.9996146197808252,
              1.0134642163779326,
              1.0275109873159134,
              1.0417634814356225,
              1.0562307974059553,
              1.0709226331089852,
              1.0858493407331669,
              1.1010219883896202,
              1.1164524292061233,
              1.132153379021149,
              1.1481385040025676,
              1.1644225197609162,
              1.1810213038257737,
              1.197952023719461,
              1.2152332833122248,
              1.2328852907000707,
              1.2509300515398374,
              1.26939159264497,
              1.2882962217414562,
              1.3076728306755885,
              1.327553251147213,
              1.347972674341381,
              1.368970148823431,
              1.3905891749923414,
              1.4128784195994215,
              1.4358925808262448,
              1.459693443888685,
              1.484351180137345,
              1.509945960714915,
              1.5365699813679379,
              1.5643300316394355,
              1.5933507951363555,
              1.6237791471369145,
              1.6557898367901056,
              1.6895931295784443,
              1.725445287151957,
              1.7636632588085384,
              1.8046458079323,
              1.8489048060820008,
              1.8971132396781965,
              1.9501820137724044,
              2.0093893067932376,
              2.076612936424508,
              2.154784106411924,
              2.2488794444109703,
              2.3684747051555197,
              2.536301099810966,
              2.8327014709530194
             ],
             "xaxis": "x2",
             "y": [
              -0.03548138556828052,
              -0.0256537700617671,
              -0.024055783439575037,
              -0.021065132423576043,
              -0.02068259045029556,
              -0.017129071204592318,
              -0.015313085526837127,
              -0.014774031285249723,
              -0.014722450604758613,
              -0.014512792854172363,
              -0.014488807672058278,
              -0.014483461960740997,
              -0.0143648656150635,
              -0.01431185610635248,
              -0.01401517688432419,
              -0.013640725124043749,
              -0.0136118773598879,
              -0.01348137258552885,
              -0.012947362581851179,
              -0.011973852235352857,
              -0.011509178245094023,
              -0.011364803012822965,
              -0.011220050033591703,
              -0.01097371565946101,
              -0.010870830414253718,
              -0.010708808610630885,
              -0.010635035538294247,
              -0.01020833701010248,
              -0.010178276132330464,
              -0.010131799243682795,
              -0.009965400624619031,
              -0.009751963232325413,
              -0.009601509658967262,
              -0.009310853664580345,
              -0.00864994137161257,
              -0.008287354561257305,
              -0.008284352179316234,
              -0.008196798600864304,
              -0.008163324762020696,
              -0.008091874198100127,
              -0.00805119530030706,
              -0.00784832061521262,
              -0.007846950944482765,
              -0.007835286246472475,
              -0.007794301506256358,
              -0.007442280180801713,
              -0.007340277793991603,
              -0.007314629045237663,
              -0.007314629045237663,
              -0.007279622755881904,
              -0.007073050940638605,
              -0.006889712051860929,
              -0.006850056994333845,
              -0.006689009338654833,
              -0.006583273434702116,
              -0.006545180660328334,
              -0.006475292160293259,
              -0.006338146204471079,
              -0.006302155423901956,
              -0.0061525703330343445,
              -0.006106252276411305,
              -0.005983736302619048,
              -0.005839986077335385,
              -0.005663370171849665,
              -0.005602241181597402,
              -0.005318535782994701,
              -0.005294051581006989,
              -0.005183550866160614,
              -0.004982786016903179,
              -0.0049719366896926655,
              -0.004828749693910991,
              -0.004797334180642708,
              -0.004780213681725325,
              -0.004776927099832544,
              -0.004640397217137494,
              -0.004612572036904649,
              -0.004592641372588826,
              -0.00456243892198649,
              -0.004552635836307636,
              -0.00453737951961866,
              -0.004532089487303559,
              -0.004455359500983664,
              -0.004279013031360403,
              -0.004224065092514564,
              -0.004171033528102662,
              -0.004148900511748216,
              -0.004102752240052645,
              -0.004046377141832813,
              -0.0040080436812762864,
              -0.0038932412712100006,
              -0.0038602781965723335,
              -0.0038577052934654203,
              -0.003851926588903312,
              -0.003819528216167009,
              -0.0037950544861055538,
              -0.0037002782335708996,
              -0.003575504638428773,
              -0.003558435064496973,
              -0.0033283405491298474,
              -0.003148178579572494,
              -0.0031092105173736884,
              -0.0030587611405137956,
              -0.0030187197312072584,
              -0.0030056528547335207,
              -0.002952410498058216,
              -0.0028889700714951907,
              -0.0028732461372196916,
              -0.0028283515849182755,
              -0.0028128819366779515,
              -0.002768834772919241,
              -0.0026707990207570976,
              -0.002629129924203389,
              -0.002591143274872804,
              -0.0025296232600981188,
              -0.0024911590816613506,
              -0.0023776216064621803,
              -0.002335064864389605,
              -0.002177839899880737,
              -0.0021445101898839823,
              -0.0021276279115713635,
              -0.0018168984128270978,
              -0.0018070510987630312,
              -0.0017368223489976355,
              -0.0015025926324729517,
              -0.0014698115930327218,
              -0.0014217468416307432,
              -0.0014200937453619194,
              -0.001317889536734762,
              -0.0013068518260100862,
              -0.0012872251897123922,
              -0.0011350143406991123,
              -0.0011267148345713346,
              -0.0010594990308014916,
              -0.0010415423904722191,
              -0.001008761036250198,
              -0.000857836522926795,
              -0.0006854514084268913,
              -0.0006717899730184395,
              -0.0006039009696893571,
              -0.000440344739173351,
              -0.00043822211909222127,
              -0.000430024897300676,
              -0.00021302485745776018,
              0,
              0,
              0,
              0.00018151050432840428,
              0.00018541359376606254,
              0.00021555074965139154,
              0.0003707908378715779,
              0.00038603470793689454,
              0.00038850927451566805,
              0.00046394012350131994,
              0.0005533298898431419,
              0.0007327517348474437,
              0.0008066327399308304,
              0.000894474890484434,
              0.0009212204688704652,
              0.0009612465570264075,
              0.0010155223453770425,
              0.001056731293436794,
              0.0010705329604392439,
              0.0010724516150221477,
              0.0010858777693706072,
              0.0012987312383333544,
              0.001320873788328809,
              0.0014161289150315995,
              0.001496129274491253,
              0.001498844293786104,
              0.0016742661150921313,
              0.0017316417689299593,
              0.0017463007557298644,
              0.0018756867649948323,
              0.0019019079328249943,
              0.0019491105327577953,
              0.0020233023754689405,
              0.002070159492580687,
              0.0021597951326332338,
              0.0021738807282999473,
              0.0021982559914087403,
              0.0022319297221512564,
              0.0022573889745240157,
              0.002314780486252647,
              0.0023827718014738167,
              0.002404089384740399,
              0.0025845169296742467,
              0.002628182568069741,
              0.0026297389387777283,
              0.002632217930854976,
              0.002663684789965606,
              0.002706423532205922,
              0.002776912318089041,
              0.0028925512985040493,
              0.002930698943089202,
              0.002979427720682445,
              0.003101977044308911,
              0.0031641774951435644,
              0.0032619692703019488,
              0.003458222616791846,
              0.003472827930694772,
              0.0035810211309792827,
              0.003757055259472545,
              0.003967411449766391,
              0.0040872059948450345,
              0.004100240343946087,
              0.004121898222069567,
              0.004221728973387437,
              0.004228352137087397,
              0.004230799016640242,
              0.004257286279417821,
              0.0042661902702577515,
              0.0044397461961495745,
              0.004486341380377129,
              0.004527713435912795,
              0.004855906160526096,
              0.004864064927760841,
              0.004944641608880161,
              0.004957431198702311,
              0.004987531609164131,
              0.005070825969207001,
              0.0050715193249974665,
              0.005176531064046777,
              0.005262557452190634,
              0.00530504149374492,
              0.005333362812766757,
              0.005471921095816496,
              0.005758561289342751,
              0.005854481573316105,
              0.006272177691567977,
              0.006324818382830186,
              0.00633503426861058,
              0.006538067785720013,
              0.006633923780559553,
              0.006694713624226086,
              0.0067501914571231605,
              0.006813445831681077,
              0.006879422788530908,
              0.006932430187221132,
              0.007215357252196822,
              0.007317656668663355,
              0.007414299394541882,
              0.007559467022700915,
              0.007590182086494061,
              0.007627491867094704,
              0.007682033711354862,
              0.007968191957347815,
              0.008032177420741046,
              0.008058408474983045,
              0.008199021261955054,
              0.008200245609476834,
              0.008201325183423853,
              0.008220797157147816,
              0.008381902483037567,
              0.008400682598256859,
              0.008596607965842277,
              0.008672463680088687,
              0.00868380836535867,
              0.00880254237255159,
              0.008859407456396223,
              0.00898040745397385,
              0.009066611794297819,
              0.009578837230442904,
              0.009684234677880137,
              0.00986094898914302,
              0.009974593920742392,
              0.010109265415824754,
              0.01012833209587102,
              0.010217424991788248,
              0.010285706696857118,
              0.010324408232304415,
              0.010424256769801122,
              0.010499961110606557,
              0.010662019209796127,
              0.010819719160973768,
              0.010861928558867312,
              0.011230321863446042,
              0.011278286193115886,
              0.011348887402612081,
              0.011906212456662724,
              0.012773840584797752,
              0.013207771676962354,
              0.013482347991940237,
              0.01354743677424985,
              0.014272631081932512,
              0.014397883944064173,
              0.015276801458116971,
              0.015575021914295668,
              0.016090838194097942,
              0.016318328459261677,
              0.01654263465393853,
              0.016760699921699464,
              0.017388048294194873,
              0.017678053460778692,
              0.018071403542482878,
              0.01893080096845637,
              0.02007878967635722,
              0.021433226541514788,
              0.022840845624772704,
              0.025178768341254106,
              0.028170907242071087
             ],
             "yaxis": "y2"
            },
            {
             "mode": "lines",
             "name": "fit",
             "type": "scatter",
             "x": [
              -2.8327014709530194,
              -2.5363010998109683,
              -2.368474705155519,
              -2.2488794444109725,
              -2.1547841064119244,
              -2.07661293642451,
              -2.009389306793238,
              -1.950182013772404,
              -1.8971132396781976,
              -1.8489048060820008,
              -1.8046458079323007,
              -1.7636632588085384,
              -1.7254452871519566,
              -1.6895931295784443,
              -1.6557898367901052,
              -1.623779147136915,
              -1.5933507951363555,
              -1.5643300316394355,
              -1.5365699813679379,
              -1.509945960714915,
              -1.484351180137345,
              -1.459693443888685,
              -1.4358925808262453,
              -1.4128784195994215,
              -1.3905891749923407,
              -1.368970148823431,
              -1.347972674341381,
              -1.3275532511472137,
              -1.3076728306755885,
              -1.2882962217414569,
              -1.26939159264497,
              -1.2509300515398374,
              -1.2328852907000716,
              -1.2152332833122248,
              -1.197952023719461,
              -1.1810213038257737,
              -1.1644225197609155,
              -1.1481385040025676,
              -1.132153379021149,
              -1.1164524292061233,
              -1.1010219883896202,
              -1.0858493407331675,
              -1.0709226331089852,
              -1.0562307974059553,
              -1.0417634814356225,
              -1.0275109873159134,
              -1.0134642163779326,
              -0.9996146197808252,
              -0.9859541541363692,
              -0.9724752415429261,
              -0.9591707335109044,
              -0.9460338783316593,
              -0.9330582915009952,
              -0.9202379288588358,
              -0.9075670621497136,
              -0.8950402567456227,
              -0.8826523513045057,
              -0.8703984391649741,
              -0.858273851301484,
              -0.846274140684674,
              -0.8343950679093391,
              -0.8226325879680235,
              -0.8109828380617272,
              -0.7994421263510547,
              -0.788006921561525,
              -0.7766738433658618,
              -0.7654396534741378,
              -0.7543012473697184,
              -0.7432556466352316,
              -0.7322999918183356,
              -0.7214315357919867,
              -0.7106476375682983,
              -0.6999457565289705,
              -0.6893234470387711,
              -0.6787783534116428,
              -0.6683082052018084,
              -0.657910812794737,
              -0.647584063275075,
              -0.6373259165506682,
              -0.6271344017136014,
              -0.6170076136208352,
              -0.6069437096784808,
              -0.5969409068150991,
              -0.5869974786306134,
              -0.5771117527085223,
              -0.5672821080800923,
              -0.557506972830111,
              -0.547784821834606,
              -0.5381141746216783,
              -0.528493593347284,
              -0.5189216808784135,
              -0.5093970789766968,
              -0.4999184665759672,
              -0.4904845581478047,
              -0.48109410214950776,
              -0.47174587954934516,
              -0.4624387024243017,
              -0.45317141262587485,
              -0.4439428805097819,
              -0.4347520037257264,
              -0.42559770606363445,
              -0.4164789363530105,
              -0.4073946674122892,
              -0.39834389504526424,
              -0.38932563708186213,
              -0.3803389324607112,
              -0.37138284035111313,
              -0.36245643931217786,
              -0.35355882648702075,
              -0.34468911683005377,
              -0.3358464423655151,
              -0.32702995147550235,
              -0.31823880821586986,
              -0.30947219165845236,
              -0.300729295258162,
              -0.2920093262435936,
              -0.2833115050298456,
              -0.2746350646523387,
              -0.265979250220482,
              -0.25734331839009567,
              -0.2487265368535595,
              -0.24012818384671258,
              -0.2315475476715739,
              -0.22298392623400762,
              -0.21443662659549603,
              -0.20590496453822602,
              -0.1973882641427314,
              -0.1888858573773723,
              -0.180397083698961,
              -0.17192128966387865,
              -0.1634578285490535,
              -0.15500605998219966,
              -0.14656534958073864,
              -0.13813506859884903,
              -0.1297145935821139,
              -0.12130330602925031,
              -0.11290059206042778,
              -0.10450584209169801,
              -0.0961184505150732,
              -0.08773781538380465,
              -0.0793633381024285,
              -0.07099442312115299,
              -0.06263047763417696,
              -0.0542709112815361,
              -0.04591513585408334,
              -0.03756256500121628,
              -0.029212613940973967,
              -0.020864699172126442,
              -0.012518238187890121,
              -0.0041726491909028825,
              0.0041726491909028825,
              0.012518238187890262,
              0.020864699172126442,
              0.02921261394097383,
              0.03756256500121628,
              0.0459151358540832,
              0.05427091128153624,
              0.06263047763417696,
              0.07099442312115313,
              0.0793633381024285,
              0.08773781538380451,
              0.0961184505150732,
              0.10450584209169801,
              0.11290059206042792,
              0.12130330602925031,
              0.12971459358211376,
              0.13813506859884903,
              0.1465653495807385,
              0.1550060599821998,
              0.1634578285490535,
              0.1719212896638788,
              0.180397083698961,
              0.18888585737737215,
              0.1973882641427314,
              0.20590496453822588,
              0.21443662659549617,
              0.22298392623400762,
              0.23154754767157404,
              0.24012818384671258,
              0.24872653685355936,
              0.25734331839009567,
              0.265979250220482,
              0.27463506465233883,
              0.2833115050298456,
              0.2920093262435935,
              0.300729295258162,
              0.30947219165845224,
              0.31823880821587,
              0.32702995147550235,
              0.33584644236551525,
              0.34468911683005377,
              0.35355882648702064,
              0.36245643931217786,
              0.37138284035111313,
              0.3803389324607114,
              0.38932563708186213,
              0.39834389504526413,
              0.4073946674122892,
              0.41647893635301036,
              0.4255977060636346,
              0.4347520037257264,
              0.44394288050978203,
              0.45317141262587485,
              0.4624387024243015,
              0.47174587954934516,
              0.48109410214950776,
              0.4904845581478048,
              0.4999184665759672,
              0.5093970789766967,
              0.5189216808784135,
              0.5284935933472837,
              0.5381141746216784,
              0.547784821834606,
              0.5575069728301112,
              0.5672821080800923,
              0.5771117527085222,
              0.5869974786306134,
              0.5969409068150989,
              0.606943709678481,
              0.6170076136208352,
              0.6271344017136016,
              0.6373259165506682,
              0.6475840632750749,
              0.657910812794737,
              0.6683082052018084,
              0.6787783534116429,
              0.6893234470387711,
              0.6999457565289704,
              0.7106476375682983,
              0.7214315357919867,
              0.7322999918183356,
              0.7432556466352316,
              0.7543012473697186,
              0.7654396534741378,
              0.7766738433658618,
              0.788006921561525,
              0.7994421263510546,
              0.8109828380617272,
              0.8226325879680235,
              0.8343950679093387,
              0.846274140684674,
              0.8582738513014837,
              0.8703984391649741,
              0.8826523513045057,
              0.8950402567456227,
              0.9075670621497136,
              0.9202379288588357,
              0.9330582915009952,
              0.946033878331659,
              0.9591707335109044,
              0.9724752415429261,
              0.9859541541363687,
              0.9996146197808252,
              1.0134642163779326,
              1.0275109873159134,
              1.0417634814356225,
              1.0562307974059553,
              1.0709226331089852,
              1.0858493407331669,
              1.1010219883896202,
              1.1164524292061233,
              1.132153379021149,
              1.1481385040025676,
              1.1644225197609162,
              1.1810213038257737,
              1.197952023719461,
              1.2152332833122248,
              1.2328852907000707,
              1.2509300515398374,
              1.26939159264497,
              1.2882962217414562,
              1.3076728306755885,
              1.327553251147213,
              1.347972674341381,
              1.368970148823431,
              1.3905891749923414,
              1.4128784195994215,
              1.4358925808262448,
              1.459693443888685,
              1.484351180137345,
              1.509945960714915,
              1.5365699813679379,
              1.5643300316394355,
              1.5933507951363555,
              1.6237791471369145,
              1.6557898367901056,
              1.6895931295784443,
              1.725445287151957,
              1.7636632588085384,
              1.8046458079323,
              1.8489048060820008,
              1.8971132396781965,
              1.9501820137724044,
              2.0093893067932376,
              2.076612936424508,
              2.154784106411924,
              2.2488794444109703,
              2.3684747051555197,
              2.536301099810966,
              2.8327014709530194
             ],
             "xaxis": "x2",
             "y": [
              -0.023921069376019233,
              -0.021382603395897152,
              -0.019945285379870684,
              -0.01892103396070372,
              -0.01811517189825644,
              -0.01744568941793832,
              -0.016869965115631262,
              -0.016362895240754224,
              -0.015908397572192385,
              -0.01549552538796603,
              -0.01511647741078433,
              -0.014765489973324292,
              -0.014438179246601188,
              -0.014131130095604273,
              -0.013841628066883192,
              -0.013567478455086903,
              -0.013306880480506158,
              -0.01305833753647997,
              -0.012820591736941467,
              -0.012592575252274597,
              -0.012373373503253463,
              -0.012162196896514167,
              -0.011958358821181285,
              -0.0117612583077432,
              -0.011570366208183117,
              -0.011385214070074473,
              -0.011205385096056014,
              -0.011030506735032412,
              -0.010860244562811455,
              -0.010694297191018692,
              -0.010532392002967295,
              -0.01037428155980073,
              -0.0102197405538813,
              -0.010068563212023526,
              -0.009920561070862692,
              -0.009775561061910262,
              -0.009633403855771536,
              -0.009493942424387135,
              -0.009357040787601117,
              -0.009222572916297588,
              -0.009090421769117655,
              -0.008960478443622202,
              -0.008832641425897767,
              -0.008706815925160418,
              -0.008582913282013032,
              -0.008460850440744077,
              -0.0083405494774921,
              -0.008221937177295883,
              -0.008104944654049482,
              -0.007989507008220435,
              -0.007875563017896069,
              -0.007763054859320511,
              -0.007651927853592252,
              -0.007542130236623841,
              -0.007433612949834233,
              -0.007326329449360293,
              -0.007220235531845682,
              -0.007115289175099394,
              -0.007011450392118519,
              -0.006908681097145255,
              -0.006806944982580372,
              -0.006706207405708079,
              -0.006606435284303108,
              -0.006507597000291989,
              -0.00640966231072968,
              -0.006312602265430454,
              -0.006216389130661115,
              -0.006120996318364998,
              -0.006026398320439184,
              -0.005932570647634677,
              -0.005839489772691652,
              -0.005747133077359402,
              -0.005655478802983924,
              -0.005564506004376069,
              -0.00547419450669971,
              -0.00538452486514328,
              -0.00529547832715942,
              -0.005207036797076651,
              -0.005119182802904262,
              -0.005031899465167128,
              -0.004945170467621196,
              -0.004858980029713007,
              -0.0047733128806580795,
              -0.004688154235023296,
              -0.004603489769707857,
              -0.004519305602225824,
              -0.004435588270201034,
              -0.004352324711992223,
              -0.00426950224837252,
              -0.004187108565193406,
              -0.0041051316969684705,
              -0.004023560011317219,
              -0.003942382194213596,
              -0.0038615872359879845,
              -0.0037811644180351495,
              -0.0037011033001840238,
              -0.0036213937086883685,
              -0.0035420257248002357,
              -0.0034629896738907757,
              -0.0033842761150854215,
              -0.0033058758313826903,
              -0.0032277798202279234,
              -0.0031499792845152033,
              -0.003072465623992454,
              -0.0029952304270463278,
              -0.002918265462845036,
              -0.0028415626738186386,
              -0.0027651141684576115,
              -0.002688912214411695,
              -0.0026129492318721745,
              -0.0025372177872216954,
              -0.0024617105869367546,
              -0.0023864204717288303,
              -0.0023113404109109774,
              -0.0022364634969774502,
              -0.0021617829403846513,
              -0.002087292064522347,
              -0.002012984300864712,
              -0.0019388531842913538,
              -0.0018648923485689757,
              -0.0017910955219848476,
              -0.00171745652312374,
              -0.0016439692567803538,
              -0.0015706277099997398,
              -0.0014974259482385406,
              -0.001424358111640256,
              -0.001351418411418038,
              -0.001278601126338863,
              -0.0012059005993031678,
              -0.0011333112340143274,
              -0.0010608274917325966,
              -0.0009884438881083573,
              -0.0009161549900897287,
              -0.0008439554128997901,
              -0.0007718398170788727,
              -0.000699802905587505,
              -0.0006278394209657866,
              -0.0005559441425451039,
              -0.00048411188370821887,
              -0.00041233748919389647,
              -0.0003406158324423586,
              -0.00026894181297792085,
              -0.00019731035382529742,
              -0.00012571639895611787,
              -5.415491076228736e-05,
              1.737913244712828e-05,
              8.889073892872452e-05,
              0.00016038490597051382,
              0.0002318666223437572,
              0.0003033408707440073,
              0.0003748126302244607,
              0.000446286878624712,
              0.0005177685949979542,
              0.0005892627620397423,
              0.0006607743685213398,
              0.0007323084117307542,
              0.0008038698999245871,
              0.0008754638547937654,
              0.0009470953139463901,
              0.0010187693334108266,
              0.0010904909901623633,
              0.0011622653846766868,
              0.0012340976435135718,
              0.0013059929219342557,
              0.001377956406555973,
              0.0014499933180473397,
              0.001522108913868258,
              0.0015943084910581954,
              0.0016665973890768264,
              0.0017389809927010646,
              0.0018114647349827965,
              0.0018840541002716359,
              0.00195675462730733,
              0.0020295719123865057,
              0.002102511612608723,
              0.0021755794492070097,
              0.002248781210968208,
              0.002322122757748823,
              0.002395610024092208,
              0.0024692490229533143,
              0.0025430458495374437,
              0.002617006685259822,
              0.0026911378018331807,
              0.002765445565490815,
              0.0028399364413531185,
              0.0029146169979459183,
              0.0029894939118794445,
              0.003064573972697299,
              0.0031398640879052226,
              0.0032153712881901647,
              0.0032911027328406425,
              0.0033670657153801616,
              0.0034432676694260795,
              0.0035197161747871067,
              0.0035964189638135052,
              0.0036733839280147958,
              0.003750619124960921,
              0.0038281327854836713,
              0.0039059333211963906,
              0.00398402933235116,
              0.0040624296160538895,
              0.004141143174859245,
              0.004220179225768703,
              0.004299547209656836,
              0.004379256801152491,
              0.004459317919003617,
              0.004539740736956453,
              0.004620535695182063,
              0.004701713512285686,
              0.004783285197936939,
              0.004865262066161873,
              0.004947655749340989,
              0.005030478212960692,
              0.005113741771169505,
              0.005197459103194291,
              0.005281643270676324,
              0.005366307735991763,
              0.005451466381626545,
              0.005537133530681478,
              0.005623323968589665,
              0.005710052966135599,
              0.005797336303872731,
              0.005885190298045118,
              0.005973631828127889,
              0.006062678366111749,
              0.006152348007668179,
              0.006242659505344538,
              0.0063336323039523915,
              0.0064252865783278705,
              0.006517643273660119,
              0.0066107241486031455,
              0.006704551821407653,
              0.006799149819333468,
              0.006894542631629582,
              0.006990755766398923,
              0.007087815811698147,
              0.007185750501260456,
              0.007284588785271575,
              0.007384360906676548,
              0.0074850984835488354,
              0.007586834598113722,
              0.0076896038930869826,
              0.0077934426760678625,
              0.007898389032814151,
              0.008004482950328762,
              0.008111766450802702,
              0.008220283737592309,
              0.00833008135456072,
              0.008441208360288976,
              0.008553716518864538,
              0.008667660509188903,
              0.008783098155017946,
              0.008900090678264352,
              0.00901870297846057,
              0.009139003941712546,
              0.009261066782981501,
              0.009384969426128887,
              0.009510794926866236,
              0.009638631944590666,
              0.009768575270086123,
              0.009900726417266057,
              0.010035194288569586,
              0.010172095925355604,
              0.010311557356740012,
              0.01045371456287873,
              0.010598714571831161,
              0.010746716712991995,
              0.01089789405484976,
              0.011052435060769198,
              0.011210545503935763,
              0.011372450691987156,
              0.011538398063779924,
              0.011708660236000874,
              0.011883538597024483,
              0.012063367571042942,
              0.012248519709151591,
              0.01243941180871167,
              0.01263651232214975,
              0.012840350397482636,
              0.013051527004221932,
              0.013270728753243066,
              0.013498745237909936,
              0.013736491037448438,
              0.013985033981474626,
              0.014245631956055368,
              0.014519781567851666,
              0.014809283596572742,
              0.01511633274756966,
              0.015443643474292761,
              0.015794630911752792,
              0.0161736788889345,
              0.016586551073160843,
              0.0170410487417227,
              0.017548118616599728,
              0.018123842918906775,
              0.018793325399224906,
              0.01959918746167217,
              0.020623438880839163,
              0.0220607568968656,
              0.0245992228769877
             ],
             "yaxis": "y2"
            }
           ],
           "layout": {
            "autosize": false,
            "height": 500,
            "margin": {
             "t": 50
            },
            "showlegend": false,
            "template": {
             "data": {
              "bar": [
               {
                "error_x": {
                 "color": "#2a3f5f"
                },
                "error_y": {
                 "color": "#2a3f5f"
                },
                "marker": {
                 "line": {
                  "color": "#E5ECF6",
                  "width": 0.5
                 }
                },
                "type": "bar"
               }
              ],
              "barpolar": [
               {
                "marker": {
                 "line": {
                  "color": "#E5ECF6",
                  "width": 0.5
                 }
                },
                "type": "barpolar"
               }
              ],
              "carpet": [
               {
                "aaxis": {
                 "endlinecolor": "#2a3f5f",
                 "gridcolor": "white",
                 "linecolor": "white",
                 "minorgridcolor": "white",
                 "startlinecolor": "#2a3f5f"
                },
                "baxis": {
                 "endlinecolor": "#2a3f5f",
                 "gridcolor": "white",
                 "linecolor": "white",
                 "minorgridcolor": "white",
                 "startlinecolor": "#2a3f5f"
                },
                "type": "carpet"
               }
              ],
              "choropleth": [
               {
                "colorbar": {
                 "outlinewidth": 0,
                 "ticks": ""
                },
                "type": "choropleth"
               }
              ],
              "contour": [
               {
                "colorbar": {
                 "outlinewidth": 0,
                 "ticks": ""
                },
                "colorscale": [
                 [
                  0,
                  "#0d0887"
                 ],
                 [
                  0.1111111111111111,
                  "#46039f"
                 ],
                 [
                  0.2222222222222222,
                  "#7201a8"
                 ],
                 [
                  0.3333333333333333,
                  "#9c179e"
                 ],
                 [
                  0.4444444444444444,
                  "#bd3786"
                 ],
                 [
                  0.5555555555555556,
                  "#d8576b"
                 ],
                 [
                  0.6666666666666666,
                  "#ed7953"
                 ],
                 [
                  0.7777777777777778,
                  "#fb9f3a"
                 ],
                 [
                  0.8888888888888888,
                  "#fdca26"
                 ],
                 [
                  1,
                  "#f0f921"
                 ]
                ],
                "type": "contour"
               }
              ],
              "contourcarpet": [
               {
                "colorbar": {
                 "outlinewidth": 0,
                 "ticks": ""
                },
                "type": "contourcarpet"
               }
              ],
              "heatmap": [
               {
                "colorbar": {
                 "outlinewidth": 0,
                 "ticks": ""
                },
                "colorscale": [
                 [
                  0,
                  "#0d0887"
                 ],
                 [
                  0.1111111111111111,
                  "#46039f"
                 ],
                 [
                  0.2222222222222222,
                  "#7201a8"
                 ],
                 [
                  0.3333333333333333,
                  "#9c179e"
                 ],
                 [
                  0.4444444444444444,
                  "#bd3786"
                 ],
                 [
                  0.5555555555555556,
                  "#d8576b"
                 ],
                 [
                  0.6666666666666666,
                  "#ed7953"
                 ],
                 [
                  0.7777777777777778,
                  "#fb9f3a"
                 ],
                 [
                  0.8888888888888888,
                  "#fdca26"
                 ],
                 [
                  1,
                  "#f0f921"
                 ]
                ],
                "type": "heatmap"
               }
              ],
              "heatmapgl": [
               {
                "colorbar": {
                 "outlinewidth": 0,
                 "ticks": ""
                },
                "colorscale": [
                 [
                  0,
                  "#0d0887"
                 ],
                 [
                  0.1111111111111111,
                  "#46039f"
                 ],
                 [
                  0.2222222222222222,
                  "#7201a8"
                 ],
                 [
                  0.3333333333333333,
                  "#9c179e"
                 ],
                 [
                  0.4444444444444444,
                  "#bd3786"
                 ],
                 [
                  0.5555555555555556,
                  "#d8576b"
                 ],
                 [
                  0.6666666666666666,
                  "#ed7953"
                 ],
                 [
                  0.7777777777777778,
                  "#fb9f3a"
                 ],
                 [
                  0.8888888888888888,
                  "#fdca26"
                 ],
                 [
                  1,
                  "#f0f921"
                 ]
                ],
                "type": "heatmapgl"
               }
              ],
              "histogram": [
               {
                "marker": {
                 "colorbar": {
                  "outlinewidth": 0,
                  "ticks": ""
                 }
                },
                "type": "histogram"
               }
              ],
              "histogram2d": [
               {
                "colorbar": {
                 "outlinewidth": 0,
                 "ticks": ""
                },
                "colorscale": [
                 [
                  0,
                  "#0d0887"
                 ],
                 [
                  0.1111111111111111,
                  "#46039f"
                 ],
                 [
                  0.2222222222222222,
                  "#7201a8"
                 ],
                 [
                  0.3333333333333333,
                  "#9c179e"
                 ],
                 [
                  0.4444444444444444,
                  "#bd3786"
                 ],
                 [
                  0.5555555555555556,
                  "#d8576b"
                 ],
                 [
                  0.6666666666666666,
                  "#ed7953"
                 ],
                 [
                  0.7777777777777778,
                  "#fb9f3a"
                 ],
                 [
                  0.8888888888888888,
                  "#fdca26"
                 ],
                 [
                  1,
                  "#f0f921"
                 ]
                ],
                "type": "histogram2d"
               }
              ],
              "histogram2dcontour": [
               {
                "colorbar": {
                 "outlinewidth": 0,
                 "ticks": ""
                },
                "colorscale": [
                 [
                  0,
                  "#0d0887"
                 ],
                 [
                  0.1111111111111111,
                  "#46039f"
                 ],
                 [
                  0.2222222222222222,
                  "#7201a8"
                 ],
                 [
                  0.3333333333333333,
                  "#9c179e"
                 ],
                 [
                  0.4444444444444444,
                  "#bd3786"
                 ],
                 [
                  0.5555555555555556,
                  "#d8576b"
                 ],
                 [
                  0.6666666666666666,
                  "#ed7953"
                 ],
                 [
                  0.7777777777777778,
                  "#fb9f3a"
                 ],
                 [
                  0.8888888888888888,
                  "#fdca26"
                 ],
                 [
                  1,
                  "#f0f921"
                 ]
                ],
                "type": "histogram2dcontour"
               }
              ],
              "mesh3d": [
               {
                "colorbar": {
                 "outlinewidth": 0,
                 "ticks": ""
                },
                "type": "mesh3d"
               }
              ],
              "parcoords": [
               {
                "line": {
                 "colorbar": {
                  "outlinewidth": 0,
                  "ticks": ""
                 }
                },
                "type": "parcoords"
               }
              ],
              "scatter": [
               {
                "marker": {
                 "colorbar": {
                  "outlinewidth": 0,
                  "ticks": ""
                 }
                },
                "type": "scatter"
               }
              ],
              "scatter3d": [
               {
                "line": {
                 "colorbar": {
                  "outlinewidth": 0,
                  "ticks": ""
                 }
                },
                "marker": {
                 "colorbar": {
                  "outlinewidth": 0,
                  "ticks": ""
                 }
                },
                "type": "scatter3d"
               }
              ],
              "scattercarpet": [
               {
                "marker": {
                 "colorbar": {
                  "outlinewidth": 0,
                  "ticks": ""
                 }
                },
                "type": "scattercarpet"
               }
              ],
              "scattergeo": [
               {
                "marker": {
                 "colorbar": {
                  "outlinewidth": 0,
                  "ticks": ""
                 }
                },
                "type": "scattergeo"
               }
              ],
              "scattergl": [
               {
                "marker": {
                 "colorbar": {
                  "outlinewidth": 0,
                  "ticks": ""
                 }
                },
                "type": "scattergl"
               }
              ],
              "scattermapbox": [
               {
                "marker": {
                 "colorbar": {
                  "outlinewidth": 0,
                  "ticks": ""
                 }
                },
                "type": "scattermapbox"
               }
              ],
              "scatterpolar": [
               {
                "marker": {
                 "colorbar": {
                  "outlinewidth": 0,
                  "ticks": ""
                 }
                },
                "type": "scatterpolar"
               }
              ],
              "scatterpolargl": [
               {
                "marker": {
                 "colorbar": {
                  "outlinewidth": 0,
                  "ticks": ""
                 }
                },
                "type": "scatterpolargl"
               }
              ],
              "scatterternary": [
               {
                "marker": {
                 "colorbar": {
                  "outlinewidth": 0,
                  "ticks": ""
                 }
                },
                "type": "scatterternary"
               }
              ],
              "surface": [
               {
                "colorbar": {
                 "outlinewidth": 0,
                 "ticks": ""
                },
                "colorscale": [
                 [
                  0,
                  "#0d0887"
                 ],
                 [
                  0.1111111111111111,
                  "#46039f"
                 ],
                 [
                  0.2222222222222222,
                  "#7201a8"
                 ],
                 [
                  0.3333333333333333,
                  "#9c179e"
                 ],
                 [
                  0.4444444444444444,
                  "#bd3786"
                 ],
                 [
                  0.5555555555555556,
                  "#d8576b"
                 ],
                 [
                  0.6666666666666666,
                  "#ed7953"
                 ],
                 [
                  0.7777777777777778,
                  "#fb9f3a"
                 ],
                 [
                  0.8888888888888888,
                  "#fdca26"
                 ],
                 [
                  1,
                  "#f0f921"
                 ]
                ],
                "type": "surface"
               }
              ],
              "table": [
               {
                "cells": {
                 "fill": {
                  "color": "#EBF0F8"
                 },
                 "line": {
                  "color": "white"
                 }
                },
                "header": {
                 "fill": {
                  "color": "#C8D4E3"
                 },
                 "line": {
                  "color": "white"
                 }
                },
                "type": "table"
               }
              ]
             },
             "layout": {
              "annotationdefaults": {
               "arrowcolor": "#2a3f5f",
               "arrowhead": 0,
               "arrowwidth": 1
              },
              "colorscale": {
               "diverging": [
                [
                 0,
                 "#8e0152"
                ],
                [
                 0.1,
                 "#c51b7d"
                ],
                [
                 0.2,
                 "#de77ae"
                ],
                [
                 0.3,
                 "#f1b6da"
                ],
                [
                 0.4,
                 "#fde0ef"
                ],
                [
                 0.5,
                 "#f7f7f7"
                ],
                [
                 0.6,
                 "#e6f5d0"
                ],
                [
                 0.7,
                 "#b8e186"
                ],
                [
                 0.8,
                 "#7fbc41"
                ],
                [
                 0.9,
                 "#4d9221"
                ],
                [
                 1,
                 "#276419"
                ]
               ],
               "sequential": [
                [
                 0,
                 "#0d0887"
                ],
                [
                 0.1111111111111111,
                 "#46039f"
                ],
                [
                 0.2222222222222222,
                 "#7201a8"
                ],
                [
                 0.3333333333333333,
                 "#9c179e"
                ],
                [
                 0.4444444444444444,
                 "#bd3786"
                ],
                [
                 0.5555555555555556,
                 "#d8576b"
                ],
                [
                 0.6666666666666666,
                 "#ed7953"
                ],
                [
                 0.7777777777777778,
                 "#fb9f3a"
                ],
                [
                 0.8888888888888888,
                 "#fdca26"
                ],
                [
                 1,
                 "#f0f921"
                ]
               ],
               "sequentialminus": [
                [
                 0,
                 "#0d0887"
                ],
                [
                 0.1111111111111111,
                 "#46039f"
                ],
                [
                 0.2222222222222222,
                 "#7201a8"
                ],
                [
                 0.3333333333333333,
                 "#9c179e"
                ],
                [
                 0.4444444444444444,
                 "#bd3786"
                ],
                [
                 0.5555555555555556,
                 "#d8576b"
                ],
                [
                 0.6666666666666666,
                 "#ed7953"
                ],
                [
                 0.7777777777777778,
                 "#fb9f3a"
                ],
                [
                 0.8888888888888888,
                 "#fdca26"
                ],
                [
                 1,
                 "#f0f921"
                ]
               ]
              },
              "colorway": [
               "#636efa",
               "#EF553B",
               "#00cc96",
               "#ab63fa",
               "#FFA15A",
               "#19d3f3",
               "#FF6692",
               "#B6E880",
               "#FF97FF",
               "#FECB52"
              ],
              "font": {
               "color": "#2a3f5f"
              },
              "geo": {
               "bgcolor": "white",
               "lakecolor": "white",
               "landcolor": "#E5ECF6",
               "showlakes": true,
               "showland": true,
               "subunitcolor": "white"
              },
              "hoverlabel": {
               "align": "left"
              },
              "hovermode": "closest",
              "mapbox": {
               "style": "light"
              },
              "paper_bgcolor": "white",
              "plot_bgcolor": "#E5ECF6",
              "polar": {
               "angularaxis": {
                "gridcolor": "white",
                "linecolor": "white",
                "ticks": ""
               },
               "bgcolor": "#E5ECF6",
               "radialaxis": {
                "gridcolor": "white",
                "linecolor": "white",
                "ticks": ""
               }
              },
              "scene": {
               "xaxis": {
                "backgroundcolor": "#E5ECF6",
                "gridcolor": "white",
                "gridwidth": 2,
                "linecolor": "white",
                "showbackground": true,
                "ticks": "",
                "zerolinecolor": "white"
               },
               "yaxis": {
                "backgroundcolor": "#E5ECF6",
                "gridcolor": "white",
                "gridwidth": 2,
                "linecolor": "white",
                "showbackground": true,
                "ticks": "",
                "zerolinecolor": "white"
               },
               "zaxis": {
                "backgroundcolor": "#E5ECF6",
                "gridcolor": "white",
                "gridwidth": 2,
                "linecolor": "white",
                "showbackground": true,
                "ticks": "",
                "zerolinecolor": "white"
               }
              },
              "shapedefaults": {
               "line": {
                "color": "#2a3f5f"
               }
              },
              "ternary": {
               "aaxis": {
                "gridcolor": "white",
                "linecolor": "white",
                "ticks": ""
               },
               "baxis": {
                "gridcolor": "white",
                "linecolor": "white",
                "ticks": ""
               },
               "bgcolor": "#E5ECF6",
               "caxis": {
                "gridcolor": "white",
                "linecolor": "white",
                "ticks": ""
               }
              },
              "title": {
               "x": 0.05
              },
              "xaxis": {
               "automargin": true,
               "gridcolor": "white",
               "linecolor": "white",
               "ticks": "",
               "zerolinecolor": "white",
               "zerolinewidth": 2
              },
              "yaxis": {
               "automargin": true,
               "gridcolor": "white",
               "linecolor": "white",
               "ticks": "",
               "zerolinecolor": "white",
               "zerolinewidth": 2
              }
             }
            },
            "title": {
             "text": "Histogram and Probability plot of the log return for The Coca-Cola Company"
            },
            "width": 1000,
            "xaxis": {
             "anchor": "y",
             "domain": [
              0,
              0.45
             ],
             "gridcolor": "#ffffff",
             "mirror": true,
             "showgrid": true,
             "showline": true,
             "showticklabels": true,
             "tickfont": {
              "size": 10
             },
             "ticklen": 4,
             "title": {
              "text": "Log Return(day)"
             },
             "zeroline": false
            },
            "xaxis2": {
             "anchor": "y2",
             "domain": [
              0.52,
              0.95
             ],
             "gridcolor": "#ffffff",
             "mirror": true,
             "showgrid": true,
             "showline": true,
             "showticklabels": true,
             "tickfont": {
              "size": 10
             },
             "ticklen": 4,
             "title": {
              "text": "Theoretical quantiles"
             },
             "zeroline": false
            },
            "yaxis": {
             "anchor": "x",
             "domain": [
              0,
              1
             ],
             "gridcolor": "#ffffff",
             "mirror": true,
             "showgrid": true,
             "showline": true,
             "tickfont": {
              "size": 10
             },
             "ticklen": 4,
             "title": {
              "text": "Percentage"
             },
             "zeroline": false
            },
            "yaxis2": {
             "anchor": "x2",
             "domain": [
              0,
              1
             ],
             "gridcolor": "#ffffff",
             "mirror": true,
             "showgrid": true,
             "showline": true,
             "tickfont": {
              "size": 10
             },
             "ticklen": 4,
             "title": {
              "text": "Ordered Values"
             },
             "zeroline": false
            }
           }
          },
          "text/html": "<div>\n        \n        \n            <div id=\"e25d0a69-3cea-41b0-93a4-b1cadde4a0d1\" class=\"plotly-graph-div\" style=\"height:500px; width:1000px;\"></div>\n            <script type=\"text/javascript\">\n                require([\"plotly\"], function(Plotly) {\n                    window.PLOTLYENV=window.PLOTLYENV || {};\n                    \n                if (document.getElementById(\"e25d0a69-3cea-41b0-93a4-b1cadde4a0d1\")) {\n                    Plotly.newPlot(\n                        'e25d0a69-3cea-41b0-93a4-b1cadde4a0d1',\n                        [{\"histnorm\": \"percent\", \"opacity\": 0.75, \"type\": \"histogram\", \"x\": [-0.03548138556828052, 0.017388048294194873, -0.004780213681725325, 0.0009612465570264075, -0.014512792854172363, 0.007590182086494061, 0.009974593920742392, 0.004230799016640242, 0.004864064927760841, 0.010861928558867312, 0.0003707908378715779, -0.012947362581851179, 0.008381902483037567, 0.007682033711354862, 0.004486341380377129, -0.014722450604758613, -0.010870830414253718, 0.0042661902702577515, 0.002314780486252647, -0.004455359500983664, -0.005183550866160614, 0.0019019079328249943, 0.006633923780559553, 0.00986094898914302, -0.0011267148345713346, -0.004982786016903179, 0.006324818382830186, -0.002952410498058216, 0.0035810211309792827, 0.0040872059948450345, 0.002070159492580687, -0.0025296232600981188, 0.010662019209796127, -0.0012872251897123922, 0.003967411449766391, -0.007073050940638605, 0.014397883944064173, -0.004532089487303559, 0.010499961110606557, -0.007314629045237663, -0.01401517688432419, 0.014272631081932512, 0.008672463680088687, -0.004592641372588826, 0.008032177420741046, -0.0018168984128270978, -0.004776927099832544, -0.005294051581006989, -0.0049719366896926655, -0.0010594990308014916, -0.005318535782994701, 0.002632217930854976, -0.003558435064496973, -0.010131799243682795, 0.0012987312383333544, -0.000440344739173351, -0.005663370171849665, 0.0050715193249974665, -0.0061525703330343445, 0.006694713624226086, 0.005176531064046777, -0.006106252276411305, -0.00805119530030706, -0.0030587611405137956, -0.0037002782335708996, 0.00880254237255159, 0.0025845169296742467, 0.011278286193115886, -0.000857836522926795, -0.0028732461372196916, -0.011509178245094023, 0.008859407456396223, -0.0014217468416307432, -0.007835286246472475, -0.0038577052934654203, 0.01893080096845637, -0.017129071204592318, 0.015276801458116971, 0.004957431198702311, -0.008284352179316234, 0.007317656668663355, 0.0016742661150921313, -0.002768834772919241, 0.0017463007557298644, 0.0007327517348474437, 0.002979427720682445, -0.004552635836307636, 0.01654263465393853, 0.002628182568069741, 0.003757055259472545, 0.021433226541514788, 0.0010155223453770425, -0.0030187197312072584, -0.003819528216167009, 0.0028925512985040493, 0.012773840584797752, -0.007279622755881904, 0.007968191957347815, -0.009310853664580345, 0.0010858777693706072, 0.004944641608880161, -0.0028889700714951907, 0.0005533298898431419, -0.002591143274872804, 0.0, -0.01431185610635248, -0.004828749693910991, -0.02068259045029556, 0.00018151050432840428, 0.002706423532205922, 0.00018541359376606254, -0.007340277793991603, 0.00021555074965139154, 0.004855906160526096, -0.0023776216064621803, 0.006879422788530908, 0.004221728973387437, -0.0021276279115713635, 0.007559467022700915, 0.004527713435912795, 0.006272177691567977, -0.0006717899730184395, -0.0015025926324729517, -0.0006039009696893571, -0.014483461960740997, 0.002404089384740399, -0.0011350143406991123, -0.007442280180801713, 0.0026297389387777283, 0.008400682598256859, 0.008220797157147816, 0.004257286279417821, 0.004987531609164131, -0.006302155423901956, -0.01348137258552885, 0.011906212456662724, -0.003148178579572494, -0.0018070510987630312, -0.0136118773598879, -0.009601509658967262, -0.010708808610630885, 0.018071403542482878, -0.000430024897300676, 0.001320873788328809, -0.007794301506256358, -0.00456243892198649, 0.0010705329604392439, -0.0038602781965723335, 0.008596607965842277, 0.006813445831681077, 0.0009212204688704652, -0.009751963232325413, 0.00530504149374492, 0.013482347991940237, -0.004046377141832813, 0.0020233023754689405, -0.01020833701010248, 0.017678053460778692, -0.007314629045237663, 0.028170907242071087, -0.0014200937453619194, 0.010424256769801122, 0.022840845624772704, -0.002629129924203389, -0.0028283515849182755, -0.004640397217137494, 0.002663684789965606, 0.0018756867649948323, 0.010819719160973768, 0.001498844293786104, -0.0010415423904722191, 0.010285706696857118, 0.001056731293436794, -0.009965400624619031, 0.01012833209587102, -0.005983736302619048, 0.010324408232304415, -0.005839986077335385, 0.009578837230442904, -0.004102752240052645, 0.016318328459261677, -0.0031092105173736884, 0.013207771676962354, -0.015313085526837127, -0.0040080436812762864, 0.008201325183423853, -0.002335064864389605, -0.024055783439575037, -0.004171033528102662, 0.001496129274491253, 0.0022319297221512564, -0.0014698115930327218, 0.008058408474983045, 0.000894474890484434, 0.00038603470793689454, -0.0033283405491298474, -0.0028128819366779515, 0.025178768341254106, -0.007846950944482765, -0.004148900511748216, -0.0021445101898839823, -0.014774031285249723, -0.013640725124043749, -0.006889712051860929, 0.0019491105327577953, 0.0021597951326332338, -0.004797334180642708, 0.004228352137087397, 0.009066611794297819, -0.006850056994333845, -0.00043822211909222127, 0.005758561289342751, 0.002930698943089202, -0.00021302485745776018, -0.004224065092514564, 0.006932430187221132, 0.0031641774951435644, -0.004612572036904649, -0.01097371565946101, 0.009684234677880137, -0.00453737951961866, 0.004121898222069567, -0.001008761036250198, 0.008199021261955054, -0.0006854514084268913, -0.0143648656150635, -0.010178276132330464, 0.003472827930694772, -0.011364803012822965, 0.010217424991788248, -0.0030056528547335207, -0.00864994137161257, 0.0032619692703019488, 0.007215357252196822, 0.00898040745397385, 0.02007878967635722, 0.0023827718014738167, 0.004100240343946087, -0.001317889536734762, -0.0256537700617671, -0.003575504638428773, 0.0017316417689299593, 0.006538067785720013, -0.0026707990207570976, -0.008163324762020696, -0.006583273434702116, 0.005471921095816496, 0.0021982559914087403, 0.0, -0.00784832061521262, -0.006475292160293259, 0.016760699921699464, -0.0038932412712100006, 0.01354743677424985, 0.005854481573316105, -0.006338146204471079, 0.0067501914571231605, -0.014488807672058278, -0.005602241181597402, 0.005070825969207001, -0.0013068518260100862, -0.021065132423576043, 0.007627491867094704, 0.011230321863446042, -0.003851926588903312, 0.003458222616791846, 0.00046394012350131994, -0.008196798600864304, -0.0024911590816613506, -0.008091874198100127, -0.006545180660328334, -0.006689009338654833, 0.0044397461961495745, 0.011348887402612081, -0.008287354561257305, -0.011973852235352857, 0.0, 0.003101977044308911, 0.0010724516150221477, 0.010109265415824754, 0.00038850927451566805, 0.016090838194097942, 0.007414299394541882, -0.002177839899880737, -0.004279013031360403, -0.010635035538294247, 0.0014161289150315995, 0.0022573889745240157, 0.0008066327399308304, 0.0021738807282999473, 0.005333362812766757, 0.005262557452190634, -0.011220050033591703, 0.008200245609476834, 0.00868380836535867, -0.0017368223489976355, 0.00633503426861058, 0.015575021914295668, 0.002776912318089041, -0.0037950544861055538], \"xaxis\": \"x\", \"yaxis\": \"y\"}, {\"mode\": \"markers\", \"name\": \"data\", \"opacity\": 0.6, \"type\": \"scatter\", \"x\": [-2.8327014709530194, -2.5363010998109683, -2.368474705155519, -2.2488794444109725, -2.1547841064119244, -2.07661293642451, -2.009389306793238, -1.950182013772404, -1.8971132396781976, -1.8489048060820008, -1.8046458079323007, -1.7636632588085384, -1.7254452871519566, -1.6895931295784443, -1.6557898367901052, -1.623779147136915, -1.5933507951363555, -1.5643300316394355, -1.5365699813679379, -1.509945960714915, -1.484351180137345, -1.459693443888685, -1.4358925808262453, -1.4128784195994215, -1.3905891749923407, -1.368970148823431, -1.347972674341381, -1.3275532511472137, -1.3076728306755885, -1.2882962217414569, -1.26939159264497, -1.2509300515398374, -1.2328852907000716, -1.2152332833122248, -1.197952023719461, -1.1810213038257737, -1.1644225197609155, -1.1481385040025676, -1.132153379021149, -1.1164524292061233, -1.1010219883896202, -1.0858493407331675, -1.0709226331089852, -1.0562307974059553, -1.0417634814356225, -1.0275109873159134, -1.0134642163779326, -0.9996146197808252, -0.9859541541363692, -0.9724752415429261, -0.9591707335109044, -0.9460338783316593, -0.9330582915009952, -0.9202379288588358, -0.9075670621497136, -0.8950402567456227, -0.8826523513045057, -0.8703984391649741, -0.858273851301484, -0.846274140684674, -0.8343950679093391, -0.8226325879680235, -0.8109828380617272, -0.7994421263510547, -0.788006921561525, -0.7766738433658618, -0.7654396534741378, -0.7543012473697184, -0.7432556466352316, -0.7322999918183356, -0.7214315357919867, -0.7106476375682983, -0.6999457565289705, -0.6893234470387711, -0.6787783534116428, -0.6683082052018084, -0.657910812794737, -0.647584063275075, -0.6373259165506682, -0.6271344017136014, -0.6170076136208352, -0.6069437096784808, -0.5969409068150991, -0.5869974786306134, -0.5771117527085223, -0.5672821080800923, -0.557506972830111, -0.547784821834606, -0.5381141746216783, -0.528493593347284, -0.5189216808784135, -0.5093970789766968, -0.4999184665759672, -0.4904845581478047, -0.48109410214950776, -0.47174587954934516, -0.4624387024243017, -0.45317141262587485, -0.4439428805097819, -0.4347520037257264, -0.42559770606363445, -0.4164789363530105, -0.4073946674122892, -0.39834389504526424, -0.38932563708186213, -0.3803389324607112, -0.37138284035111313, -0.36245643931217786, -0.35355882648702075, -0.34468911683005377, -0.3358464423655151, -0.32702995147550235, -0.31823880821586986, -0.30947219165845236, -0.300729295258162, -0.2920093262435936, -0.2833115050298456, -0.2746350646523387, -0.265979250220482, -0.25734331839009567, -0.2487265368535595, -0.24012818384671258, -0.2315475476715739, -0.22298392623400762, -0.21443662659549603, -0.20590496453822602, -0.1973882641427314, -0.1888858573773723, -0.180397083698961, -0.17192128966387865, -0.1634578285490535, -0.15500605998219966, -0.14656534958073864, -0.13813506859884903, -0.1297145935821139, -0.12130330602925031, -0.11290059206042778, -0.10450584209169801, -0.0961184505150732, -0.08773781538380465, -0.0793633381024285, -0.07099442312115299, -0.06263047763417696, -0.0542709112815361, -0.04591513585408334, -0.03756256500121628, -0.029212613940973967, -0.020864699172126442, -0.012518238187890121, -0.0041726491909028825, 0.0041726491909028825, 0.012518238187890262, 0.020864699172126442, 0.02921261394097383, 0.03756256500121628, 0.0459151358540832, 0.05427091128153624, 0.06263047763417696, 0.07099442312115313, 0.0793633381024285, 0.08773781538380451, 0.0961184505150732, 0.10450584209169801, 0.11290059206042792, 0.12130330602925031, 0.12971459358211376, 0.13813506859884903, 0.1465653495807385, 0.1550060599821998, 0.1634578285490535, 0.1719212896638788, 0.180397083698961, 0.18888585737737215, 0.1973882641427314, 0.20590496453822588, 0.21443662659549617, 0.22298392623400762, 0.23154754767157404, 0.24012818384671258, 0.24872653685355936, 0.25734331839009567, 0.265979250220482, 0.27463506465233883, 0.2833115050298456, 0.2920093262435935, 0.300729295258162, 0.30947219165845224, 0.31823880821587, 0.32702995147550235, 0.33584644236551525, 0.34468911683005377, 0.35355882648702064, 0.36245643931217786, 0.37138284035111313, 0.3803389324607114, 0.38932563708186213, 0.39834389504526413, 0.4073946674122892, 0.41647893635301036, 0.4255977060636346, 0.4347520037257264, 0.44394288050978203, 0.45317141262587485, 0.4624387024243015, 0.47174587954934516, 0.48109410214950776, 0.4904845581478048, 0.4999184665759672, 0.5093970789766967, 0.5189216808784135, 0.5284935933472837, 0.5381141746216784, 0.547784821834606, 0.5575069728301112, 0.5672821080800923, 0.5771117527085222, 0.5869974786306134, 0.5969409068150989, 0.606943709678481, 0.6170076136208352, 0.6271344017136016, 0.6373259165506682, 0.6475840632750749, 0.657910812794737, 0.6683082052018084, 0.6787783534116429, 0.6893234470387711, 0.6999457565289704, 0.7106476375682983, 0.7214315357919867, 0.7322999918183356, 0.7432556466352316, 0.7543012473697186, 0.7654396534741378, 0.7766738433658618, 0.788006921561525, 0.7994421263510546, 0.8109828380617272, 0.8226325879680235, 0.8343950679093387, 0.846274140684674, 0.8582738513014837, 0.8703984391649741, 0.8826523513045057, 0.8950402567456227, 0.9075670621497136, 0.9202379288588357, 0.9330582915009952, 0.946033878331659, 0.9591707335109044, 0.9724752415429261, 0.9859541541363687, 0.9996146197808252, 1.0134642163779326, 1.0275109873159134, 1.0417634814356225, 1.0562307974059553, 1.0709226331089852, 1.0858493407331669, 1.1010219883896202, 1.1164524292061233, 1.132153379021149, 1.1481385040025676, 1.1644225197609162, 1.1810213038257737, 1.197952023719461, 1.2152332833122248, 1.2328852907000707, 1.2509300515398374, 1.26939159264497, 1.2882962217414562, 1.3076728306755885, 1.327553251147213, 1.347972674341381, 1.368970148823431, 1.3905891749923414, 1.4128784195994215, 1.4358925808262448, 1.459693443888685, 1.484351180137345, 1.509945960714915, 1.5365699813679379, 1.5643300316394355, 1.5933507951363555, 1.6237791471369145, 1.6557898367901056, 1.6895931295784443, 1.725445287151957, 1.7636632588085384, 1.8046458079323, 1.8489048060820008, 1.8971132396781965, 1.9501820137724044, 2.0093893067932376, 2.076612936424508, 2.154784106411924, 2.2488794444109703, 2.3684747051555197, 2.536301099810966, 2.8327014709530194], \"xaxis\": \"x2\", \"y\": [-0.03548138556828052, -0.0256537700617671, -0.024055783439575037, -0.021065132423576043, -0.02068259045029556, -0.017129071204592318, -0.015313085526837127, -0.014774031285249723, -0.014722450604758613, -0.014512792854172363, -0.014488807672058278, -0.014483461960740997, -0.0143648656150635, -0.01431185610635248, -0.01401517688432419, -0.013640725124043749, -0.0136118773598879, -0.01348137258552885, -0.012947362581851179, -0.011973852235352857, -0.011509178245094023, -0.011364803012822965, -0.011220050033591703, -0.01097371565946101, -0.010870830414253718, -0.010708808610630885, -0.010635035538294247, -0.01020833701010248, -0.010178276132330464, -0.010131799243682795, -0.009965400624619031, -0.009751963232325413, -0.009601509658967262, -0.009310853664580345, -0.00864994137161257, -0.008287354561257305, -0.008284352179316234, -0.008196798600864304, -0.008163324762020696, -0.008091874198100127, -0.00805119530030706, -0.00784832061521262, -0.007846950944482765, -0.007835286246472475, -0.007794301506256358, -0.007442280180801713, -0.007340277793991603, -0.007314629045237663, -0.007314629045237663, -0.007279622755881904, -0.007073050940638605, -0.006889712051860929, -0.006850056994333845, -0.006689009338654833, -0.006583273434702116, -0.006545180660328334, -0.006475292160293259, -0.006338146204471079, -0.006302155423901956, -0.0061525703330343445, -0.006106252276411305, -0.005983736302619048, -0.005839986077335385, -0.005663370171849665, -0.005602241181597402, -0.005318535782994701, -0.005294051581006989, -0.005183550866160614, -0.004982786016903179, -0.0049719366896926655, -0.004828749693910991, -0.004797334180642708, -0.004780213681725325, -0.004776927099832544, -0.004640397217137494, -0.004612572036904649, -0.004592641372588826, -0.00456243892198649, -0.004552635836307636, -0.00453737951961866, -0.004532089487303559, -0.004455359500983664, -0.004279013031360403, -0.004224065092514564, -0.004171033528102662, -0.004148900511748216, -0.004102752240052645, -0.004046377141832813, -0.0040080436812762864, -0.0038932412712100006, -0.0038602781965723335, -0.0038577052934654203, -0.003851926588903312, -0.003819528216167009, -0.0037950544861055538, -0.0037002782335708996, -0.003575504638428773, -0.003558435064496973, -0.0033283405491298474, -0.003148178579572494, -0.0031092105173736884, -0.0030587611405137956, -0.0030187197312072584, -0.0030056528547335207, -0.002952410498058216, -0.0028889700714951907, -0.0028732461372196916, -0.0028283515849182755, -0.0028128819366779515, -0.002768834772919241, -0.0026707990207570976, -0.002629129924203389, -0.002591143274872804, -0.0025296232600981188, -0.0024911590816613506, -0.0023776216064621803, -0.002335064864389605, -0.002177839899880737, -0.0021445101898839823, -0.0021276279115713635, -0.0018168984128270978, -0.0018070510987630312, -0.0017368223489976355, -0.0015025926324729517, -0.0014698115930327218, -0.0014217468416307432, -0.0014200937453619194, -0.001317889536734762, -0.0013068518260100862, -0.0012872251897123922, -0.0011350143406991123, -0.0011267148345713346, -0.0010594990308014916, -0.0010415423904722191, -0.001008761036250198, -0.000857836522926795, -0.0006854514084268913, -0.0006717899730184395, -0.0006039009696893571, -0.000440344739173351, -0.00043822211909222127, -0.000430024897300676, -0.00021302485745776018, 0.0, 0.0, 0.0, 0.00018151050432840428, 0.00018541359376606254, 0.00021555074965139154, 0.0003707908378715779, 0.00038603470793689454, 0.00038850927451566805, 0.00046394012350131994, 0.0005533298898431419, 0.0007327517348474437, 0.0008066327399308304, 0.000894474890484434, 0.0009212204688704652, 0.0009612465570264075, 0.0010155223453770425, 0.001056731293436794, 0.0010705329604392439, 0.0010724516150221477, 0.0010858777693706072, 0.0012987312383333544, 0.001320873788328809, 0.0014161289150315995, 0.001496129274491253, 0.001498844293786104, 0.0016742661150921313, 0.0017316417689299593, 0.0017463007557298644, 0.0018756867649948323, 0.0019019079328249943, 0.0019491105327577953, 0.0020233023754689405, 0.002070159492580687, 0.0021597951326332338, 0.0021738807282999473, 0.0021982559914087403, 0.0022319297221512564, 0.0022573889745240157, 0.002314780486252647, 0.0023827718014738167, 0.002404089384740399, 0.0025845169296742467, 0.002628182568069741, 0.0026297389387777283, 0.002632217930854976, 0.002663684789965606, 0.002706423532205922, 0.002776912318089041, 0.0028925512985040493, 0.002930698943089202, 0.002979427720682445, 0.003101977044308911, 0.0031641774951435644, 0.0032619692703019488, 0.003458222616791846, 0.003472827930694772, 0.0035810211309792827, 0.003757055259472545, 0.003967411449766391, 0.0040872059948450345, 0.004100240343946087, 0.004121898222069567, 0.004221728973387437, 0.004228352137087397, 0.004230799016640242, 0.004257286279417821, 0.0042661902702577515, 0.0044397461961495745, 0.004486341380377129, 0.004527713435912795, 0.004855906160526096, 0.004864064927760841, 0.004944641608880161, 0.004957431198702311, 0.004987531609164131, 0.005070825969207001, 0.0050715193249974665, 0.005176531064046777, 0.005262557452190634, 0.00530504149374492, 0.005333362812766757, 0.005471921095816496, 0.005758561289342751, 0.005854481573316105, 0.006272177691567977, 0.006324818382830186, 0.00633503426861058, 0.006538067785720013, 0.006633923780559553, 0.006694713624226086, 0.0067501914571231605, 0.006813445831681077, 0.006879422788530908, 0.006932430187221132, 0.007215357252196822, 0.007317656668663355, 0.007414299394541882, 0.007559467022700915, 0.007590182086494061, 0.007627491867094704, 0.007682033711354862, 0.007968191957347815, 0.008032177420741046, 0.008058408474983045, 0.008199021261955054, 0.008200245609476834, 0.008201325183423853, 0.008220797157147816, 0.008381902483037567, 0.008400682598256859, 0.008596607965842277, 0.008672463680088687, 0.00868380836535867, 0.00880254237255159, 0.008859407456396223, 0.00898040745397385, 0.009066611794297819, 0.009578837230442904, 0.009684234677880137, 0.00986094898914302, 0.009974593920742392, 0.010109265415824754, 0.01012833209587102, 0.010217424991788248, 0.010285706696857118, 0.010324408232304415, 0.010424256769801122, 0.010499961110606557, 0.010662019209796127, 0.010819719160973768, 0.010861928558867312, 0.011230321863446042, 0.011278286193115886, 0.011348887402612081, 0.011906212456662724, 0.012773840584797752, 0.013207771676962354, 0.013482347991940237, 0.01354743677424985, 0.014272631081932512, 0.014397883944064173, 0.015276801458116971, 0.015575021914295668, 0.016090838194097942, 0.016318328459261677, 0.01654263465393853, 0.016760699921699464, 0.017388048294194873, 0.017678053460778692, 0.018071403542482878, 0.01893080096845637, 0.02007878967635722, 0.021433226541514788, 0.022840845624772704, 0.025178768341254106, 0.028170907242071087], \"yaxis\": \"y2\"}, {\"mode\": \"lines\", \"name\": \"fit\", \"type\": \"scatter\", \"x\": [-2.8327014709530194, -2.5363010998109683, -2.368474705155519, -2.2488794444109725, -2.1547841064119244, -2.07661293642451, -2.009389306793238, -1.950182013772404, -1.8971132396781976, -1.8489048060820008, -1.8046458079323007, -1.7636632588085384, -1.7254452871519566, -1.6895931295784443, -1.6557898367901052, -1.623779147136915, -1.5933507951363555, -1.5643300316394355, -1.5365699813679379, -1.509945960714915, -1.484351180137345, -1.459693443888685, -1.4358925808262453, -1.4128784195994215, -1.3905891749923407, -1.368970148823431, -1.347972674341381, -1.3275532511472137, -1.3076728306755885, -1.2882962217414569, -1.26939159264497, -1.2509300515398374, -1.2328852907000716, -1.2152332833122248, -1.197952023719461, -1.1810213038257737, -1.1644225197609155, -1.1481385040025676, -1.132153379021149, -1.1164524292061233, -1.1010219883896202, -1.0858493407331675, -1.0709226331089852, -1.0562307974059553, -1.0417634814356225, -1.0275109873159134, -1.0134642163779326, -0.9996146197808252, -0.9859541541363692, -0.9724752415429261, -0.9591707335109044, -0.9460338783316593, -0.9330582915009952, -0.9202379288588358, -0.9075670621497136, -0.8950402567456227, -0.8826523513045057, -0.8703984391649741, -0.858273851301484, -0.846274140684674, -0.8343950679093391, -0.8226325879680235, -0.8109828380617272, -0.7994421263510547, -0.788006921561525, -0.7766738433658618, -0.7654396534741378, -0.7543012473697184, -0.7432556466352316, -0.7322999918183356, -0.7214315357919867, -0.7106476375682983, -0.6999457565289705, -0.6893234470387711, -0.6787783534116428, -0.6683082052018084, -0.657910812794737, -0.647584063275075, -0.6373259165506682, -0.6271344017136014, -0.6170076136208352, -0.6069437096784808, -0.5969409068150991, -0.5869974786306134, -0.5771117527085223, -0.5672821080800923, -0.557506972830111, -0.547784821834606, -0.5381141746216783, -0.528493593347284, -0.5189216808784135, -0.5093970789766968, -0.4999184665759672, -0.4904845581478047, -0.48109410214950776, -0.47174587954934516, -0.4624387024243017, -0.45317141262587485, -0.4439428805097819, -0.4347520037257264, -0.42559770606363445, -0.4164789363530105, -0.4073946674122892, -0.39834389504526424, -0.38932563708186213, -0.3803389324607112, -0.37138284035111313, -0.36245643931217786, -0.35355882648702075, -0.34468911683005377, -0.3358464423655151, -0.32702995147550235, -0.31823880821586986, -0.30947219165845236, -0.300729295258162, -0.2920093262435936, -0.2833115050298456, -0.2746350646523387, -0.265979250220482, -0.25734331839009567, -0.2487265368535595, -0.24012818384671258, -0.2315475476715739, -0.22298392623400762, -0.21443662659549603, -0.20590496453822602, -0.1973882641427314, -0.1888858573773723, -0.180397083698961, -0.17192128966387865, -0.1634578285490535, -0.15500605998219966, -0.14656534958073864, -0.13813506859884903, -0.1297145935821139, -0.12130330602925031, -0.11290059206042778, -0.10450584209169801, -0.0961184505150732, -0.08773781538380465, -0.0793633381024285, -0.07099442312115299, -0.06263047763417696, -0.0542709112815361, -0.04591513585408334, -0.03756256500121628, -0.029212613940973967, -0.020864699172126442, -0.012518238187890121, -0.0041726491909028825, 0.0041726491909028825, 0.012518238187890262, 0.020864699172126442, 0.02921261394097383, 0.03756256500121628, 0.0459151358540832, 0.05427091128153624, 0.06263047763417696, 0.07099442312115313, 0.0793633381024285, 0.08773781538380451, 0.0961184505150732, 0.10450584209169801, 0.11290059206042792, 0.12130330602925031, 0.12971459358211376, 0.13813506859884903, 0.1465653495807385, 0.1550060599821998, 0.1634578285490535, 0.1719212896638788, 0.180397083698961, 0.18888585737737215, 0.1973882641427314, 0.20590496453822588, 0.21443662659549617, 0.22298392623400762, 0.23154754767157404, 0.24012818384671258, 0.24872653685355936, 0.25734331839009567, 0.265979250220482, 0.27463506465233883, 0.2833115050298456, 0.2920093262435935, 0.300729295258162, 0.30947219165845224, 0.31823880821587, 0.32702995147550235, 0.33584644236551525, 0.34468911683005377, 0.35355882648702064, 0.36245643931217786, 0.37138284035111313, 0.3803389324607114, 0.38932563708186213, 0.39834389504526413, 0.4073946674122892, 0.41647893635301036, 0.4255977060636346, 0.4347520037257264, 0.44394288050978203, 0.45317141262587485, 0.4624387024243015, 0.47174587954934516, 0.48109410214950776, 0.4904845581478048, 0.4999184665759672, 0.5093970789766967, 0.5189216808784135, 0.5284935933472837, 0.5381141746216784, 0.547784821834606, 0.5575069728301112, 0.5672821080800923, 0.5771117527085222, 0.5869974786306134, 0.5969409068150989, 0.606943709678481, 0.6170076136208352, 0.6271344017136016, 0.6373259165506682, 0.6475840632750749, 0.657910812794737, 0.6683082052018084, 0.6787783534116429, 0.6893234470387711, 0.6999457565289704, 0.7106476375682983, 0.7214315357919867, 0.7322999918183356, 0.7432556466352316, 0.7543012473697186, 0.7654396534741378, 0.7766738433658618, 0.788006921561525, 0.7994421263510546, 0.8109828380617272, 0.8226325879680235, 0.8343950679093387, 0.846274140684674, 0.8582738513014837, 0.8703984391649741, 0.8826523513045057, 0.8950402567456227, 0.9075670621497136, 0.9202379288588357, 0.9330582915009952, 0.946033878331659, 0.9591707335109044, 0.9724752415429261, 0.9859541541363687, 0.9996146197808252, 1.0134642163779326, 1.0275109873159134, 1.0417634814356225, 1.0562307974059553, 1.0709226331089852, 1.0858493407331669, 1.1010219883896202, 1.1164524292061233, 1.132153379021149, 1.1481385040025676, 1.1644225197609162, 1.1810213038257737, 1.197952023719461, 1.2152332833122248, 1.2328852907000707, 1.2509300515398374, 1.26939159264497, 1.2882962217414562, 1.3076728306755885, 1.327553251147213, 1.347972674341381, 1.368970148823431, 1.3905891749923414, 1.4128784195994215, 1.4358925808262448, 1.459693443888685, 1.484351180137345, 1.509945960714915, 1.5365699813679379, 1.5643300316394355, 1.5933507951363555, 1.6237791471369145, 1.6557898367901056, 1.6895931295784443, 1.725445287151957, 1.7636632588085384, 1.8046458079323, 1.8489048060820008, 1.8971132396781965, 1.9501820137724044, 2.0093893067932376, 2.076612936424508, 2.154784106411924, 2.2488794444109703, 2.3684747051555197, 2.536301099810966, 2.8327014709530194], \"xaxis\": \"x2\", \"y\": [-0.023921069376019233, -0.021382603395897152, -0.019945285379870684, -0.01892103396070372, -0.01811517189825644, -0.01744568941793832, -0.016869965115631262, -0.016362895240754224, -0.015908397572192385, -0.01549552538796603, -0.01511647741078433, -0.014765489973324292, -0.014438179246601188, -0.014131130095604273, -0.013841628066883192, -0.013567478455086903, -0.013306880480506158, -0.01305833753647997, -0.012820591736941467, -0.012592575252274597, -0.012373373503253463, -0.012162196896514167, -0.011958358821181285, -0.0117612583077432, -0.011570366208183117, -0.011385214070074473, -0.011205385096056014, -0.011030506735032412, -0.010860244562811455, -0.010694297191018692, -0.010532392002967295, -0.01037428155980073, -0.0102197405538813, -0.010068563212023526, -0.009920561070862692, -0.009775561061910262, -0.009633403855771536, -0.009493942424387135, -0.009357040787601117, -0.009222572916297588, -0.009090421769117655, -0.008960478443622202, -0.008832641425897767, -0.008706815925160418, -0.008582913282013032, -0.008460850440744077, -0.0083405494774921, -0.008221937177295883, -0.008104944654049482, -0.007989507008220435, -0.007875563017896069, -0.007763054859320511, -0.007651927853592252, -0.007542130236623841, -0.007433612949834233, -0.007326329449360293, -0.007220235531845682, -0.007115289175099394, -0.007011450392118519, -0.006908681097145255, -0.006806944982580372, -0.006706207405708079, -0.006606435284303108, -0.006507597000291989, -0.00640966231072968, -0.006312602265430454, -0.006216389130661115, -0.006120996318364998, -0.006026398320439184, -0.005932570647634677, -0.005839489772691652, -0.005747133077359402, -0.005655478802983924, -0.005564506004376069, -0.00547419450669971, -0.00538452486514328, -0.00529547832715942, -0.005207036797076651, -0.005119182802904262, -0.005031899465167128, -0.004945170467621196, -0.004858980029713007, -0.0047733128806580795, -0.004688154235023296, -0.004603489769707857, -0.004519305602225824, -0.004435588270201034, -0.004352324711992223, -0.00426950224837252, -0.004187108565193406, -0.0041051316969684705, -0.004023560011317219, -0.003942382194213596, -0.0038615872359879845, -0.0037811644180351495, -0.0037011033001840238, -0.0036213937086883685, -0.0035420257248002357, -0.0034629896738907757, -0.0033842761150854215, -0.0033058758313826903, -0.0032277798202279234, -0.0031499792845152033, -0.003072465623992454, -0.0029952304270463278, -0.002918265462845036, -0.0028415626738186386, -0.0027651141684576115, -0.002688912214411695, -0.0026129492318721745, -0.0025372177872216954, -0.0024617105869367546, -0.0023864204717288303, -0.0023113404109109774, -0.0022364634969774502, -0.0021617829403846513, -0.002087292064522347, -0.002012984300864712, -0.0019388531842913538, -0.0018648923485689757, -0.0017910955219848476, -0.00171745652312374, -0.0016439692567803538, -0.0015706277099997398, -0.0014974259482385406, -0.001424358111640256, -0.001351418411418038, -0.001278601126338863, -0.0012059005993031678, -0.0011333112340143274, -0.0010608274917325966, -0.0009884438881083573, -0.0009161549900897287, -0.0008439554128997901, -0.0007718398170788727, -0.000699802905587505, -0.0006278394209657866, -0.0005559441425451039, -0.00048411188370821887, -0.00041233748919389647, -0.0003406158324423586, -0.00026894181297792085, -0.00019731035382529742, -0.00012571639895611787, -5.415491076228736e-05, 1.737913244712828e-05, 8.889073892872452e-05, 0.00016038490597051382, 0.0002318666223437572, 0.0003033408707440073, 0.0003748126302244607, 0.000446286878624712, 0.0005177685949979542, 0.0005892627620397423, 0.0006607743685213398, 0.0007323084117307542, 0.0008038698999245871, 0.0008754638547937654, 0.0009470953139463901, 0.0010187693334108266, 0.0010904909901623633, 0.0011622653846766868, 0.0012340976435135718, 0.0013059929219342557, 0.001377956406555973, 0.0014499933180473397, 0.001522108913868258, 0.0015943084910581954, 0.0016665973890768264, 0.0017389809927010646, 0.0018114647349827965, 0.0018840541002716359, 0.00195675462730733, 0.0020295719123865057, 0.002102511612608723, 0.0021755794492070097, 0.002248781210968208, 0.002322122757748823, 0.002395610024092208, 0.0024692490229533143, 0.0025430458495374437, 0.002617006685259822, 0.0026911378018331807, 0.002765445565490815, 0.0028399364413531185, 0.0029146169979459183, 0.0029894939118794445, 0.003064573972697299, 0.0031398640879052226, 0.0032153712881901647, 0.0032911027328406425, 0.0033670657153801616, 0.0034432676694260795, 0.0035197161747871067, 0.0035964189638135052, 0.0036733839280147958, 0.003750619124960921, 0.0038281327854836713, 0.0039059333211963906, 0.00398402933235116, 0.0040624296160538895, 0.004141143174859245, 0.004220179225768703, 0.004299547209656836, 0.004379256801152491, 0.004459317919003617, 0.004539740736956453, 0.004620535695182063, 0.004701713512285686, 0.004783285197936939, 0.004865262066161873, 0.004947655749340989, 0.005030478212960692, 0.005113741771169505, 0.005197459103194291, 0.005281643270676324, 0.005366307735991763, 0.005451466381626545, 0.005537133530681478, 0.005623323968589665, 0.005710052966135599, 0.005797336303872731, 0.005885190298045118, 0.005973631828127889, 0.006062678366111749, 0.006152348007668179, 0.006242659505344538, 0.0063336323039523915, 0.0064252865783278705, 0.006517643273660119, 0.0066107241486031455, 0.006704551821407653, 0.006799149819333468, 0.006894542631629582, 0.006990755766398923, 0.007087815811698147, 0.007185750501260456, 0.007284588785271575, 0.007384360906676548, 0.0074850984835488354, 0.007586834598113722, 0.0076896038930869826, 0.0077934426760678625, 0.007898389032814151, 0.008004482950328762, 0.008111766450802702, 0.008220283737592309, 0.00833008135456072, 0.008441208360288976, 0.008553716518864538, 0.008667660509188903, 0.008783098155017946, 0.008900090678264352, 0.00901870297846057, 0.009139003941712546, 0.009261066782981501, 0.009384969426128887, 0.009510794926866236, 0.009638631944590666, 0.009768575270086123, 0.009900726417266057, 0.010035194288569586, 0.010172095925355604, 0.010311557356740012, 0.01045371456287873, 0.010598714571831161, 0.010746716712991995, 0.01089789405484976, 0.011052435060769198, 0.011210545503935763, 0.011372450691987156, 0.011538398063779924, 0.011708660236000874, 0.011883538597024483, 0.012063367571042942, 0.012248519709151591, 0.01243941180871167, 0.01263651232214975, 0.012840350397482636, 0.013051527004221932, 0.013270728753243066, 0.013498745237909936, 0.013736491037448438, 0.013985033981474626, 0.014245631956055368, 0.014519781567851666, 0.014809283596572742, 0.01511633274756966, 0.015443643474292761, 0.015794630911752792, 0.0161736788889345, 0.016586551073160843, 0.0170410487417227, 0.017548118616599728, 0.018123842918906775, 0.018793325399224906, 0.01959918746167217, 0.020623438880839163, 0.0220607568968656, 0.0245992228769877], \"yaxis\": \"y2\"}],\n                        {\"autosize\": false, \"height\": 500, \"margin\": {\"t\": 50}, \"showlegend\": false, \"template\": {\"data\": {\"bar\": [{\"error_x\": {\"color\": \"#2a3f5f\"}, \"error_y\": {\"color\": \"#2a3f5f\"}, \"marker\": {\"line\": {\"color\": \"#E5ECF6\", \"width\": 0.5}}, \"type\": \"bar\"}], \"barpolar\": [{\"marker\": {\"line\": {\"color\": \"#E5ECF6\", \"width\": 0.5}}, \"type\": \"barpolar\"}], \"carpet\": [{\"aaxis\": {\"endlinecolor\": \"#2a3f5f\", \"gridcolor\": \"white\", \"linecolor\": \"white\", \"minorgridcolor\": \"white\", \"startlinecolor\": \"#2a3f5f\"}, \"baxis\": {\"endlinecolor\": \"#2a3f5f\", \"gridcolor\": \"white\", \"linecolor\": \"white\", \"minorgridcolor\": \"white\", \"startlinecolor\": \"#2a3f5f\"}, \"type\": \"carpet\"}], \"choropleth\": [{\"colorbar\": {\"outlinewidth\": 0, \"ticks\": \"\"}, \"type\": \"choropleth\"}], \"contour\": [{\"colorbar\": {\"outlinewidth\": 0, \"ticks\": \"\"}, \"colorscale\": [[0.0, \"#0d0887\"], [0.1111111111111111, \"#46039f\"], [0.2222222222222222, \"#7201a8\"], [0.3333333333333333, \"#9c179e\"], [0.4444444444444444, \"#bd3786\"], [0.5555555555555556, \"#d8576b\"], [0.6666666666666666, \"#ed7953\"], [0.7777777777777778, \"#fb9f3a\"], [0.8888888888888888, \"#fdca26\"], [1.0, \"#f0f921\"]], \"type\": \"contour\"}], \"contourcarpet\": [{\"colorbar\": {\"outlinewidth\": 0, \"ticks\": \"\"}, \"type\": \"contourcarpet\"}], \"heatmap\": [{\"colorbar\": {\"outlinewidth\": 0, \"ticks\": \"\"}, \"colorscale\": [[0.0, \"#0d0887\"], [0.1111111111111111, \"#46039f\"], [0.2222222222222222, \"#7201a8\"], [0.3333333333333333, \"#9c179e\"], [0.4444444444444444, \"#bd3786\"], [0.5555555555555556, \"#d8576b\"], [0.6666666666666666, \"#ed7953\"], [0.7777777777777778, \"#fb9f3a\"], [0.8888888888888888, \"#fdca26\"], [1.0, \"#f0f921\"]], \"type\": \"heatmap\"}], \"heatmapgl\": [{\"colorbar\": {\"outlinewidth\": 0, \"ticks\": \"\"}, \"colorscale\": [[0.0, \"#0d0887\"], [0.1111111111111111, \"#46039f\"], [0.2222222222222222, \"#7201a8\"], [0.3333333333333333, \"#9c179e\"], [0.4444444444444444, \"#bd3786\"], [0.5555555555555556, \"#d8576b\"], [0.6666666666666666, \"#ed7953\"], [0.7777777777777778, \"#fb9f3a\"], [0.8888888888888888, \"#fdca26\"], [1.0, \"#f0f921\"]], \"type\": \"heatmapgl\"}], \"histogram\": [{\"marker\": {\"colorbar\": {\"outlinewidth\": 0, \"ticks\": \"\"}}, \"type\": \"histogram\"}], \"histogram2d\": [{\"colorbar\": {\"outlinewidth\": 0, \"ticks\": \"\"}, \"colorscale\": [[0.0, \"#0d0887\"], [0.1111111111111111, \"#46039f\"], [0.2222222222222222, \"#7201a8\"], [0.3333333333333333, \"#9c179e\"], [0.4444444444444444, \"#bd3786\"], [0.5555555555555556, \"#d8576b\"], [0.6666666666666666, \"#ed7953\"], [0.7777777777777778, \"#fb9f3a\"], [0.8888888888888888, \"#fdca26\"], [1.0, \"#f0f921\"]], \"type\": \"histogram2d\"}], \"histogram2dcontour\": [{\"colorbar\": {\"outlinewidth\": 0, \"ticks\": \"\"}, \"colorscale\": [[0.0, \"#0d0887\"], [0.1111111111111111, \"#46039f\"], [0.2222222222222222, \"#7201a8\"], [0.3333333333333333, \"#9c179e\"], [0.4444444444444444, \"#bd3786\"], [0.5555555555555556, \"#d8576b\"], [0.6666666666666666, \"#ed7953\"], [0.7777777777777778, \"#fb9f3a\"], [0.8888888888888888, \"#fdca26\"], [1.0, \"#f0f921\"]], \"type\": \"histogram2dcontour\"}], \"mesh3d\": [{\"colorbar\": {\"outlinewidth\": 0, \"ticks\": \"\"}, \"type\": \"mesh3d\"}], \"parcoords\": [{\"line\": {\"colorbar\": {\"outlinewidth\": 0, \"ticks\": \"\"}}, \"type\": \"parcoords\"}], \"scatter\": [{\"marker\": {\"colorbar\": {\"outlinewidth\": 0, \"ticks\": \"\"}}, \"type\": \"scatter\"}], \"scatter3d\": [{\"line\": {\"colorbar\": {\"outlinewidth\": 0, \"ticks\": \"\"}}, \"marker\": {\"colorbar\": {\"outlinewidth\": 0, \"ticks\": \"\"}}, \"type\": \"scatter3d\"}], \"scattercarpet\": [{\"marker\": {\"colorbar\": {\"outlinewidth\": 0, \"ticks\": \"\"}}, \"type\": \"scattercarpet\"}], \"scattergeo\": [{\"marker\": {\"colorbar\": {\"outlinewidth\": 0, \"ticks\": \"\"}}, \"type\": \"scattergeo\"}], \"scattergl\": [{\"marker\": {\"colorbar\": {\"outlinewidth\": 0, \"ticks\": \"\"}}, \"type\": \"scattergl\"}], \"scattermapbox\": [{\"marker\": {\"colorbar\": {\"outlinewidth\": 0, \"ticks\": \"\"}}, \"type\": \"scattermapbox\"}], \"scatterpolar\": [{\"marker\": {\"colorbar\": {\"outlinewidth\": 0, \"ticks\": \"\"}}, \"type\": \"scatterpolar\"}], \"scatterpolargl\": [{\"marker\": {\"colorbar\": {\"outlinewidth\": 0, \"ticks\": \"\"}}, \"type\": \"scatterpolargl\"}], \"scatterternary\": [{\"marker\": {\"colorbar\": {\"outlinewidth\": 0, \"ticks\": \"\"}}, \"type\": \"scatterternary\"}], \"surface\": [{\"colorbar\": {\"outlinewidth\": 0, \"ticks\": \"\"}, \"colorscale\": [[0.0, \"#0d0887\"], [0.1111111111111111, \"#46039f\"], [0.2222222222222222, \"#7201a8\"], [0.3333333333333333, \"#9c179e\"], [0.4444444444444444, \"#bd3786\"], [0.5555555555555556, \"#d8576b\"], [0.6666666666666666, \"#ed7953\"], [0.7777777777777778, \"#fb9f3a\"], [0.8888888888888888, \"#fdca26\"], [1.0, \"#f0f921\"]], \"type\": \"surface\"}], \"table\": [{\"cells\": {\"fill\": {\"color\": \"#EBF0F8\"}, \"line\": {\"color\": \"white\"}}, \"header\": {\"fill\": {\"color\": \"#C8D4E3\"}, \"line\": {\"color\": \"white\"}}, \"type\": \"table\"}]}, \"layout\": {\"annotationdefaults\": {\"arrowcolor\": \"#2a3f5f\", \"arrowhead\": 0, \"arrowwidth\": 1}, \"colorscale\": {\"diverging\": [[0, \"#8e0152\"], [0.1, \"#c51b7d\"], [0.2, \"#de77ae\"], [0.3, \"#f1b6da\"], [0.4, \"#fde0ef\"], [0.5, \"#f7f7f7\"], [0.6, \"#e6f5d0\"], [0.7, \"#b8e186\"], [0.8, \"#7fbc41\"], [0.9, \"#4d9221\"], [1, \"#276419\"]], \"sequential\": [[0.0, \"#0d0887\"], [0.1111111111111111, \"#46039f\"], [0.2222222222222222, \"#7201a8\"], [0.3333333333333333, \"#9c179e\"], [0.4444444444444444, \"#bd3786\"], [0.5555555555555556, \"#d8576b\"], [0.6666666666666666, \"#ed7953\"], [0.7777777777777778, \"#fb9f3a\"], [0.8888888888888888, \"#fdca26\"], [1.0, \"#f0f921\"]], \"sequentialminus\": [[0.0, \"#0d0887\"], [0.1111111111111111, \"#46039f\"], [0.2222222222222222, \"#7201a8\"], [0.3333333333333333, \"#9c179e\"], [0.4444444444444444, \"#bd3786\"], [0.5555555555555556, \"#d8576b\"], [0.6666666666666666, \"#ed7953\"], [0.7777777777777778, \"#fb9f3a\"], [0.8888888888888888, \"#fdca26\"], [1.0, \"#f0f921\"]]}, \"colorway\": [\"#636efa\", \"#EF553B\", \"#00cc96\", \"#ab63fa\", \"#FFA15A\", \"#19d3f3\", \"#FF6692\", \"#B6E880\", \"#FF97FF\", \"#FECB52\"], \"font\": {\"color\": \"#2a3f5f\"}, \"geo\": {\"bgcolor\": \"white\", \"lakecolor\": \"white\", \"landcolor\": \"#E5ECF6\", \"showlakes\": true, \"showland\": true, \"subunitcolor\": \"white\"}, \"hoverlabel\": {\"align\": \"left\"}, \"hovermode\": \"closest\", \"mapbox\": {\"style\": \"light\"}, \"paper_bgcolor\": \"white\", \"plot_bgcolor\": \"#E5ECF6\", \"polar\": {\"angularaxis\": {\"gridcolor\": \"white\", \"linecolor\": \"white\", \"ticks\": \"\"}, \"bgcolor\": \"#E5ECF6\", \"radialaxis\": {\"gridcolor\": \"white\", \"linecolor\": \"white\", \"ticks\": \"\"}}, \"scene\": {\"xaxis\": {\"backgroundcolor\": \"#E5ECF6\", \"gridcolor\": \"white\", \"gridwidth\": 2, \"linecolor\": \"white\", \"showbackground\": true, \"ticks\": \"\", \"zerolinecolor\": \"white\"}, \"yaxis\": {\"backgroundcolor\": \"#E5ECF6\", \"gridcolor\": \"white\", \"gridwidth\": 2, \"linecolor\": \"white\", \"showbackground\": true, \"ticks\": \"\", \"zerolinecolor\": \"white\"}, \"zaxis\": {\"backgroundcolor\": \"#E5ECF6\", \"gridcolor\": \"white\", \"gridwidth\": 2, \"linecolor\": \"white\", \"showbackground\": true, \"ticks\": \"\", \"zerolinecolor\": \"white\"}}, \"shapedefaults\": {\"line\": {\"color\": \"#2a3f5f\"}}, \"ternary\": {\"aaxis\": {\"gridcolor\": \"white\", \"linecolor\": \"white\", \"ticks\": \"\"}, \"baxis\": {\"gridcolor\": \"white\", \"linecolor\": \"white\", \"ticks\": \"\"}, \"bgcolor\": \"#E5ECF6\", \"caxis\": {\"gridcolor\": \"white\", \"linecolor\": \"white\", \"ticks\": \"\"}}, \"title\": {\"x\": 0.05}, \"xaxis\": {\"automargin\": true, \"gridcolor\": \"white\", \"linecolor\": \"white\", \"ticks\": \"\", \"zerolinecolor\": \"white\", \"zerolinewidth\": 2}, \"yaxis\": {\"automargin\": true, \"gridcolor\": \"white\", \"linecolor\": \"white\", \"ticks\": \"\", \"zerolinecolor\": \"white\", \"zerolinewidth\": 2}}}, \"title\": {\"text\": \"Histogram and Probability plot of the log return for The Coca-Cola Company\"}, \"width\": 1000, \"xaxis\": {\"anchor\": \"y\", \"domain\": [0, 0.45], \"gridcolor\": \"#ffffff\", \"mirror\": true, \"showgrid\": true, \"showline\": true, \"showticklabels\": true, \"tickfont\": {\"size\": 10}, \"ticklen\": 4, \"title\": {\"text\": \"Log Return(day)\"}, \"zeroline\": false}, \"xaxis2\": {\"anchor\": \"y2\", \"domain\": [0.52, 0.95], \"gridcolor\": \"#ffffff\", \"mirror\": true, \"showgrid\": true, \"showline\": true, \"showticklabels\": true, \"tickfont\": {\"size\": 10}, \"ticklen\": 4, \"title\": {\"text\": \"Theoretical quantiles\"}, \"zeroline\": false}, \"yaxis\": {\"anchor\": \"x\", \"domain\": [0, 1], \"gridcolor\": \"#ffffff\", \"mirror\": true, \"showgrid\": true, \"showline\": true, \"tickfont\": {\"size\": 10}, \"ticklen\": 4, \"title\": {\"text\": \"Percentage\"}, \"zeroline\": false}, \"yaxis2\": {\"anchor\": \"x2\", \"domain\": [0, 1], \"gridcolor\": \"#ffffff\", \"mirror\": true, \"showgrid\": true, \"showline\": true, \"tickfont\": {\"size\": 10}, \"ticklen\": 4, \"title\": {\"text\": \"Ordered Values\"}, \"zeroline\": false}},\n                        {\"responsive\": true}\n                    ).then(function(){\n                            \nvar gd = document.getElementById('e25d0a69-3cea-41b0-93a4-b1cadde4a0d1');\nvar x = new MutationObserver(function (mutations, observer) {{\n        var display = window.getComputedStyle(gd).display;\n        if (!display || display === 'none') {{\n            console.log([gd, 'removed!']);\n            Plotly.purge(gd);\n            observer.disconnect();\n        }}\n}});\n\n// Listen for the removal of the full notebook cells\nvar notebookContainer = gd.closest('#notebook-container');\nif (notebookContainer) {{\n    x.observe(notebookContainer, {childList: true});\n}}\n\n// Listen for the clearing of the current output cell\nvar outputEl = gd.closest('.output');\nif (outputEl) {{\n    x.observe(outputEl, {childList: true});\n}}\n\n                        })\n                };\n                });\n            </script>\n        </div>"
         },
         "metadata": {},
         "output_type": "display_data"
        }
       ]
      }
     },
     "250a235b3cd14a67ba0c36f94f96db44": {
      "model_module": "@jupyter-widgets/controls",
      "model_module_version": "1.5.0",
      "model_name": "DropdownModel",
      "state": {
       "_options_labels": [
        "Adj Close",
        "Close",
        "High",
        "Low",
        "Open",
        "Volume",
        "log_return"
       ],
       "description": "First Type:   ",
       "index": 4,
       "layout": "IPY_MODEL_d9066d67a55e4e989b175d301b8490a4",
       "style": "IPY_MODEL_4de56ca60143425d9d3c9995e7b15ccc"
      }
     },
     "2a010c081b5d4929808441bf1af29857": {
      "model_module": "@jupyter-widgets/controls",
      "model_module_version": "1.5.0",
      "model_name": "BoundedFloatTextModel",
      "state": {
       "description": "Confidence Level",
       "layout": "IPY_MODEL_cb5eb90146874806b4e4b0a6df7f2bbf",
       "max": 1,
       "step": 0.005,
       "style": "IPY_MODEL_1e4f5c59051648e285c06817762c8114",
       "value": 0.95
      }
     },
     "2b250e453e11440792532ad348fa2f37": {
      "model_module": "@jupyter-widgets/controls",
      "model_module_version": "1.5.0",
      "model_name": "VBoxModel",
      "state": {
       "children": [
        "IPY_MODEL_1361eade04a2442fadd62ab64fa917b2",
        "IPY_MODEL_3b89de5af1614f88a3884ef5497baad3",
        "IPY_MODEL_9749bc8b362d4a79bbaf1cd7c802f931",
        "IPY_MODEL_ebf56c0d86c847c79e0fb002d11da9c7"
       ],
       "layout": "IPY_MODEL_b7cc95727285420ea68035a3f08ae9b6"
      }
     },
     "32eba86ea3044326bd1b7cc2e73daf2f": {
      "model_module": "@jupyter-widgets/base",
      "model_module_version": "1.2.0",
      "model_name": "LayoutModel",
      "state": {}
     },
     "371fcdb541f044c1bc0eed35f538dbe8": {
      "model_module": "@jupyter-widgets/output",
      "model_module_version": "1.0.0",
      "model_name": "OutputModel",
      "state": {
       "layout": "IPY_MODEL_3f725beedfc846d1b7c83ba32016d122",
       "outputs": [
        {
         "name": "stdout",
         "output_type": "stream",
         "text": "The sample mean of 300 sample The Coca-Cola Company and 300 sample Costco Wholesale Corporation\n are 0.0004 and 0.0003\n\nThe standard divation of 300 The Coca-Cola Company and 300 Costco Wholesale Corporation\n are 0.0086 and 0.0103\n\n"
        },
        {
         "data": {
          "application/vnd.plotly.v1+json": {
           "config": {
            "linkText": "Export to plot.ly",
            "plotlyServerURL": "https://plot.ly",
            "showLink": true
           },
           "data": [
            {
             "histfunc": "count",
             "histnorm": "",
             "marker": {
              "color": "rgba(255, 153, 51, 1.0)",
              "line": {
               "color": "#4D5663",
               "width": 1.3
              }
             },
             "name": "KO",
             "opacity": 0.8,
             "orientation": "v",
             "type": "histogram",
             "x": [
              -0.008091874198100127,
              -0.0010998142885794684,
              0.011348887402612081,
              0.0010858777693706072,
              0.0010875310837112663,
              0.004987531609164131,
              -0.003466955774609471,
              -0.004118324359100862,
              -0.0028128819366779515,
              0.008200245609476834,
              0.005139151778615649,
              0.002776912318089041,
              0.003611223599250653,
              0.005078336713878957,
              0.005070825969207001,
              0.006292031031636119,
              0.002930698943089202,
              0.015575021914295668,
              -0.010635035538294247,
              -0.006726947731562226,
              0.0029461172045755963,
              0.0008433674391928178,
              -0.013180440490147705,
              -0.03845792080520278,
              0.018071403542482878,
              -0.0004487425932315741,
              -0.034659203359870105,
              -0.005318535782994701,
              0.009368281363717168,
              0.006128732555090718,
              0.001815661355062383,
              0.011906212456662724,
              -0.013031662224813534,
              -0.017129071204592318,
              -0.017610528324951732,
              0.002070159492580687,
              0.010499961110606557,
              -0.004532089487303559,
              -0.012077225324552746,
              -0.01401517688432419,
              0.007627491867094704,
              0.010808457851380564,
              0.007317656668663355,
              -0.0004551765558920898,
              0.005262557452190634,
              0.01245062428471898,
              0.005593481452508877,
              -0.00938768597013776,
              -0.0022411142619713446,
              -0.0136118773598879,
              -0.004797334180642708,
              -0.005507165797806346,
              -0.004612572036904649,
              -0.0037002782335708996,
              -0.0030187197312072584,
              -0.0028024947683054522,
              -0.011509178245094023,
              0.0018756867649948323,
              0.0044397461961495745,
              0.007414299394541882,
              -0.0025296232600981188,
              -0.017884589724250364,
              0.009263649457280988,
              0.025178768341254106,
              0.002706423532205922,
              -0.008163324762020696,
              -0.004552635836307636,
              -0.0018168984128270978,
              0.004100240343946087,
              -0.0011350143406991123,
              0.007215357252196822,
              0.0006716395345275686,
              -0.001558492876898507,
              -0.008723983414266667,
              -0.000676791425281311,
              -0.012947362581851179,
              0.005471921095816496,
              -0.020908282737721537,
              -0.007279622755881904,
              0.008220797157147816,
              0.013482347991940237,
              -0.006689009338654833,
              -0.00864994137161257,
              -0.00805119530030706,
              -0.007846950944482765,
              0.01354743677424985,
              -0.004734875418447467,
              -0.003819528216167009,
              -0.00453737951961866,
              0.004514647616597407,
              -0.002370285242292577,
              -0.004982786016903179,
              -0.001437067519021456,
              -0.00456243892198649,
              0.006879422788530908,
              -0.002840885730127347,
              0.002360682698765846,
              -0.005899722127188271,
              0.0035440444224387195,
              -0.001888617886725481,
              0.0014161289150315995,
              0.013207771676962354,
              0.008381902483037567,
              -0.004640397217137494,
              0.00046394012350131994,
              0.0029936939960978613,
              -0.009005935177590985,
              0.009246429933590976,
              0.0025353660019902047,
              0.00868380836535867,
              0.0040872059948450345,
              0.006324818382830186,
              -0.0038404694506749605,
              -0.0038932412712100006,
              0.012773840584797752,
              -0.007548973968951917,
              0.00690449796917017,
              -0.008287354561257305,
              -0.004168609647141871,
              0.002314780486252647,
              0.009684234677880137,
              -0.005294051581006989,
              -0.006018586029733363,
              0.00530504149374492,
              0.006633923780559553,
              -0.0006854514084268913,
              -0.0015899990265812508,
              0.011258844481856888,
              -0.0006717899730184395,
              -0.003148178579572494,
              0.010281782609566859,
              -0.004455359500983664,
              -0.003575504638428773,
              0.000894474890484434,
              0,
              0.011111225425070849,
              -0.001550209516883531,
              0.002663684789965606,
              0.005758561289342751,
              -0.007314629045237663,
              0.010662019209796127,
              0.0019546135539726464,
              -0.002591770973885159,
              -0.0023776216064621803,
              0.0028160111949823464,
              0.004944641608880161,
              -0.0012925760781204952,
              -0.006475292160293259,
              0.008400682598256859,
              0.0010724516150221477,
              -0.000430024897300676,
              -0.007340277793991603,
              0.0021597951326332338,
              -0.0028171489457891248,
              -0.004788807659462002,
              -0.00043573983107514407,
              0.0067501914571231605,
              0.0023827718014738167,
              0.006674533566157759,
              0.0010705329604392439,
              -0.01097371565946101,
              -0.008887017314951048,
              -0.004148900511748216,
              -0.00043822211909222127,
              -0.00784832061521262,
              -0.0061525703330343445,
              0.0017664352007042722,
              -0.007314629045237663,
              -0.009601509658967262,
              0.0035810211309792827,
              0.015993259893476313,
              0.008116726009972564,
              0.002628182568069741,
              0.0032619692703019488,
              -0.0017368223489976355,
              0.0017316417689299593,
              -0.003919789212676763,
              0.0015233059117484894,
              0.006932430187221132,
              -0.009965400624619031,
              -0.0008699634286304457,
              0.009045897698850204,
              -0.0012872251897123922,
              -0.009075299482667377,
              -0.008284352179316234,
              0.0017463007557298644,
              0.00610420002707401,
              0.004121898222069567,
              0.0012987312383333544,
              0.004957431198702311,
              -0.012780422313175124,
              0.0041525276628508,
              -0.0013068518260100862,
              0.010598084646865428,
              0.00021555074965139154,
              -0.01348137258552885,
              -0.0256537700617671,
              0.004486341380377129,
              0.0060301793017041435,
              0.01038571283280837,
              0.00986094898914302,
              -0.006338146204471079,
              0.010850800476343724,
              -0.008663638996272522,
              0.016090838194097942,
              0.008596607965842277,
              -0.0030056528547335207,
              -0.009751963232325413,
              0.006694713624226086,
              0.021433226541514788,
              0.007968191957347815,
              -0.0014651952927564479,
              0.003757055259472545,
              0.014272631081932512,
              0.009410852482976299,
              -0.00040503155887021164,
              0.0042661902702577515,
              0.005854481573316105,
              0.005227159524087361,
              0.0010032956809385106,
              -0.0018070510987630312,
              0.0016096951126981735,
              0.010217424991788248,
              0.003967411449766391,
              -0.02874446633942856,
              -0.01020833701010248,
              0.0055231899944144965,
              -0.0028606352482132384,
              0.009974593920742392,
              0.010109265415824754,
              -0.006106252276411305,
              0.028170907242071087,
              -0.0036159201629814603,
              -0.007835286246472475,
              -0.002629129924203389,
              -0.009730454697730755,
              -0.004255738093505989,
              -0.001008761036250198,
              -0.014722450604758613,
              0.015276801458116971,
              0.0022319297221512564,
              -0.02068259045029556,
              -0.005983736302619048,
              -0.007073050940638605,
              -0.005663370171849665,
              0.006538067785720013,
              -0.03548138556828052,
              0.022840845624772704,
              0.016760699921699464,
              -0.014512792854172363,
              -0.002952410498058216,
              -0.00021302485745776018,
              -0.003851926588903312,
              0.017388048294194873,
              -0.013119082124577502,
              0.004855906160526096,
              -0.010891770843255138,
              0.008748585606529214,
              0.001056731293436794,
              -0.0021186124980607916,
              0.014397883944064173,
              -0.010178276132330464,
              0.002979427720682445,
              0.007590182086494061,
              0.00041920892141668765,
              0.009366303507382314,
              -0.008768364884018826,
              -0.010708808610630885,
              -0.0010594990308014916,
              0.004228352137087397,
              0.012827441293328782,
              0.005834619497147999,
              0.004527713435912795,
              0.011230321863446042,
              -0.0014200937453619194,
              0.0010155223453770425,
              0.0050715193249974665,
              0.0026297389387777283,
              0.0008066327399308304,
              -0.0006039009696893571,
              0.003621740425914703,
              -0.024055783439575037,
              -0.014483461960740997,
              -0.010870830414253718,
              0.004221728973387437,
              0.01893080096845637,
              -0.01054490345582453,
              -0.01106450799196199,
              -0.009132480459305946,
              0.007594411385373729,
              0.004864064927760841,
              -0.001981291794428346,
              0.002632217930854976,
              -0.0010959574084996023,
              -0.004828749693910991,
              -0.004627151543465675,
              -0.006889712051860929,
              0.02277805266665878,
              0.0021738807282999473,
              0.0019491105327577953,
              -0.0030587611405137956,
              -0.009228849979095318,
              -0.000440344739173351,
              0.00021956176497964078,
              0.002859283878758571,
              -0.0004393773884522956,
              0.010285706696857118,
              0.0037000405706446153,
              0.01012833209587102,
              -0.000857836522926795,
              -0.0021445101898839823,
              0.0040629253770110806,
              -0.005762484186348395,
              -0.0038577052934654203,
              -0.005183550866160614,
              0.003016580398019569,
              -0.00043030244080290516,
              0.00021480978741565148,
              0.00472503904283113,
              -0.004279013031360403,
              -0.0002141097342611568,
              0.001498844293786104,
              0.0025564336572735666,
              -0.0021276279115713635,
              0.001693438523767318,
              0.0031641774951435644,
              0,
              0.0024921909645911205,
              -0.0010415423904722191,
              0.0020924567627390468,
              0.005610334571718258,
              0.005176531064046777,
              0.010861928558867312,
              -0.007381633004490079,
              -0.0028889700714951907,
              0.002466148947361907,
              0.0028925512985040493,
              -0.004780213681725325,
              -0.004171033528102662,
              -0.008403362643765351,
              0.016318328459261677,
              0.002917871828124421,
              0.003291503726276547,
              0.010424256769801122,
              0.006272177691567977,
              -0.0014217468416307432,
              -0.0038819630441622854,
              -0.008196798600864304,
              0.017678053460778692,
              0.007045796223796003,
              -0.004224065092514564,
              -0.010131799243682795,
              -0.0026707990207570976,
              0.010819719160973768,
              0.002649569810520906,
              0.01654263465393853,
              0,
              0.015279600369290545,
              0.009578837230442904,
              0.00038850927451566805,
              -0.0031092105173736884,
              -0.002335064864389605,
              0.0027147464893949504,
              -0.006433359080455578,
              0.005080162052732044,
              -0.007442280180801713,
              -0.011973852235352857,
              0.011410669100052312,
              0.003101977044308911,
              0.0003880570120204892,
              0.003472827930694772,
              -0.0046261008166574935,
              -0.007794301506256358,
              -0.004102752240052645,
              -0.006850056994333845,
              0.010324408232304415,
              0.003855069658217859,
              0.001921200890390417,
              0.004230799016640242,
              -0.0038387909228638868,
              -0.0025167192915436717,
              0.00038603470793689454,
              0.0009612465570264075,
              -0.0024911590816613506,
              -0.0028732461372196916,
              0.003458222616791846,
              -0.0007663010900409311,
              -0.00019221939637929734,
              -0.014488807672058278,
              -0.005839986077335385,
              0.02007878967635722,
              -0.006302155423901956,
              -0.010496841821844556,
              0.01544069425326693,
              -0.0033283405491298474,
              -0.004457619994301754,
              -0.01658220129537894,
              -0.01431185610635248,
              0.008058408474983045,
              -0.014225496661657257,
              0.007682033711354862,
              0.017259790070912523,
              0.00898040745397385,
              -0.006902419900313324,
              -0.0015025926324729517,
              0.011278286193115886,
              -0.006583273434702116,
              0.008201325183423853,
              0.007934358583812409,
              0.004581699690728606,
              -0.013640725124043749,
              -0.002768834772919241,
              0.006813445831681077,
              -0.012574065287931565,
              0.009950347639514521,
              0.00036557224682573107,
              0.008199021261955054,
              -0.0038074398116164825,
              -0.002177839899880737,
              0.005803420320819417,
              0.007559467022700915,
              -0.011364803012822965,
              -0.0037950544861055538,
              -0.009310853664580345,
              0.00312992949932392,
              0.00880254237255159,
              0.00018151050432840428,
              -0.004046377141832813,
              -0.002591143274872804,
              0.0025845169296742467,
              0.0005533298898431419,
              0.005333362812766757,
              -0.0143648656150635,
              0.004257286279417821,
              0.0009212204688704652,
              -0.0049719366896926655,
              -0.0014698115930327218,
              -0.004592641372588826,
              0.005341150931751568,
              0.0021982559914087403,
              -0.021065132423576043,
              0.00633503426861058,
              0.009950347639514521,
              -0.008502877401094589,
              -0.005583473075446356,
              -0.004263599663019349,
              0.0020520595073498242,
              -0.006545180660328334,
              -0.003558435064496973,
              0.001496129274491253,
              0.0005610583369266717,
              0.0018608544492264164,
              -0.0040080436812762864,
              -0.004048610978896019,
              -0.007031877145147286,
              0.010671637840727326,
              0.0007327517348474437,
              -0.014774031285249723,
              -0.0031684302243422356,
              0.00037454041461327506,
              0.007816867878874147,
              0.008672463680088687,
              -0.013452695735040649,
              -0.015313085526837127,
              -0.008926110573070124,
              0.005126764534944059,
              -0.011220050033591703,
              -0.004776927099832544,
              -0.009407800387192179,
              -0.0038602781965723335,
              0.004398124345545421,
              0.0019019079328249943,
              0.0005697233083993311,
              0.006621885461843062,
              -0.001317889536734762,
              0.0022573889745240157,
              -0.0028283515849182755,
              0.001320873788328809,
              -0.0011267148345713346,
              0.011006549629246609,
              0.0003707908378715779,
              -0.005602241181597402,
              0.008032177420741046,
              0.0016742661150921313,
              0.009066611794297819,
              -0.00036901214784000705,
              0.0020233023754689405,
              -0.004244715139612822,
              -0.005008830698706314,
              0.00018541359376606254,
              0.002404089384740399,
              0.008859407456396223
             ]
            },
            {
             "histfunc": "count",
             "histnorm": "",
             "marker": {
              "color": "rgba(55, 128, 191, 1.0)",
              "line": {
               "color": "#4D5663",
               "width": 1.3
              }
             },
             "name": "COST",
             "opacity": 0.8,
             "orientation": "v",
             "type": "histogram",
             "x": [
              0.005804897609633398,
              0.009277844434050856,
              -0.015219364086714426,
              -0.008908233831429252,
              0.006173454379864995,
              -0.014495331388294506,
              -0.001778171294205897,
              0.021078191497774602,
              0.009111390588558657,
              -0.00427221298846464,
              -0.0012473651537437324,
              -0.003752551643956823,
              0.0030207656942616203,
              0.009718877467417949,
              -0.0009818487314651688,
              -0.000977627286098718,
              0.015014899571581228,
              0.005848872880092158,
              -0.00025202446709360246,
              0.001618242194956032,
              -0.013102108563055992,
              0.0003101610748422971,
              -0.0013603732900553305,
              -0.04226320113045933,
              0.033526941409602364,
              -0.007667476207667649,
              -0.03249897144853444,
              0.005215004559142926,
              -0.00429870484177097,
              0.021572276166516368,
              0.02507832464823806,
              0.01786278999874814,
              0.0005744007464747363,
              -0.009259570617707099,
              -0.014855455345775039,
              0.001287018104418324,
              0.010486250790737086,
              0.014154953787814666,
              -0.017468783769836238,
              -0.0036601986328863483,
              -0.011989410069418468,
              0.009819383669875581,
              0.015950638692324607,
              -0.0035453252201045047,
              -0.00982564172030148,
              -0.002689041060149333,
              0.011091090663358021,
              0.00582562206041941,
              -0.013721686359643838,
              -0.022228460576399347,
              0.0037263412503103677,
              -0.001666429998673018,
              -0.00800486177832375,
              0.012082305264238006,
              -0.004076135910136522,
              -0.012298106503547606,
              -0.013402389309067108,
              0.022634335301296736,
              -0.023153351324947332,
              0,
              0.019777085365660644,
              -0.02250813854110072,
              -0.0050254007028146756,
              0.023947683514599638,
              -0.0024131769422242226,
              -0.007473577231607907,
              -0.004274746288359004,
              -0.011914557028722995,
              0.01308273735529218,
              0.017739337046302435,
              -0.004752828410301529,
              0.014181726767764156,
              0.0017361814845353555,
              0.001069175817251807,
              -0.005572165363379457,
              -0.004484634125582318,
              -0.002376235495258017,
              -0.010489691033695495,
              0.009010964684465139,
              0.005855476281525577,
              0.008326382678483206,
              0.00030435528621109326,
              0.0003053000089323623,
              -0.007599891482369635,
              -0.004703720865028796,
              0.012112645119346064,
              -0.01399056482358153,
              0.007690905484745555,
              0.009687661053348942,
              -0.0030651676796065543,
              0.002198945782668091,
              -0.00040833927010325565,
              0.003690047435983705,
              0.01337473352253647,
              0.0027091199028566174,
              -0.0027104030899605712,
              0.0001001403418038114,
              -0.003762326018213048,
              -0.004783116932985643,
              0.0030213332544809313,
              -0.002668340308443246,
              -0.006888896509237564,
              0.007440937882475508,
              -0.00993832249764947,
              0.008558857722434882,
              0.006566613407503981,
              -0.00695114314173141,
              -0.0017691052524969062,
              0.01027129523557351,
              0.011103823025334712,
              0.0036251717706464594,
              0.003079731983705523,
              -0.003960582939282217,
              0.0012195421202461805,
              0.00930426087039948,
              0.0010189307809908854,
              0.012753876194436747,
              0.0010583597748912122,
              0.00856202357737693,
              0.003464121831841594,
              0.008251211057505856,
              -0.010841153062233232,
              -0.002235281277261898,
              -0.006161769945407484,
              -0.0032486553297108875,
              -0.0020652377456528968,
              -0.006784598058172956,
              0.004504739729005402,
              0.011901454234225211,
              0.001993063642028604,
              0.0033593987021129697,
              -0.0012318068800767888,
              0.006939314205934375,
              0.011799241855694838,
              -0.008296848277288047,
              0.00438168997667604,
              -0.0017196681948717756,
              0.014259438705107668,
              0.007850049360278555,
              -0.004741112737735846,
              -0.0037900537189983043,
              0.014099826822064263,
              -0.0012620518150687544,
              -0.012037450597581892,
              0.00031955871637430347,
              -0.004470790782010249,
              -0.0069759749507341835,
              0.02802100537159575,
              0.004649800861812165,
              0.005808903253775206,
              0.002773408660836464,
              0.007688224940002988,
              -0.015368781650428405,
              0.009898578640171636,
              -0.006672900826408764,
              0.009004406975282908,
              0.004294845768811796,
              -0.001164224147223752,
              0.014955261372611377,
              0.005955707845074248,
              -0.004148259161559519,
              0.0031899827458877913,
              0.0022245740475218797,
              0.005549783506863651,
              -0.011712244388864439,
              -0.0029488657061496055,
              -0.006926694907552252,
              0.00525576938747507,
              0.012604293838947712,
              0.006583723974547762,
              0.004423816260370266,
              0.005125464871887898,
              0.017336562693447514,
              0.0007404364092154026,
              0.0011472695093602437,
              -0.010503943391496484,
              -0.00508505433196796,
              -0.015262301737613298,
              -0.008840110649624621,
              0.010164607776797237,
              -0.0032872529939699494,
              -0.0029027935023479144,
              0.0016626499610651803,
              -0.003636160427249254,
              -0.0047113592529195465,
              0.00102695987402044,
              0.0012828868713308733,
              0.004352117892617611,
              -0.004931369442520252,
              0.009565382494178215,
              -0.01455901679994815,
              -0.006796610129532807,
              -0.027850894684344894,
              0.020710449673090357,
              8.924104580760819e-05,
              -0.013703473964572232,
              -0.004901843786143046,
              0.007740832741432957,
              -0.0077203574272587585,
              0.012418666437819217,
              0.00017511509086675235,
              0.00017504613865683148,
              0.0033582877618071783,
              -0.0035734875690422107,
              0.007371331911111133,
              -0.009651160018933692,
              0.010389457135675526,
              -0.01870653920799192,
              0.012076941592990243,
              0.021374553359648673,
              -8.742570739141644e-05,
              0.00620393195886991,
              0.001521865209209614,
              0.016080792840516757,
              0.007250277417399775,
              0.006762403185995225,
              0.0007963054204585568,
              -0.0009669577776952444,
              -0.013386642737520245,
              -0.0026018936436263142,
              -0.016198290604818387,
              -0.010297347219680748,
              0.0074731021815581545,
              -0.012468913926924095,
              -0.02525853239588777,
              -0.009063392774603999,
              0.008946524154967097,
              -0.015374524553161914,
              0.016456809192854457,
              0.03337173040441613,
              0.008695706967553913,
              -0.001771189356605959,
              0.00587728831547861,
              -0.025128899012138026,
              0.0228139942515672,
              -0.03620400803986048,
              -0.00840787438244075,
              0.006111373246831057,
              -0.0024115019500461758,
              -0.010233983589835863,
              -0.05148646824193754,
              -0.021766025574785883,
              -0.000492468707134312,
              -0.010323355215498764,
              -0.016102581586362408,
              -0.0134805929117724,
              -0.020371062661599555,
              0.04011320848074988,
              0.02070215140686668,
              0.0010894170422361868,
              0.0016212724161183707,
              0.02102428801542832,
              -0.016233152757035945,
              0.01544056673007681,
              0.0071754196752002565,
              -0.0004793425089767618,
              0.0035795290426526532,
              0.011891567972143706,
              0.0022351750328045627,
              -0.0022462848804435443,
              0.00470234087477056,
              -0.0060716154643506775,
              0.007547618910998866,
              0.004833982399373265,
              -0.0028209050775910155,
              -0.004281470088940883,
              -0.009841583319445898,
              -0.014058609186328234,
              0.009965568763337526,
              -4.7594158812706664e-05,
              0.004124939458127916,
              0.016394220472674467,
              -0.017583575522580913,
              0.002275509369774468,
              0.0005672187127096467,
              -0.0031141836255280915,
              -0.004867370972405154,
              -0.0003850129057724205,
              0.0003354688918432889,
              0.008721243898292368,
              0.0026821996921838386,
              0.008641780033186275,
              0.006116544434941454,
              0.006669897404236558,
              -0.005145392555718048,
              -0.00634515882022055,
              0.005191663908611835,
              -0.0014731924158719644,
              0.0033141628525875685,
              0.007087697903573503,
              0.0011435629804117742,
              -0.0014571590358533955,
              -0.009206103805834186,
              0.004148359785444628,
              -0.005776307352313631,
              -0.006162125643974935,
              0.010324431355831004,
              0.009448491866784212,
              0.011397115724043465,
              0.009051779122185476,
              -0.009745416358718942,
              -0.002437062412446641,
              0.01280403105597175,
              -0.0019807462212721523,
              -0.00021097889294635256,
              0.012011402628359924,
              -0.00917650089289715,
              0.00016884805035750151,
              0.004485753042585073,
              0.0029281244591055117,
              0.005153816482796884,
              0.001984274005802574,
              0.004597122961847903,
              -0.014448135747386041,
              0.0032632917784181275,
              0.009166251012591612,
              0.0037079617893896917,
              0.0021522363946835468,
              -0.0008162807950838697,
              0.0013445043947801975,
              -0.009817302875750377,
              0.0018202232683912896,
              0.01620664380852987,
              -0.005325314256157464,
              -0.0030090108998043845,
              -0.003978875512174983,
              -0.007245091229141819,
              0.0037941744012244386,
              0.009237623589590889,
              -0.002480636454159245,
              -0.007355328126248406,
              -0.0029431071869402328,
              0.00310012282595389,
              -0.015402929360736931,
              0.0038394430091477716,
              0.005534010911205147,
              0.0056663928357840974,
              -0.00639142480559893,
              0.007402815266335803,
              0.011608572433888685,
              0.01665481298433499,
              -0.009052802252279842,
              0.0018143687768659457,
              0.01051818549032028,
              0.007341779714306691,
              0.00999543423229822,
              0.007055769794211223,
              0.0032862809170800065,
              -0.005993784558474448,
              -0.0004023095346682603,
              -0.007292381565089731,
              -0.009173837399830522,
              -0.01419108172173986,
              -0.0025222805925816587,
              0.0025075494022482572,
              0.005365546941433569,
              0.010683471200961614,
              0.007529487712163199,
              0.01286052328001891,
              0.01912634353543357,
              0.0017535794343824847,
              -0.0069765731941580445,
              -0.0013596303160807778,
              0.007730702433902968,
              0.000576733259259844,
              0.001148146920257954,
              -0.003305769734301378,
              0.005133407095384631,
              0.008828858238200609,
              -0.0024018932102329604,
              -0.002022201702067277,
              -0.0013131715123361138,
              -0.007685711961345151,
              0.0025636897649495348,
              -0.00468133674131432,
              -0.010868460464794717,
              0.005855766747267529,
              0.014973701121588561,
              0.00018636514857291802,
              0.0039797250491253,
              0.0022621257651528853,
              0.005060404289342956,
              0.0153409899518247,
              0.010576788272968578,
              0.0022835382198867337,
              -0.0012463496933217964,
              0.0018130140545135679,
              0.0025127561314112496,
              -0.005526237137244802,
              -0.0037406757865798613,
              -0.006228332126224593,
              0.0035672282963866596,
              -0.004991184743327095,
              0.0055954932315727636,
              -0.0031364920742301483,
              -0.0027510924644877015,
              -0.01222402012402455,
              -0.004288393910621426,
              -0.006583739337774224,
              -0.01864808691122068,
              0.010601451877370664,
              0.022563983900408646,
              0.006425180032736329,
              -0.0023334953477762285,
              -0.009975515438982755,
              0.01855970659574751,
              -0.021581603720708605,
              0.0036527676687845108,
              0,
              -0.002898514135625235,
              -0.012052936293776588,
              0.000979836458897509,
              0.010450254156898245,
              -0.015211555780317831,
              0.009779733661174095,
              0.03969967344995139,
              0.002515948038230637,
              -0.003063729806810503,
              -0.010931987475839,
              -0.0017790006251637651,
              0.007184993746912624,
              -0.004904247216356613,
              0.01512566117347113,
              -0.018227513759265266,
              -0.001278659885815492,
              -0.01234219811423334,
              -0.0015510462097606593,
              0.005840874436169359,
              -0.006491079833380524,
              0.006368701835553763,
              0.005933447189154907,
              -0.005750738944182981,
              -0.008311552461943745,
              0.004216624957535629,
              -0.004816225769748755,
              0.0008668967081875705,
              -0.004050561736832272,
              -0.012441901320285192,
              0.0014239878277423487,
              -0.0143716859352172,
              0.006615692135480567,
              0.012569970898169898,
              0.01318353990742219,
              0.008110216642414044,
              -0.0036249185097442056,
              0.012847446004853713,
              -0.005001907756491637,
              -0.0015780593538171684,
              -0.0016120738149420966,
              0.0002346443731864509,
              0.006649042364132957,
              0.011808828428189708,
              0.0028435867866126495,
              -0.006356839941598664,
              -0.005452269790044441,
              -0.007572424427486901,
              0.006755641577130145,
              0.0033107391631101825,
              0.010897424384304867,
              -0.007911587702195853,
              0.009786199363758711,
              -0.004198370690626472,
              -0.006396446328902669,
              -0.0011448074640049574,
              0.007010263590615702,
              0.005319712252036754,
              0.004202648641083086,
              -0.0003964421886571074,
              -0.0023572496307871383,
              -0.0010975225342430652,
              0.009020427554179635,
              0.0006567758975137334,
              -0.005418979361524737,
              0.004706741866910804,
              -0.007449715707581984,
              -0.006202222455389944,
              -0.0013978085133588129,
              -0.008748512788578995,
              -0.004137960185891948,
              0.006594463427212009,
              -0.00351820047759569,
              -0.0033631710351648965,
              -0.007904335938051149,
              0.0018280591691565678,
              0.0016200235442904323,
              -0.013655901365543252,
              -0.0001017028398057926,
              0.0005422382575466724,
              -0.0008448658045728213,
              -0.0023677069119128263,
              0.006986098089366053,
              -0.00944584092716257
             ]
            }
           ],
           "layout": {
            "barmode": "overlay",
            "legend": {
             "bgcolor": "#F5F6F9",
             "font": {
              "color": "#4D5663"
             }
            },
            "paper_bgcolor": "#F5F6F9",
            "plot_bgcolor": "#F5F6F9",
            "template": {
             "data": {
              "bar": [
               {
                "error_x": {
                 "color": "#2a3f5f"
                },
                "error_y": {
                 "color": "#2a3f5f"
                },
                "marker": {
                 "line": {
                  "color": "#E5ECF6",
                  "width": 0.5
                 }
                },
                "type": "bar"
               }
              ],
              "barpolar": [
               {
                "marker": {
                 "line": {
                  "color": "#E5ECF6",
                  "width": 0.5
                 }
                },
                "type": "barpolar"
               }
              ],
              "carpet": [
               {
                "aaxis": {
                 "endlinecolor": "#2a3f5f",
                 "gridcolor": "white",
                 "linecolor": "white",
                 "minorgridcolor": "white",
                 "startlinecolor": "#2a3f5f"
                },
                "baxis": {
                 "endlinecolor": "#2a3f5f",
                 "gridcolor": "white",
                 "linecolor": "white",
                 "minorgridcolor": "white",
                 "startlinecolor": "#2a3f5f"
                },
                "type": "carpet"
               }
              ],
              "choropleth": [
               {
                "colorbar": {
                 "outlinewidth": 0,
                 "ticks": ""
                },
                "type": "choropleth"
               }
              ],
              "contour": [
               {
                "colorbar": {
                 "outlinewidth": 0,
                 "ticks": ""
                },
                "colorscale": [
                 [
                  0,
                  "#0d0887"
                 ],
                 [
                  0.1111111111111111,
                  "#46039f"
                 ],
                 [
                  0.2222222222222222,
                  "#7201a8"
                 ],
                 [
                  0.3333333333333333,
                  "#9c179e"
                 ],
                 [
                  0.4444444444444444,
                  "#bd3786"
                 ],
                 [
                  0.5555555555555556,
                  "#d8576b"
                 ],
                 [
                  0.6666666666666666,
                  "#ed7953"
                 ],
                 [
                  0.7777777777777778,
                  "#fb9f3a"
                 ],
                 [
                  0.8888888888888888,
                  "#fdca26"
                 ],
                 [
                  1,
                  "#f0f921"
                 ]
                ],
                "type": "contour"
               }
              ],
              "contourcarpet": [
               {
                "colorbar": {
                 "outlinewidth": 0,
                 "ticks": ""
                },
                "type": "contourcarpet"
               }
              ],
              "heatmap": [
               {
                "colorbar": {
                 "outlinewidth": 0,
                 "ticks": ""
                },
                "colorscale": [
                 [
                  0,
                  "#0d0887"
                 ],
                 [
                  0.1111111111111111,
                  "#46039f"
                 ],
                 [
                  0.2222222222222222,
                  "#7201a8"
                 ],
                 [
                  0.3333333333333333,
                  "#9c179e"
                 ],
                 [
                  0.4444444444444444,
                  "#bd3786"
                 ],
                 [
                  0.5555555555555556,
                  "#d8576b"
                 ],
                 [
                  0.6666666666666666,
                  "#ed7953"
                 ],
                 [
                  0.7777777777777778,
                  "#fb9f3a"
                 ],
                 [
                  0.8888888888888888,
                  "#fdca26"
                 ],
                 [
                  1,
                  "#f0f921"
                 ]
                ],
                "type": "heatmap"
               }
              ],
              "heatmapgl": [
               {
                "colorbar": {
                 "outlinewidth": 0,
                 "ticks": ""
                },
                "colorscale": [
                 [
                  0,
                  "#0d0887"
                 ],
                 [
                  0.1111111111111111,
                  "#46039f"
                 ],
                 [
                  0.2222222222222222,
                  "#7201a8"
                 ],
                 [
                  0.3333333333333333,
                  "#9c179e"
                 ],
                 [
                  0.4444444444444444,
                  "#bd3786"
                 ],
                 [
                  0.5555555555555556,
                  "#d8576b"
                 ],
                 [
                  0.6666666666666666,
                  "#ed7953"
                 ],
                 [
                  0.7777777777777778,
                  "#fb9f3a"
                 ],
                 [
                  0.8888888888888888,
                  "#fdca26"
                 ],
                 [
                  1,
                  "#f0f921"
                 ]
                ],
                "type": "heatmapgl"
               }
              ],
              "histogram": [
               {
                "marker": {
                 "colorbar": {
                  "outlinewidth": 0,
                  "ticks": ""
                 }
                },
                "type": "histogram"
               }
              ],
              "histogram2d": [
               {
                "colorbar": {
                 "outlinewidth": 0,
                 "ticks": ""
                },
                "colorscale": [
                 [
                  0,
                  "#0d0887"
                 ],
                 [
                  0.1111111111111111,
                  "#46039f"
                 ],
                 [
                  0.2222222222222222,
                  "#7201a8"
                 ],
                 [
                  0.3333333333333333,
                  "#9c179e"
                 ],
                 [
                  0.4444444444444444,
                  "#bd3786"
                 ],
                 [
                  0.5555555555555556,
                  "#d8576b"
                 ],
                 [
                  0.6666666666666666,
                  "#ed7953"
                 ],
                 [
                  0.7777777777777778,
                  "#fb9f3a"
                 ],
                 [
                  0.8888888888888888,
                  "#fdca26"
                 ],
                 [
                  1,
                  "#f0f921"
                 ]
                ],
                "type": "histogram2d"
               }
              ],
              "histogram2dcontour": [
               {
                "colorbar": {
                 "outlinewidth": 0,
                 "ticks": ""
                },
                "colorscale": [
                 [
                  0,
                  "#0d0887"
                 ],
                 [
                  0.1111111111111111,
                  "#46039f"
                 ],
                 [
                  0.2222222222222222,
                  "#7201a8"
                 ],
                 [
                  0.3333333333333333,
                  "#9c179e"
                 ],
                 [
                  0.4444444444444444,
                  "#bd3786"
                 ],
                 [
                  0.5555555555555556,
                  "#d8576b"
                 ],
                 [
                  0.6666666666666666,
                  "#ed7953"
                 ],
                 [
                  0.7777777777777778,
                  "#fb9f3a"
                 ],
                 [
                  0.8888888888888888,
                  "#fdca26"
                 ],
                 [
                  1,
                  "#f0f921"
                 ]
                ],
                "type": "histogram2dcontour"
               }
              ],
              "mesh3d": [
               {
                "colorbar": {
                 "outlinewidth": 0,
                 "ticks": ""
                },
                "type": "mesh3d"
               }
              ],
              "parcoords": [
               {
                "line": {
                 "colorbar": {
                  "outlinewidth": 0,
                  "ticks": ""
                 }
                },
                "type": "parcoords"
               }
              ],
              "scatter": [
               {
                "marker": {
                 "colorbar": {
                  "outlinewidth": 0,
                  "ticks": ""
                 }
                },
                "type": "scatter"
               }
              ],
              "scatter3d": [
               {
                "line": {
                 "colorbar": {
                  "outlinewidth": 0,
                  "ticks": ""
                 }
                },
                "marker": {
                 "colorbar": {
                  "outlinewidth": 0,
                  "ticks": ""
                 }
                },
                "type": "scatter3d"
               }
              ],
              "scattercarpet": [
               {
                "marker": {
                 "colorbar": {
                  "outlinewidth": 0,
                  "ticks": ""
                 }
                },
                "type": "scattercarpet"
               }
              ],
              "scattergeo": [
               {
                "marker": {
                 "colorbar": {
                  "outlinewidth": 0,
                  "ticks": ""
                 }
                },
                "type": "scattergeo"
               }
              ],
              "scattergl": [
               {
                "marker": {
                 "colorbar": {
                  "outlinewidth": 0,
                  "ticks": ""
                 }
                },
                "type": "scattergl"
               }
              ],
              "scattermapbox": [
               {
                "marker": {
                 "colorbar": {
                  "outlinewidth": 0,
                  "ticks": ""
                 }
                },
                "type": "scattermapbox"
               }
              ],
              "scatterpolar": [
               {
                "marker": {
                 "colorbar": {
                  "outlinewidth": 0,
                  "ticks": ""
                 }
                },
                "type": "scatterpolar"
               }
              ],
              "scatterpolargl": [
               {
                "marker": {
                 "colorbar": {
                  "outlinewidth": 0,
                  "ticks": ""
                 }
                },
                "type": "scatterpolargl"
               }
              ],
              "scatterternary": [
               {
                "marker": {
                 "colorbar": {
                  "outlinewidth": 0,
                  "ticks": ""
                 }
                },
                "type": "scatterternary"
               }
              ],
              "surface": [
               {
                "colorbar": {
                 "outlinewidth": 0,
                 "ticks": ""
                },
                "colorscale": [
                 [
                  0,
                  "#0d0887"
                 ],
                 [
                  0.1111111111111111,
                  "#46039f"
                 ],
                 [
                  0.2222222222222222,
                  "#7201a8"
                 ],
                 [
                  0.3333333333333333,
                  "#9c179e"
                 ],
                 [
                  0.4444444444444444,
                  "#bd3786"
                 ],
                 [
                  0.5555555555555556,
                  "#d8576b"
                 ],
                 [
                  0.6666666666666666,
                  "#ed7953"
                 ],
                 [
                  0.7777777777777778,
                  "#fb9f3a"
                 ],
                 [
                  0.8888888888888888,
                  "#fdca26"
                 ],
                 [
                  1,
                  "#f0f921"
                 ]
                ],
                "type": "surface"
               }
              ],
              "table": [
               {
                "cells": {
                 "fill": {
                  "color": "#EBF0F8"
                 },
                 "line": {
                  "color": "white"
                 }
                },
                "header": {
                 "fill": {
                  "color": "#C8D4E3"
                 },
                 "line": {
                  "color": "white"
                 }
                },
                "type": "table"
               }
              ]
             },
             "layout": {
              "annotationdefaults": {
               "arrowcolor": "#2a3f5f",
               "arrowhead": 0,
               "arrowwidth": 1
              },
              "colorscale": {
               "diverging": [
                [
                 0,
                 "#8e0152"
                ],
                [
                 0.1,
                 "#c51b7d"
                ],
                [
                 0.2,
                 "#de77ae"
                ],
                [
                 0.3,
                 "#f1b6da"
                ],
                [
                 0.4,
                 "#fde0ef"
                ],
                [
                 0.5,
                 "#f7f7f7"
                ],
                [
                 0.6,
                 "#e6f5d0"
                ],
                [
                 0.7,
                 "#b8e186"
                ],
                [
                 0.8,
                 "#7fbc41"
                ],
                [
                 0.9,
                 "#4d9221"
                ],
                [
                 1,
                 "#276419"
                ]
               ],
               "sequential": [
                [
                 0,
                 "#0d0887"
                ],
                [
                 0.1111111111111111,
                 "#46039f"
                ],
                [
                 0.2222222222222222,
                 "#7201a8"
                ],
                [
                 0.3333333333333333,
                 "#9c179e"
                ],
                [
                 0.4444444444444444,
                 "#bd3786"
                ],
                [
                 0.5555555555555556,
                 "#d8576b"
                ],
                [
                 0.6666666666666666,
                 "#ed7953"
                ],
                [
                 0.7777777777777778,
                 "#fb9f3a"
                ],
                [
                 0.8888888888888888,
                 "#fdca26"
                ],
                [
                 1,
                 "#f0f921"
                ]
               ],
               "sequentialminus": [
                [
                 0,
                 "#0d0887"
                ],
                [
                 0.1111111111111111,
                 "#46039f"
                ],
                [
                 0.2222222222222222,
                 "#7201a8"
                ],
                [
                 0.3333333333333333,
                 "#9c179e"
                ],
                [
                 0.4444444444444444,
                 "#bd3786"
                ],
                [
                 0.5555555555555556,
                 "#d8576b"
                ],
                [
                 0.6666666666666666,
                 "#ed7953"
                ],
                [
                 0.7777777777777778,
                 "#fb9f3a"
                ],
                [
                 0.8888888888888888,
                 "#fdca26"
                ],
                [
                 1,
                 "#f0f921"
                ]
               ]
              },
              "colorway": [
               "#636efa",
               "#EF553B",
               "#00cc96",
               "#ab63fa",
               "#FFA15A",
               "#19d3f3",
               "#FF6692",
               "#B6E880",
               "#FF97FF",
               "#FECB52"
              ],
              "font": {
               "color": "#2a3f5f"
              },
              "geo": {
               "bgcolor": "white",
               "lakecolor": "white",
               "landcolor": "#E5ECF6",
               "showlakes": true,
               "showland": true,
               "subunitcolor": "white"
              },
              "hoverlabel": {
               "align": "left"
              },
              "hovermode": "closest",
              "mapbox": {
               "style": "light"
              },
              "paper_bgcolor": "white",
              "plot_bgcolor": "#E5ECF6",
              "polar": {
               "angularaxis": {
                "gridcolor": "white",
                "linecolor": "white",
                "ticks": ""
               },
               "bgcolor": "#E5ECF6",
               "radialaxis": {
                "gridcolor": "white",
                "linecolor": "white",
                "ticks": ""
               }
              },
              "scene": {
               "xaxis": {
                "backgroundcolor": "#E5ECF6",
                "gridcolor": "white",
                "gridwidth": 2,
                "linecolor": "white",
                "showbackground": true,
                "ticks": "",
                "zerolinecolor": "white"
               },
               "yaxis": {
                "backgroundcolor": "#E5ECF6",
                "gridcolor": "white",
                "gridwidth": 2,
                "linecolor": "white",
                "showbackground": true,
                "ticks": "",
                "zerolinecolor": "white"
               },
               "zaxis": {
                "backgroundcolor": "#E5ECF6",
                "gridcolor": "white",
                "gridwidth": 2,
                "linecolor": "white",
                "showbackground": true,
                "ticks": "",
                "zerolinecolor": "white"
               }
              },
              "shapedefaults": {
               "line": {
                "color": "#2a3f5f"
               }
              },
              "ternary": {
               "aaxis": {
                "gridcolor": "white",
                "linecolor": "white",
                "ticks": ""
               },
               "baxis": {
                "gridcolor": "white",
                "linecolor": "white",
                "ticks": ""
               },
               "bgcolor": "#E5ECF6",
               "caxis": {
                "gridcolor": "white",
                "linecolor": "white",
                "ticks": ""
               }
              },
              "title": {
               "x": 0.05
              },
              "xaxis": {
               "automargin": true,
               "gridcolor": "white",
               "linecolor": "white",
               "ticks": "",
               "zerolinecolor": "white",
               "zerolinewidth": 2
              },
              "yaxis": {
               "automargin": true,
               "gridcolor": "white",
               "linecolor": "white",
               "ticks": "",
               "zerolinecolor": "white",
               "zerolinewidth": 2
              }
             }
            },
            "title": {
             "font": {
              "color": "#4D5663"
             },
             "text": "Distribution of The Coca-Cola Company and Costco Wholesale Corporation"
            },
            "xaxis": {
             "gridcolor": "#E1E5ED",
             "showgrid": true,
             "tickfont": {
              "color": "#4D5663"
             },
             "title": {
              "font": {
               "color": "#4D5663"
              },
              "text": "log return"
             },
             "zerolinecolor": "#E1E5ED"
            },
            "yaxis": {
             "gridcolor": "#E1E5ED",
             "showgrid": true,
             "tickfont": {
              "color": "#4D5663"
             },
             "title": {
              "font": {
               "color": "#4D5663"
              },
              "text": "Count"
             },
             "zerolinecolor": "#E1E5ED"
            }
           }
          },
          "text/html": "<div>\n        \n        \n            <div id=\"3063fe54-6da8-4d0d-b51c-ed2ddb2a5be4\" class=\"plotly-graph-div\" style=\"height:525px; width:100%;\"></div>\n            <script type=\"text/javascript\">\n                require([\"plotly\"], function(Plotly) {\n                    window.PLOTLYENV=window.PLOTLYENV || {};\n                    window.PLOTLYENV.BASE_URL='https://plot.ly';\n                    \n                if (document.getElementById(\"3063fe54-6da8-4d0d-b51c-ed2ddb2a5be4\")) {\n                    Plotly.newPlot(\n                        '3063fe54-6da8-4d0d-b51c-ed2ddb2a5be4',\n                        [{\"histfunc\": \"count\", \"histnorm\": \"\", \"marker\": {\"color\": \"rgba(255, 153, 51, 1.0)\", \"line\": {\"color\": \"#4D5663\", \"width\": 1.3}}, \"name\": \"KO\", \"opacity\": 0.8, \"orientation\": \"v\", \"type\": \"histogram\", \"x\": [-0.008091874198100127, -0.0010998142885794684, 0.011348887402612081, 0.0010858777693706072, 0.0010875310837112663, 0.004987531609164131, -0.003466955774609471, -0.004118324359100862, -0.0028128819366779515, 0.008200245609476834, 0.005139151778615649, 0.002776912318089041, 0.003611223599250653, 0.005078336713878957, 0.005070825969207001, 0.006292031031636119, 0.002930698943089202, 0.015575021914295668, -0.010635035538294247, -0.006726947731562226, 0.0029461172045755963, 0.0008433674391928178, -0.013180440490147705, -0.03845792080520278, 0.018071403542482878, -0.0004487425932315741, -0.034659203359870105, -0.005318535782994701, 0.009368281363717168, 0.006128732555090718, 0.001815661355062383, 0.011906212456662724, -0.013031662224813534, -0.017129071204592318, -0.017610528324951732, 0.002070159492580687, 0.010499961110606557, -0.004532089487303559, -0.012077225324552746, -0.01401517688432419, 0.007627491867094704, 0.010808457851380564, 0.007317656668663355, -0.0004551765558920898, 0.005262557452190634, 0.01245062428471898, 0.005593481452508877, -0.00938768597013776, -0.0022411142619713446, -0.0136118773598879, -0.004797334180642708, -0.005507165797806346, -0.004612572036904649, -0.0037002782335708996, -0.0030187197312072584, -0.0028024947683054522, -0.011509178245094023, 0.0018756867649948323, 0.0044397461961495745, 0.007414299394541882, -0.0025296232600981188, -0.017884589724250364, 0.009263649457280988, 0.025178768341254106, 0.002706423532205922, -0.008163324762020696, -0.004552635836307636, -0.0018168984128270978, 0.004100240343946087, -0.0011350143406991123, 0.007215357252196822, 0.0006716395345275686, -0.001558492876898507, -0.008723983414266667, -0.000676791425281311, -0.012947362581851179, 0.005471921095816496, -0.020908282737721537, -0.007279622755881904, 0.008220797157147816, 0.013482347991940237, -0.006689009338654833, -0.00864994137161257, -0.00805119530030706, -0.007846950944482765, 0.01354743677424985, -0.004734875418447467, -0.003819528216167009, -0.00453737951961866, 0.004514647616597407, -0.002370285242292577, -0.004982786016903179, -0.001437067519021456, -0.00456243892198649, 0.006879422788530908, -0.002840885730127347, 0.002360682698765846, -0.005899722127188271, 0.0035440444224387195, -0.001888617886725481, 0.0014161289150315995, 0.013207771676962354, 0.008381902483037567, -0.004640397217137494, 0.00046394012350131994, 0.0029936939960978613, -0.009005935177590985, 0.009246429933590976, 0.0025353660019902047, 0.00868380836535867, 0.0040872059948450345, 0.006324818382830186, -0.0038404694506749605, -0.0038932412712100006, 0.012773840584797752, -0.007548973968951917, 0.00690449796917017, -0.008287354561257305, -0.004168609647141871, 0.002314780486252647, 0.009684234677880137, -0.005294051581006989, -0.006018586029733363, 0.00530504149374492, 0.006633923780559553, -0.0006854514084268913, -0.0015899990265812508, 0.011258844481856888, -0.0006717899730184395, -0.003148178579572494, 0.010281782609566859, -0.004455359500983664, -0.003575504638428773, 0.000894474890484434, 0.0, 0.011111225425070849, -0.001550209516883531, 0.002663684789965606, 0.005758561289342751, -0.007314629045237663, 0.010662019209796127, 0.0019546135539726464, -0.002591770973885159, -0.0023776216064621803, 0.0028160111949823464, 0.004944641608880161, -0.0012925760781204952, -0.006475292160293259, 0.008400682598256859, 0.0010724516150221477, -0.000430024897300676, -0.007340277793991603, 0.0021597951326332338, -0.0028171489457891248, -0.004788807659462002, -0.00043573983107514407, 0.0067501914571231605, 0.0023827718014738167, 0.006674533566157759, 0.0010705329604392439, -0.01097371565946101, -0.008887017314951048, -0.004148900511748216, -0.00043822211909222127, -0.00784832061521262, -0.0061525703330343445, 0.0017664352007042722, -0.007314629045237663, -0.009601509658967262, 0.0035810211309792827, 0.015993259893476313, 0.008116726009972564, 0.002628182568069741, 0.0032619692703019488, -0.0017368223489976355, 0.0017316417689299593, -0.003919789212676763, 0.0015233059117484894, 0.006932430187221132, -0.009965400624619031, -0.0008699634286304457, 0.009045897698850204, -0.0012872251897123922, -0.009075299482667377, -0.008284352179316234, 0.0017463007557298644, 0.00610420002707401, 0.004121898222069567, 0.0012987312383333544, 0.004957431198702311, -0.012780422313175124, 0.0041525276628508, -0.0013068518260100862, 0.010598084646865428, 0.00021555074965139154, -0.01348137258552885, -0.0256537700617671, 0.004486341380377129, 0.0060301793017041435, 0.01038571283280837, 0.00986094898914302, -0.006338146204471079, 0.010850800476343724, -0.008663638996272522, 0.016090838194097942, 0.008596607965842277, -0.0030056528547335207, -0.009751963232325413, 0.006694713624226086, 0.021433226541514788, 0.007968191957347815, -0.0014651952927564479, 0.003757055259472545, 0.014272631081932512, 0.009410852482976299, -0.00040503155887021164, 0.0042661902702577515, 0.005854481573316105, 0.005227159524087361, 0.0010032956809385106, -0.0018070510987630312, 0.0016096951126981735, 0.010217424991788248, 0.003967411449766391, -0.02874446633942856, -0.01020833701010248, 0.0055231899944144965, -0.0028606352482132384, 0.009974593920742392, 0.010109265415824754, -0.006106252276411305, 0.028170907242071087, -0.0036159201629814603, -0.007835286246472475, -0.002629129924203389, -0.009730454697730755, -0.004255738093505989, -0.001008761036250198, -0.014722450604758613, 0.015276801458116971, 0.0022319297221512564, -0.02068259045029556, -0.005983736302619048, -0.007073050940638605, -0.005663370171849665, 0.006538067785720013, -0.03548138556828052, 0.022840845624772704, 0.016760699921699464, -0.014512792854172363, -0.002952410498058216, -0.00021302485745776018, -0.003851926588903312, 0.017388048294194873, -0.013119082124577502, 0.004855906160526096, -0.010891770843255138, 0.008748585606529214, 0.001056731293436794, -0.0021186124980607916, 0.014397883944064173, -0.010178276132330464, 0.002979427720682445, 0.007590182086494061, 0.00041920892141668765, 0.009366303507382314, -0.008768364884018826, -0.010708808610630885, -0.0010594990308014916, 0.004228352137087397, 0.012827441293328782, 0.005834619497147999, 0.004527713435912795, 0.011230321863446042, -0.0014200937453619194, 0.0010155223453770425, 0.0050715193249974665, 0.0026297389387777283, 0.0008066327399308304, -0.0006039009696893571, 0.003621740425914703, -0.024055783439575037, -0.014483461960740997, -0.010870830414253718, 0.004221728973387437, 0.01893080096845637, -0.01054490345582453, -0.01106450799196199, -0.009132480459305946, 0.007594411385373729, 0.004864064927760841, -0.001981291794428346, 0.002632217930854976, -0.0010959574084996023, -0.004828749693910991, -0.004627151543465675, -0.006889712051860929, 0.02277805266665878, 0.0021738807282999473, 0.0019491105327577953, -0.0030587611405137956, -0.009228849979095318, -0.000440344739173351, 0.00021956176497964078, 0.002859283878758571, -0.0004393773884522956, 0.010285706696857118, 0.0037000405706446153, 0.01012833209587102, -0.000857836522926795, -0.0021445101898839823, 0.0040629253770110806, -0.005762484186348395, -0.0038577052934654203, -0.005183550866160614, 0.003016580398019569, -0.00043030244080290516, 0.00021480978741565148, 0.00472503904283113, -0.004279013031360403, -0.0002141097342611568, 0.001498844293786104, 0.0025564336572735666, -0.0021276279115713635, 0.001693438523767318, 0.0031641774951435644, 0.0, 0.0024921909645911205, -0.0010415423904722191, 0.0020924567627390468, 0.005610334571718258, 0.005176531064046777, 0.010861928558867312, -0.007381633004490079, -0.0028889700714951907, 0.002466148947361907, 0.0028925512985040493, -0.004780213681725325, -0.004171033528102662, -0.008403362643765351, 0.016318328459261677, 0.002917871828124421, 0.003291503726276547, 0.010424256769801122, 0.006272177691567977, -0.0014217468416307432, -0.0038819630441622854, -0.008196798600864304, 0.017678053460778692, 0.007045796223796003, -0.004224065092514564, -0.010131799243682795, -0.0026707990207570976, 0.010819719160973768, 0.002649569810520906, 0.01654263465393853, 0.0, 0.015279600369290545, 0.009578837230442904, 0.00038850927451566805, -0.0031092105173736884, -0.002335064864389605, 0.0027147464893949504, -0.006433359080455578, 0.005080162052732044, -0.007442280180801713, -0.011973852235352857, 0.011410669100052312, 0.003101977044308911, 0.0003880570120204892, 0.003472827930694772, -0.0046261008166574935, -0.007794301506256358, -0.004102752240052645, -0.006850056994333845, 0.010324408232304415, 0.003855069658217859, 0.001921200890390417, 0.004230799016640242, -0.0038387909228638868, -0.0025167192915436717, 0.00038603470793689454, 0.0009612465570264075, -0.0024911590816613506, -0.0028732461372196916, 0.003458222616791846, -0.0007663010900409311, -0.00019221939637929734, -0.014488807672058278, -0.005839986077335385, 0.02007878967635722, -0.006302155423901956, -0.010496841821844556, 0.01544069425326693, -0.0033283405491298474, -0.004457619994301754, -0.01658220129537894, -0.01431185610635248, 0.008058408474983045, -0.014225496661657257, 0.007682033711354862, 0.017259790070912523, 0.00898040745397385, -0.006902419900313324, -0.0015025926324729517, 0.011278286193115886, -0.006583273434702116, 0.008201325183423853, 0.007934358583812409, 0.004581699690728606, -0.013640725124043749, -0.002768834772919241, 0.006813445831681077, -0.012574065287931565, 0.009950347639514521, 0.00036557224682573107, 0.008199021261955054, -0.0038074398116164825, -0.002177839899880737, 0.005803420320819417, 0.007559467022700915, -0.011364803012822965, -0.0037950544861055538, -0.009310853664580345, 0.00312992949932392, 0.00880254237255159, 0.00018151050432840428, -0.004046377141832813, -0.002591143274872804, 0.0025845169296742467, 0.0005533298898431419, 0.005333362812766757, -0.0143648656150635, 0.004257286279417821, 0.0009212204688704652, -0.0049719366896926655, -0.0014698115930327218, -0.004592641372588826, 0.005341150931751568, 0.0021982559914087403, -0.021065132423576043, 0.00633503426861058, 0.009950347639514521, -0.008502877401094589, -0.005583473075446356, -0.004263599663019349, 0.0020520595073498242, -0.006545180660328334, -0.003558435064496973, 0.001496129274491253, 0.0005610583369266717, 0.0018608544492264164, -0.0040080436812762864, -0.004048610978896019, -0.007031877145147286, 0.010671637840727326, 0.0007327517348474437, -0.014774031285249723, -0.0031684302243422356, 0.00037454041461327506, 0.007816867878874147, 0.008672463680088687, -0.013452695735040649, -0.015313085526837127, -0.008926110573070124, 0.005126764534944059, -0.011220050033591703, -0.004776927099832544, -0.009407800387192179, -0.0038602781965723335, 0.004398124345545421, 0.0019019079328249943, 0.0005697233083993311, 0.006621885461843062, -0.001317889536734762, 0.0022573889745240157, -0.0028283515849182755, 0.001320873788328809, -0.0011267148345713346, 0.011006549629246609, 0.0003707908378715779, -0.005602241181597402, 0.008032177420741046, 0.0016742661150921313, 0.009066611794297819, -0.00036901214784000705, 0.0020233023754689405, -0.004244715139612822, -0.005008830698706314, 0.00018541359376606254, 0.002404089384740399, 0.008859407456396223]}, {\"histfunc\": \"count\", \"histnorm\": \"\", \"marker\": {\"color\": \"rgba(55, 128, 191, 1.0)\", \"line\": {\"color\": \"#4D5663\", \"width\": 1.3}}, \"name\": \"COST\", \"opacity\": 0.8, \"orientation\": \"v\", \"type\": \"histogram\", \"x\": [0.005804897609633398, 0.009277844434050856, -0.015219364086714426, -0.008908233831429252, 0.006173454379864995, -0.014495331388294506, -0.001778171294205897, 0.021078191497774602, 0.009111390588558657, -0.00427221298846464, -0.0012473651537437324, -0.003752551643956823, 0.0030207656942616203, 0.009718877467417949, -0.0009818487314651688, -0.000977627286098718, 0.015014899571581228, 0.005848872880092158, -0.00025202446709360246, 0.001618242194956032, -0.013102108563055992, 0.0003101610748422971, -0.0013603732900553305, -0.04226320113045933, 0.033526941409602364, -0.007667476207667649, -0.03249897144853444, 0.005215004559142926, -0.00429870484177097, 0.021572276166516368, 0.02507832464823806, 0.01786278999874814, 0.0005744007464747363, -0.009259570617707099, -0.014855455345775039, 0.001287018104418324, 0.010486250790737086, 0.014154953787814666, -0.017468783769836238, -0.0036601986328863483, -0.011989410069418468, 0.009819383669875581, 0.015950638692324607, -0.0035453252201045047, -0.00982564172030148, -0.002689041060149333, 0.011091090663358021, 0.00582562206041941, -0.013721686359643838, -0.022228460576399347, 0.0037263412503103677, -0.001666429998673018, -0.00800486177832375, 0.012082305264238006, -0.004076135910136522, -0.012298106503547606, -0.013402389309067108, 0.022634335301296736, -0.023153351324947332, 0.0, 0.019777085365660644, -0.02250813854110072, -0.0050254007028146756, 0.023947683514599638, -0.0024131769422242226, -0.007473577231607907, -0.004274746288359004, -0.011914557028722995, 0.01308273735529218, 0.017739337046302435, -0.004752828410301529, 0.014181726767764156, 0.0017361814845353555, 0.001069175817251807, -0.005572165363379457, -0.004484634125582318, -0.002376235495258017, -0.010489691033695495, 0.009010964684465139, 0.005855476281525577, 0.008326382678483206, 0.00030435528621109326, 0.0003053000089323623, -0.007599891482369635, -0.004703720865028796, 0.012112645119346064, -0.01399056482358153, 0.007690905484745555, 0.009687661053348942, -0.0030651676796065543, 0.002198945782668091, -0.00040833927010325565, 0.003690047435983705, 0.01337473352253647, 0.0027091199028566174, -0.0027104030899605712, 0.0001001403418038114, -0.003762326018213048, -0.004783116932985643, 0.0030213332544809313, -0.002668340308443246, -0.006888896509237564, 0.007440937882475508, -0.00993832249764947, 0.008558857722434882, 0.006566613407503981, -0.00695114314173141, -0.0017691052524969062, 0.01027129523557351, 0.011103823025334712, 0.0036251717706464594, 0.003079731983705523, -0.003960582939282217, 0.0012195421202461805, 0.00930426087039948, 0.0010189307809908854, 0.012753876194436747, 0.0010583597748912122, 0.00856202357737693, 0.003464121831841594, 0.008251211057505856, -0.010841153062233232, -0.002235281277261898, -0.006161769945407484, -0.0032486553297108875, -0.0020652377456528968, -0.006784598058172956, 0.004504739729005402, 0.011901454234225211, 0.001993063642028604, 0.0033593987021129697, -0.0012318068800767888, 0.006939314205934375, 0.011799241855694838, -0.008296848277288047, 0.00438168997667604, -0.0017196681948717756, 0.014259438705107668, 0.007850049360278555, -0.004741112737735846, -0.0037900537189983043, 0.014099826822064263, -0.0012620518150687544, -0.012037450597581892, 0.00031955871637430347, -0.004470790782010249, -0.0069759749507341835, 0.02802100537159575, 0.004649800861812165, 0.005808903253775206, 0.002773408660836464, 0.007688224940002988, -0.015368781650428405, 0.009898578640171636, -0.006672900826408764, 0.009004406975282908, 0.004294845768811796, -0.001164224147223752, 0.014955261372611377, 0.005955707845074248, -0.004148259161559519, 0.0031899827458877913, 0.0022245740475218797, 0.005549783506863651, -0.011712244388864439, -0.0029488657061496055, -0.006926694907552252, 0.00525576938747507, 0.012604293838947712, 0.006583723974547762, 0.004423816260370266, 0.005125464871887898, 0.017336562693447514, 0.0007404364092154026, 0.0011472695093602437, -0.010503943391496484, -0.00508505433196796, -0.015262301737613298, -0.008840110649624621, 0.010164607776797237, -0.0032872529939699494, -0.0029027935023479144, 0.0016626499610651803, -0.003636160427249254, -0.0047113592529195465, 0.00102695987402044, 0.0012828868713308733, 0.004352117892617611, -0.004931369442520252, 0.009565382494178215, -0.01455901679994815, -0.006796610129532807, -0.027850894684344894, 0.020710449673090357, 8.924104580760819e-05, -0.013703473964572232, -0.004901843786143046, 0.007740832741432957, -0.0077203574272587585, 0.012418666437819217, 0.00017511509086675235, 0.00017504613865683148, 0.0033582877618071783, -0.0035734875690422107, 0.007371331911111133, -0.009651160018933692, 0.010389457135675526, -0.01870653920799192, 0.012076941592990243, 0.021374553359648673, -8.742570739141644e-05, 0.00620393195886991, 0.001521865209209614, 0.016080792840516757, 0.007250277417399775, 0.006762403185995225, 0.0007963054204585568, -0.0009669577776952444, -0.013386642737520245, -0.0026018936436263142, -0.016198290604818387, -0.010297347219680748, 0.0074731021815581545, -0.012468913926924095, -0.02525853239588777, -0.009063392774603999, 0.008946524154967097, -0.015374524553161914, 0.016456809192854457, 0.03337173040441613, 0.008695706967553913, -0.001771189356605959, 0.00587728831547861, -0.025128899012138026, 0.0228139942515672, -0.03620400803986048, -0.00840787438244075, 0.006111373246831057, -0.0024115019500461758, -0.010233983589835863, -0.05148646824193754, -0.021766025574785883, -0.000492468707134312, -0.010323355215498764, -0.016102581586362408, -0.0134805929117724, -0.020371062661599555, 0.04011320848074988, 0.02070215140686668, 0.0010894170422361868, 0.0016212724161183707, 0.02102428801542832, -0.016233152757035945, 0.01544056673007681, 0.0071754196752002565, -0.0004793425089767618, 0.0035795290426526532, 0.011891567972143706, 0.0022351750328045627, -0.0022462848804435443, 0.00470234087477056, -0.0060716154643506775, 0.007547618910998866, 0.004833982399373265, -0.0028209050775910155, -0.004281470088940883, -0.009841583319445898, -0.014058609186328234, 0.009965568763337526, -4.7594158812706664e-05, 0.004124939458127916, 0.016394220472674467, -0.017583575522580913, 0.002275509369774468, 0.0005672187127096467, -0.0031141836255280915, -0.004867370972405154, -0.0003850129057724205, 0.0003354688918432889, 0.008721243898292368, 0.0026821996921838386, 0.008641780033186275, 0.006116544434941454, 0.006669897404236558, -0.005145392555718048, -0.00634515882022055, 0.005191663908611835, -0.0014731924158719644, 0.0033141628525875685, 0.007087697903573503, 0.0011435629804117742, -0.0014571590358533955, -0.009206103805834186, 0.004148359785444628, -0.005776307352313631, -0.006162125643974935, 0.010324431355831004, 0.009448491866784212, 0.011397115724043465, 0.009051779122185476, -0.009745416358718942, -0.002437062412446641, 0.01280403105597175, -0.0019807462212721523, -0.00021097889294635256, 0.012011402628359924, -0.00917650089289715, 0.00016884805035750151, 0.004485753042585073, 0.0029281244591055117, 0.005153816482796884, 0.001984274005802574, 0.004597122961847903, -0.014448135747386041, 0.0032632917784181275, 0.009166251012591612, 0.0037079617893896917, 0.0021522363946835468, -0.0008162807950838697, 0.0013445043947801975, -0.009817302875750377, 0.0018202232683912896, 0.01620664380852987, -0.005325314256157464, -0.0030090108998043845, -0.003978875512174983, -0.007245091229141819, 0.0037941744012244386, 0.009237623589590889, -0.002480636454159245, -0.007355328126248406, -0.0029431071869402328, 0.00310012282595389, -0.015402929360736931, 0.0038394430091477716, 0.005534010911205147, 0.0056663928357840974, -0.00639142480559893, 0.007402815266335803, 0.011608572433888685, 0.01665481298433499, -0.009052802252279842, 0.0018143687768659457, 0.01051818549032028, 0.007341779714306691, 0.00999543423229822, 0.007055769794211223, 0.0032862809170800065, -0.005993784558474448, -0.0004023095346682603, -0.007292381565089731, -0.009173837399830522, -0.01419108172173986, -0.0025222805925816587, 0.0025075494022482572, 0.005365546941433569, 0.010683471200961614, 0.007529487712163199, 0.01286052328001891, 0.01912634353543357, 0.0017535794343824847, -0.0069765731941580445, -0.0013596303160807778, 0.007730702433902968, 0.000576733259259844, 0.001148146920257954, -0.003305769734301378, 0.005133407095384631, 0.008828858238200609, -0.0024018932102329604, -0.002022201702067277, -0.0013131715123361138, -0.007685711961345151, 0.0025636897649495348, -0.00468133674131432, -0.010868460464794717, 0.005855766747267529, 0.014973701121588561, 0.00018636514857291802, 0.0039797250491253, 0.0022621257651528853, 0.005060404289342956, 0.0153409899518247, 0.010576788272968578, 0.0022835382198867337, -0.0012463496933217964, 0.0018130140545135679, 0.0025127561314112496, -0.005526237137244802, -0.0037406757865798613, -0.006228332126224593, 0.0035672282963866596, -0.004991184743327095, 0.0055954932315727636, -0.0031364920742301483, -0.0027510924644877015, -0.01222402012402455, -0.004288393910621426, -0.006583739337774224, -0.01864808691122068, 0.010601451877370664, 0.022563983900408646, 0.006425180032736329, -0.0023334953477762285, -0.009975515438982755, 0.01855970659574751, -0.021581603720708605, 0.0036527676687845108, 0.0, -0.002898514135625235, -0.012052936293776588, 0.000979836458897509, 0.010450254156898245, -0.015211555780317831, 0.009779733661174095, 0.03969967344995139, 0.002515948038230637, -0.003063729806810503, -0.010931987475839, -0.0017790006251637651, 0.007184993746912624, -0.004904247216356613, 0.01512566117347113, -0.018227513759265266, -0.001278659885815492, -0.01234219811423334, -0.0015510462097606593, 0.005840874436169359, -0.006491079833380524, 0.006368701835553763, 0.005933447189154907, -0.005750738944182981, -0.008311552461943745, 0.004216624957535629, -0.004816225769748755, 0.0008668967081875705, -0.004050561736832272, -0.012441901320285192, 0.0014239878277423487, -0.0143716859352172, 0.006615692135480567, 0.012569970898169898, 0.01318353990742219, 0.008110216642414044, -0.0036249185097442056, 0.012847446004853713, -0.005001907756491637, -0.0015780593538171684, -0.0016120738149420966, 0.0002346443731864509, 0.006649042364132957, 0.011808828428189708, 0.0028435867866126495, -0.006356839941598664, -0.005452269790044441, -0.007572424427486901, 0.006755641577130145, 0.0033107391631101825, 0.010897424384304867, -0.007911587702195853, 0.009786199363758711, -0.004198370690626472, -0.006396446328902669, -0.0011448074640049574, 0.007010263590615702, 0.005319712252036754, 0.004202648641083086, -0.0003964421886571074, -0.0023572496307871383, -0.0010975225342430652, 0.009020427554179635, 0.0006567758975137334, -0.005418979361524737, 0.004706741866910804, -0.007449715707581984, -0.006202222455389944, -0.0013978085133588129, -0.008748512788578995, -0.004137960185891948, 0.006594463427212009, -0.00351820047759569, -0.0033631710351648965, -0.007904335938051149, 0.0018280591691565678, 0.0016200235442904323, -0.013655901365543252, -0.0001017028398057926, 0.0005422382575466724, -0.0008448658045728213, -0.0023677069119128263, 0.006986098089366053, -0.00944584092716257]}],\n                        {\"barmode\": \"overlay\", \"legend\": {\"bgcolor\": \"#F5F6F9\", \"font\": {\"color\": \"#4D5663\"}}, \"paper_bgcolor\": \"#F5F6F9\", \"plot_bgcolor\": \"#F5F6F9\", \"template\": {\"data\": {\"bar\": [{\"error_x\": {\"color\": \"#2a3f5f\"}, \"error_y\": {\"color\": \"#2a3f5f\"}, \"marker\": {\"line\": {\"color\": \"#E5ECF6\", \"width\": 0.5}}, \"type\": \"bar\"}], \"barpolar\": [{\"marker\": {\"line\": {\"color\": \"#E5ECF6\", \"width\": 0.5}}, \"type\": \"barpolar\"}], \"carpet\": [{\"aaxis\": {\"endlinecolor\": \"#2a3f5f\", \"gridcolor\": \"white\", \"linecolor\": \"white\", \"minorgridcolor\": \"white\", \"startlinecolor\": \"#2a3f5f\"}, \"baxis\": {\"endlinecolor\": \"#2a3f5f\", \"gridcolor\": \"white\", \"linecolor\": \"white\", \"minorgridcolor\": \"white\", \"startlinecolor\": \"#2a3f5f\"}, \"type\": \"carpet\"}], \"choropleth\": [{\"colorbar\": {\"outlinewidth\": 0, \"ticks\": \"\"}, \"type\": \"choropleth\"}], \"contour\": [{\"colorbar\": {\"outlinewidth\": 0, \"ticks\": \"\"}, \"colorscale\": [[0.0, \"#0d0887\"], [0.1111111111111111, \"#46039f\"], [0.2222222222222222, \"#7201a8\"], [0.3333333333333333, \"#9c179e\"], [0.4444444444444444, \"#bd3786\"], [0.5555555555555556, \"#d8576b\"], [0.6666666666666666, \"#ed7953\"], [0.7777777777777778, \"#fb9f3a\"], [0.8888888888888888, \"#fdca26\"], [1.0, \"#f0f921\"]], \"type\": \"contour\"}], \"contourcarpet\": [{\"colorbar\": {\"outlinewidth\": 0, \"ticks\": \"\"}, \"type\": \"contourcarpet\"}], \"heatmap\": [{\"colorbar\": {\"outlinewidth\": 0, \"ticks\": \"\"}, \"colorscale\": [[0.0, \"#0d0887\"], [0.1111111111111111, \"#46039f\"], [0.2222222222222222, \"#7201a8\"], [0.3333333333333333, \"#9c179e\"], [0.4444444444444444, \"#bd3786\"], [0.5555555555555556, \"#d8576b\"], [0.6666666666666666, \"#ed7953\"], [0.7777777777777778, \"#fb9f3a\"], [0.8888888888888888, \"#fdca26\"], [1.0, \"#f0f921\"]], \"type\": \"heatmap\"}], \"heatmapgl\": [{\"colorbar\": {\"outlinewidth\": 0, \"ticks\": \"\"}, \"colorscale\": [[0.0, \"#0d0887\"], [0.1111111111111111, \"#46039f\"], [0.2222222222222222, \"#7201a8\"], [0.3333333333333333, \"#9c179e\"], [0.4444444444444444, \"#bd3786\"], [0.5555555555555556, \"#d8576b\"], [0.6666666666666666, \"#ed7953\"], [0.7777777777777778, \"#fb9f3a\"], [0.8888888888888888, \"#fdca26\"], [1.0, \"#f0f921\"]], \"type\": \"heatmapgl\"}], \"histogram\": [{\"marker\": {\"colorbar\": {\"outlinewidth\": 0, \"ticks\": \"\"}}, \"type\": \"histogram\"}], \"histogram2d\": [{\"colorbar\": {\"outlinewidth\": 0, \"ticks\": \"\"}, \"colorscale\": [[0.0, \"#0d0887\"], [0.1111111111111111, \"#46039f\"], [0.2222222222222222, \"#7201a8\"], [0.3333333333333333, \"#9c179e\"], [0.4444444444444444, \"#bd3786\"], [0.5555555555555556, \"#d8576b\"], [0.6666666666666666, \"#ed7953\"], [0.7777777777777778, \"#fb9f3a\"], [0.8888888888888888, \"#fdca26\"], [1.0, \"#f0f921\"]], \"type\": \"histogram2d\"}], \"histogram2dcontour\": [{\"colorbar\": {\"outlinewidth\": 0, \"ticks\": \"\"}, \"colorscale\": [[0.0, \"#0d0887\"], [0.1111111111111111, \"#46039f\"], [0.2222222222222222, \"#7201a8\"], [0.3333333333333333, \"#9c179e\"], [0.4444444444444444, \"#bd3786\"], [0.5555555555555556, \"#d8576b\"], [0.6666666666666666, \"#ed7953\"], [0.7777777777777778, \"#fb9f3a\"], [0.8888888888888888, \"#fdca26\"], [1.0, \"#f0f921\"]], \"type\": \"histogram2dcontour\"}], \"mesh3d\": [{\"colorbar\": {\"outlinewidth\": 0, \"ticks\": \"\"}, \"type\": \"mesh3d\"}], \"parcoords\": [{\"line\": {\"colorbar\": {\"outlinewidth\": 0, \"ticks\": \"\"}}, \"type\": \"parcoords\"}], \"scatter\": [{\"marker\": {\"colorbar\": {\"outlinewidth\": 0, \"ticks\": \"\"}}, \"type\": \"scatter\"}], \"scatter3d\": [{\"line\": {\"colorbar\": {\"outlinewidth\": 0, \"ticks\": \"\"}}, \"marker\": {\"colorbar\": {\"outlinewidth\": 0, \"ticks\": \"\"}}, \"type\": \"scatter3d\"}], \"scattercarpet\": [{\"marker\": {\"colorbar\": {\"outlinewidth\": 0, \"ticks\": \"\"}}, \"type\": \"scattercarpet\"}], \"scattergeo\": [{\"marker\": {\"colorbar\": {\"outlinewidth\": 0, \"ticks\": \"\"}}, \"type\": \"scattergeo\"}], \"scattergl\": [{\"marker\": {\"colorbar\": {\"outlinewidth\": 0, \"ticks\": \"\"}}, \"type\": \"scattergl\"}], \"scattermapbox\": [{\"marker\": {\"colorbar\": {\"outlinewidth\": 0, \"ticks\": \"\"}}, \"type\": \"scattermapbox\"}], \"scatterpolar\": [{\"marker\": {\"colorbar\": {\"outlinewidth\": 0, \"ticks\": \"\"}}, \"type\": \"scatterpolar\"}], \"scatterpolargl\": [{\"marker\": {\"colorbar\": {\"outlinewidth\": 0, \"ticks\": \"\"}}, \"type\": \"scatterpolargl\"}], \"scatterternary\": [{\"marker\": {\"colorbar\": {\"outlinewidth\": 0, \"ticks\": \"\"}}, \"type\": \"scatterternary\"}], \"surface\": [{\"colorbar\": {\"outlinewidth\": 0, \"ticks\": \"\"}, \"colorscale\": [[0.0, \"#0d0887\"], [0.1111111111111111, \"#46039f\"], [0.2222222222222222, \"#7201a8\"], [0.3333333333333333, \"#9c179e\"], [0.4444444444444444, \"#bd3786\"], [0.5555555555555556, \"#d8576b\"], [0.6666666666666666, \"#ed7953\"], [0.7777777777777778, \"#fb9f3a\"], [0.8888888888888888, \"#fdca26\"], [1.0, \"#f0f921\"]], \"type\": \"surface\"}], \"table\": [{\"cells\": {\"fill\": {\"color\": \"#EBF0F8\"}, \"line\": {\"color\": \"white\"}}, \"header\": {\"fill\": {\"color\": \"#C8D4E3\"}, \"line\": {\"color\": \"white\"}}, \"type\": \"table\"}]}, \"layout\": {\"annotationdefaults\": {\"arrowcolor\": \"#2a3f5f\", \"arrowhead\": 0, \"arrowwidth\": 1}, \"colorscale\": {\"diverging\": [[0, \"#8e0152\"], [0.1, \"#c51b7d\"], [0.2, \"#de77ae\"], [0.3, \"#f1b6da\"], [0.4, \"#fde0ef\"], [0.5, \"#f7f7f7\"], [0.6, \"#e6f5d0\"], [0.7, \"#b8e186\"], [0.8, \"#7fbc41\"], [0.9, \"#4d9221\"], [1, \"#276419\"]], \"sequential\": [[0.0, \"#0d0887\"], [0.1111111111111111, \"#46039f\"], [0.2222222222222222, \"#7201a8\"], [0.3333333333333333, \"#9c179e\"], [0.4444444444444444, \"#bd3786\"], [0.5555555555555556, \"#d8576b\"], [0.6666666666666666, \"#ed7953\"], [0.7777777777777778, \"#fb9f3a\"], [0.8888888888888888, \"#fdca26\"], [1.0, \"#f0f921\"]], \"sequentialminus\": [[0.0, \"#0d0887\"], [0.1111111111111111, \"#46039f\"], [0.2222222222222222, \"#7201a8\"], [0.3333333333333333, \"#9c179e\"], [0.4444444444444444, \"#bd3786\"], [0.5555555555555556, \"#d8576b\"], [0.6666666666666666, \"#ed7953\"], [0.7777777777777778, \"#fb9f3a\"], [0.8888888888888888, \"#fdca26\"], [1.0, \"#f0f921\"]]}, \"colorway\": [\"#636efa\", \"#EF553B\", \"#00cc96\", \"#ab63fa\", \"#FFA15A\", \"#19d3f3\", \"#FF6692\", \"#B6E880\", \"#FF97FF\", \"#FECB52\"], \"font\": {\"color\": \"#2a3f5f\"}, \"geo\": {\"bgcolor\": \"white\", \"lakecolor\": \"white\", \"landcolor\": \"#E5ECF6\", \"showlakes\": true, \"showland\": true, \"subunitcolor\": \"white\"}, \"hoverlabel\": {\"align\": \"left\"}, \"hovermode\": \"closest\", \"mapbox\": {\"style\": \"light\"}, \"paper_bgcolor\": \"white\", \"plot_bgcolor\": \"#E5ECF6\", \"polar\": {\"angularaxis\": {\"gridcolor\": \"white\", \"linecolor\": \"white\", \"ticks\": \"\"}, \"bgcolor\": \"#E5ECF6\", \"radialaxis\": {\"gridcolor\": \"white\", \"linecolor\": \"white\", \"ticks\": \"\"}}, \"scene\": {\"xaxis\": {\"backgroundcolor\": \"#E5ECF6\", \"gridcolor\": \"white\", \"gridwidth\": 2, \"linecolor\": \"white\", \"showbackground\": true, \"ticks\": \"\", \"zerolinecolor\": \"white\"}, \"yaxis\": {\"backgroundcolor\": \"#E5ECF6\", \"gridcolor\": \"white\", \"gridwidth\": 2, \"linecolor\": \"white\", \"showbackground\": true, \"ticks\": \"\", \"zerolinecolor\": \"white\"}, \"zaxis\": {\"backgroundcolor\": \"#E5ECF6\", \"gridcolor\": \"white\", \"gridwidth\": 2, \"linecolor\": \"white\", \"showbackground\": true, \"ticks\": \"\", \"zerolinecolor\": \"white\"}}, \"shapedefaults\": {\"line\": {\"color\": \"#2a3f5f\"}}, \"ternary\": {\"aaxis\": {\"gridcolor\": \"white\", \"linecolor\": \"white\", \"ticks\": \"\"}, \"baxis\": {\"gridcolor\": \"white\", \"linecolor\": \"white\", \"ticks\": \"\"}, \"bgcolor\": \"#E5ECF6\", \"caxis\": {\"gridcolor\": \"white\", \"linecolor\": \"white\", \"ticks\": \"\"}}, \"title\": {\"x\": 0.05}, \"xaxis\": {\"automargin\": true, \"gridcolor\": \"white\", \"linecolor\": \"white\", \"ticks\": \"\", \"zerolinecolor\": \"white\", \"zerolinewidth\": 2}, \"yaxis\": {\"automargin\": true, \"gridcolor\": \"white\", \"linecolor\": \"white\", \"ticks\": \"\", \"zerolinecolor\": \"white\", \"zerolinewidth\": 2}}}, \"title\": {\"font\": {\"color\": \"#4D5663\"}, \"text\": \"Distribution of The Coca-Cola Company and Costco Wholesale Corporation\"}, \"xaxis\": {\"gridcolor\": \"#E1E5ED\", \"showgrid\": true, \"tickfont\": {\"color\": \"#4D5663\"}, \"title\": {\"font\": {\"color\": \"#4D5663\"}, \"text\": \"log return\"}, \"zerolinecolor\": \"#E1E5ED\"}, \"yaxis\": {\"gridcolor\": \"#E1E5ED\", \"showgrid\": true, \"tickfont\": {\"color\": \"#4D5663\"}, \"title\": {\"font\": {\"color\": \"#4D5663\"}, \"text\": \"Count\"}, \"zerolinecolor\": \"#E1E5ED\"}},\n                        {\"showLink\": true, \"linkText\": \"Export to plot.ly\", \"plotlyServerURL\": \"https://plot.ly\", \"responsive\": true}\n                    ).then(function(){\n                            \nvar gd = document.getElementById('3063fe54-6da8-4d0d-b51c-ed2ddb2a5be4');\nvar x = new MutationObserver(function (mutations, observer) {{\n        var display = window.getComputedStyle(gd).display;\n        if (!display || display === 'none') {{\n            console.log([gd, 'removed!']);\n            Plotly.purge(gd);\n            observer.disconnect();\n        }}\n}});\n\n// Listen for the removal of the full notebook cells\nvar notebookContainer = gd.closest('#notebook-container');\nif (notebookContainer) {{\n    x.observe(notebookContainer, {childList: true});\n}}\n\n// Listen for the clearing of the current output cell\nvar outputEl = gd.closest('.output');\nif (outputEl) {{\n    x.observe(outputEl, {childList: true});\n}}\n\n                        })\n                };\n                });\n            </script>\n        </div>"
         },
         "metadata": {},
         "output_type": "display_data"
        },
        {
         "name": "stdout",
         "output_type": "stream",
         "text": "Use t-test to test the equality of  The Coca-Cola Company and Costco Wholesale Corporation's population means\n\nthe t_statisc value is 0.13670614672269718\n\nthe p value value is 0.8913106063183117\n\nAccept null hypothesis that the means are equal.\n"
        }
       ]
      }
     },
     "3b89de5af1614f88a3884ef5497baad3": {
      "model_module": "@jupyter-widgets/controls",
      "model_module_version": "1.5.0",
      "model_name": "HBoxModel",
      "state": {
       "children": [
        "IPY_MODEL_250a235b3cd14a67ba0c36f94f96db44",
        "IPY_MODEL_440dbbdc4f1845b3a0241924949081e2"
       ],
       "layout": "IPY_MODEL_ee7b50238eb24cd6af88eb9f7a558860"
      }
     },
     "3f725beedfc846d1b7c83ba32016d122": {
      "model_module": "@jupyter-widgets/base",
      "model_module_version": "1.2.0",
      "model_name": "LayoutModel",
      "state": {}
     },
     "440dbbdc4f1845b3a0241924949081e2": {
      "model_module": "@jupyter-widgets/controls",
      "model_module_version": "1.5.0",
      "model_name": "DropdownModel",
      "state": {
       "_options_labels": [
        "Adj Close",
        "Close",
        "High",
        "Low",
        "Open",
        "Volume",
        "log_return"
       ],
       "description": "Second Type:   ",
       "index": 1,
       "layout": "IPY_MODEL_c24b4a26d6b240cb9d169369230c78b1",
       "style": "IPY_MODEL_8741845f2bf642419c7995d3521e5141"
      }
     },
     "44e443941b604d328bb75a7956227972": {
      "model_module": "@jupyter-widgets/base",
      "model_module_version": "1.2.0",
      "model_name": "LayoutModel",
      "state": {}
     },
     "467315c0541c447989467cc4d5b48b23": {
      "model_module": "@jupyter-widgets/controls",
      "model_module_version": "1.5.0",
      "model_name": "DescriptionStyleModel",
      "state": {
       "description_width": ""
      }
     },
     "4de56ca60143425d9d3c9995e7b15ccc": {
      "model_module": "@jupyter-widgets/controls",
      "model_module_version": "1.5.0",
      "model_name": "DescriptionStyleModel",
      "state": {
       "description_width": ""
      }
     },
     "53967a95a2454e94b8361a560535fb5a": {
      "model_module": "@jupyter-widgets/controls",
      "model_module_version": "1.5.0",
      "model_name": "DescriptionStyleModel",
      "state": {
       "description_width": ""
      }
     },
     "56d42b4492d64bde9b27408f9d1f63fe": {
      "model_module": "@jupyter-widgets/base",
      "model_module_version": "1.2.0",
      "model_name": "LayoutModel",
      "state": {}
     },
     "57008f5a3e184c248ad3ce1bcdc9d59a": {
      "model_module": "@jupyter-widgets/base",
      "model_module_version": "1.2.0",
      "model_name": "LayoutModel",
      "state": {}
     },
     "5934500d88044dcaa42f579e1ec87c83": {
      "model_module": "@jupyter-widgets/controls",
      "model_module_version": "1.5.0",
      "model_name": "HBoxModel",
      "state": {
       "children": [
        "IPY_MODEL_e1e09d5f2acf4f9f900be6a9ddedf6bf",
        "IPY_MODEL_0166243385ce405181565f12ebc98c59"
       ],
       "layout": "IPY_MODEL_1155376f03e345138176cd8cdb3fdcd6"
      }
     },
     "5ef7f954dee84e01be27a3a9d96ee51c": {
      "model_module": "@jupyter-widgets/base",
      "model_module_version": "1.2.0",
      "model_name": "LayoutModel",
      "state": {}
     },
     "649feebf7e294e238fd7966edf6006f3": {
      "model_module": "@jupyter-widgets/controls",
      "model_module_version": "1.5.0",
      "model_name": "DescriptionStyleModel",
      "state": {
       "description_width": ""
      }
     },
     "6d609d44fbb6400e9f23256009d90d3e": {
      "model_module": "@jupyter-widgets/base",
      "model_module_version": "1.2.0",
      "model_name": "LayoutModel",
      "state": {}
     },
     "7168f50a12524c84a122f91fe148b442": {
      "model_module": "@jupyter-widgets/controls",
      "model_module_version": "1.5.0",
      "model_name": "VBoxModel",
      "state": {
       "_dom_classes": [
        "widget-interact"
       ],
       "children": [
        "IPY_MODEL_9749bc8b362d4a79bbaf1cd7c802f931",
        "IPY_MODEL_abfc9417ba9249488530168e45203db8"
       ],
       "layout": "IPY_MODEL_d34c251ecd20473796d27d073bd66cae"
      }
     },
     "764cc92972e84e828926d34418bc7714": {
      "model_module": "@jupyter-widgets/base",
      "model_module_version": "1.2.0",
      "model_name": "LayoutModel",
      "state": {}
     },
     "7712ac6b3b6e46a186337152e1a9ae99": {
      "model_module": "@jupyter-widgets/base",
      "model_module_version": "1.2.0",
      "model_name": "LayoutModel",
      "state": {}
     },
     "797005bae0574a31a99fefb3d633c05c": {
      "model_module": "@jupyter-widgets/base",
      "model_module_version": "1.2.0",
      "model_name": "LayoutModel",
      "state": {}
     },
     "7a317c08570e40b084dfd0a76884ba91": {
      "model_module": "@jupyter-widgets/base",
      "model_module_version": "1.2.0",
      "model_name": "LayoutModel",
      "state": {}
     },
     "7debb2ead7a5474aa9a0044e7589ca3f": {
      "model_module": "@jupyter-widgets/controls",
      "model_module_version": "1.5.0",
      "model_name": "DescriptionStyleModel",
      "state": {
       "description_width": ""
      }
     },
     "8186a778682046f5b450dcae6a6f9af9": {
      "model_module": "@jupyter-widgets/controls",
      "model_module_version": "1.5.0",
      "model_name": "DescriptionStyleModel",
      "state": {
       "description_width": ""
      }
     },
     "8741845f2bf642419c7995d3521e5141": {
      "model_module": "@jupyter-widgets/controls",
      "model_module_version": "1.5.0",
      "model_name": "DescriptionStyleModel",
      "state": {
       "description_width": ""
      }
     },
     "8c71f5b480bb4c52b6137183cbae1bdb": {
      "model_module": "@jupyter-widgets/base",
      "model_module_version": "1.2.0",
      "model_name": "LayoutModel",
      "state": {}
     },
     "8d89cee2830d408a8c8c495bf0e7f49c": {
      "model_module": "@jupyter-widgets/controls",
      "model_module_version": "1.5.0",
      "model_name": "HBoxModel",
      "state": {
       "children": [
        "IPY_MODEL_dc175d5239024a808bdea6729240f6cf",
        "IPY_MODEL_174f4b33c50a401b920b2bb51a9d883e",
        "IPY_MODEL_e2f79f6f944d42efb420d087e99289e5"
       ],
       "layout": "IPY_MODEL_32eba86ea3044326bd1b7cc2e73daf2f"
      }
     },
     "900ac3a8def9482da1e7145ebf210f66": {
      "model_module": "@jupyter-widgets/base",
      "model_module_version": "1.2.0",
      "model_name": "LayoutModel",
      "state": {}
     },
     "92927f42ea634896aabfb54f9be8326e": {
      "model_module": "@jupyter-widgets/controls",
      "model_module_version": "1.5.0",
      "model_name": "HBoxModel",
      "state": {
       "children": [
        "IPY_MODEL_9749bc8b362d4a79bbaf1cd7c802f931",
        "IPY_MODEL_e2f79f6f944d42efb420d087e99289e5"
       ],
       "layout": "IPY_MODEL_56d42b4492d64bde9b27408f9d1f63fe"
      }
     },
     "93e60288672a4f0caf8394676d6667fe": {
      "model_module": "@jupyter-widgets/controls",
      "model_module_version": "1.5.0",
      "model_name": "DescriptionStyleModel",
      "state": {
       "description_width": ""
      }
     },
     "9749bc8b362d4a79bbaf1cd7c802f931": {
      "model_module": "@jupyter-widgets/controls",
      "model_module_version": "1.5.0",
      "model_name": "DropdownModel",
      "state": {
       "_options_labels": [
        "Campbell Soup Company",
        "Colgate-Palmolive Company",
        "Costco Wholesale Corporation",
        "J.M.Smucker Company",
        "Kellogg Company",
        "PepsiCo, Inc.",
        "The Coca-Cola Company",
        "The Hershey Company",
        "The Kraft Heinz Company",
        "Walmart Inc."
       ],
       "description": "Symbol:   ",
       "index": 6,
       "layout": "IPY_MODEL_900ac3a8def9482da1e7145ebf210f66",
       "style": "IPY_MODEL_8186a778682046f5b450dcae6a6f9af9"
      }
     },
     "9d1d1bc2fbe645529ead870fe1d8bace": {
      "model_module": "@jupyter-widgets/output",
      "model_module_version": "1.0.0",
      "model_name": "OutputModel",
      "state": {
       "layout": "IPY_MODEL_c018c20c46bd423cacb894f640e5b570",
       "outputs": [
        {
         "data": {
          "application/vnd.plotly.v1+json": {
           "config": {
            "linkText": "Export to plot.ly",
            "plotlyServerURL": "https://plot.ly",
            "showLink": false
           },
           "data": [
            {
             "mode": "markers",
             "name": "data",
             "type": "scatter",
             "x": [
              -0.005318535782994701,
              -0.009075299482667377,
              -0.017129071204592318,
              0.017259790070912523,
              -0.0026707990207570976,
              -0.0011350143406991123,
              0.0037000405706446153,
              -0.024055783439575037,
              0.013207771676962354,
              -0.002370285242292577,
              -0.00938768597013776,
              -0.008287354561257305,
              -0.010635035538294247,
              -0.009730454697730755,
              -0.005602241181597402,
              0.028170907242071087,
              -0.0038819630441622854,
              0.01245062428471898,
              -0.005663370171849665,
              0.0006716395345275686,
              0.004581699690728606,
              -0.007340277793991603,
              0.0014161289150315995,
              0.00312992949932392,
              0.0021738807282999473,
              -0.02874446633942856,
              0.008116726009972564,
              -0.008887017314951048,
              -0.03548138556828052,
              -0.000440344739173351,
              -0.014722450604758613,
              -0.013119082124577502,
              0.007317656668663355,
              0.008748585606529214,
              0.007816867878874147,
              0.00021555074965139154,
              -0.007442280180801713,
              -0.014512792854172363,
              -0.002768834772919241,
              0.005610334571718258,
              0.002070159492580687,
              0.005333362812766757,
              -0.011973852235352857,
              -0.008502877401094589,
              0.005471921095816496,
              0.004855906160526096,
              0.001921200890390417,
              0.0010875310837112663,
              0.003472827930694772,
              -0.0006039009696893571,
              -0.0256537700617671,
              0.010281782609566859,
              -0.00043573983107514407,
              -0.004244715139612822,
              0.004527713435912795,
              0.0017463007557298644,
              -0.0014217468416307432,
              -0.00784832061521262,
              -0.004627151543465675,
              -0.00036901214784000705,
              -0.004148900511748216,
              -0.000676791425281311,
              -0.006433359080455578,
              0.010662019209796127,
              0.010598084646865428,
              0.011258844481856888,
              -0.0049719366896926655,
              0.0025564336572735666,
              -0.007794301506256358,
              -0.004612572036904649,
              0.017678053460778692,
              -0.0024911590816613506,
              0.010499961110606557,
              0.00021956176497964078,
              0.0044397461961495745,
              0.006272177691567977,
              0.011906212456662724,
              -0.014774031285249723,
              0.003101977044308911,
              0.01654263465393853,
              0.002859283878758571,
              -0.0004393773884522956,
              -0.007381633004490079,
              -0.006338146204471079,
              -0.0038387909228638868,
              -0.000430024897300676,
              -0.013452695735040649,
              0.0010858777693706072,
              -0.013640725124043749,
              -0.0004487425932315741,
              -0.005839986077335385,
              -0.004455359500983664,
              0.008220797157147816,
              0.005176531064046777,
              0.007045796223796003,
              -0.001558492876898507,
              -0.008284352179316234,
              0.016760699921699464,
              -0.00456243892198649,
              0.0010705329604392439,
              0.009974593920742392,
              0.005834619497147999,
              0.011348887402612081,
              -0.004263599663019349,
              -0.005899722127188271,
              -0.0010998142885794684,
              0.007594411385373729,
              0.001815661355062383,
              0.007590182086494061,
              -0.007073050940638605,
              0.0016096951126981735,
              -0.013031662224813534,
              -0.004592641372588826,
              0.0003880570120204892,
              0.0022319297221512564,
              0.0032619692703019488,
              -0.001550209516883531,
              0.004257286279417821,
              0.009950347639514521,
              -0.0006854514084268913,
              0.00041920892141668765,
              0.016318328459261677,
              -0.008196798600864304,
              -0.006545180660328334,
              -0.010131799243682795,
              0.0035810211309792827,
              0.002917871828124421,
              0.006813445831681077,
              -0.0031092105173736884,
              0.0010032956809385106,
              -0.005008830698706314,
              -0.0037002782335708996,
              -0.006850056994333845,
              0.007627491867094704,
              0.016090838194097942,
              0.004100240343946087,
              0.008032177420741046,
              -0.008663638996272522,
              0.003855069658217859,
              0.015575021914295668,
              0.002404089384740399,
              -0.0006717899730184395,
              -0.009228849979095318,
              -0.0036159201629814603,
              -0.004828749693910991,
              -0.004102752240052645,
              0.005758561289342751,
              0.0017316417689299593,
              0.0067501914571231605,
              -0.0028128819366779515,
              0.006633923780559553,
              0.003967411449766391,
              -0.002952410498058216,
              0.001320873788328809,
              0.003621740425914703,
              0.00690449796917017,
              -0.001437067519021456,
              0.009066611794297819,
              -0.002177839899880737,
              -0.007279622755881904,
              0.006879422788530908,
              -0.003919789212676763,
              0.0023827718014738167,
              -0.0014651952927564479,
              0.0009612465570264075,
              -0.00040503155887021164,
              -0.008723983414266667,
              0.0028925512985040493,
              -0.0037950544861055538,
              -0.004168609647141871,
              0.008859407456396223,
              0.014397883944064173,
              0.0021982559914087403,
              -0.008403362643765351,
              0.009045897698850204,
              0,
              -0.007548973968951917,
              0.004121898222069567,
              0.021433226541514788,
              -0.0010594990308014916,
              0.005080162052732044,
              0.00018541359376606254,
              0.008199021261955054,
              -0.006475292160293259,
              -0.01054490345582453,
              -0.0038404694506749605,
              -0.005183550866160614,
              -0.0015899990265812508,
              0.010808457851380564,
              -0.003575504638428773,
              -0.009005935177590985,
              0.0024921909645911205,
              0.0018756867649948323,
              0.006324818382830186,
              0.009263649457280988,
              0.010424256769801122,
              -0.007314629045237663,
              -0.01020833701010248,
              0.009684234677880137,
              0.002360682698765846,
              0.0035440444224387195,
              0.0027147464893949504,
              -0.0030187197312072584,
              -0.003148178579572494,
              0.010819719160973768,
              0.013482347991940237,
              0.0029936939960978613,
              0.018071403542482878,
              0.02277805266665878,
              -0.006726947731562226,
              -0.00864994137161257,
              0.0003707908378715779,
              -0.01431185610635248,
              0.015993259893476313,
              0.0060301793017041435,
              0.00038850927451566805,
              0.010285706696857118,
              -0.006902419900313324,
              0.004514647616597407,
              -0.008768364884018826,
              0.002314780486252647,
              -0.00043030244080290516,
              -0.0028889700714951907,
              -0.011220050033591703,
              0.0025353660019902047,
              0.009366303507382314,
              0.0019546135539726464,
              -0.00019221939637929734,
              -0.004532089487303559,
              0.00021480978741565148,
              0.00472503904283113,
              -0.0028024947683054522,
              0.012773840584797752,
              0.011111225425070849,
              0.010671637840727326,
              -0.0004551765558920898,
              -0.003819528216167009,
              0.00530504149374492,
              -0.004046377141832813,
              0.004398124345545421,
              0.014272631081932512,
              0.007934358583812409,
              -0.011509178245094023,
              0.0025845169296742467,
              -0.004640397217137494,
              0.004486341380377129,
              -0.001981291794428346,
              -0.0143648656150635,
              0.004228352137087397,
              0.004221728973387437,
              -0.002629129924203389,
              0.008381902483037567,
              0.003016580398019569,
              0.00046394012350131994,
              0.010850800476343724,
              -0.004457619994301754,
              -0.010708808610630885,
              -0.005762484186348395,
              -0.0014698115930327218,
              -0.0013068518260100862,
              0.0005610583369266717,
              -0.0025167192915436717,
              -0.004048610978896019,
              0.006932430187221132,
              0.002776912318089041,
              0.005593481452508877,
              -0.0011267148345713346,
              0.006538067785720013,
              -0.0136118773598879,
              -0.0021186124980607916,
              -0.00021302485745776018,
              -0.017610528324951732,
              -0.004797334180642708,
              -0.013180440490147705,
              0.0026297389387777283,
              0.01012833209587102,
              0.011006549629246609,
              0.008201325183423853,
              0.002663684789965606,
              -0.012574065287931565,
              -0.003466955774609471,
              0.010324408232304415,
              0,
              -0.01658220129537894,
              0.006128732555090718,
              -0.0030056528547335207,
              0.007215357252196822,
              -0.004279013031360403,
              0.00633503426861058,
              -0.002591143274872804,
              -0.009407800387192179,
              -0.0018168984128270978,
              -0.0038577052934654203,
              0.0010724516150221477,
              0.0012987312383333544,
              0.004864064927760841,
              0.0010155223453770425,
              -0.0021445101898839823,
              0.0008433674391928178,
              -0.015313085526837127
             ],
             "xaxis": "x",
             "y": [
              0.005215004559142926,
              -0.003636160427249254,
              -0.009259570617707099,
              0.022563983900408646,
              -0.01419108172173986,
              0.017739337046302435,
              0.00016884805035750151,
              0.008641780033186275,
              -0.006888896509237564,
              0.002198945782668091,
              0.00582562206041941,
              0.0010583597748912122,
              -0.00025202446709360246,
              -0.03620400803986048,
              -0.0033631710351648965,
              -0.001771189356605959,
              0.007055769794211223,
              -0.002689041060149333,
              -0.016102581586362408,
              0.014181726767764156,
              -0.002898514135625235,
              0.007688224940002988,
              -0.002668340308443246,
              -0.001278659885815492,
              0.011397115724043465,
              -0.02525853239588777,
              0.005125464871887898,
              0.0031899827458877913,
              -0.020371062661599555,
              0.01280403105597175,
              -0.0024115019500461758,
              0.0071754196752002565,
              0.015950638692324607,
              0.011891567972143706,
              0.009786199363758711,
              8.924104580760819e-05,
              0.001148146920257954,
              0.0010894170422361868,
              0.000979836458897509,
              -0.007355328126248406,
              0.001287018104418324,
              -0.005750738944182981,
              -0.003305769734301378,
              0.008110216642414044,
              -0.002376235495258017,
              -0.0004793425089767618,
              0.014973701121588561,
              0.006173454379864995,
              -0.002022201702067277,
              0.008721243898292368,
              -0.004901843786143046,
              0.0033593987021129697,
              0.009004406975282908,
              0.0005422382575466724,
              -0.017583575522580913,
              0.00102695987402044,
              0.00999543423229822,
              -0.011712244388864439,
              -0.006162125643974935,
              -0.013655901365543252,
              0.0022245740475218797,
              -0.005572165363379457,
              0.007730702433902968,
              -0.0037900537189983043,
              0.020710449673090357,
              0.004504739729005402,
              0.0008668967081875705,
              0.01620664380852987,
              -0.007685711961345151,
              -0.00800486177832375,
              -0.005993784558474448,
              0.010576788272968578,
              0.010486250790737086,
              -0.0019807462212721523,
              -0.023153351324947332,
              0.007341779714306691,
              0.01786278999874814,
              0.0033107391631101825,
              0.008828858238200609,
              0.005365546941433569,
              -0.00021097889294635256,
              0.012011402628359924,
              -0.015402929360736931,
              0.00017504613865683148,
              0.0039797250491253,
              0.002773408660836464,
              -0.006396446328902669,
              -0.008908233831429252,
              -0.012052936293776588,
              -0.007667476207667649,
              -0.0037406757865798613,
              -0.0012318068800767888,
              0.005855476281525577,
              -0.0029431071869402328,
              -0.0004023095346682603,
              0.0017361814845353555,
              -0.0047113592529195465,
              0.02070215140686668,
              0.01337473352253647,
              0.005955707845074248,
              0.016456809192854457,
              0.016394220472674467,
              -0.015219364086714426,
              0.012847446004853713,
              -0.003762326018213048,
              0.009277844434050856,
              0.007087697903573503,
              0.02507832464823806,
              0.004833982399373265,
              -0.010323355215498764,
              -0.010297347219680748,
              0.0005744007464747363,
              -0.012441901320285192,
              -0.0024018932102329604,
              -0.05148646824193754,
              0.0007404364092154026,
              -0.0017196681948717756,
              0.004216624957535629,
              0.009779733661174095,
              -0.0020652377456528968,
              -0.0028209050775910155,
              0.01665481298433499,
              0.0032862809170800065,
              -0.0015780593538171684,
              -0.009173837399830522,
              0.006583723974547762,
              -0.009052802252279842,
              0.010450254156898245,
              0.0017535794343824847,
              -0.0026018936436263142,
              -0.0008448658045728213,
              0.012082305264238006,
              -0.00468133674131432,
              -0.011989410069418468,
              0.007371331911111133,
              0.01308273735529218,
              -0.007904335938051149,
              -0.0035734875690422107,
              0.005855766747267529,
              0.005848872880092158,
              0.006986098089366053,
              0.011901454234225211,
              -0.002437062412446641,
              0.00587728831547861,
              -0.005776307352313631,
              0.0025636897649495348,
              0.007850049360278555,
              -0.010503943391496484,
              0.004294845768811796,
              0.009111390588558657,
              -0.0032486553297108875,
              -0.012468913926924095,
              0.0016212724161183707,
              -0.008748512788578995,
              0.0026821996921838386,
              0.012753876194436747,
              0.003690047435983705,
              0.0016200235442904323,
              -0.010931987475839,
              0.009010964684465139,
              0.0027091199028566174,
              -0.00508505433196796,
              -0.001164224147223752,
              0.00620393195886991,
              0.0153409899518247,
              0.006762403185995225,
              0.001069175817251807,
              0.0056663928357840974,
              0.01512566117347113,
              0.00856202357737693,
              -0.00944584092716257,
              0.00470234087477056,
              -0.0143716859352172,
              0.011608572433888685,
              -0.0029027935023479144,
              -0.007245091229141819,
              0.0010189307809908854,
              0.004352117892617611,
              0.021374553359648673,
              0.009965568763337526,
              0.000576733259259844,
              -0.0023677069119128263,
              0.002515948038230637,
              0.02802100537159575,
              0.005191663908611835,
              -0.003960582939282217,
              0.0032632917784181275,
              -0.006784598058172956,
              0.009819383669875581,
              0.006939314205934375,
              -0.00695114314173141,
              0.0037941744012244386,
              0.022634335301296736,
              0.003079731983705523,
              -0.0050254007028146756,
              0.01051818549032028,
              -0.004741112737735846,
              -0.009063392774603999,
              0.008251211057505856,
              0.0001001403418038114,
              -0.004783116932985643,
              -0.0013596303160807778,
              -0.004076135910136522,
              0.001993063642028604,
              -0.0025222805925816587,
              0.008326382678483206,
              0.006566613407503981,
              0.033526941409602364,
              0.009448491866784212,
              0.001618242194956032,
              0.0003053000089323623,
              -0.00351820047759569,
              -0.004288393910621426,
              0.004423816260370266,
              -0.0077203574272587585,
              0.01912634353543357,
              -0.00917650089289715,
              -0.0023334953477762285,
              -0.0030651676796065543,
              -0.009841583319445898,
              0.003464121831841594,
              0.0037079617893896917,
              0.0038394430091477716,
              0.004202648641083086,
              0.01027129523557351,
              -0.004281470088940883,
              0.014099826822064263,
              0.0025127561314112496,
              0.014154953787814666,
              0.0021522363946835468,
              -0.0008162807950838697,
              -0.012298106503547606,
              0.00930426087039948,
              0.00438168997667604,
              -0.007572424427486901,
              -0.0035453252201045047,
              0.007690905484745555,
              -0.006161769945407484,
              0.005840874436169359,
              0.009020427554179635,
              0.016080792840516757,
              0,
              -0.013402389309067108,
              0.006368701835553763,
              -0.00993832249764947,
              0.007740832741432957,
              -0.0014571590358533955,
              -0.008311552461943745,
              -4.7594158812706664e-05,
              -0.005145392555718048,
              0.0228139942515672,
              0.007440937882475508,
              0.009166251012591612,
              0.008558857722434882,
              0.0033582877618071783,
              -0.0027510924644877015,
              -0.014058609186328234,
              0.004597122961847903,
              -0.004050561736832272,
              -0.027850894684344894,
              0.006649042364132957,
              0.0022621257651528853,
              -0.006356839941598664,
              -0.008840110649624621,
              -0.003752551643956823,
              0.011091090663358021,
              -0.004137960185891948,
              -0.0134805929117724,
              -0.022228460576399347,
              -0.0022462848804435443,
              0.02102428801542832,
              -0.014855455345775039,
              0.0037263412503103677,
              -0.0013603732900553305,
              -0.0003850129057724205,
              0.004485753042585073,
              0.006594463427212009,
              0.0036527676687845108,
              0.014259438705107668,
              -0.015211555780317831,
              -0.001778171294205897,
              -0.010868460464794717,
              -0.008296848277288047,
              -0.01222402012402455,
              0.021572276166516368,
              0.010389457135675526,
              -0.004752828410301529,
              0.0013445043947801975,
              0.012569970898169898,
              -0.006491079833380524,
              -0.0023572496307871383,
              -0.011914557028722995,
              -0.014448135747386041,
              0.005808903253775206,
              -0.004931369442520252,
              0.0011435629804117742,
              -0.0031141836255280915,
              0.005153816482796884,
              0.0003101610748422971,
              -0.0011448074640049574
             ],
             "yaxis": "y"
            },
            {
             "mode": "lines",
             "name": "fit",
             "type": "scatter",
             "x": [
              -0.005318535782994701,
              -0.009075299482667377,
              -0.017129071204592318,
              0.017259790070912523,
              -0.0026707990207570976,
              -0.0011350143406991123,
              0.0037000405706446153,
              -0.024055783439575037,
              0.013207771676962354,
              -0.002370285242292577,
              -0.00938768597013776,
              -0.008287354561257305,
              -0.010635035538294247,
              -0.009730454697730755,
              -0.005602241181597402,
              0.028170907242071087,
              -0.0038819630441622854,
              0.01245062428471898,
              -0.005663370171849665,
              0.0006716395345275686,
              0.004581699690728606,
              -0.007340277793991603,
              0.0014161289150315995,
              0.00312992949932392,
              0.0021738807282999473,
              -0.02874446633942856,
              0.008116726009972564,
              -0.008887017314951048,
              -0.03548138556828052,
              -0.000440344739173351,
              -0.014722450604758613,
              -0.013119082124577502,
              0.007317656668663355,
              0.008748585606529214,
              0.007816867878874147,
              0.00021555074965139154,
              -0.007442280180801713,
              -0.014512792854172363,
              -0.002768834772919241,
              0.005610334571718258,
              0.002070159492580687,
              0.005333362812766757,
              -0.011973852235352857,
              -0.008502877401094589,
              0.005471921095816496,
              0.004855906160526096,
              0.001921200890390417,
              0.0010875310837112663,
              0.003472827930694772,
              -0.0006039009696893571,
              -0.0256537700617671,
              0.010281782609566859,
              -0.00043573983107514407,
              -0.004244715139612822,
              0.004527713435912795,
              0.0017463007557298644,
              -0.0014217468416307432,
              -0.00784832061521262,
              -0.004627151543465675,
              -0.00036901214784000705,
              -0.004148900511748216,
              -0.000676791425281311,
              -0.006433359080455578,
              0.010662019209796127,
              0.010598084646865428,
              0.011258844481856888,
              -0.0049719366896926655,
              0.0025564336572735666,
              -0.007794301506256358,
              -0.004612572036904649,
              0.017678053460778692,
              -0.0024911590816613506,
              0.010499961110606557,
              0.00021956176497964078,
              0.0044397461961495745,
              0.006272177691567977,
              0.011906212456662724,
              -0.014774031285249723,
              0.003101977044308911,
              0.01654263465393853,
              0.002859283878758571,
              -0.0004393773884522956,
              -0.007381633004490079,
              -0.006338146204471079,
              -0.0038387909228638868,
              -0.000430024897300676,
              -0.013452695735040649,
              0.0010858777693706072,
              -0.013640725124043749,
              -0.0004487425932315741,
              -0.005839986077335385,
              -0.004455359500983664,
              0.008220797157147816,
              0.005176531064046777,
              0.007045796223796003,
              -0.001558492876898507,
              -0.008284352179316234,
              0.016760699921699464,
              -0.00456243892198649,
              0.0010705329604392439,
              0.009974593920742392,
              0.005834619497147999,
              0.011348887402612081,
              -0.004263599663019349,
              -0.005899722127188271,
              -0.0010998142885794684,
              0.007594411385373729,
              0.001815661355062383,
              0.007590182086494061,
              -0.007073050940638605,
              0.0016096951126981735,
              -0.013031662224813534,
              -0.004592641372588826,
              0.0003880570120204892,
              0.0022319297221512564,
              0.0032619692703019488,
              -0.001550209516883531,
              0.004257286279417821,
              0.009950347639514521,
              -0.0006854514084268913,
              0.00041920892141668765,
              0.016318328459261677,
              -0.008196798600864304,
              -0.006545180660328334,
              -0.010131799243682795,
              0.0035810211309792827,
              0.002917871828124421,
              0.006813445831681077,
              -0.0031092105173736884,
              0.0010032956809385106,
              -0.005008830698706314,
              -0.0037002782335708996,
              -0.006850056994333845,
              0.007627491867094704,
              0.016090838194097942,
              0.004100240343946087,
              0.008032177420741046,
              -0.008663638996272522,
              0.003855069658217859,
              0.015575021914295668,
              0.002404089384740399,
              -0.0006717899730184395,
              -0.009228849979095318,
              -0.0036159201629814603,
              -0.004828749693910991,
              -0.004102752240052645,
              0.005758561289342751,
              0.0017316417689299593,
              0.0067501914571231605,
              -0.0028128819366779515,
              0.006633923780559553,
              0.003967411449766391,
              -0.002952410498058216,
              0.001320873788328809,
              0.003621740425914703,
              0.00690449796917017,
              -0.001437067519021456,
              0.009066611794297819,
              -0.002177839899880737,
              -0.007279622755881904,
              0.006879422788530908,
              -0.003919789212676763,
              0.0023827718014738167,
              -0.0014651952927564479,
              0.0009612465570264075,
              -0.00040503155887021164,
              -0.008723983414266667,
              0.0028925512985040493,
              -0.0037950544861055538,
              -0.004168609647141871,
              0.008859407456396223,
              0.014397883944064173,
              0.0021982559914087403,
              -0.008403362643765351,
              0.009045897698850204,
              0,
              -0.007548973968951917,
              0.004121898222069567,
              0.021433226541514788,
              -0.0010594990308014916,
              0.005080162052732044,
              0.00018541359376606254,
              0.008199021261955054,
              -0.006475292160293259,
              -0.01054490345582453,
              -0.0038404694506749605,
              -0.005183550866160614,
              -0.0015899990265812508,
              0.010808457851380564,
              -0.003575504638428773,
              -0.009005935177590985,
              0.0024921909645911205,
              0.0018756867649948323,
              0.006324818382830186,
              0.009263649457280988,
              0.010424256769801122,
              -0.007314629045237663,
              -0.01020833701010248,
              0.009684234677880137,
              0.002360682698765846,
              0.0035440444224387195,
              0.0027147464893949504,
              -0.0030187197312072584,
              -0.003148178579572494,
              0.010819719160973768,
              0.013482347991940237,
              0.0029936939960978613,
              0.018071403542482878,
              0.02277805266665878,
              -0.006726947731562226,
              -0.00864994137161257,
              0.0003707908378715779,
              -0.01431185610635248,
              0.015993259893476313,
              0.0060301793017041435,
              0.00038850927451566805,
              0.010285706696857118,
              -0.006902419900313324,
              0.004514647616597407,
              -0.008768364884018826,
              0.002314780486252647,
              -0.00043030244080290516,
              -0.0028889700714951907,
              -0.011220050033591703,
              0.0025353660019902047,
              0.009366303507382314,
              0.0019546135539726464,
              -0.00019221939637929734,
              -0.004532089487303559,
              0.00021480978741565148,
              0.00472503904283113,
              -0.0028024947683054522,
              0.012773840584797752,
              0.011111225425070849,
              0.010671637840727326,
              -0.0004551765558920898,
              -0.003819528216167009,
              0.00530504149374492,
              -0.004046377141832813,
              0.004398124345545421,
              0.014272631081932512,
              0.007934358583812409,
              -0.011509178245094023,
              0.0025845169296742467,
              -0.004640397217137494,
              0.004486341380377129,
              -0.001981291794428346,
              -0.0143648656150635,
              0.004228352137087397,
              0.004221728973387437,
              -0.002629129924203389,
              0.008381902483037567,
              0.003016580398019569,
              0.00046394012350131994,
              0.010850800476343724,
              -0.004457619994301754,
              -0.010708808610630885,
              -0.005762484186348395,
              -0.0014698115930327218,
              -0.0013068518260100862,
              0.0005610583369266717,
              -0.0025167192915436717,
              -0.004048610978896019,
              0.006932430187221132,
              0.002776912318089041,
              0.005593481452508877,
              -0.0011267148345713346,
              0.006538067785720013,
              -0.0136118773598879,
              -0.0021186124980607916,
              -0.00021302485745776018,
              -0.017610528324951732,
              -0.004797334180642708,
              -0.013180440490147705,
              0.0026297389387777283,
              0.01012833209587102,
              0.011006549629246609,
              0.008201325183423853,
              0.002663684789965606,
              -0.012574065287931565,
              -0.003466955774609471,
              0.010324408232304415,
              0,
              -0.01658220129537894,
              0.006128732555090718,
              -0.0030056528547335207,
              0.007215357252196822,
              -0.004279013031360403,
              0.00633503426861058,
              -0.002591143274872804,
              -0.009407800387192179,
              -0.0018168984128270978,
              -0.0038577052934654203,
              0.0010724516150221477,
              0.0012987312383333544,
              0.004864064927760841,
              0.0010155223453770425,
              -0.0021445101898839823,
              0.0008433674391928178,
              -0.015313085526837127
             ],
             "xaxis": "x",
             "y": [
              -0.0010137704725222416,
              -0.002423251335361403,
              -0.005444904551590433,
              0.007457275552757891,
              -2.037972597760643e-05,
              0.0005558234342509436,
              0.0023698628344158415,
              -0.008043702111962054,
              0.005937019598772109,
              9.236849393362589e-05,
              -0.002540454015939214,
              -0.0021276263303083654,
              -0.003008440689080366,
              -0.002669055653024919,
              -0.0011202124427876336,
              0.011550961521423882,
              -0.00047479013057602016,
              0.005652949360388845,
              -0.0011431471144393943,
              0.0012336526155561417,
              0.002700647987981469,
              -0.0017722974659411727,
              0.0015129737595766836,
              0.00215596579191906,
              0.001797270767577604,
              -0.009802824949483237,
              0.004026936342780374,
              -0.002352610716620022,
              -0.012330415047414424,
              0.0008164529514686427,
              -0.004541976938689025,
              -0.003940417359870774,
              0.003727137623804528,
              0.004264000497075057,
              0.003914434111834423,
              0.001062535008639702,
              -0.0018105672171595671,
              -0.004463316524880466,
              -5.7161255930800875e-05,
              0.0030865762218307458,
              0.001758356130271812,
              0.0029826606112154028,
              -0.003510744444176291,
              -0.0022084872368066553,
              0.003034645581247847,
              0.0028035261039726133,
              0.0017024691179583279,
              0.0013896888282255806,
              0.002284616091898506,
              0.0007550891300149518,
              -0.008643242499143968,
              0.004839232800062919,
              0.0008181806432689337,
              -0.0006108892247343471,
              0.0026803931625246865,
              0.0016368492354159364,
              0.000448245741021966,
              -0.0019629074407118063,
              -0.0007543735733854457,
              0.0008432158597638424,
              -0.0005749410269898405,
              0.000727741734635935,
              -0.001432035295341751,
              0.004981891815699403,
              0.004957904535654972,
              0.005205811621861743,
              -0.0008837317402141146,
              0.0019407988346898275,
              -0.001942640288878938,
              -0.0007489035632569955,
              0.007614201644141803,
              4.701845942838793e-05,
              0.004921090070437733,
              0.001064039880864222,
              0.0026473891859866237,
              0.0033348897401154396,
              0.005448694284879188,
              -0.004561329229079494,
              0.002145478453996672,
              0.007188209698018516,
              0.0020544236526486752,
              0.0008168158868135248,
              -0.0017878133148036832,
              -0.001396312865792157,
              -0.000458592604289348,
              0.0008203247998972061,
              -0.00406558413561753,
              0.0013890685297160898,
              -0.004136129915612769,
              0.0008133022037692298,
              -0.0012094107282186752,
              -0.0006899197999720305,
              0.004065982261566806,
              0.0029238197135231492,
              0.0036251397008484317,
              0.00039694069891994734,
              -0.0021264998820600387,
              0.0072700244849814855,
              -0.0007300943775534021,
              0.0013833113897249415,
              0.004723980254842558,
              0.00317072453018564,
              0.005239594362482253,
              -0.0006179744120054171,
              -0.001231822789721661,
              0.0005690299608786104,
              0.003830971803457013,
              0.0016628722821683199,
              0.0038293850345488063,
              -0.0016720379963688398,
              0.0015855968663553584,
              -0.003907618737013721,
              -0.0007414258797552964,
              0.001127256746541487,
              0.0018190498712107703,
              0.002205505114912256,
              0.00040004849018777,
              0.002578932987665968,
              0.004714883417213756,
              0.0007244926400715715,
              0.0011389444713080638,
              0.007104053409764122,
              -0.002093651104983154,
              -0.0014739890591349922,
              -0.002819634050322987,
              0.0023252085426037844,
              0.0020764049642311285,
              0.003537965351504155,
              -0.00018486508197260837,
              0.0013580849804264517,
              -0.0008975738138219606,
              -0.000406624740344149,
              -0.0015883740438362576,
              0.003843383099361325,
              0.0070187025064697706,
              0.0025200117303472366,
              0.00399521499216355,
              -0.002268802553392188,
              0.0024280274009380698,
              0.006825176047729356,
              0.001883641570122625,
              0.0007296182038031428,
              -0.002480861156871735,
              -0.000374974869437387,
              -0.0008300101472432056,
              -0.0005576268941329676,
              0.0031421886421358586,
              0.0016313494055051865,
              0.0035142332678391613,
              -7.368708490046818e-05,
              0.003470611395881269,
              0.002470176340276075,
              -0.00012603608867254386,
              0.0014772354781972608,
              0.002340485805574777,
              0.003572126734963716,
              0.00044249765481951906,
              0.004383319107819885,
              0.00016457107279043586,
              -0.0017495406139576824,
              0.0035627189068252693,
              -0.0004889819363157134,
              0.0018756435356285083,
              0.0004319445399677131,
              0.0013423087857569744,
              0.0008297019220780001,
              -0.0022914428654111007,
              0.0020669050848695454,
              -0.0004421833553858259,
              -0.0005823355961938825,
              0.004305579177306021,
              0.006383531703128392,
              0.0018064159972553467,
              -0.0021711508065068563,
              0.00437554749281866,
              0.0009816636308017128,
              -0.0018505971111331034,
              0.0025281374383196087,
              0.00902308573083788,
              0.0005841556352252394,
              0.0028876635195015017,
              0.0010512280040270688,
              0.004057812275376813,
              -0.0014477679520314085,
              -0.002974624496334472,
              -0.0004592223625112075,
              -0.0009631261753932638,
              0.00038512006856104494,
              0.0050368333769457,
              -0.0003598115765149224,
              -0.002397226898270023,
              0.0019166959490276138,
              0.001685392907192256,
              0.003354639730498698,
              0.0044572446558274765,
              0.004892686947928747,
              -0.0017626744437299014,
              -0.0028483498615044034,
              0.0046150418629499635,
              0.0018673560387207613,
              0.0023113354413855083,
              0.002000195412450734,
              -0.0001509143090304701,
              -0.00019948530893442872,
              0.005041058449809215,
              0.006040036475075493,
              0.0021048522937096507,
              0.007761780639490001,
              0.009527644132368895,
              -0.0015421853123145086,
              -0.0022636634120013575,
              0.0011207787394101204,
              -0.004387928099274154,
              0.006982092605408777,
              0.0032440956080861394,
              0.0011274264285824388,
              0.0048407050582036735,
              -0.0016080198133870951,
              0.0026754910649336248,
              -0.002308094120928128,
              0.0018501342235437866,
              0.0008202206697771691,
              -0.0001022342011120544,
              -0.003227929270615882,
              0.0019328945693911136,
              0.004495758901246575,
              0.00171500504346776,
              0.0009095458234754972,
              -0.0007187077291498027,
              0.001062257010826996,
              0.0027544267427372904,
              -6.97899765884915e-05,
              0.005774215222694318,
              0.0051504271867032535,
              0.004985500580399036,
              0.000810888278388986,
              -0.0004513655283734212,
              0.0029720348811022416,
              -0.0005364758107980073,
              0.0026317732977933854,
              0.006336538725580779,
              0.003958514845521876,
              -0.0033364057981800036,
              0.0019513352533147483,
              -0.0007593431496080514,
              0.0026648709936592557,
              0.00023831294622436423,
              -0.004407816464380322,
              0.00256807733552555,
              0.0025655924247798036,
              -4.7461118193971915e-06,
              0.00412642654071134,
              0.002113438925211308,
              0.0011557269411012993,
              0.005052719688765937,
              -0.0006907679028411839,
              -0.0030361192288991994,
              -0.00118033319209642,
              0.0004302125739946885,
              0.0004913526113761043,
              0.0011921642244119555,
              3.7428655661272286e-05,
              -0.0005373139126439029,
              0.00358260648028358,
              0.002023519090188169,
              0.003080253186659053,
              0.0005589372832958378,
              0.003434647677874062,
              -0.0041253066712556895,
              0.00018679229725237698,
              0.0009017399294728497,
              -0.005625539973904424,
              -0.0008182235222947763,
              -0.003963438089669091,
              0.0019683018664706543,
              0.004781660490559938,
              0.005111154412898082,
              0.004058676671830612,
              0.0019810378358972825,
              -0.003735935294298079,
              -0.00031908568623612433,
              0.004855225288363534,
              0.0009816636308017128,
              -0.005239727241245892,
              0.003281071296663789,
              -0.000146011814809601,
              0.003688756431556063,
              -0.000623757274449094,
              0.003358472576175329,
              9.505903892825318e-06,
              -0.0025480006406864235,
              0.0002999908540907982,
              -0.0004656889897760989,
              0.0013840312398760801,
              0.00146892792867644,
              0.0028065871499156235,
              0.0013626722398124942,
              0.00017707587537051258,
              0.0012980823254317526,
              -0.0047635742192597185
             ],
             "yaxis": "y"
            },
            {
             "mode": "markers",
             "name": "residual",
             "type": "scatter",
             "x": [
              -0.005318535782994701,
              -0.009075299482667377,
              -0.017129071204592318,
              0.017259790070912523,
              -0.0026707990207570976,
              -0.0011350143406991123,
              0.0037000405706446153,
              -0.024055783439575037,
              0.013207771676962354,
              -0.002370285242292577,
              -0.00938768597013776,
              -0.008287354561257305,
              -0.010635035538294247,
              -0.009730454697730755,
              -0.005602241181597402,
              0.028170907242071087,
              -0.0038819630441622854,
              0.01245062428471898,
              -0.005663370171849665,
              0.0006716395345275686,
              0.004581699690728606,
              -0.007340277793991603,
              0.0014161289150315995,
              0.00312992949932392,
              0.0021738807282999473,
              -0.02874446633942856,
              0.008116726009972564,
              -0.008887017314951048,
              -0.03548138556828052,
              -0.000440344739173351,
              -0.014722450604758613,
              -0.013119082124577502,
              0.007317656668663355,
              0.008748585606529214,
              0.007816867878874147,
              0.00021555074965139154,
              -0.007442280180801713,
              -0.014512792854172363,
              -0.002768834772919241,
              0.005610334571718258,
              0.002070159492580687,
              0.005333362812766757,
              -0.011973852235352857,
              -0.008502877401094589,
              0.005471921095816496,
              0.004855906160526096,
              0.001921200890390417,
              0.0010875310837112663,
              0.003472827930694772,
              -0.0006039009696893571,
              -0.0256537700617671,
              0.010281782609566859,
              -0.00043573983107514407,
              -0.004244715139612822,
              0.004527713435912795,
              0.0017463007557298644,
              -0.0014217468416307432,
              -0.00784832061521262,
              -0.004627151543465675,
              -0.00036901214784000705,
              -0.004148900511748216,
              -0.000676791425281311,
              -0.006433359080455578,
              0.010662019209796127,
              0.010598084646865428,
              0.011258844481856888,
              -0.0049719366896926655,
              0.0025564336572735666,
              -0.007794301506256358,
              -0.004612572036904649,
              0.017678053460778692,
              -0.0024911590816613506,
              0.010499961110606557,
              0.00021956176497964078,
              0.0044397461961495745,
              0.006272177691567977,
              0.011906212456662724,
              -0.014774031285249723,
              0.003101977044308911,
              0.01654263465393853,
              0.002859283878758571,
              -0.0004393773884522956,
              -0.007381633004490079,
              -0.006338146204471079,
              -0.0038387909228638868,
              -0.000430024897300676,
              -0.013452695735040649,
              0.0010858777693706072,
              -0.013640725124043749,
              -0.0004487425932315741,
              -0.005839986077335385,
              -0.004455359500983664,
              0.008220797157147816,
              0.005176531064046777,
              0.007045796223796003,
              -0.001558492876898507,
              -0.008284352179316234,
              0.016760699921699464,
              -0.00456243892198649,
              0.0010705329604392439,
              0.009974593920742392,
              0.005834619497147999,
              0.011348887402612081,
              -0.004263599663019349,
              -0.005899722127188271,
              -0.0010998142885794684,
              0.007594411385373729,
              0.001815661355062383,
              0.007590182086494061,
              -0.007073050940638605,
              0.0016096951126981735,
              -0.013031662224813534,
              -0.004592641372588826,
              0.0003880570120204892,
              0.0022319297221512564,
              0.0032619692703019488,
              -0.001550209516883531,
              0.004257286279417821,
              0.009950347639514521,
              -0.0006854514084268913,
              0.00041920892141668765,
              0.016318328459261677,
              -0.008196798600864304,
              -0.006545180660328334,
              -0.010131799243682795,
              0.0035810211309792827,
              0.002917871828124421,
              0.006813445831681077,
              -0.0031092105173736884,
              0.0010032956809385106,
              -0.005008830698706314,
              -0.0037002782335708996,
              -0.006850056994333845,
              0.007627491867094704,
              0.016090838194097942,
              0.004100240343946087,
              0.008032177420741046,
              -0.008663638996272522,
              0.003855069658217859,
              0.015575021914295668,
              0.002404089384740399,
              -0.0006717899730184395,
              -0.009228849979095318,
              -0.0036159201629814603,
              -0.004828749693910991,
              -0.004102752240052645,
              0.005758561289342751,
              0.0017316417689299593,
              0.0067501914571231605,
              -0.0028128819366779515,
              0.006633923780559553,
              0.003967411449766391,
              -0.002952410498058216,
              0.001320873788328809,
              0.003621740425914703,
              0.00690449796917017,
              -0.001437067519021456,
              0.009066611794297819,
              -0.002177839899880737,
              -0.007279622755881904,
              0.006879422788530908,
              -0.003919789212676763,
              0.0023827718014738167,
              -0.0014651952927564479,
              0.0009612465570264075,
              -0.00040503155887021164,
              -0.008723983414266667,
              0.0028925512985040493,
              -0.0037950544861055538,
              -0.004168609647141871,
              0.008859407456396223,
              0.014397883944064173,
              0.0021982559914087403,
              -0.008403362643765351,
              0.009045897698850204,
              0,
              -0.007548973968951917,
              0.004121898222069567,
              0.021433226541514788,
              -0.0010594990308014916,
              0.005080162052732044,
              0.00018541359376606254,
              0.008199021261955054,
              -0.006475292160293259,
              -0.01054490345582453,
              -0.0038404694506749605,
              -0.005183550866160614,
              -0.0015899990265812508,
              0.010808457851380564,
              -0.003575504638428773,
              -0.009005935177590985,
              0.0024921909645911205,
              0.0018756867649948323,
              0.006324818382830186,
              0.009263649457280988,
              0.010424256769801122,
              -0.007314629045237663,
              -0.01020833701010248,
              0.009684234677880137,
              0.002360682698765846,
              0.0035440444224387195,
              0.0027147464893949504,
              -0.0030187197312072584,
              -0.003148178579572494,
              0.010819719160973768,
              0.013482347991940237,
              0.0029936939960978613,
              0.018071403542482878,
              0.02277805266665878,
              -0.006726947731562226,
              -0.00864994137161257,
              0.0003707908378715779,
              -0.01431185610635248,
              0.015993259893476313,
              0.0060301793017041435,
              0.00038850927451566805,
              0.010285706696857118,
              -0.006902419900313324,
              0.004514647616597407,
              -0.008768364884018826,
              0.002314780486252647,
              -0.00043030244080290516,
              -0.0028889700714951907,
              -0.011220050033591703,
              0.0025353660019902047,
              0.009366303507382314,
              0.0019546135539726464,
              -0.00019221939637929734,
              -0.004532089487303559,
              0.00021480978741565148,
              0.00472503904283113,
              -0.0028024947683054522,
              0.012773840584797752,
              0.011111225425070849,
              0.010671637840727326,
              -0.0004551765558920898,
              -0.003819528216167009,
              0.00530504149374492,
              -0.004046377141832813,
              0.004398124345545421,
              0.014272631081932512,
              0.007934358583812409,
              -0.011509178245094023,
              0.0025845169296742467,
              -0.004640397217137494,
              0.004486341380377129,
              -0.001981291794428346,
              -0.0143648656150635,
              0.004228352137087397,
              0.004221728973387437,
              -0.002629129924203389,
              0.008381902483037567,
              0.003016580398019569,
              0.00046394012350131994,
              0.010850800476343724,
              -0.004457619994301754,
              -0.010708808610630885,
              -0.005762484186348395,
              -0.0014698115930327218,
              -0.0013068518260100862,
              0.0005610583369266717,
              -0.0025167192915436717,
              -0.004048610978896019,
              0.006932430187221132,
              0.002776912318089041,
              0.005593481452508877,
              -0.0011267148345713346,
              0.006538067785720013,
              -0.0136118773598879,
              -0.0021186124980607916,
              -0.00021302485745776018,
              -0.017610528324951732,
              -0.004797334180642708,
              -0.013180440490147705,
              0.0026297389387777283,
              0.01012833209587102,
              0.011006549629246609,
              0.008201325183423853,
              0.002663684789965606,
              -0.012574065287931565,
              -0.003466955774609471,
              0.010324408232304415,
              0,
              -0.01658220129537894,
              0.006128732555090718,
              -0.0030056528547335207,
              0.007215357252196822,
              -0.004279013031360403,
              0.00633503426861058,
              -0.002591143274872804,
              -0.009407800387192179,
              -0.0018168984128270978,
              -0.0038577052934654203,
              0.0010724516150221477,
              0.0012987312383333544,
              0.004864064927760841,
              0.0010155223453770425,
              -0.0021445101898839823,
              0.0008433674391928178,
              -0.015313085526837127
             ],
             "xaxis": "x2",
             "y": [
              -0.006228775031665168,
              0.001212909091887851,
              0.0038146660661166664,
              -0.015106708347650755,
              0.014170701995762253,
              -0.01718351361205149,
              0.00220101478405834,
              -0.01668548214514833,
              0.012825916108009674,
              -0.002106577288734465,
              -0.008366076076358624,
              -0.0031859861051995774,
              -0.0027564162219867634,
              0.033534952386835556,
              0.002242958592377263,
              0.013322150878029841,
              -0.0075305599247872425,
              0.008341990420538178,
              0.014959434471923013,
              -0.012948074152208014,
              0.005599162123606704,
              -0.009460522405944161,
              0.00418131406801993,
              0.003434625677734552,
              -0.009599844956465861,
              0.015455707446404534,
              -0.0010985285291075248,
              -0.0055425934625078135,
              0.008040647614185131,
              -0.011987578104503108,
              -0.002130474988642849,
              -0.01111583703507103,
              -0.01222350106852008,
              -0.007627567475068649,
              -0.005871765251924288,
              0.0009732939628320939,
              -0.0029587141374175212,
              -0.005552733567116653,
              -0.0010369977148283098,
              0.010441904348079152,
              0.00047133802585348794,
              0.008733399555398383,
              -0.0002049747098749129,
              -0.010318703879220698,
              0.0054108810765058635,
              0.003282868612949375,
              -0.013271232003630232,
              -0.0047837655516394136,
              0.004306817793965783,
              -0.007966154768277415,
              -0.003741398713000922,
              0.0014798340979499496,
              -0.008186226332013973,
              -0.0011531274822810195,
              0.0202639686851056,
              0.0006098893613954964,
              -0.009547188491276254,
              0.009749336948152634,
              0.005407752070589489,
              0.014499117225307095,
              -0.0027995150745117204,
              0.006299907098015392,
              -0.009162737729244719,
              0.008771945534697708,
              -0.015752545137435386,
              0.0007010718928563411,
              -0.001750628448401685,
              -0.014265844973840043,
              0.005743071672466213,
              0.007255958215066754,
              0.013607986202616253,
              -0.010529769813540191,
              -0.005565160720299353,
              0.0030447861021363743,
              0.025800740510933957,
              -0.0040068899741912516,
              -0.012414095713868952,
              -0.007872068392189676,
              -0.006683379784203937,
              0.0018226627565849475,
              0.0022654025455950276,
              -0.0111945867415464,
              0.013615116045933247,
              -0.0015713590044489885,
              -0.004438317653414648,
              -0.0019530838609392578,
              0.002330862193285139,
              0.01029730236114534,
              0.007916806378163818,
              0.008480778411436879,
              0.002531265058361186,
              0.0005418870801047583,
              -0.0017894940199587716,
              0.005866926900463382,
              0.004027449235516692,
              -0.001339240785615408,
              0.0025848593708595077,
              -0.013432126921885196,
              -0.014104827900089873,
              -0.004572396455349306,
              -0.0117328289380119,
              -0.013223495942488827,
              0.02045895844919668,
              -0.01346542041685913,
              0.002530503228491387,
              -0.008708814473172247,
              -0.00325672610011649,
              -0.02341545236606974,
              -0.0010045973648244587,
              0.008651317219129925,
              0.011882944086036107,
              -0.004482019483488457,
              0.011700475440529896,
              0.0035291499567744475,
              0.05330551811314831,
              0.0014650687056968533,
              0.0021197166850595453,
              -0.0016376919698696613,
              -0.005064850243960339,
              0.0027897303857244682,
              0.0039598495488990795,
              -0.009550759574570869,
              -0.005379932022063161,
              0.00010407029468217617,
              0.006354203349507535,
              -0.004258515431943977,
              0.011129207216510971,
              -0.006912288805394091,
              -0.0019384445163550931,
              0.0039599786240527655,
              -5.270800924913927e-05,
              -0.012488930004582155,
              0.0030929626974780626,
              0.015832793168779793,
              -0.0003526294046413622,
              -0.010562725624944943,
              0.011899550930214699,
              0.0013046850156500228,
              -0.0034277393463294594,
              0.0009763031676371979,
              -0.005102456519243428,
              -0.011171836030422069,
              -4.379874442509389e-05,
              -0.006252263184915997,
              0.004946297205070426,
              -0.0031213166590825024,
              -0.004707860718142696,
              0.012135292797001672,
              -0.0007806125009726344,
              -0.009185077673459125,
              0.0067192667255921565,
              0.01493909026720017,
              -0.0017473085047909145,
              0.010225748266776257,
              -0.0003417138866090618,
              -0.009181749459473032,
              -0.003247549781164186,
              0.002763295563529453,
              0.011096558548629436,
              -0.010760505298422821,
              0.0008535990039686518,
              0.004596072395652247,
              0.0030398676828522603,
              -0.005771987418902197,
              -0.013998681166067726,
              -0.005932701263917224,
              -0.0033606186826629077,
              -0.003599487750914552,
              -0.015567844528856956,
              -0.009144359173570812,
              0.01375142010446859,
              0.001681190828357832,
              0.016178101932472547,
              -0.013779723240395541,
              0.007278340995166574,
              0.008226754859943532,
              -0.0028695278921239886,
              -0.0018239804542980022,
              -0.012351467628810793,
              -0.009381413128112286,
              0.0023109302602416578,
              0.0034189349159398953,
              0.0015418642371461764,
              -0.029468773323627157,
              -0.008166288404946306,
              0.0035013605767710097,
              -0.0042264179538113915,
              0.007169718126734001,
              -0.004782550292929882,
              -0.007299125782449297,
              0.004553916243461387,
              -0.0018774784521968248,
              -0.02094894239410448,
              0.00027490774679317506,
              0.009482645358642152,
              -0.005625498542391533,
              0.0029784382940059445,
              0.0062150429130995955,
              -0.003636169194555892,
              0.0017672156969169499,
              0.0070944523743711515,
              0.0033598257285315115,
              0.0039252216011060525,
              -0.002192548950963033,
              0.007563339042390874,
              -0.0022863462034077124,
              -0.00446176111379433,
              -0.02576516077011236,
              7.915226558468345e-05,
              -0.0031604275072705406,
              -0.00256896342093372,
              0.0046389792170058106,
              -9.953418865272807e-05,
              0.0025582763450385107,
              0.010964453035344898,
              -0.017998917106851132,
              0.014017205951100823,
              0.0007254755343891334,
              0.005740658744540179,
              0.00753348919851777,
              -0.0016139876082978074,
              -0.0028877411196125227,
              -0.003941677210259826,
              -0.007430577911698968,
              -0.008338400666182397,
              0.008777228990187458,
              -0.012384821778596504,
              -0.0016032103079357523,
              -0.014873661516964468,
              -0.0010899793838565507,
              0.0035707075378211602,
              0.012228316526959115,
              -0.003530045647705162,
              0.0007687372100272137,
              0.012557925007885936,
              0.004356213498493491,
              -0.008142271013118976,
              0.009133804826509726,
              -0.006377350246967366,
              -0.00638865425638625,
              -0.009744254114935978,
              0.003958514845521876,
              0.010065983510887104,
              -0.004417366582239015,
              0.009178979348041419,
              -0.005075961747773701,
              0.0016954719820777599,
              0.0039037359975634236,
              0.0026156714943382565,
              0.007710984980497852,
              -0.0228187403633866,
              -0.003314511341764168,
              -0.007052812087380304,
              -0.007403130781333583,
              0.001694431926958759,
              0.0020603245616465176,
              0.011022489957429035,
              -0.005777456153944323,
              0.00448077431082696,
              0.028342247295720997,
              -0.005456878139721002,
              -0.002224697109491613,
              0.005819526028954761,
              0.012422717129908202,
              0.0057760707341449925,
              -0.008010837476698968,
              0.004696897469187786,
              0.01691524058964646,
              0.018103153905143658,
              0.0024330771776959214,
              -0.02012254808595547,
              0.009229915371870616,
              -0.004544564772605144,
              -0.002603064799613761,
              0.0023533147722430746,
              0.0002959074479748653,
              -0.0014833090143139271,
              0.000405909003046101,
              -0.012278400869210386,
              0.011475620486019751,
              0.0014590856079697728,
              0.015723685753158252,
              0.00927851190808976,
              0.006984292882778658,
              -0.018291204869852577,
              -0.010535468950485127,
              0.008441584841857593,
              -0.0019682616692292916,
              -0.009211498321994568,
              0.006500585737273349,
              -0.00019075100989928524,
              0.012214547882813794,
              0.013982446757609943,
              -0.0044248720138991265,
              0.006400297371196692,
              0.0016630241695038493,
              0.004476855865340586,
              -0.004976740607426372,
              0.0009879212505894555,
              -0.0036187667552547613
             ],
             "yaxis": "y2"
            },
            {
             "cells": {
              "values": [
               0.37518486,
               0.00098166,
               0.09699823,
               4e-08,
               0.06631313
              ]
             },
             "header": {
              "values": [
               "slope",
               "intercept",
               "r_value",
               "p_value",
               "std_err"
              ]
             },
             "type": "table"
            }
           ],
           "layout": {
            "autosize": false,
            "height": 800,
            "margin": {
             "t": 100
            },
            "showlegend": false,
            "template": {
             "data": {
              "bar": [
               {
                "error_x": {
                 "color": "#2a3f5f"
                },
                "error_y": {
                 "color": "#2a3f5f"
                },
                "marker": {
                 "line": {
                  "color": "#E5ECF6",
                  "width": 0.5
                 }
                },
                "type": "bar"
               }
              ],
              "barpolar": [
               {
                "marker": {
                 "line": {
                  "color": "#E5ECF6",
                  "width": 0.5
                 }
                },
                "type": "barpolar"
               }
              ],
              "carpet": [
               {
                "aaxis": {
                 "endlinecolor": "#2a3f5f",
                 "gridcolor": "white",
                 "linecolor": "white",
                 "minorgridcolor": "white",
                 "startlinecolor": "#2a3f5f"
                },
                "baxis": {
                 "endlinecolor": "#2a3f5f",
                 "gridcolor": "white",
                 "linecolor": "white",
                 "minorgridcolor": "white",
                 "startlinecolor": "#2a3f5f"
                },
                "type": "carpet"
               }
              ],
              "choropleth": [
               {
                "colorbar": {
                 "outlinewidth": 0,
                 "ticks": ""
                },
                "type": "choropleth"
               }
              ],
              "contour": [
               {
                "colorbar": {
                 "outlinewidth": 0,
                 "ticks": ""
                },
                "colorscale": [
                 [
                  0,
                  "#0d0887"
                 ],
                 [
                  0.1111111111111111,
                  "#46039f"
                 ],
                 [
                  0.2222222222222222,
                  "#7201a8"
                 ],
                 [
                  0.3333333333333333,
                  "#9c179e"
                 ],
                 [
                  0.4444444444444444,
                  "#bd3786"
                 ],
                 [
                  0.5555555555555556,
                  "#d8576b"
                 ],
                 [
                  0.6666666666666666,
                  "#ed7953"
                 ],
                 [
                  0.7777777777777778,
                  "#fb9f3a"
                 ],
                 [
                  0.8888888888888888,
                  "#fdca26"
                 ],
                 [
                  1,
                  "#f0f921"
                 ]
                ],
                "type": "contour"
               }
              ],
              "contourcarpet": [
               {
                "colorbar": {
                 "outlinewidth": 0,
                 "ticks": ""
                },
                "type": "contourcarpet"
               }
              ],
              "heatmap": [
               {
                "colorbar": {
                 "outlinewidth": 0,
                 "ticks": ""
                },
                "colorscale": [
                 [
                  0,
                  "#0d0887"
                 ],
                 [
                  0.1111111111111111,
                  "#46039f"
                 ],
                 [
                  0.2222222222222222,
                  "#7201a8"
                 ],
                 [
                  0.3333333333333333,
                  "#9c179e"
                 ],
                 [
                  0.4444444444444444,
                  "#bd3786"
                 ],
                 [
                  0.5555555555555556,
                  "#d8576b"
                 ],
                 [
                  0.6666666666666666,
                  "#ed7953"
                 ],
                 [
                  0.7777777777777778,
                  "#fb9f3a"
                 ],
                 [
                  0.8888888888888888,
                  "#fdca26"
                 ],
                 [
                  1,
                  "#f0f921"
                 ]
                ],
                "type": "heatmap"
               }
              ],
              "heatmapgl": [
               {
                "colorbar": {
                 "outlinewidth": 0,
                 "ticks": ""
                },
                "colorscale": [
                 [
                  0,
                  "#0d0887"
                 ],
                 [
                  0.1111111111111111,
                  "#46039f"
                 ],
                 [
                  0.2222222222222222,
                  "#7201a8"
                 ],
                 [
                  0.3333333333333333,
                  "#9c179e"
                 ],
                 [
                  0.4444444444444444,
                  "#bd3786"
                 ],
                 [
                  0.5555555555555556,
                  "#d8576b"
                 ],
                 [
                  0.6666666666666666,
                  "#ed7953"
                 ],
                 [
                  0.7777777777777778,
                  "#fb9f3a"
                 ],
                 [
                  0.8888888888888888,
                  "#fdca26"
                 ],
                 [
                  1,
                  "#f0f921"
                 ]
                ],
                "type": "heatmapgl"
               }
              ],
              "histogram": [
               {
                "marker": {
                 "colorbar": {
                  "outlinewidth": 0,
                  "ticks": ""
                 }
                },
                "type": "histogram"
               }
              ],
              "histogram2d": [
               {
                "colorbar": {
                 "outlinewidth": 0,
                 "ticks": ""
                },
                "colorscale": [
                 [
                  0,
                  "#0d0887"
                 ],
                 [
                  0.1111111111111111,
                  "#46039f"
                 ],
                 [
                  0.2222222222222222,
                  "#7201a8"
                 ],
                 [
                  0.3333333333333333,
                  "#9c179e"
                 ],
                 [
                  0.4444444444444444,
                  "#bd3786"
                 ],
                 [
                  0.5555555555555556,
                  "#d8576b"
                 ],
                 [
                  0.6666666666666666,
                  "#ed7953"
                 ],
                 [
                  0.7777777777777778,
                  "#fb9f3a"
                 ],
                 [
                  0.8888888888888888,
                  "#fdca26"
                 ],
                 [
                  1,
                  "#f0f921"
                 ]
                ],
                "type": "histogram2d"
               }
              ],
              "histogram2dcontour": [
               {
                "colorbar": {
                 "outlinewidth": 0,
                 "ticks": ""
                },
                "colorscale": [
                 [
                  0,
                  "#0d0887"
                 ],
                 [
                  0.1111111111111111,
                  "#46039f"
                 ],
                 [
                  0.2222222222222222,
                  "#7201a8"
                 ],
                 [
                  0.3333333333333333,
                  "#9c179e"
                 ],
                 [
                  0.4444444444444444,
                  "#bd3786"
                 ],
                 [
                  0.5555555555555556,
                  "#d8576b"
                 ],
                 [
                  0.6666666666666666,
                  "#ed7953"
                 ],
                 [
                  0.7777777777777778,
                  "#fb9f3a"
                 ],
                 [
                  0.8888888888888888,
                  "#fdca26"
                 ],
                 [
                  1,
                  "#f0f921"
                 ]
                ],
                "type": "histogram2dcontour"
               }
              ],
              "mesh3d": [
               {
                "colorbar": {
                 "outlinewidth": 0,
                 "ticks": ""
                },
                "type": "mesh3d"
               }
              ],
              "parcoords": [
               {
                "line": {
                 "colorbar": {
                  "outlinewidth": 0,
                  "ticks": ""
                 }
                },
                "type": "parcoords"
               }
              ],
              "scatter": [
               {
                "marker": {
                 "colorbar": {
                  "outlinewidth": 0,
                  "ticks": ""
                 }
                },
                "type": "scatter"
               }
              ],
              "scatter3d": [
               {
                "line": {
                 "colorbar": {
                  "outlinewidth": 0,
                  "ticks": ""
                 }
                },
                "marker": {
                 "colorbar": {
                  "outlinewidth": 0,
                  "ticks": ""
                 }
                },
                "type": "scatter3d"
               }
              ],
              "scattercarpet": [
               {
                "marker": {
                 "colorbar": {
                  "outlinewidth": 0,
                  "ticks": ""
                 }
                },
                "type": "scattercarpet"
               }
              ],
              "scattergeo": [
               {
                "marker": {
                 "colorbar": {
                  "outlinewidth": 0,
                  "ticks": ""
                 }
                },
                "type": "scattergeo"
               }
              ],
              "scattergl": [
               {
                "marker": {
                 "colorbar": {
                  "outlinewidth": 0,
                  "ticks": ""
                 }
                },
                "type": "scattergl"
               }
              ],
              "scattermapbox": [
               {
                "marker": {
                 "colorbar": {
                  "outlinewidth": 0,
                  "ticks": ""
                 }
                },
                "type": "scattermapbox"
               }
              ],
              "scatterpolar": [
               {
                "marker": {
                 "colorbar": {
                  "outlinewidth": 0,
                  "ticks": ""
                 }
                },
                "type": "scatterpolar"
               }
              ],
              "scatterpolargl": [
               {
                "marker": {
                 "colorbar": {
                  "outlinewidth": 0,
                  "ticks": ""
                 }
                },
                "type": "scatterpolargl"
               }
              ],
              "scatterternary": [
               {
                "marker": {
                 "colorbar": {
                  "outlinewidth": 0,
                  "ticks": ""
                 }
                },
                "type": "scatterternary"
               }
              ],
              "surface": [
               {
                "colorbar": {
                 "outlinewidth": 0,
                 "ticks": ""
                },
                "colorscale": [
                 [
                  0,
                  "#0d0887"
                 ],
                 [
                  0.1111111111111111,
                  "#46039f"
                 ],
                 [
                  0.2222222222222222,
                  "#7201a8"
                 ],
                 [
                  0.3333333333333333,
                  "#9c179e"
                 ],
                 [
                  0.4444444444444444,
                  "#bd3786"
                 ],
                 [
                  0.5555555555555556,
                  "#d8576b"
                 ],
                 [
                  0.6666666666666666,
                  "#ed7953"
                 ],
                 [
                  0.7777777777777778,
                  "#fb9f3a"
                 ],
                 [
                  0.8888888888888888,
                  "#fdca26"
                 ],
                 [
                  1,
                  "#f0f921"
                 ]
                ],
                "type": "surface"
               }
              ],
              "table": [
               {
                "cells": {
                 "fill": {
                  "color": "#EBF0F8"
                 },
                 "line": {
                  "color": "white"
                 }
                },
                "header": {
                 "fill": {
                  "color": "#C8D4E3"
                 },
                 "line": {
                  "color": "white"
                 }
                },
                "type": "table"
               }
              ]
             },
             "layout": {
              "annotationdefaults": {
               "arrowcolor": "#2a3f5f",
               "arrowhead": 0,
               "arrowwidth": 1
              },
              "colorscale": {
               "diverging": [
                [
                 0,
                 "#8e0152"
                ],
                [
                 0.1,
                 "#c51b7d"
                ],
                [
                 0.2,
                 "#de77ae"
                ],
                [
                 0.3,
                 "#f1b6da"
                ],
                [
                 0.4,
                 "#fde0ef"
                ],
                [
                 0.5,
                 "#f7f7f7"
                ],
                [
                 0.6,
                 "#e6f5d0"
                ],
                [
                 0.7,
                 "#b8e186"
                ],
                [
                 0.8,
                 "#7fbc41"
                ],
                [
                 0.9,
                 "#4d9221"
                ],
                [
                 1,
                 "#276419"
                ]
               ],
               "sequential": [
                [
                 0,
                 "#0d0887"
                ],
                [
                 0.1111111111111111,
                 "#46039f"
                ],
                [
                 0.2222222222222222,
                 "#7201a8"
                ],
                [
                 0.3333333333333333,
                 "#9c179e"
                ],
                [
                 0.4444444444444444,
                 "#bd3786"
                ],
                [
                 0.5555555555555556,
                 "#d8576b"
                ],
                [
                 0.6666666666666666,
                 "#ed7953"
                ],
                [
                 0.7777777777777778,
                 "#fb9f3a"
                ],
                [
                 0.8888888888888888,
                 "#fdca26"
                ],
                [
                 1,
                 "#f0f921"
                ]
               ],
               "sequentialminus": [
                [
                 0,
                 "#0d0887"
                ],
                [
                 0.1111111111111111,
                 "#46039f"
                ],
                [
                 0.2222222222222222,
                 "#7201a8"
                ],
                [
                 0.3333333333333333,
                 "#9c179e"
                ],
                [
                 0.4444444444444444,
                 "#bd3786"
                ],
                [
                 0.5555555555555556,
                 "#d8576b"
                ],
                [
                 0.6666666666666666,
                 "#ed7953"
                ],
                [
                 0.7777777777777778,
                 "#fb9f3a"
                ],
                [
                 0.8888888888888888,
                 "#fdca26"
                ],
                [
                 1,
                 "#f0f921"
                ]
               ]
              },
              "colorway": [
               "#636efa",
               "#EF553B",
               "#00cc96",
               "#ab63fa",
               "#FFA15A",
               "#19d3f3",
               "#FF6692",
               "#B6E880",
               "#FF97FF",
               "#FECB52"
              ],
              "font": {
               "color": "#2a3f5f"
              },
              "geo": {
               "bgcolor": "white",
               "lakecolor": "white",
               "landcolor": "#E5ECF6",
               "showlakes": true,
               "showland": true,
               "subunitcolor": "white"
              },
              "hoverlabel": {
               "align": "left"
              },
              "hovermode": "closest",
              "mapbox": {
               "style": "light"
              },
              "paper_bgcolor": "white",
              "plot_bgcolor": "#E5ECF6",
              "polar": {
               "angularaxis": {
                "gridcolor": "white",
                "linecolor": "white",
                "ticks": ""
               },
               "bgcolor": "#E5ECF6",
               "radialaxis": {
                "gridcolor": "white",
                "linecolor": "white",
                "ticks": ""
               }
              },
              "scene": {
               "xaxis": {
                "backgroundcolor": "#E5ECF6",
                "gridcolor": "white",
                "gridwidth": 2,
                "linecolor": "white",
                "showbackground": true,
                "ticks": "",
                "zerolinecolor": "white"
               },
               "yaxis": {
                "backgroundcolor": "#E5ECF6",
                "gridcolor": "white",
                "gridwidth": 2,
                "linecolor": "white",
                "showbackground": true,
                "ticks": "",
                "zerolinecolor": "white"
               },
               "zaxis": {
                "backgroundcolor": "#E5ECF6",
                "gridcolor": "white",
                "gridwidth": 2,
                "linecolor": "white",
                "showbackground": true,
                "ticks": "",
                "zerolinecolor": "white"
               }
              },
              "shapedefaults": {
               "line": {
                "color": "#2a3f5f"
               }
              },
              "ternary": {
               "aaxis": {
                "gridcolor": "white",
                "linecolor": "white",
                "ticks": ""
               },
               "baxis": {
                "gridcolor": "white",
                "linecolor": "white",
                "ticks": ""
               },
               "bgcolor": "#E5ECF6",
               "caxis": {
                "gridcolor": "white",
                "linecolor": "white",
                "ticks": ""
               }
              },
              "title": {
               "x": 0.05
              },
              "xaxis": {
               "automargin": true,
               "gridcolor": "white",
               "linecolor": "white",
               "ticks": "",
               "zerolinecolor": "white",
               "zerolinewidth": 2
              },
              "yaxis": {
               "automargin": true,
               "gridcolor": "white",
               "linecolor": "white",
               "ticks": "",
               "zerolinecolor": "white",
               "zerolinewidth": 2
              }
             }
            },
            "title": {
             "text": "Regression Model of log return of The Coca-Cola Company and Costco Wholesale Corporation"
            },
            "width": 950,
            "xaxis": {
             "anchor": "y",
             "domain": [
              0,
              1
             ],
             "gridcolor": "#ffffff",
             "mirror": true,
             "showgrid": true,
             "showline": true,
             "showticklabels": false,
             "tickfont": {
              "size": 10
             },
             "ticklen": 4,
             "zeroline": false
            },
            "xaxis2": {
             "anchor": "y2",
             "domain": [
              0,
              1
             ],
             "gridcolor": "#ffffff",
             "mirror": true,
             "showgrid": true,
             "showline": true,
             "showticklabels": true,
             "tickfont": {
              "size": 10
             },
             "ticklen": 4,
             "title": {
              "text": "Log return of The Coca-Cola Company"
             },
             "zeroline": false
            },
            "yaxis": {
             "anchor": "x",
             "domain": [
              0.45,
              0.85
             ],
             "gridcolor": "#ffffff",
             "hoverformat": ".2f",
             "mirror": true,
             "showgrid": true,
             "showline": true,
             "tickfont": {
              "size": 10
             },
             "ticklen": 4,
             "title": {
              "text": "Log return of Costco Wholesale Corporation"
             },
             "zeroline": false
            },
            "yaxis2": {
             "anchor": "x2",
             "domain": [
              0,
              0.4
             ],
             "gridcolor": "#ffffff",
             "hoverformat": ".2f",
             "mirror": true,
             "showgrid": true,
             "showline": true,
             "tickfont": {
              "size": 10
             },
             "ticklen": 4,
             "title": {
              "text": "Residual"
             },
             "zeroline": false
            }
           }
          },
          "text/html": "<div>\n        \n        \n            <div id=\"3a4bc29d-901a-48eb-9349-beab2b387257\" class=\"plotly-graph-div\" style=\"height:800px; width:950px;\"></div>\n            <script type=\"text/javascript\">\n                require([\"plotly\"], function(Plotly) {\n                    window.PLOTLYENV=window.PLOTLYENV || {};\n                    \n                if (document.getElementById(\"3a4bc29d-901a-48eb-9349-beab2b387257\")) {\n                    Plotly.newPlot(\n                        '3a4bc29d-901a-48eb-9349-beab2b387257',\n                        [{\"mode\": \"markers\", \"name\": \"data\", \"type\": \"scatter\", \"x\": [-0.005318535782994701, -0.009075299482667377, -0.017129071204592318, 0.017259790070912523, -0.0026707990207570976, -0.0011350143406991123, 0.0037000405706446153, -0.024055783439575037, 0.013207771676962354, -0.002370285242292577, -0.00938768597013776, -0.008287354561257305, -0.010635035538294247, -0.009730454697730755, -0.005602241181597402, 0.028170907242071087, -0.0038819630441622854, 0.01245062428471898, -0.005663370171849665, 0.0006716395345275686, 0.004581699690728606, -0.007340277793991603, 0.0014161289150315995, 0.00312992949932392, 0.0021738807282999473, -0.02874446633942856, 0.008116726009972564, -0.008887017314951048, -0.03548138556828052, -0.000440344739173351, -0.014722450604758613, -0.013119082124577502, 0.007317656668663355, 0.008748585606529214, 0.007816867878874147, 0.00021555074965139154, -0.007442280180801713, -0.014512792854172363, -0.002768834772919241, 0.005610334571718258, 0.002070159492580687, 0.005333362812766757, -0.011973852235352857, -0.008502877401094589, 0.005471921095816496, 0.004855906160526096, 0.001921200890390417, 0.0010875310837112663, 0.003472827930694772, -0.0006039009696893571, -0.0256537700617671, 0.010281782609566859, -0.00043573983107514407, -0.004244715139612822, 0.004527713435912795, 0.0017463007557298644, -0.0014217468416307432, -0.00784832061521262, -0.004627151543465675, -0.00036901214784000705, -0.004148900511748216, -0.000676791425281311, -0.006433359080455578, 0.010662019209796127, 0.010598084646865428, 0.011258844481856888, -0.0049719366896926655, 0.0025564336572735666, -0.007794301506256358, -0.004612572036904649, 0.017678053460778692, -0.0024911590816613506, 0.010499961110606557, 0.00021956176497964078, 0.0044397461961495745, 0.006272177691567977, 0.011906212456662724, -0.014774031285249723, 0.003101977044308911, 0.01654263465393853, 0.002859283878758571, -0.0004393773884522956, -0.007381633004490079, -0.006338146204471079, -0.0038387909228638868, -0.000430024897300676, -0.013452695735040649, 0.0010858777693706072, -0.013640725124043749, -0.0004487425932315741, -0.005839986077335385, -0.004455359500983664, 0.008220797157147816, 0.005176531064046777, 0.007045796223796003, -0.001558492876898507, -0.008284352179316234, 0.016760699921699464, -0.00456243892198649, 0.0010705329604392439, 0.009974593920742392, 0.005834619497147999, 0.011348887402612081, -0.004263599663019349, -0.005899722127188271, -0.0010998142885794684, 0.007594411385373729, 0.001815661355062383, 0.007590182086494061, -0.007073050940638605, 0.0016096951126981735, -0.013031662224813534, -0.004592641372588826, 0.0003880570120204892, 0.0022319297221512564, 0.0032619692703019488, -0.001550209516883531, 0.004257286279417821, 0.009950347639514521, -0.0006854514084268913, 0.00041920892141668765, 0.016318328459261677, -0.008196798600864304, -0.006545180660328334, -0.010131799243682795, 0.0035810211309792827, 0.002917871828124421, 0.006813445831681077, -0.0031092105173736884, 0.0010032956809385106, -0.005008830698706314, -0.0037002782335708996, -0.006850056994333845, 0.007627491867094704, 0.016090838194097942, 0.004100240343946087, 0.008032177420741046, -0.008663638996272522, 0.003855069658217859, 0.015575021914295668, 0.002404089384740399, -0.0006717899730184395, -0.009228849979095318, -0.0036159201629814603, -0.004828749693910991, -0.004102752240052645, 0.005758561289342751, 0.0017316417689299593, 0.0067501914571231605, -0.0028128819366779515, 0.006633923780559553, 0.003967411449766391, -0.002952410498058216, 0.001320873788328809, 0.003621740425914703, 0.00690449796917017, -0.001437067519021456, 0.009066611794297819, -0.002177839899880737, -0.007279622755881904, 0.006879422788530908, -0.003919789212676763, 0.0023827718014738167, -0.0014651952927564479, 0.0009612465570264075, -0.00040503155887021164, -0.008723983414266667, 0.0028925512985040493, -0.0037950544861055538, -0.004168609647141871, 0.008859407456396223, 0.014397883944064173, 0.0021982559914087403, -0.008403362643765351, 0.009045897698850204, 0.0, -0.007548973968951917, 0.004121898222069567, 0.021433226541514788, -0.0010594990308014916, 0.005080162052732044, 0.00018541359376606254, 0.008199021261955054, -0.006475292160293259, -0.01054490345582453, -0.0038404694506749605, -0.005183550866160614, -0.0015899990265812508, 0.010808457851380564, -0.003575504638428773, -0.009005935177590985, 0.0024921909645911205, 0.0018756867649948323, 0.006324818382830186, 0.009263649457280988, 0.010424256769801122, -0.007314629045237663, -0.01020833701010248, 0.009684234677880137, 0.002360682698765846, 0.0035440444224387195, 0.0027147464893949504, -0.0030187197312072584, -0.003148178579572494, 0.010819719160973768, 0.013482347991940237, 0.0029936939960978613, 0.018071403542482878, 0.02277805266665878, -0.006726947731562226, -0.00864994137161257, 0.0003707908378715779, -0.01431185610635248, 0.015993259893476313, 0.0060301793017041435, 0.00038850927451566805, 0.010285706696857118, -0.006902419900313324, 0.004514647616597407, -0.008768364884018826, 0.002314780486252647, -0.00043030244080290516, -0.0028889700714951907, -0.011220050033591703, 0.0025353660019902047, 0.009366303507382314, 0.0019546135539726464, -0.00019221939637929734, -0.004532089487303559, 0.00021480978741565148, 0.00472503904283113, -0.0028024947683054522, 0.012773840584797752, 0.011111225425070849, 0.010671637840727326, -0.0004551765558920898, -0.003819528216167009, 0.00530504149374492, -0.004046377141832813, 0.004398124345545421, 0.014272631081932512, 0.007934358583812409, -0.011509178245094023, 0.0025845169296742467, -0.004640397217137494, 0.004486341380377129, -0.001981291794428346, -0.0143648656150635, 0.004228352137087397, 0.004221728973387437, -0.002629129924203389, 0.008381902483037567, 0.003016580398019569, 0.00046394012350131994, 0.010850800476343724, -0.004457619994301754, -0.010708808610630885, -0.005762484186348395, -0.0014698115930327218, -0.0013068518260100862, 0.0005610583369266717, -0.0025167192915436717, -0.004048610978896019, 0.006932430187221132, 0.002776912318089041, 0.005593481452508877, -0.0011267148345713346, 0.006538067785720013, -0.0136118773598879, -0.0021186124980607916, -0.00021302485745776018, -0.017610528324951732, -0.004797334180642708, -0.013180440490147705, 0.0026297389387777283, 0.01012833209587102, 0.011006549629246609, 0.008201325183423853, 0.002663684789965606, -0.012574065287931565, -0.003466955774609471, 0.010324408232304415, 0.0, -0.01658220129537894, 0.006128732555090718, -0.0030056528547335207, 0.007215357252196822, -0.004279013031360403, 0.00633503426861058, -0.002591143274872804, -0.009407800387192179, -0.0018168984128270978, -0.0038577052934654203, 0.0010724516150221477, 0.0012987312383333544, 0.004864064927760841, 0.0010155223453770425, -0.0021445101898839823, 0.0008433674391928178, -0.015313085526837127], \"xaxis\": \"x\", \"y\": [0.005215004559142926, -0.003636160427249254, -0.009259570617707099, 0.022563983900408646, -0.01419108172173986, 0.017739337046302435, 0.00016884805035750151, 0.008641780033186275, -0.006888896509237564, 0.002198945782668091, 0.00582562206041941, 0.0010583597748912122, -0.00025202446709360246, -0.03620400803986048, -0.0033631710351648965, -0.001771189356605959, 0.007055769794211223, -0.002689041060149333, -0.016102581586362408, 0.014181726767764156, -0.002898514135625235, 0.007688224940002988, -0.002668340308443246, -0.001278659885815492, 0.011397115724043465, -0.02525853239588777, 0.005125464871887898, 0.0031899827458877913, -0.020371062661599555, 0.01280403105597175, -0.0024115019500461758, 0.0071754196752002565, 0.015950638692324607, 0.011891567972143706, 0.009786199363758711, 8.924104580760819e-05, 0.001148146920257954, 0.0010894170422361868, 0.000979836458897509, -0.007355328126248406, 0.001287018104418324, -0.005750738944182981, -0.003305769734301378, 0.008110216642414044, -0.002376235495258017, -0.0004793425089767618, 0.014973701121588561, 0.006173454379864995, -0.002022201702067277, 0.008721243898292368, -0.004901843786143046, 0.0033593987021129697, 0.009004406975282908, 0.0005422382575466724, -0.017583575522580913, 0.00102695987402044, 0.00999543423229822, -0.011712244388864439, -0.006162125643974935, -0.013655901365543252, 0.0022245740475218797, -0.005572165363379457, 0.007730702433902968, -0.0037900537189983043, 0.020710449673090357, 0.004504739729005402, 0.0008668967081875705, 0.01620664380852987, -0.007685711961345151, -0.00800486177832375, -0.005993784558474448, 0.010576788272968578, 0.010486250790737086, -0.0019807462212721523, -0.023153351324947332, 0.007341779714306691, 0.01786278999874814, 0.0033107391631101825, 0.008828858238200609, 0.005365546941433569, -0.00021097889294635256, 0.012011402628359924, -0.015402929360736931, 0.00017504613865683148, 0.0039797250491253, 0.002773408660836464, -0.006396446328902669, -0.008908233831429252, -0.012052936293776588, -0.007667476207667649, -0.0037406757865798613, -0.0012318068800767888, 0.005855476281525577, -0.0029431071869402328, -0.0004023095346682603, 0.0017361814845353555, -0.0047113592529195465, 0.02070215140686668, 0.01337473352253647, 0.005955707845074248, 0.016456809192854457, 0.016394220472674467, -0.015219364086714426, 0.012847446004853713, -0.003762326018213048, 0.009277844434050856, 0.007087697903573503, 0.02507832464823806, 0.004833982399373265, -0.010323355215498764, -0.010297347219680748, 0.0005744007464747363, -0.012441901320285192, -0.0024018932102329604, -0.05148646824193754, 0.0007404364092154026, -0.0017196681948717756, 0.004216624957535629, 0.009779733661174095, -0.0020652377456528968, -0.0028209050775910155, 0.01665481298433499, 0.0032862809170800065, -0.0015780593538171684, -0.009173837399830522, 0.006583723974547762, -0.009052802252279842, 0.010450254156898245, 0.0017535794343824847, -0.0026018936436263142, -0.0008448658045728213, 0.012082305264238006, -0.00468133674131432, -0.011989410069418468, 0.007371331911111133, 0.01308273735529218, -0.007904335938051149, -0.0035734875690422107, 0.005855766747267529, 0.005848872880092158, 0.006986098089366053, 0.011901454234225211, -0.002437062412446641, 0.00587728831547861, -0.005776307352313631, 0.0025636897649495348, 0.007850049360278555, -0.010503943391496484, 0.004294845768811796, 0.009111390588558657, -0.0032486553297108875, -0.012468913926924095, 0.0016212724161183707, -0.008748512788578995, 0.0026821996921838386, 0.012753876194436747, 0.003690047435983705, 0.0016200235442904323, -0.010931987475839, 0.009010964684465139, 0.0027091199028566174, -0.00508505433196796, -0.001164224147223752, 0.00620393195886991, 0.0153409899518247, 0.006762403185995225, 0.001069175817251807, 0.0056663928357840974, 0.01512566117347113, 0.00856202357737693, -0.00944584092716257, 0.00470234087477056, -0.0143716859352172, 0.011608572433888685, -0.0029027935023479144, -0.007245091229141819, 0.0010189307809908854, 0.004352117892617611, 0.021374553359648673, 0.009965568763337526, 0.000576733259259844, -0.0023677069119128263, 0.002515948038230637, 0.02802100537159575, 0.005191663908611835, -0.003960582939282217, 0.0032632917784181275, -0.006784598058172956, 0.009819383669875581, 0.006939314205934375, -0.00695114314173141, 0.0037941744012244386, 0.022634335301296736, 0.003079731983705523, -0.0050254007028146756, 0.01051818549032028, -0.004741112737735846, -0.009063392774603999, 0.008251211057505856, 0.0001001403418038114, -0.004783116932985643, -0.0013596303160807778, -0.004076135910136522, 0.001993063642028604, -0.0025222805925816587, 0.008326382678483206, 0.006566613407503981, 0.033526941409602364, 0.009448491866784212, 0.001618242194956032, 0.0003053000089323623, -0.00351820047759569, -0.004288393910621426, 0.004423816260370266, -0.0077203574272587585, 0.01912634353543357, -0.00917650089289715, -0.0023334953477762285, -0.0030651676796065543, -0.009841583319445898, 0.003464121831841594, 0.0037079617893896917, 0.0038394430091477716, 0.004202648641083086, 0.01027129523557351, -0.004281470088940883, 0.014099826822064263, 0.0025127561314112496, 0.014154953787814666, 0.0021522363946835468, -0.0008162807950838697, -0.012298106503547606, 0.00930426087039948, 0.00438168997667604, -0.007572424427486901, -0.0035453252201045047, 0.007690905484745555, -0.006161769945407484, 0.005840874436169359, 0.009020427554179635, 0.016080792840516757, 0.0, -0.013402389309067108, 0.006368701835553763, -0.00993832249764947, 0.007740832741432957, -0.0014571590358533955, -0.008311552461943745, -4.7594158812706664e-05, -0.005145392555718048, 0.0228139942515672, 0.007440937882475508, 0.009166251012591612, 0.008558857722434882, 0.0033582877618071783, -0.0027510924644877015, -0.014058609186328234, 0.004597122961847903, -0.004050561736832272, -0.027850894684344894, 0.006649042364132957, 0.0022621257651528853, -0.006356839941598664, -0.008840110649624621, -0.003752551643956823, 0.011091090663358021, -0.004137960185891948, -0.0134805929117724, -0.022228460576399347, -0.0022462848804435443, 0.02102428801542832, -0.014855455345775039, 0.0037263412503103677, -0.0013603732900553305, -0.0003850129057724205, 0.004485753042585073, 0.006594463427212009, 0.0036527676687845108, 0.014259438705107668, -0.015211555780317831, -0.001778171294205897, -0.010868460464794717, -0.008296848277288047, -0.01222402012402455, 0.021572276166516368, 0.010389457135675526, -0.004752828410301529, 0.0013445043947801975, 0.012569970898169898, -0.006491079833380524, -0.0023572496307871383, -0.011914557028722995, -0.014448135747386041, 0.005808903253775206, -0.004931369442520252, 0.0011435629804117742, -0.0031141836255280915, 0.005153816482796884, 0.0003101610748422971, -0.0011448074640049574], \"yaxis\": \"y\"}, {\"mode\": \"lines\", \"name\": \"fit\", \"type\": \"scatter\", \"x\": [-0.005318535782994701, -0.009075299482667377, -0.017129071204592318, 0.017259790070912523, -0.0026707990207570976, -0.0011350143406991123, 0.0037000405706446153, -0.024055783439575037, 0.013207771676962354, -0.002370285242292577, -0.00938768597013776, -0.008287354561257305, -0.010635035538294247, -0.009730454697730755, -0.005602241181597402, 0.028170907242071087, -0.0038819630441622854, 0.01245062428471898, -0.005663370171849665, 0.0006716395345275686, 0.004581699690728606, -0.007340277793991603, 0.0014161289150315995, 0.00312992949932392, 0.0021738807282999473, -0.02874446633942856, 0.008116726009972564, -0.008887017314951048, -0.03548138556828052, -0.000440344739173351, -0.014722450604758613, -0.013119082124577502, 0.007317656668663355, 0.008748585606529214, 0.007816867878874147, 0.00021555074965139154, -0.007442280180801713, -0.014512792854172363, -0.002768834772919241, 0.005610334571718258, 0.002070159492580687, 0.005333362812766757, -0.011973852235352857, -0.008502877401094589, 0.005471921095816496, 0.004855906160526096, 0.001921200890390417, 0.0010875310837112663, 0.003472827930694772, -0.0006039009696893571, -0.0256537700617671, 0.010281782609566859, -0.00043573983107514407, -0.004244715139612822, 0.004527713435912795, 0.0017463007557298644, -0.0014217468416307432, -0.00784832061521262, -0.004627151543465675, -0.00036901214784000705, -0.004148900511748216, -0.000676791425281311, -0.006433359080455578, 0.010662019209796127, 0.010598084646865428, 0.011258844481856888, -0.0049719366896926655, 0.0025564336572735666, -0.007794301506256358, -0.004612572036904649, 0.017678053460778692, -0.0024911590816613506, 0.010499961110606557, 0.00021956176497964078, 0.0044397461961495745, 0.006272177691567977, 0.011906212456662724, -0.014774031285249723, 0.003101977044308911, 0.01654263465393853, 0.002859283878758571, -0.0004393773884522956, -0.007381633004490079, -0.006338146204471079, -0.0038387909228638868, -0.000430024897300676, -0.013452695735040649, 0.0010858777693706072, -0.013640725124043749, -0.0004487425932315741, -0.005839986077335385, -0.004455359500983664, 0.008220797157147816, 0.005176531064046777, 0.007045796223796003, -0.001558492876898507, -0.008284352179316234, 0.016760699921699464, -0.00456243892198649, 0.0010705329604392439, 0.009974593920742392, 0.005834619497147999, 0.011348887402612081, -0.004263599663019349, -0.005899722127188271, -0.0010998142885794684, 0.007594411385373729, 0.001815661355062383, 0.007590182086494061, -0.007073050940638605, 0.0016096951126981735, -0.013031662224813534, -0.004592641372588826, 0.0003880570120204892, 0.0022319297221512564, 0.0032619692703019488, -0.001550209516883531, 0.004257286279417821, 0.009950347639514521, -0.0006854514084268913, 0.00041920892141668765, 0.016318328459261677, -0.008196798600864304, -0.006545180660328334, -0.010131799243682795, 0.0035810211309792827, 0.002917871828124421, 0.006813445831681077, -0.0031092105173736884, 0.0010032956809385106, -0.005008830698706314, -0.0037002782335708996, -0.006850056994333845, 0.007627491867094704, 0.016090838194097942, 0.004100240343946087, 0.008032177420741046, -0.008663638996272522, 0.003855069658217859, 0.015575021914295668, 0.002404089384740399, -0.0006717899730184395, -0.009228849979095318, -0.0036159201629814603, -0.004828749693910991, -0.004102752240052645, 0.005758561289342751, 0.0017316417689299593, 0.0067501914571231605, -0.0028128819366779515, 0.006633923780559553, 0.003967411449766391, -0.002952410498058216, 0.001320873788328809, 0.003621740425914703, 0.00690449796917017, -0.001437067519021456, 0.009066611794297819, -0.002177839899880737, -0.007279622755881904, 0.006879422788530908, -0.003919789212676763, 0.0023827718014738167, -0.0014651952927564479, 0.0009612465570264075, -0.00040503155887021164, -0.008723983414266667, 0.0028925512985040493, -0.0037950544861055538, -0.004168609647141871, 0.008859407456396223, 0.014397883944064173, 0.0021982559914087403, -0.008403362643765351, 0.009045897698850204, 0.0, -0.007548973968951917, 0.004121898222069567, 0.021433226541514788, -0.0010594990308014916, 0.005080162052732044, 0.00018541359376606254, 0.008199021261955054, -0.006475292160293259, -0.01054490345582453, -0.0038404694506749605, -0.005183550866160614, -0.0015899990265812508, 0.010808457851380564, -0.003575504638428773, -0.009005935177590985, 0.0024921909645911205, 0.0018756867649948323, 0.006324818382830186, 0.009263649457280988, 0.010424256769801122, -0.007314629045237663, -0.01020833701010248, 0.009684234677880137, 0.002360682698765846, 0.0035440444224387195, 0.0027147464893949504, -0.0030187197312072584, -0.003148178579572494, 0.010819719160973768, 0.013482347991940237, 0.0029936939960978613, 0.018071403542482878, 0.02277805266665878, -0.006726947731562226, -0.00864994137161257, 0.0003707908378715779, -0.01431185610635248, 0.015993259893476313, 0.0060301793017041435, 0.00038850927451566805, 0.010285706696857118, -0.006902419900313324, 0.004514647616597407, -0.008768364884018826, 0.002314780486252647, -0.00043030244080290516, -0.0028889700714951907, -0.011220050033591703, 0.0025353660019902047, 0.009366303507382314, 0.0019546135539726464, -0.00019221939637929734, -0.004532089487303559, 0.00021480978741565148, 0.00472503904283113, -0.0028024947683054522, 0.012773840584797752, 0.011111225425070849, 0.010671637840727326, -0.0004551765558920898, -0.003819528216167009, 0.00530504149374492, -0.004046377141832813, 0.004398124345545421, 0.014272631081932512, 0.007934358583812409, -0.011509178245094023, 0.0025845169296742467, -0.004640397217137494, 0.004486341380377129, -0.001981291794428346, -0.0143648656150635, 0.004228352137087397, 0.004221728973387437, -0.002629129924203389, 0.008381902483037567, 0.003016580398019569, 0.00046394012350131994, 0.010850800476343724, -0.004457619994301754, -0.010708808610630885, -0.005762484186348395, -0.0014698115930327218, -0.0013068518260100862, 0.0005610583369266717, -0.0025167192915436717, -0.004048610978896019, 0.006932430187221132, 0.002776912318089041, 0.005593481452508877, -0.0011267148345713346, 0.006538067785720013, -0.0136118773598879, -0.0021186124980607916, -0.00021302485745776018, -0.017610528324951732, -0.004797334180642708, -0.013180440490147705, 0.0026297389387777283, 0.01012833209587102, 0.011006549629246609, 0.008201325183423853, 0.002663684789965606, -0.012574065287931565, -0.003466955774609471, 0.010324408232304415, 0.0, -0.01658220129537894, 0.006128732555090718, -0.0030056528547335207, 0.007215357252196822, -0.004279013031360403, 0.00633503426861058, -0.002591143274872804, -0.009407800387192179, -0.0018168984128270978, -0.0038577052934654203, 0.0010724516150221477, 0.0012987312383333544, 0.004864064927760841, 0.0010155223453770425, -0.0021445101898839823, 0.0008433674391928178, -0.015313085526837127], \"xaxis\": \"x\", \"y\": [-0.0010137704725222416, -0.002423251335361403, -0.005444904551590433, 0.007457275552757891, -2.037972597760643e-05, 0.0005558234342509436, 0.0023698628344158415, -0.008043702111962054, 0.005937019598772109, 9.236849393362589e-05, -0.002540454015939214, -0.0021276263303083654, -0.003008440689080366, -0.002669055653024919, -0.0011202124427876336, 0.011550961521423882, -0.00047479013057602016, 0.005652949360388845, -0.0011431471144393943, 0.0012336526155561417, 0.002700647987981469, -0.0017722974659411727, 0.0015129737595766836, 0.00215596579191906, 0.001797270767577604, -0.009802824949483237, 0.004026936342780374, -0.002352610716620022, -0.012330415047414424, 0.0008164529514686427, -0.004541976938689025, -0.003940417359870774, 0.003727137623804528, 0.004264000497075057, 0.003914434111834423, 0.001062535008639702, -0.0018105672171595671, -0.004463316524880466, -5.7161255930800875e-05, 0.0030865762218307458, 0.001758356130271812, 0.0029826606112154028, -0.003510744444176291, -0.0022084872368066553, 0.003034645581247847, 0.0028035261039726133, 0.0017024691179583279, 0.0013896888282255806, 0.002284616091898506, 0.0007550891300149518, -0.008643242499143968, 0.004839232800062919, 0.0008181806432689337, -0.0006108892247343471, 0.0026803931625246865, 0.0016368492354159364, 0.000448245741021966, -0.0019629074407118063, -0.0007543735733854457, 0.0008432158597638424, -0.0005749410269898405, 0.000727741734635935, -0.001432035295341751, 0.004981891815699403, 0.004957904535654972, 0.005205811621861743, -0.0008837317402141146, 0.0019407988346898275, -0.001942640288878938, -0.0007489035632569955, 0.007614201644141803, 4.701845942838793e-05, 0.004921090070437733, 0.001064039880864222, 0.0026473891859866237, 0.0033348897401154396, 0.005448694284879188, -0.004561329229079494, 0.002145478453996672, 0.007188209698018516, 0.0020544236526486752, 0.0008168158868135248, -0.0017878133148036832, -0.001396312865792157, -0.000458592604289348, 0.0008203247998972061, -0.00406558413561753, 0.0013890685297160898, -0.004136129915612769, 0.0008133022037692298, -0.0012094107282186752, -0.0006899197999720305, 0.004065982261566806, 0.0029238197135231492, 0.0036251397008484317, 0.00039694069891994734, -0.0021264998820600387, 0.0072700244849814855, -0.0007300943775534021, 0.0013833113897249415, 0.004723980254842558, 0.00317072453018564, 0.005239594362482253, -0.0006179744120054171, -0.001231822789721661, 0.0005690299608786104, 0.003830971803457013, 0.0016628722821683199, 0.0038293850345488063, -0.0016720379963688398, 0.0015855968663553584, -0.003907618737013721, -0.0007414258797552964, 0.001127256746541487, 0.0018190498712107703, 0.002205505114912256, 0.00040004849018777, 0.002578932987665968, 0.004714883417213756, 0.0007244926400715715, 0.0011389444713080638, 0.007104053409764122, -0.002093651104983154, -0.0014739890591349922, -0.002819634050322987, 0.0023252085426037844, 0.0020764049642311285, 0.003537965351504155, -0.00018486508197260837, 0.0013580849804264517, -0.0008975738138219606, -0.000406624740344149, -0.0015883740438362576, 0.003843383099361325, 0.0070187025064697706, 0.0025200117303472366, 0.00399521499216355, -0.002268802553392188, 0.0024280274009380698, 0.006825176047729356, 0.001883641570122625, 0.0007296182038031428, -0.002480861156871735, -0.000374974869437387, -0.0008300101472432056, -0.0005576268941329676, 0.0031421886421358586, 0.0016313494055051865, 0.0035142332678391613, -7.368708490046818e-05, 0.003470611395881269, 0.002470176340276075, -0.00012603608867254386, 0.0014772354781972608, 0.002340485805574777, 0.003572126734963716, 0.00044249765481951906, 0.004383319107819885, 0.00016457107279043586, -0.0017495406139576824, 0.0035627189068252693, -0.0004889819363157134, 0.0018756435356285083, 0.0004319445399677131, 0.0013423087857569744, 0.0008297019220780001, -0.0022914428654111007, 0.0020669050848695454, -0.0004421833553858259, -0.0005823355961938825, 0.004305579177306021, 0.006383531703128392, 0.0018064159972553467, -0.0021711508065068563, 0.00437554749281866, 0.0009816636308017128, -0.0018505971111331034, 0.0025281374383196087, 0.00902308573083788, 0.0005841556352252394, 0.0028876635195015017, 0.0010512280040270688, 0.004057812275376813, -0.0014477679520314085, -0.002974624496334472, -0.0004592223625112075, -0.0009631261753932638, 0.00038512006856104494, 0.0050368333769457, -0.0003598115765149224, -0.002397226898270023, 0.0019166959490276138, 0.001685392907192256, 0.003354639730498698, 0.0044572446558274765, 0.004892686947928747, -0.0017626744437299014, -0.0028483498615044034, 0.0046150418629499635, 0.0018673560387207613, 0.0023113354413855083, 0.002000195412450734, -0.0001509143090304701, -0.00019948530893442872, 0.005041058449809215, 0.006040036475075493, 0.0021048522937096507, 0.007761780639490001, 0.009527644132368895, -0.0015421853123145086, -0.0022636634120013575, 0.0011207787394101204, -0.004387928099274154, 0.006982092605408777, 0.0032440956080861394, 0.0011274264285824388, 0.0048407050582036735, -0.0016080198133870951, 0.0026754910649336248, -0.002308094120928128, 0.0018501342235437866, 0.0008202206697771691, -0.0001022342011120544, -0.003227929270615882, 0.0019328945693911136, 0.004495758901246575, 0.00171500504346776, 0.0009095458234754972, -0.0007187077291498027, 0.001062257010826996, 0.0027544267427372904, -6.97899765884915e-05, 0.005774215222694318, 0.0051504271867032535, 0.004985500580399036, 0.000810888278388986, -0.0004513655283734212, 0.0029720348811022416, -0.0005364758107980073, 0.0026317732977933854, 0.006336538725580779, 0.003958514845521876, -0.0033364057981800036, 0.0019513352533147483, -0.0007593431496080514, 0.0026648709936592557, 0.00023831294622436423, -0.004407816464380322, 0.00256807733552555, 0.0025655924247798036, -4.7461118193971915e-06, 0.00412642654071134, 0.002113438925211308, 0.0011557269411012993, 0.005052719688765937, -0.0006907679028411839, -0.0030361192288991994, -0.00118033319209642, 0.0004302125739946885, 0.0004913526113761043, 0.0011921642244119555, 3.7428655661272286e-05, -0.0005373139126439029, 0.00358260648028358, 0.002023519090188169, 0.003080253186659053, 0.0005589372832958378, 0.003434647677874062, -0.0041253066712556895, 0.00018679229725237698, 0.0009017399294728497, -0.005625539973904424, -0.0008182235222947763, -0.003963438089669091, 0.0019683018664706543, 0.004781660490559938, 0.005111154412898082, 0.004058676671830612, 0.0019810378358972825, -0.003735935294298079, -0.00031908568623612433, 0.004855225288363534, 0.0009816636308017128, -0.005239727241245892, 0.003281071296663789, -0.000146011814809601, 0.003688756431556063, -0.000623757274449094, 0.003358472576175329, 9.505903892825318e-06, -0.0025480006406864235, 0.0002999908540907982, -0.0004656889897760989, 0.0013840312398760801, 0.00146892792867644, 0.0028065871499156235, 0.0013626722398124942, 0.00017707587537051258, 0.0012980823254317526, -0.0047635742192597185], \"yaxis\": \"y\"}, {\"mode\": \"markers\", \"name\": \"residual\", \"type\": \"scatter\", \"x\": [-0.005318535782994701, -0.009075299482667377, -0.017129071204592318, 0.017259790070912523, -0.0026707990207570976, -0.0011350143406991123, 0.0037000405706446153, -0.024055783439575037, 0.013207771676962354, -0.002370285242292577, -0.00938768597013776, -0.008287354561257305, -0.010635035538294247, -0.009730454697730755, -0.005602241181597402, 0.028170907242071087, -0.0038819630441622854, 0.01245062428471898, -0.005663370171849665, 0.0006716395345275686, 0.004581699690728606, -0.007340277793991603, 0.0014161289150315995, 0.00312992949932392, 0.0021738807282999473, -0.02874446633942856, 0.008116726009972564, -0.008887017314951048, -0.03548138556828052, -0.000440344739173351, -0.014722450604758613, -0.013119082124577502, 0.007317656668663355, 0.008748585606529214, 0.007816867878874147, 0.00021555074965139154, -0.007442280180801713, -0.014512792854172363, -0.002768834772919241, 0.005610334571718258, 0.002070159492580687, 0.005333362812766757, -0.011973852235352857, -0.008502877401094589, 0.005471921095816496, 0.004855906160526096, 0.001921200890390417, 0.0010875310837112663, 0.003472827930694772, -0.0006039009696893571, -0.0256537700617671, 0.010281782609566859, -0.00043573983107514407, -0.004244715139612822, 0.004527713435912795, 0.0017463007557298644, -0.0014217468416307432, -0.00784832061521262, -0.004627151543465675, -0.00036901214784000705, -0.004148900511748216, -0.000676791425281311, -0.006433359080455578, 0.010662019209796127, 0.010598084646865428, 0.011258844481856888, -0.0049719366896926655, 0.0025564336572735666, -0.007794301506256358, -0.004612572036904649, 0.017678053460778692, -0.0024911590816613506, 0.010499961110606557, 0.00021956176497964078, 0.0044397461961495745, 0.006272177691567977, 0.011906212456662724, -0.014774031285249723, 0.003101977044308911, 0.01654263465393853, 0.002859283878758571, -0.0004393773884522956, -0.007381633004490079, -0.006338146204471079, -0.0038387909228638868, -0.000430024897300676, -0.013452695735040649, 0.0010858777693706072, -0.013640725124043749, -0.0004487425932315741, -0.005839986077335385, -0.004455359500983664, 0.008220797157147816, 0.005176531064046777, 0.007045796223796003, -0.001558492876898507, -0.008284352179316234, 0.016760699921699464, -0.00456243892198649, 0.0010705329604392439, 0.009974593920742392, 0.005834619497147999, 0.011348887402612081, -0.004263599663019349, -0.005899722127188271, -0.0010998142885794684, 0.007594411385373729, 0.001815661355062383, 0.007590182086494061, -0.007073050940638605, 0.0016096951126981735, -0.013031662224813534, -0.004592641372588826, 0.0003880570120204892, 0.0022319297221512564, 0.0032619692703019488, -0.001550209516883531, 0.004257286279417821, 0.009950347639514521, -0.0006854514084268913, 0.00041920892141668765, 0.016318328459261677, -0.008196798600864304, -0.006545180660328334, -0.010131799243682795, 0.0035810211309792827, 0.002917871828124421, 0.006813445831681077, -0.0031092105173736884, 0.0010032956809385106, -0.005008830698706314, -0.0037002782335708996, -0.006850056994333845, 0.007627491867094704, 0.016090838194097942, 0.004100240343946087, 0.008032177420741046, -0.008663638996272522, 0.003855069658217859, 0.015575021914295668, 0.002404089384740399, -0.0006717899730184395, -0.009228849979095318, -0.0036159201629814603, -0.004828749693910991, -0.004102752240052645, 0.005758561289342751, 0.0017316417689299593, 0.0067501914571231605, -0.0028128819366779515, 0.006633923780559553, 0.003967411449766391, -0.002952410498058216, 0.001320873788328809, 0.003621740425914703, 0.00690449796917017, -0.001437067519021456, 0.009066611794297819, -0.002177839899880737, -0.007279622755881904, 0.006879422788530908, -0.003919789212676763, 0.0023827718014738167, -0.0014651952927564479, 0.0009612465570264075, -0.00040503155887021164, -0.008723983414266667, 0.0028925512985040493, -0.0037950544861055538, -0.004168609647141871, 0.008859407456396223, 0.014397883944064173, 0.0021982559914087403, -0.008403362643765351, 0.009045897698850204, 0.0, -0.007548973968951917, 0.004121898222069567, 0.021433226541514788, -0.0010594990308014916, 0.005080162052732044, 0.00018541359376606254, 0.008199021261955054, -0.006475292160293259, -0.01054490345582453, -0.0038404694506749605, -0.005183550866160614, -0.0015899990265812508, 0.010808457851380564, -0.003575504638428773, -0.009005935177590985, 0.0024921909645911205, 0.0018756867649948323, 0.006324818382830186, 0.009263649457280988, 0.010424256769801122, -0.007314629045237663, -0.01020833701010248, 0.009684234677880137, 0.002360682698765846, 0.0035440444224387195, 0.0027147464893949504, -0.0030187197312072584, -0.003148178579572494, 0.010819719160973768, 0.013482347991940237, 0.0029936939960978613, 0.018071403542482878, 0.02277805266665878, -0.006726947731562226, -0.00864994137161257, 0.0003707908378715779, -0.01431185610635248, 0.015993259893476313, 0.0060301793017041435, 0.00038850927451566805, 0.010285706696857118, -0.006902419900313324, 0.004514647616597407, -0.008768364884018826, 0.002314780486252647, -0.00043030244080290516, -0.0028889700714951907, -0.011220050033591703, 0.0025353660019902047, 0.009366303507382314, 0.0019546135539726464, -0.00019221939637929734, -0.004532089487303559, 0.00021480978741565148, 0.00472503904283113, -0.0028024947683054522, 0.012773840584797752, 0.011111225425070849, 0.010671637840727326, -0.0004551765558920898, -0.003819528216167009, 0.00530504149374492, -0.004046377141832813, 0.004398124345545421, 0.014272631081932512, 0.007934358583812409, -0.011509178245094023, 0.0025845169296742467, -0.004640397217137494, 0.004486341380377129, -0.001981291794428346, -0.0143648656150635, 0.004228352137087397, 0.004221728973387437, -0.002629129924203389, 0.008381902483037567, 0.003016580398019569, 0.00046394012350131994, 0.010850800476343724, -0.004457619994301754, -0.010708808610630885, -0.005762484186348395, -0.0014698115930327218, -0.0013068518260100862, 0.0005610583369266717, -0.0025167192915436717, -0.004048610978896019, 0.006932430187221132, 0.002776912318089041, 0.005593481452508877, -0.0011267148345713346, 0.006538067785720013, -0.0136118773598879, -0.0021186124980607916, -0.00021302485745776018, -0.017610528324951732, -0.004797334180642708, -0.013180440490147705, 0.0026297389387777283, 0.01012833209587102, 0.011006549629246609, 0.008201325183423853, 0.002663684789965606, -0.012574065287931565, -0.003466955774609471, 0.010324408232304415, 0.0, -0.01658220129537894, 0.006128732555090718, -0.0030056528547335207, 0.007215357252196822, -0.004279013031360403, 0.00633503426861058, -0.002591143274872804, -0.009407800387192179, -0.0018168984128270978, -0.0038577052934654203, 0.0010724516150221477, 0.0012987312383333544, 0.004864064927760841, 0.0010155223453770425, -0.0021445101898839823, 0.0008433674391928178, -0.015313085526837127], \"xaxis\": \"x2\", \"y\": [-0.006228775031665168, 0.001212909091887851, 0.0038146660661166664, -0.015106708347650755, 0.014170701995762253, -0.01718351361205149, 0.00220101478405834, -0.01668548214514833, 0.012825916108009674, -0.002106577288734465, -0.008366076076358624, -0.0031859861051995774, -0.0027564162219867634, 0.033534952386835556, 0.002242958592377263, 0.013322150878029841, -0.0075305599247872425, 0.008341990420538178, 0.014959434471923013, -0.012948074152208014, 0.005599162123606704, -0.009460522405944161, 0.00418131406801993, 0.003434625677734552, -0.009599844956465861, 0.015455707446404534, -0.0010985285291075248, -0.0055425934625078135, 0.008040647614185131, -0.011987578104503108, -0.002130474988642849, -0.01111583703507103, -0.01222350106852008, -0.007627567475068649, -0.005871765251924288, 0.0009732939628320939, -0.0029587141374175212, -0.005552733567116653, -0.0010369977148283098, 0.010441904348079152, 0.00047133802585348794, 0.008733399555398383, -0.0002049747098749129, -0.010318703879220698, 0.0054108810765058635, 0.003282868612949375, -0.013271232003630232, -0.0047837655516394136, 0.004306817793965783, -0.007966154768277415, -0.003741398713000922, 0.0014798340979499496, -0.008186226332013973, -0.0011531274822810195, 0.0202639686851056, 0.0006098893613954964, -0.009547188491276254, 0.009749336948152634, 0.005407752070589489, 0.014499117225307095, -0.0027995150745117204, 0.006299907098015392, -0.009162737729244719, 0.008771945534697708, -0.015752545137435386, 0.0007010718928563411, -0.001750628448401685, -0.014265844973840043, 0.005743071672466213, 0.007255958215066754, 0.013607986202616253, -0.010529769813540191, -0.005565160720299353, 0.0030447861021363743, 0.025800740510933957, -0.0040068899741912516, -0.012414095713868952, -0.007872068392189676, -0.006683379784203937, 0.0018226627565849475, 0.0022654025455950276, -0.0111945867415464, 0.013615116045933247, -0.0015713590044489885, -0.004438317653414648, -0.0019530838609392578, 0.002330862193285139, 0.01029730236114534, 0.007916806378163818, 0.008480778411436879, 0.002531265058361186, 0.0005418870801047583, -0.0017894940199587716, 0.005866926900463382, 0.004027449235516692, -0.001339240785615408, 0.0025848593708595077, -0.013432126921885196, -0.014104827900089873, -0.004572396455349306, -0.0117328289380119, -0.013223495942488827, 0.02045895844919668, -0.01346542041685913, 0.002530503228491387, -0.008708814473172247, -0.00325672610011649, -0.02341545236606974, -0.0010045973648244587, 0.008651317219129925, 0.011882944086036107, -0.004482019483488457, 0.011700475440529896, 0.0035291499567744475, 0.05330551811314831, 0.0014650687056968533, 0.0021197166850595453, -0.0016376919698696613, -0.005064850243960339, 0.0027897303857244682, 0.0039598495488990795, -0.009550759574570869, -0.005379932022063161, 0.00010407029468217617, 0.006354203349507535, -0.004258515431943977, 0.011129207216510971, -0.006912288805394091, -0.0019384445163550931, 0.0039599786240527655, -5.270800924913927e-05, -0.012488930004582155, 0.0030929626974780626, 0.015832793168779793, -0.0003526294046413622, -0.010562725624944943, 0.011899550930214699, 0.0013046850156500228, -0.0034277393463294594, 0.0009763031676371979, -0.005102456519243428, -0.011171836030422069, -4.379874442509389e-05, -0.006252263184915997, 0.004946297205070426, -0.0031213166590825024, -0.004707860718142696, 0.012135292797001672, -0.0007806125009726344, -0.009185077673459125, 0.0067192667255921565, 0.01493909026720017, -0.0017473085047909145, 0.010225748266776257, -0.0003417138866090618, -0.009181749459473032, -0.003247549781164186, 0.002763295563529453, 0.011096558548629436, -0.010760505298422821, 0.0008535990039686518, 0.004596072395652247, 0.0030398676828522603, -0.005771987418902197, -0.013998681166067726, -0.005932701263917224, -0.0033606186826629077, -0.003599487750914552, -0.015567844528856956, -0.009144359173570812, 0.01375142010446859, 0.001681190828357832, 0.016178101932472547, -0.013779723240395541, 0.007278340995166574, 0.008226754859943532, -0.0028695278921239886, -0.0018239804542980022, -0.012351467628810793, -0.009381413128112286, 0.0023109302602416578, 0.0034189349159398953, 0.0015418642371461764, -0.029468773323627157, -0.008166288404946306, 0.0035013605767710097, -0.0042264179538113915, 0.007169718126734001, -0.004782550292929882, -0.007299125782449297, 0.004553916243461387, -0.0018774784521968248, -0.02094894239410448, 0.00027490774679317506, 0.009482645358642152, -0.005625498542391533, 0.0029784382940059445, 0.0062150429130995955, -0.003636169194555892, 0.0017672156969169499, 0.0070944523743711515, 0.0033598257285315115, 0.0039252216011060525, -0.002192548950963033, 0.007563339042390874, -0.0022863462034077124, -0.00446176111379433, -0.02576516077011236, 7.915226558468345e-05, -0.0031604275072705406, -0.00256896342093372, 0.0046389792170058106, -9.953418865272807e-05, 0.0025582763450385107, 0.010964453035344898, -0.017998917106851132, 0.014017205951100823, 0.0007254755343891334, 0.005740658744540179, 0.00753348919851777, -0.0016139876082978074, -0.0028877411196125227, -0.003941677210259826, -0.007430577911698968, -0.008338400666182397, 0.008777228990187458, -0.012384821778596504, -0.0016032103079357523, -0.014873661516964468, -0.0010899793838565507, 0.0035707075378211602, 0.012228316526959115, -0.003530045647705162, 0.0007687372100272137, 0.012557925007885936, 0.004356213498493491, -0.008142271013118976, 0.009133804826509726, -0.006377350246967366, -0.00638865425638625, -0.009744254114935978, 0.003958514845521876, 0.010065983510887104, -0.004417366582239015, 0.009178979348041419, -0.005075961747773701, 0.0016954719820777599, 0.0039037359975634236, 0.0026156714943382565, 0.007710984980497852, -0.0228187403633866, -0.003314511341764168, -0.007052812087380304, -0.007403130781333583, 0.001694431926958759, 0.0020603245616465176, 0.011022489957429035, -0.005777456153944323, 0.00448077431082696, 0.028342247295720997, -0.005456878139721002, -0.002224697109491613, 0.005819526028954761, 0.012422717129908202, 0.0057760707341449925, -0.008010837476698968, 0.004696897469187786, 0.01691524058964646, 0.018103153905143658, 0.0024330771776959214, -0.02012254808595547, 0.009229915371870616, -0.004544564772605144, -0.002603064799613761, 0.0023533147722430746, 0.0002959074479748653, -0.0014833090143139271, 0.000405909003046101, -0.012278400869210386, 0.011475620486019751, 0.0014590856079697728, 0.015723685753158252, 0.00927851190808976, 0.006984292882778658, -0.018291204869852577, -0.010535468950485127, 0.008441584841857593, -0.0019682616692292916, -0.009211498321994568, 0.006500585737273349, -0.00019075100989928524, 0.012214547882813794, 0.013982446757609943, -0.0044248720138991265, 0.006400297371196692, 0.0016630241695038493, 0.004476855865340586, -0.004976740607426372, 0.0009879212505894555, -0.0036187667552547613], \"yaxis\": \"y2\"}, {\"cells\": {\"values\": [0.37518486, 0.00098166, 0.09699823, 4e-08, 0.06631313]}, \"header\": {\"values\": [\"slope\", \"intercept\", \"r_value\", \"p_value\", \"std_err\"]}, \"type\": \"table\"}],\n                        {\"autosize\": false, \"height\": 800, \"margin\": {\"t\": 100}, \"showlegend\": false, \"template\": {\"data\": {\"bar\": [{\"error_x\": {\"color\": \"#2a3f5f\"}, \"error_y\": {\"color\": \"#2a3f5f\"}, \"marker\": {\"line\": {\"color\": \"#E5ECF6\", \"width\": 0.5}}, \"type\": \"bar\"}], \"barpolar\": [{\"marker\": {\"line\": {\"color\": \"#E5ECF6\", \"width\": 0.5}}, \"type\": \"barpolar\"}], \"carpet\": [{\"aaxis\": {\"endlinecolor\": \"#2a3f5f\", \"gridcolor\": \"white\", \"linecolor\": \"white\", \"minorgridcolor\": \"white\", \"startlinecolor\": \"#2a3f5f\"}, \"baxis\": {\"endlinecolor\": \"#2a3f5f\", \"gridcolor\": \"white\", \"linecolor\": \"white\", \"minorgridcolor\": \"white\", \"startlinecolor\": \"#2a3f5f\"}, \"type\": \"carpet\"}], \"choropleth\": [{\"colorbar\": {\"outlinewidth\": 0, \"ticks\": \"\"}, \"type\": \"choropleth\"}], \"contour\": [{\"colorbar\": {\"outlinewidth\": 0, \"ticks\": \"\"}, \"colorscale\": [[0.0, \"#0d0887\"], [0.1111111111111111, \"#46039f\"], [0.2222222222222222, \"#7201a8\"], [0.3333333333333333, \"#9c179e\"], [0.4444444444444444, \"#bd3786\"], [0.5555555555555556, \"#d8576b\"], [0.6666666666666666, \"#ed7953\"], [0.7777777777777778, \"#fb9f3a\"], [0.8888888888888888, \"#fdca26\"], [1.0, \"#f0f921\"]], \"type\": \"contour\"}], \"contourcarpet\": [{\"colorbar\": {\"outlinewidth\": 0, \"ticks\": \"\"}, \"type\": \"contourcarpet\"}], \"heatmap\": [{\"colorbar\": {\"outlinewidth\": 0, \"ticks\": \"\"}, \"colorscale\": [[0.0, \"#0d0887\"], [0.1111111111111111, \"#46039f\"], [0.2222222222222222, \"#7201a8\"], [0.3333333333333333, \"#9c179e\"], [0.4444444444444444, \"#bd3786\"], [0.5555555555555556, \"#d8576b\"], [0.6666666666666666, \"#ed7953\"], [0.7777777777777778, \"#fb9f3a\"], [0.8888888888888888, \"#fdca26\"], [1.0, \"#f0f921\"]], \"type\": \"heatmap\"}], \"heatmapgl\": [{\"colorbar\": {\"outlinewidth\": 0, \"ticks\": \"\"}, \"colorscale\": [[0.0, \"#0d0887\"], [0.1111111111111111, \"#46039f\"], [0.2222222222222222, \"#7201a8\"], [0.3333333333333333, \"#9c179e\"], [0.4444444444444444, \"#bd3786\"], [0.5555555555555556, \"#d8576b\"], [0.6666666666666666, \"#ed7953\"], [0.7777777777777778, \"#fb9f3a\"], [0.8888888888888888, \"#fdca26\"], [1.0, \"#f0f921\"]], \"type\": \"heatmapgl\"}], \"histogram\": [{\"marker\": {\"colorbar\": {\"outlinewidth\": 0, \"ticks\": \"\"}}, \"type\": \"histogram\"}], \"histogram2d\": [{\"colorbar\": {\"outlinewidth\": 0, \"ticks\": \"\"}, \"colorscale\": [[0.0, \"#0d0887\"], [0.1111111111111111, \"#46039f\"], [0.2222222222222222, \"#7201a8\"], [0.3333333333333333, \"#9c179e\"], [0.4444444444444444, \"#bd3786\"], [0.5555555555555556, \"#d8576b\"], [0.6666666666666666, \"#ed7953\"], [0.7777777777777778, \"#fb9f3a\"], [0.8888888888888888, \"#fdca26\"], [1.0, \"#f0f921\"]], \"type\": \"histogram2d\"}], \"histogram2dcontour\": [{\"colorbar\": {\"outlinewidth\": 0, \"ticks\": \"\"}, \"colorscale\": [[0.0, \"#0d0887\"], [0.1111111111111111, \"#46039f\"], [0.2222222222222222, \"#7201a8\"], [0.3333333333333333, \"#9c179e\"], [0.4444444444444444, \"#bd3786\"], [0.5555555555555556, \"#d8576b\"], [0.6666666666666666, \"#ed7953\"], [0.7777777777777778, \"#fb9f3a\"], [0.8888888888888888, \"#fdca26\"], [1.0, \"#f0f921\"]], \"type\": \"histogram2dcontour\"}], \"mesh3d\": [{\"colorbar\": {\"outlinewidth\": 0, \"ticks\": \"\"}, \"type\": \"mesh3d\"}], \"parcoords\": [{\"line\": {\"colorbar\": {\"outlinewidth\": 0, \"ticks\": \"\"}}, \"type\": \"parcoords\"}], \"scatter\": [{\"marker\": {\"colorbar\": {\"outlinewidth\": 0, \"ticks\": \"\"}}, \"type\": \"scatter\"}], \"scatter3d\": [{\"line\": {\"colorbar\": {\"outlinewidth\": 0, \"ticks\": \"\"}}, \"marker\": {\"colorbar\": {\"outlinewidth\": 0, \"ticks\": \"\"}}, \"type\": \"scatter3d\"}], \"scattercarpet\": [{\"marker\": {\"colorbar\": {\"outlinewidth\": 0, \"ticks\": \"\"}}, \"type\": \"scattercarpet\"}], \"scattergeo\": [{\"marker\": {\"colorbar\": {\"outlinewidth\": 0, \"ticks\": \"\"}}, \"type\": \"scattergeo\"}], \"scattergl\": [{\"marker\": {\"colorbar\": {\"outlinewidth\": 0, \"ticks\": \"\"}}, \"type\": \"scattergl\"}], \"scattermapbox\": [{\"marker\": {\"colorbar\": {\"outlinewidth\": 0, \"ticks\": \"\"}}, \"type\": \"scattermapbox\"}], \"scatterpolar\": [{\"marker\": {\"colorbar\": {\"outlinewidth\": 0, \"ticks\": \"\"}}, \"type\": \"scatterpolar\"}], \"scatterpolargl\": [{\"marker\": {\"colorbar\": {\"outlinewidth\": 0, \"ticks\": \"\"}}, \"type\": \"scatterpolargl\"}], \"scatterternary\": [{\"marker\": {\"colorbar\": {\"outlinewidth\": 0, \"ticks\": \"\"}}, \"type\": \"scatterternary\"}], \"surface\": [{\"colorbar\": {\"outlinewidth\": 0, \"ticks\": \"\"}, \"colorscale\": [[0.0, \"#0d0887\"], [0.1111111111111111, \"#46039f\"], [0.2222222222222222, \"#7201a8\"], [0.3333333333333333, \"#9c179e\"], [0.4444444444444444, \"#bd3786\"], [0.5555555555555556, \"#d8576b\"], [0.6666666666666666, \"#ed7953\"], [0.7777777777777778, \"#fb9f3a\"], [0.8888888888888888, \"#fdca26\"], [1.0, \"#f0f921\"]], \"type\": \"surface\"}], \"table\": [{\"cells\": {\"fill\": {\"color\": \"#EBF0F8\"}, \"line\": {\"color\": \"white\"}}, \"header\": {\"fill\": {\"color\": \"#C8D4E3\"}, \"line\": {\"color\": \"white\"}}, \"type\": \"table\"}]}, \"layout\": {\"annotationdefaults\": {\"arrowcolor\": \"#2a3f5f\", \"arrowhead\": 0, \"arrowwidth\": 1}, \"colorscale\": {\"diverging\": [[0, \"#8e0152\"], [0.1, \"#c51b7d\"], [0.2, \"#de77ae\"], [0.3, \"#f1b6da\"], [0.4, \"#fde0ef\"], [0.5, \"#f7f7f7\"], [0.6, \"#e6f5d0\"], [0.7, \"#b8e186\"], [0.8, \"#7fbc41\"], [0.9, \"#4d9221\"], [1, \"#276419\"]], \"sequential\": [[0.0, \"#0d0887\"], [0.1111111111111111, \"#46039f\"], [0.2222222222222222, \"#7201a8\"], [0.3333333333333333, \"#9c179e\"], [0.4444444444444444, \"#bd3786\"], [0.5555555555555556, \"#d8576b\"], [0.6666666666666666, \"#ed7953\"], [0.7777777777777778, \"#fb9f3a\"], [0.8888888888888888, \"#fdca26\"], [1.0, \"#f0f921\"]], \"sequentialminus\": [[0.0, \"#0d0887\"], [0.1111111111111111, \"#46039f\"], [0.2222222222222222, \"#7201a8\"], [0.3333333333333333, \"#9c179e\"], [0.4444444444444444, \"#bd3786\"], [0.5555555555555556, \"#d8576b\"], [0.6666666666666666, \"#ed7953\"], [0.7777777777777778, \"#fb9f3a\"], [0.8888888888888888, \"#fdca26\"], [1.0, \"#f0f921\"]]}, \"colorway\": [\"#636efa\", \"#EF553B\", \"#00cc96\", \"#ab63fa\", \"#FFA15A\", \"#19d3f3\", \"#FF6692\", \"#B6E880\", \"#FF97FF\", \"#FECB52\"], \"font\": {\"color\": \"#2a3f5f\"}, \"geo\": {\"bgcolor\": \"white\", \"lakecolor\": \"white\", \"landcolor\": \"#E5ECF6\", \"showlakes\": true, \"showland\": true, \"subunitcolor\": \"white\"}, \"hoverlabel\": {\"align\": \"left\"}, \"hovermode\": \"closest\", \"mapbox\": {\"style\": \"light\"}, \"paper_bgcolor\": \"white\", \"plot_bgcolor\": \"#E5ECF6\", \"polar\": {\"angularaxis\": {\"gridcolor\": \"white\", \"linecolor\": \"white\", \"ticks\": \"\"}, \"bgcolor\": \"#E5ECF6\", \"radialaxis\": {\"gridcolor\": \"white\", \"linecolor\": \"white\", \"ticks\": \"\"}}, \"scene\": {\"xaxis\": {\"backgroundcolor\": \"#E5ECF6\", \"gridcolor\": \"white\", \"gridwidth\": 2, \"linecolor\": \"white\", \"showbackground\": true, \"ticks\": \"\", \"zerolinecolor\": \"white\"}, \"yaxis\": {\"backgroundcolor\": \"#E5ECF6\", \"gridcolor\": \"white\", \"gridwidth\": 2, \"linecolor\": \"white\", \"showbackground\": true, \"ticks\": \"\", \"zerolinecolor\": \"white\"}, \"zaxis\": {\"backgroundcolor\": \"#E5ECF6\", \"gridcolor\": \"white\", \"gridwidth\": 2, \"linecolor\": \"white\", \"showbackground\": true, \"ticks\": \"\", \"zerolinecolor\": \"white\"}}, \"shapedefaults\": {\"line\": {\"color\": \"#2a3f5f\"}}, \"ternary\": {\"aaxis\": {\"gridcolor\": \"white\", \"linecolor\": \"white\", \"ticks\": \"\"}, \"baxis\": {\"gridcolor\": \"white\", \"linecolor\": \"white\", \"ticks\": \"\"}, \"bgcolor\": \"#E5ECF6\", \"caxis\": {\"gridcolor\": \"white\", \"linecolor\": \"white\", \"ticks\": \"\"}}, \"title\": {\"x\": 0.05}, \"xaxis\": {\"automargin\": true, \"gridcolor\": \"white\", \"linecolor\": \"white\", \"ticks\": \"\", \"zerolinecolor\": \"white\", \"zerolinewidth\": 2}, \"yaxis\": {\"automargin\": true, \"gridcolor\": \"white\", \"linecolor\": \"white\", \"ticks\": \"\", \"zerolinecolor\": \"white\", \"zerolinewidth\": 2}}}, \"title\": {\"text\": \"Regression Model of log return of The Coca-Cola Company and Costco Wholesale Corporation\"}, \"width\": 950, \"xaxis\": {\"anchor\": \"y\", \"domain\": [0, 1], \"gridcolor\": \"#ffffff\", \"mirror\": true, \"showgrid\": true, \"showline\": true, \"showticklabels\": false, \"tickfont\": {\"size\": 10}, \"ticklen\": 4, \"zeroline\": false}, \"xaxis2\": {\"anchor\": \"y2\", \"domain\": [0, 1], \"gridcolor\": \"#ffffff\", \"mirror\": true, \"showgrid\": true, \"showline\": true, \"showticklabels\": true, \"tickfont\": {\"size\": 10}, \"ticklen\": 4, \"title\": {\"text\": \"Log return of The Coca-Cola Company\"}, \"zeroline\": false}, \"yaxis\": {\"anchor\": \"x\", \"domain\": [0.45, 0.85], \"gridcolor\": \"#ffffff\", \"hoverformat\": \".2f\", \"mirror\": true, \"showgrid\": true, \"showline\": true, \"tickfont\": {\"size\": 10}, \"ticklen\": 4, \"title\": {\"text\": \"Log return of Costco Wholesale Corporation\"}, \"zeroline\": false}, \"yaxis2\": {\"anchor\": \"x2\", \"domain\": [0.0, 0.4], \"gridcolor\": \"#ffffff\", \"hoverformat\": \".2f\", \"mirror\": true, \"showgrid\": true, \"showline\": true, \"tickfont\": {\"size\": 10}, \"ticklen\": 4, \"title\": {\"text\": \"Residual\"}, \"zeroline\": false}},\n                        {\"responsive\": true}\n                    ).then(function(){\n                            \nvar gd = document.getElementById('3a4bc29d-901a-48eb-9349-beab2b387257');\nvar x = new MutationObserver(function (mutations, observer) {{\n        var display = window.getComputedStyle(gd).display;\n        if (!display || display === 'none') {{\n            console.log([gd, 'removed!']);\n            Plotly.purge(gd);\n            observer.disconnect();\n        }}\n}});\n\n// Listen for the removal of the full notebook cells\nvar notebookContainer = gd.closest('#notebook-container');\nif (notebookContainer) {{\n    x.observe(notebookContainer, {childList: true});\n}}\n\n// Listen for the clearing of the current output cell\nvar outputEl = gd.closest('.output');\nif (outputEl) {{\n    x.observe(outputEl, {childList: true});\n}}\n\n                        })\n                };\n                });\n            </script>\n        </div>"
         },
         "metadata": {},
         "output_type": "display_data"
        }
       ]
      }
     },
     "abfc9417ba9249488530168e45203db8": {
      "model_module": "@jupyter-widgets/output",
      "model_module_version": "1.0.0",
      "model_name": "OutputModel",
      "state": {
       "layout": "IPY_MODEL_57008f5a3e184c248ad3ce1bcdc9d59a",
       "outputs": [
        {
         "data": {
          "application/vnd.plotly.v1+json": {
           "config": {
            "linkText": "Export to plot.ly",
            "plotlyServerURL": "https://plot.ly",
            "showLink": false
           },
           "data": [
            {
             "mode": "markers",
             "name": "data",
             "type": "scatter",
             "x": [
              1,
              2,
              3,
              4,
              7,
              8,
              9,
              10,
              11,
              15,
              16,
              17,
              18,
              21,
              22,
              23,
              24,
              25,
              28,
              29,
              30,
              31,
              32,
              35,
              36,
              37,
              38,
              39,
              42,
              43,
              44,
              45,
              46,
              50,
              51,
              52,
              53,
              56,
              57,
              58,
              59,
              60,
              63,
              64,
              65,
              66,
              67,
              70,
              71,
              72,
              73,
              74,
              77,
              78,
              79,
              80,
              81,
              84,
              85,
              86,
              87,
              91,
              92,
              93,
              94,
              95,
              98,
              99,
              100,
              101,
              102,
              105,
              106,
              107,
              108,
              109,
              112,
              113,
              114,
              115,
              116,
              119,
              120,
              121,
              122,
              123,
              126,
              127,
              128,
              129,
              130,
              133,
              134,
              135,
              136,
              137,
              140,
              141,
              142,
              143,
              144,
              148,
              149,
              150,
              151,
              154,
              155,
              156,
              157,
              158,
              161,
              162,
              163,
              164,
              165,
              168,
              169,
              170,
              171,
              172,
              175,
              176,
              177,
              178,
              179,
              182,
              183,
              185,
              186,
              189,
              190,
              191,
              192,
              193,
              196,
              197,
              198,
              199,
              200,
              203,
              204,
              205,
              206,
              207,
              210,
              211,
              212,
              213,
              214,
              217,
              218,
              219,
              220,
              221,
              224,
              225,
              226,
              227,
              228,
              231,
              232,
              233,
              234,
              235,
              238,
              239,
              240,
              241,
              242,
              246,
              247,
              248,
              249,
              252,
              253,
              254,
              255,
              256,
              259,
              260,
              261,
              262,
              263,
              266,
              267,
              268,
              269,
              270,
              273,
              274,
              275,
              276,
              277,
              280,
              281,
              282,
              283,
              284,
              287,
              288,
              289,
              290,
              291,
              294,
              295,
              296,
              297,
              298,
              301,
              302,
              303,
              304,
              305,
              308,
              309,
              310,
              311,
              312,
              315,
              316,
              317,
              318,
              319,
              322,
              323,
              324,
              326,
              329,
              330,
              331,
              332,
              333,
              336,
              337,
              339,
              340,
              343,
              344,
              345,
              346,
              347,
              350,
              351,
              352,
              353,
              354,
              357,
              359,
              360,
              361,
              364,
              366,
              367,
              368,
              371,
              372,
              373,
              374,
              375,
              378,
              379,
              380,
              381,
              382,
              386,
              387,
              388,
              389,
              392,
              393,
              394,
              395,
              396,
              399,
              400,
              401,
              402,
              403,
              406,
              407,
              408,
              409,
              410,
              414,
              415,
              416,
              417,
              420,
              421,
              422,
              423,
              424,
              427,
              428,
              429,
              430,
              431,
              434,
              435,
              436,
              437,
              438,
              441,
              442,
              443,
              444,
              445,
              448,
              449,
              450,
              451,
              452,
              455,
              456,
              457,
              458,
              459,
              462,
              463,
              464,
              465,
              466,
              469,
              470,
              471,
              472,
              476,
              477,
              478,
              479,
              480,
              483,
              484,
              485,
              486,
              487,
              490,
              491,
              492,
              493,
              494,
              497,
              498,
              499,
              500,
              501,
              504,
              505,
              506,
              507,
              508,
              512,
              513,
              514,
              515,
              518,
              519,
              520,
              521,
              522,
              525,
              526,
              527,
              528,
              529,
              532,
              533,
              534,
              535,
              536,
              539,
              540,
              541,
              542,
              543,
              546,
              547,
              548,
              550,
              553,
              554,
              555,
              556,
              557,
              560,
              561,
              562,
              563,
              564,
              567,
              568,
              569,
              570,
              571,
              574,
              575,
              576,
              577,
              578,
              581,
              582,
              583,
              584,
              585,
              588,
              589,
              590,
              591,
              592,
              595,
              596,
              597,
              598,
              599,
              602,
              603,
              604,
              605,
              606,
              610,
              611,
              612,
              613,
              616,
              617,
              618,
              619,
              620,
              623,
              624,
              625,
              626,
              627,
              630,
              631,
              632,
              633,
              634,
              637,
              638,
              639,
              640,
              641,
              644,
              645,
              646,
              647,
              648,
              651,
              652,
              653,
              654,
              655,
              658,
              659,
              660,
              661,
              662,
              665,
              666,
              667,
              668,
              669,
              672,
              673,
              674,
              675,
              676,
              679,
              680,
              681,
              682,
              683,
              686,
              687,
              688,
              689,
              690,
              693,
              694,
              695,
              697,
              700,
              701,
              702,
              703,
              704,
              707,
              708,
              709,
              710,
              711
             ],
             "xaxis": "x",
             "y": [
              -0.008091874198100127,
              -0.01029021074667782,
              0.0036961011865649595,
              0.003479017386149958,
              0.001958441551595119,
              0.006945973160759296,
              0.003479017386149958,
              0.0028276488016584296,
              0.005214039074825736,
              0.013414284684302455,
              0.019627500607200317,
              0.02090821311528499,
              0.02686311749613409,
              0.03151726633672803,
              0.03299358619724527,
              0.04097014103726155,
              0.041179157894422544,
              0.05549918332604693,
              0.03824845895133328,
              0.0321502187580524,
              0.03593970340182084,
              0.03299358619724527,
              0.017703391978907867,
              -0.022467915740263397,
              -0.0273808605641761,
              -0.029846328499553126,
              -0.06315999323102131,
              -0.062464119512730266,
              -0.04317534398259991,
              -0.03818446687181516,
              -0.04022320708512891,
              -0.02492137102689869,
              -0.020465018583379478,
              -0.042720581421227824,
              -0.05760695530856949,
              -0.05346234187134603,
              -0.041584622294479935,
              -0.041811762894187685,
              -0.051167218650840555,
              -0.060379575614819415,
              -0.055532501363926616,
              -0.0488772637082309,
              -0.04499646514374972,
              -0.044085490002946655,
              -0.046592627734482944,
              -0.03231797581359424,
              -0.024028493373638632,
              -0.030519863016939444,
              -0.029621974826147455,
              -0.04750589072544951,
              -0.050021629369380594,
              -0.05484200117519313,
              -0.05945457321209773,
              -0.06176881808296663,
              -0.06548283924393745,
              -0.07107990803385529,
              -0.08118685714800208,
              -0.07271828633654544,
              -0.06804427063933717,
              -0.058068539849395626,
              -0.055532501363926616,
              -0.07318690064958398,
              -0.05668442491647506,
              -0.03705355978339413,
              -0.033443451132679346,
              -0.044313199426906036,
              -0.04636439873049526,
              -0.042720581421227824,
              -0.042720581421227824,
              -0.041811762894187685,
              -0.030969109619618494,
              -0.027156973906245146,
              -0.022690669923700207,
              -0.030969109619618494,
              -0.03547253873330112,
              -0.04841990131515228,
              -0.042947980219335734,
              -0.06385626295705725,
              -0.07882728853081339,
              -0.0713137595547306,
              -0.05829936800256015,
              -0.060611026181516224,
              -0.07506346741966141,
              -0.08758575201218552,
              -0.09163583454889693,
              -0.08047841979561712,
              -0.08568556104535743,
              -0.09354737672303258,
              -0.09426522802648418,
              -0.08473677265178876,
              -0.08568556104535743,
              -0.08806138715122017,
              -0.0957022955455056,
              -0.09978545199800323,
              -0.0818958869216614,
              -0.08473677265178876,
              -0.07929877504892296,
              -0.08307860113431696,
              -0.07953455671187837,
              -0.08142317459860388,
              -0.07953455671187837,
              -0.07295252135362432,
              -0.062464119512730266,
              -0.06548283924393745,
              -0.06269605310751997,
              -0.05415188973363773,
              -0.06292795202045252,
              -0.05484200117519313,
              -0.055302310925333616,
              -0.04363031344705456,
              -0.03954310745220946,
              -0.03321828906937932,
              -0.03841075003797369,
              -0.052084583405086454,
              -0.039769784761519295,
              -0.05277326915768981,
              -0.0516258395797345,
              -0.05945457321209773,
              -0.06339199976860938,
              -0.05968572155961149,
              -0.052084583405086454,
              -0.05783767692732388,
              -0.06385626295705725,
              -0.054611881855292206,
              -0.04568019803185351,
              -0.04819134213387639,
              -0.042720581421227824,
              -0.02760471194214486,
              -0.028052650537194565,
              -0.033443451132679346,
              -0.020687327010051552,
              -0.024698034277850528,
              -0.0273808605641761,
              -0.02581496135949559,
              -0.02603854772667275,
              -0.014480284791564697,
              -0.01735737142046345,
              -0.017578989986901435,
              -0.013817548001563975,
              -0.0211321770468017,
              -0.014259351817102498,
              0.003913055105567697,
              0.007162305725643969,
              0.006513250132354211,
              0.006945973160759296,
              0.015561178788910736,
              0.010400950669188308,
              0.005863855597246524,
              0.015346655759016217,
              0.015990005064939333,
              0.012769357655810856,
              0.005214039074825736,
              0.00953830415356752,
              0.0036961011865649595,
              -0.0017440164632781768,
              -0.00043573983107514407,
              0.0036961011865649595,
              0.006729676319446742,
              0.014917553449917326,
              0.017703391978907867,
              0.006729676319446742,
              0.00043555004456940805,
              -0.004584640342823365,
              -0.006117536590009424,
              -0.004803529419028721,
              -0.011831884803951476,
              -0.012713849590860405,
              -0.0211321770468017,
              -0.029621974826147455,
              -0.025368108993034242,
              -0.011611452048668404,
              -0.0030540902705580354,
              -0.004147089311346853,
              0.0032619692703019488,
              0.0023931396167793575,
              0.007162305725643969,
              -0.0017440164632781768,
              0.0017410631106745175,
              0.008890871738816229,
              0.00043555004456940805,
              0.0010884781229647026,
              0.01577557401829703,
              0.014488348828584616,
              0.003479017386149958,
              -0.005022382909014292,
              -0.0013077895148282071,
              0.0021757727493985925,
              0.00608033977366454,
              0.006945973160759296,
              0.012984352210206,
              -0.0008716696141233209,
              -0.0013077895148282071,
              -0.0006536393957017118,
              0.012339147757539859,
              0.010400950669188308,
              -0.005022382909014292,
              -0.028052650537194565,
              -0.027156973906245146,
              -0.022022471235490476,
              -0.009190396458098353,
              -0.0010896641987236224,
              -0.006555950831922887,
              0.009106784013065606,
              0.0013060814349790128,
              0.009754076699528965,
              0.017703391978907867,
              0.012984352210206,
              0.00021775719892601242,
              0.011908752699051898,
              0.03677988230053108,
              0.04201494806044333,
              0.03908670113168363,
              0.044518055970391046,
              0.058790687052323626,
              0.06737973754190753,
              0.07265997569836684,
              0.07184949742662775,
              0.07891948883055322,
              0.08273664320253962,
              0.08253613539921881,
              0.08052845976217758,
              0.08012651718256705,
              0.0887342470616572,
              0.09548834831207488,
              0.07286255061005653,
              0.05961189252403701,
              0.06554543250077088,
              0.06248073448830729,
              0.07265997569836684,
              0.07952314675171354,
              0.06472908724059145,
              0.09330825041519783,
              0.07912072303955824,
              0.07690460860086078,
              0.07286255061005653,
              0.06697239624079063,
              0.07002338046621777,
              0.07609748760428164,
              0.06961711482636701,
              0.07468349497774115,
              0.07205215925629066,
              0.05136956880599509,
              0.05116259237333559,
              0.042432581334878705,
              0.034888526252590465,
              0.03551934909139103,
              0.0010884781229647026,
              0.022187206229071013,
              0.0346781100056254,
              0.02771095381798121,
              0.0308838324690556,
              0.02197418137161324,
              0.01577557401829703,
              0.03551934909139103,
              0.022400266966813513,
              0.03362560516277798,
              0.014273595503730712,
              0.024952893992105575,
              0.030672652371571876,
              0.026651086504191117,
              0.03551934909139103,
              0.021761029822738125,
              0.02474045754342075,
              0.036359881088745986,
              0.038667667872750104,
              0.05012730421830059,
              0.03803874857642777,
              0.03130613944981242,
              0.02707510354046564,
              0.03193930595506864,
              0.041597140295580703,
              0.047222750569814426,
              0.05899609081715193,
              0.07022641268059805,
              0.07042940368126585,
              0.07042940368126585,
              0.07367220857207957,
              0.07528971463714484,
              0.07750948367845215,
              0.07851682206986879,
              0.08113122410436678,
              -0.0069945573651902125,
              -0.014701266588192725,
              -0.0238053559257473,
              -0.017800742262102983,
              -0.0010896641987236224,
              -0.013817548001563975,
              -0.021354718738639776,
              -0.026933222721408787,
              -0.021354718738639776,
              -0.012493306492702477,
              -0.011611452048668404,
              -0.0056793144709171685,
              -0.006775271879416782,
              -0.010070117527665567,
              -0.013817548001563975,
              -0.02358235333059933,
              0.005863855597246524,
              0.0030447911961838333,
              0.006729676319446742,
              -0.004584640342823365,
              -0.013375939290442174,
              -0.010950613187866724,
              -0.007652786216047151,
              -0.00831153240177208,
              -0.008750909790224366,
              0.00043555004456940805,
              0.00261037637192096,
              0.01577557401829703,
              0.015132168542012544,
              0.014488348828584616,
              0.020481491167150995,
              0.017489409710534917,
              0.014273595503730712,
              0.005863855597246524,
              0.012339147757539859,
              0.012124014428014343,
              0.013844032395899401,
              0.016418565790139828,
              0.01577557401829703,
              0.01727529997627368,
              0.01791741008392584,
              0.023464646772558707,
              0.022400266966813513,
              0.02940439234174847,
              0.03362560516277798,
              0.03193930595506864,
              0.048883494489627595,
              0.04410129293333023,
              0.041179157894422544,
              0.049920070479716847,
              0.05322995875633002,
              0.06636111188491431,
              0.05673479662062651,
              0.052610213254551744,
              0.059406693519624305,
              0.0542621201044992,
              0.044518055970391046,
              0.04138813107266644,
              0.03193930595506864,
              0.048468547217313876,
              0.045559164600769156,
              0.058790687052323626,
              0.06880408805582883,
              0.07690460860086078,
              0.06921068406766194,
              0.06207139231528504,
              0.05694054457226248,
              0.07831546628638829,
              0.08233551086094057,
              0.07750948367845215,
              0.06717604878601105,
              0.057146328675954705,
              0.07022641268059805,
              0.0677869129836477,
              0.08493996131036949,
              0.08534005049064618,
              0.10081959729997898,
              0.11295524720997926,
              0.11470469171846766,
              0.1125660575327784,
              0.1115924573069242,
              0.11761359922158551,
              0.10768847504459422,
              0.11120273678096124,
              0.10259038290021595,
              0.0980588108456649,
              0.10749283423750637,
              0.11800082977649938,
              0.11586924072547963,
              0.12302108219148723,
              0.11993466282726992,
              0.10749283423750637,
              0.10671011207364081,
              0.10357278279226521,
              0.11683868797872018,
              0.12417606546930972,
              0.1264819645343179,
              0.12667392569637645,
              0.12456076364392747,
              0.1166449032767616,
              0.1210932143073135,
              0.12532971629956666,
              0.1268657768257592,
              0.12705766433196838,
              0.12724944186184184,
              0.12801633061960258,
              0.12513749690318748,
              0.11276063418978362,
              0.1094471496664273,
              0.16839363932839194,
              0.1582186732051314,
              0.14492883615186508,
              0.1654442609303007,
              0.16211592038117084,
              0.1571024394409754,
              0.13660336472298587,
              0.12513749690318748,
              0.13088690043715082,
              0.11780727017081721,
              0.1297396465450055,
              0.14699943661591802,
              0.15654378391882534,
              0.1515022184677385,
              0.14737545575106595,
              0.15299869896446108,
              0.14342029324233163,
              0.15989076192729737,
              0.16986500275592525,
              0.174997897310722,
              0.16007641642862808,
              0.16415120271014985,
              0.1713342744607146,
              0.1574746794829448,
              0.17225143926628914,
              0.17554634068496608,
              0.18264824403279495,
              0.1815588943721617,
              0.18137725532144255,
              0.1860899397944157,
              0.19455314367202545,
              0.18282965238990542,
              0.1848233206872806,
              0.17188466028708418,
              0.16968122697364138,
              0.17645965221605728,
              0.18264824403279495,
              0.1671043213595073,
              0.16156005943527707,
              0.16673571963982411,
              0.16655129747431735,
              0.17188466028708418,
              0.16063303169565846,
              0.16489031797507625,
              0.16784125795193947,
              0.1654442609303007,
              0.16949734727560878,
              0.1680254423954075,
              0.17041619761999335,
              0.17426628760597876,
              0.1451172890226383,
              0.15933373323307143,
              0.17225143926628914,
              0.15989076192729737,
              0.15449294335318192,
              0.1591480116508714,
              0.1559848872163723,
              0.1492533619202379,
              0.1492533619202379,
              0.1531855660183649,
              0.15281179698473485,
              0.15840463836805163,
              0.1766421866136948,
              0.16655129747431735,
              0.15951942032917008,
              0.17408324915461815,
              0.1735340724031154,
              0.15766071207027224,
              0.15430624925860256,
              0.15131503655726303,
              0.16118933731448026,
              0.17023252311536574,
              0.1604475512868929,
              0.1462469739084399,
              0.1326052080273004,
              0.1398282213251049,
              0.13012221077118993,
              0.1285910749494823,
              0.12147910004995854,
              0.11896821376559534,
              0.1324144549651481,
              0.13660336472298587,
              0.1373630437931366,
              0.1441748131924338,
              0.1451172890226383,
              0.1477513335489675,
              0.142853939404105,
              0.1441748131924338,
              0.1477513335489675,
              0.1604475512868929,
              0.16137475090824616,
              0.15112781960316032,
              0.15766071207027224,
              0.15859049804920797,
              0.1676571098435058,
              0.16581340929837432,
              0.1700487447708765,
              0.16359654281232672,
              0.15803274439745252,
              0.16137475090824616,
              0.16489031797507625,
              0.1700487447708765
             ],
             "yaxis": "y"
            },
            {
             "mode": "lines",
             "name": "fit",
             "type": "scatter",
             "x": [
              1,
              2,
              3,
              4,
              7,
              8,
              9,
              10,
              11,
              15,
              16,
              17,
              18,
              21,
              22,
              23,
              24,
              25,
              28,
              29,
              30,
              31,
              32,
              35,
              36,
              37,
              38,
              39,
              42,
              43,
              44,
              45,
              46,
              50,
              51,
              52,
              53,
              56,
              57,
              58,
              59,
              60,
              63,
              64,
              65,
              66,
              67,
              70,
              71,
              72,
              73,
              74,
              77,
              78,
              79,
              80,
              81,
              84,
              85,
              86,
              87,
              91,
              92,
              93,
              94,
              95,
              98,
              99,
              100,
              101,
              102,
              105,
              106,
              107,
              108,
              109,
              112,
              113,
              114,
              115,
              116,
              119,
              120,
              121,
              122,
              123,
              126,
              127,
              128,
              129,
              130,
              133,
              134,
              135,
              136,
              137,
              140,
              141,
              142,
              143,
              144,
              148,
              149,
              150,
              151,
              154,
              155,
              156,
              157,
              158,
              161,
              162,
              163,
              164,
              165,
              168,
              169,
              170,
              171,
              172,
              175,
              176,
              177,
              178,
              179,
              182,
              183,
              185,
              186,
              189,
              190,
              191,
              192,
              193,
              196,
              197,
              198,
              199,
              200,
              203,
              204,
              205,
              206,
              207,
              210,
              211,
              212,
              213,
              214,
              217,
              218,
              219,
              220,
              221,
              224,
              225,
              226,
              227,
              228,
              231,
              232,
              233,
              234,
              235,
              238,
              239,
              240,
              241,
              242,
              246,
              247,
              248,
              249,
              252,
              253,
              254,
              255,
              256,
              259,
              260,
              261,
              262,
              263,
              266,
              267,
              268,
              269,
              270,
              273,
              274,
              275,
              276,
              277,
              280,
              281,
              282,
              283,
              284,
              287,
              288,
              289,
              290,
              291,
              294,
              295,
              296,
              297,
              298,
              301,
              302,
              303,
              304,
              305,
              308,
              309,
              310,
              311,
              312,
              315,
              316,
              317,
              318,
              319,
              322,
              323,
              324,
              326,
              329,
              330,
              331,
              332,
              333,
              336,
              337,
              339,
              340,
              343,
              344,
              345,
              346,
              347,
              350,
              351,
              352,
              353,
              354,
              357,
              359,
              360,
              361,
              364,
              366,
              367,
              368,
              371,
              372,
              373,
              374,
              375,
              378,
              379,
              380,
              381,
              382,
              386,
              387,
              388,
              389,
              392,
              393,
              394,
              395,
              396,
              399,
              400,
              401,
              402,
              403,
              406,
              407,
              408,
              409,
              410,
              414,
              415,
              416,
              417,
              420,
              421,
              422,
              423,
              424,
              427,
              428,
              429,
              430,
              431,
              434,
              435,
              436,
              437,
              438,
              441,
              442,
              443,
              444,
              445,
              448,
              449,
              450,
              451,
              452,
              455,
              456,
              457,
              458,
              459,
              462,
              463,
              464,
              465,
              466,
              469,
              470,
              471,
              472,
              476,
              477,
              478,
              479,
              480,
              483,
              484,
              485,
              486,
              487,
              490,
              491,
              492,
              493,
              494,
              497,
              498,
              499,
              500,
              501,
              504,
              505,
              506,
              507,
              508,
              512,
              513,
              514,
              515,
              518,
              519,
              520,
              521,
              522,
              525,
              526,
              527,
              528,
              529,
              532,
              533,
              534,
              535,
              536,
              539,
              540,
              541,
              542,
              543,
              546,
              547,
              548,
              550,
              553,
              554,
              555,
              556,
              557,
              560,
              561,
              562,
              563,
              564,
              567,
              568,
              569,
              570,
              571,
              574,
              575,
              576,
              577,
              578,
              581,
              582,
              583,
              584,
              585,
              588,
              589,
              590,
              591,
              592,
              595,
              596,
              597,
              598,
              599,
              602,
              603,
              604,
              605,
              606,
              610,
              611,
              612,
              613,
              616,
              617,
              618,
              619,
              620,
              623,
              624,
              625,
              626,
              627,
              630,
              631,
              632,
              633,
              634,
              637,
              638,
              639,
              640,
              641,
              644,
              645,
              646,
              647,
              648,
              651,
              652,
              653,
              654,
              655,
              658,
              659,
              660,
              661,
              662,
              665,
              666,
              667,
              668,
              669,
              672,
              673,
              674,
              675,
              676,
              679,
              680,
              681,
              682,
              683,
              686,
              687,
              688,
              689,
              690,
              693,
              694,
              695,
              697,
              700,
              701,
              702,
              703,
              704,
              707,
              708,
              709,
              710,
              711
             ],
             "xaxis": "x",
             "y": [
              -0.07522170412170179,
              -0.07489517878466463,
              -0.07456865344762749,
              -0.07424212811059033,
              -0.07326255209947889,
              -0.07293602676244175,
              -0.0726095014254046,
              -0.07228297608836745,
              -0.0719564507513303,
              -0.07065034940318171,
              -0.07032382406614456,
              -0.06999729872910741,
              -0.06967077339207026,
              -0.06869119738095882,
              -0.06836467204392167,
              -0.06803814670688452,
              -0.06771162136984737,
              -0.06738509603281023,
              -0.06640552002169878,
              -0.06607899468466163,
              -0.06575246934762449,
              -0.06542594401058734,
              -0.0650994186735502,
              -0.06411984266243874,
              -0.0637933173254016,
              -0.06346679198836444,
              -0.0631402666513273,
              -0.06281374131429016,
              -0.06183416530317871,
              -0.06150763996614156,
              -0.06118111462910441,
              -0.06085458929206726,
              -0.06052806395503012,
              -0.05922196260688152,
              -0.05889543726984438,
              -0.05856891193280722,
              -0.05824238659577008,
              -0.05726281058465863,
              -0.05693628524762148,
              -0.05660975991058434,
              -0.05628323457354718,
              -0.05595670923651004,
              -0.0549771332253986,
              -0.054650607888361444,
              -0.0543240825513243,
              -0.05399755721428715,
              -0.05367103187725,
              -0.05269145586613856,
              -0.052364930529101406,
              -0.05203840519206426,
              -0.051711879855027114,
              -0.051385354517989965,
              -0.050405778506878524,
              -0.050079253169841374,
              -0.049752727832804225,
              -0.049426202495767076,
              -0.049099677158729926,
              -0.048120101147618485,
              -0.047793575810581336,
              -0.04746705047354419,
              -0.047140525136507044,
              -0.04583442378835845,
              -0.0455078984513213,
              -0.04518137311428415,
              -0.044854847777247006,
              -0.04452832244020985,
              -0.04354874642909841,
              -0.04322222109206126,
              -0.04289569575502411,
              -0.04256917041798697,
              -0.04224264508094982,
              -0.04126306906983837,
              -0.04093654373280122,
              -0.04061001839576408,
              -0.04028349305872693,
              -0.03995696772168978,
              -0.03897739171057833,
              -0.03865086637354119,
              -0.03832434103650404,
              -0.03799781569946689,
              -0.03767129036242974,
              -0.0366917143513183,
              -0.03636518901428115,
              -0.036038663677244,
              -0.03571213834020685,
              -0.035385613003169704,
              -0.03440603699205826,
              -0.034079511655021114,
              -0.033752986317983964,
              -0.033426460980946815,
              -0.033099935643909666,
              -0.032120359632798225,
              -0.031793834295761075,
              -0.031467308958723926,
              -0.031140783621686777,
              -0.030814258284649627,
              -0.029834682273538186,
              -0.029508156936501037,
              -0.029181631599463888,
              -0.02885510626242674,
              -0.028528580925389596,
              -0.027222479577241,
              -0.02689595424020385,
              -0.026569428903166707,
              -0.026242903566129558,
              -0.02526332755501811,
              -0.02493680221798096,
              -0.02461027688094382,
              -0.02428375154390667,
              -0.02395722620686952,
              -0.02297765019575807,
              -0.02265112485872093,
              -0.02232459952168378,
              -0.02199807418464663,
              -0.02167154884760948,
              -0.02069197283649804,
              -0.02036544749946089,
              -0.020038922162423742,
              -0.019712396825386592,
              -0.019385871488349443,
              -0.018406295477238002,
              -0.018079770140200853,
              -0.017753244803163704,
              -0.017426719466126554,
              -0.017100194129089405,
              -0.016120618117977964,
              -0.015794092780940815,
              -0.015141042106866516,
              -0.014814516769829374,
              -0.013834940758717926,
              -0.013508415421680776,
              -0.013181890084643627,
              -0.012855364747606485,
              -0.012528839410569328,
              -0.011549263399457887,
              -0.011222738062420745,
              -0.010896212725383589,
              -0.010569687388346446,
              -0.01024316205130929,
              -0.00926358604019785,
              -0.008937060703160707,
              -0.00861053536612355,
              -0.008284010029086408,
              -0.007957484692049252,
              -0.006977908680937811,
              -0.006651383343900669,
              -0.006324858006863512,
              -0.00599833266982637,
              -0.005671807332789228,
              -0.004692231321677773,
              -0.00436570598464063,
              -0.004039180647603474,
              -0.003712655310566332,
              -0.0033861299735291894,
              -0.0024065539624177346,
              -0.002080028625380592,
              -0.0017535032883434498,
              -0.0014269779513062936,
              -0.0011004526142691512,
              -0.00012087660315769633,
              0.00020564873387944604,
              0.0005321740709165884,
              0.0008586994079537447,
              0.001185224744990887,
              0.002164800756102328,
              0.0024913260931394843,
              0.0028178514301766266,
              0.003144376767213783,
              0.0034709021042509253,
              0.0047770034523995225,
              0.005103528789436665,
              0.005430054126473821,
              0.0057565794635109635,
              0.0067361554746224045,
              0.007062680811659561,
              0.007389206148696703,
              0.007715731485733859,
              0.008042256822771002,
              0.009021832833882443,
              0.009348358170919599,
              0.009674883507956741,
              0.010001408844993898,
              0.01032793418203104,
              0.011307510193142481,
              0.011634035530179637,
              0.01196056086721678,
              0.012287086204253922,
              0.012613611541291078,
              0.01359318755240252,
              0.013919712889439675,
              0.014246238226476818,
              0.01457276356351396,
              0.014899288900551116,
              0.015878864911662557,
              0.0162053902486997,
              0.016531915585736856,
              0.016858440922774,
              0.017184966259811155,
              0.018164542270922596,
              0.018491067607959738,
              0.018817592944996894,
              0.019144118282034037,
              0.019470643619071193,
              0.020450219630182634,
              0.020776744967219776,
              0.021103270304256933,
              0.021429795641294075,
              0.02175632097833123,
              0.022735896989442672,
              0.023062422326479814,
              0.02338894766351697,
              0.023715473000554113,
              0.024041998337591255,
              0.02502157434870271,
              0.025348099685739853,
              0.02567462502277701,
              0.02600115035981415,
              0.026327675696851294,
              0.02730725170796275,
              0.02763377704499989,
              0.027960302382037033,
              0.02828682771907419,
              0.028613353056111332,
              0.029592929067222787,
              0.02991945440425993,
              0.03024597974129707,
              0.03089903041537137,
              0.031878606426482825,
              0.03220513176351997,
              0.03253165710055711,
              0.032858182437594266,
              0.03318470777463141,
              0.03416428378574285,
              0.034490809122780006,
              0.035143859796854304,
              0.03547038513389145,
              0.03644996114500289,
              0.036776486482040044,
              0.037103011819077186,
              0.03742953715611434,
              0.037756062493151485,
              0.038735638504262926,
              0.03906216384130008,
              0.039388689178337224,
              0.03971521451537438,
              0.04004173985241152,
              0.041021315863522964,
              0.04167436653759726,
              0.042000891874634405,
              0.04232741721167156,
              0.043306993222783,
              0.0439600438968573,
              0.04428656923389444,
              0.0446130945709316,
              0.04559267058204304,
              0.04591919591908018,
              0.04624572125611734,
              0.04657224659315448,
              0.04689877193019164,
              0.04787834794130308,
              0.04820487327834022,
              0.04853139861537738,
              0.04885792395241452,
              0.049184449289451676,
              0.05049055063760027,
              0.050817075974637416,
              0.05114360131167456,
              0.0514701266487117,
              0.052449702659823155,
              0.0527762279968603,
              0.05310275333389744,
              0.05342927867093461,
              0.05375580400797175,
              0.05473538001908318,
              0.05506190535612035,
              0.05538843069315749,
              0.055714956030194634,
              0.05604148136723178,
              0.05702105737834323,
              0.057347582715380374,
              0.057674108052417516,
              0.05800063338945466,
              0.05832715872649183,
              0.059633260074640426,
              0.05995978541167757,
              0.06028631074871471,
              0.06061283608575185,
              0.06159241209686331,
              0.06191893743390045,
              0.06224546277093759,
              0.06257198810797474,
              0.0628985134450119,
              0.06387808945612333,
              0.06420461479316047,
              0.06453114013019765,
              0.06485766546723479,
              0.06518419080427193,
              0.06616376681538338,
              0.06649029215242053,
              0.06681681748945767,
              0.06714334282649481,
              0.06746986816353198,
              0.06844944417464341,
              0.06877596951168055,
              0.06910249484871772,
              0.06942902018575486,
              0.069755545522792,
              0.07073512153390346,
              0.0710616468709406,
              0.07138817220797775,
              0.07171469754501489,
              0.07204122288205203,
              0.07302079889316349,
              0.07334732423020063,
              0.0736738495672378,
              0.07400037490427494,
              0.07432690024131208,
              0.07530647625242354,
              0.07563300158946068,
              0.07595952692649782,
              0.07628605226353496,
              0.07661257760057211,
              0.07759215361168356,
              0.0779186789487207,
              0.07824520428575785,
              0.07857172962279502,
              0.07987783097094359,
              0.08020435630798076,
              0.0805308816450179,
              0.08085740698205504,
              0.08118393231909218,
              0.08216350833020364,
              0.08249003366724078,
              0.08281655900427792,
              0.0831430843413151,
              0.08346960967835224,
              0.08444918568946366,
              0.08477571102650083,
              0.08510223636353798,
              0.08542876170057512,
              0.08575528703761226,
              0.08673486304872371,
              0.08706138838576086,
              0.087387913722798,
              0.08771443905983514,
              0.08804096439687231,
              0.08902054040798374,
              0.08934706574502091,
              0.08967359108205805,
              0.0900001164190952,
              0.09032664175613234,
              0.09163274310428093,
              0.09195926844131808,
              0.09228579377835522,
              0.09261231911539239,
              0.09359189512650382,
              0.09391842046354096,
              0.09424494580057813,
              0.09457147113761527,
              0.09489799647465241,
              0.09587757248576387,
              0.09620409782280101,
              0.09653062315983815,
              0.0968571484968753,
              0.09718367383391247,
              0.09816324984502389,
              0.09848977518206103,
              0.0988163005190982,
              0.09914282585613535,
              0.09946935119317249,
              0.10044892720428394,
              0.10077545254132109,
              0.10110197787835823,
              0.10142850321539537,
              0.10175502855243251,
              0.10273460456354397,
              0.10306112990058111,
              0.10338765523761828,
              0.10404070591169257,
              0.10502028192280402,
              0.10534680725984116,
              0.1056733325968783,
              0.10599985793391545,
              0.10632638327095259,
              0.10730595928206405,
              0.10763248461910119,
              0.10795900995613833,
              0.1082855352931755,
              0.10861206063021264,
              0.10959163664132407,
              0.10991816197836124,
              0.11024468731539838,
              0.11057121265243552,
              0.11089773798947267,
              0.11187731400058412,
              0.11220383933762126,
              0.1125303646746584,
              0.11285689001169558,
              0.11318341534873272,
              0.11416299135984415,
              0.11448951669688132,
              0.11481604203391846,
              0.1151425673709556,
              0.11546909270799274,
              0.1164486687191042,
              0.11677519405614134,
              0.11710171939317848,
              0.11742824473021565,
              0.1177547700672528,
              0.11873434607836422,
              0.11906087141540139,
              0.11938739675243853,
              0.11971392208947568,
              0.12004044742651282,
              0.12102002343762427,
              0.12134654877466142,
              0.12167307411169856,
              0.1219995994487357,
              0.12232612478577287,
              0.12363222613392144,
              0.12395875147095861,
              0.12428527680799575,
              0.1246118021450329,
              0.12559137815614435,
              0.1259179034931815,
              0.12624442883021864,
              0.12657095416725578,
              0.12689747950429295,
              0.12787705551540438,
              0.12820358085244152,
              0.1285301061894787,
              0.12885663152651583,
              0.12918315686355297,
              0.13016273287466443,
              0.13048925821170157,
              0.1308157835487387,
              0.13114230888577585,
              0.131468834222813,
              0.13244841023392445,
              0.1327749355709616,
              0.13310146090799876,
              0.1334279862450359,
              0.13375451158207305,
              0.1347340875931845,
              0.13506061293022165,
              0.1353871382672588,
              0.13571366360429593,
              0.13604018894133307,
              0.13701976495244453,
              0.13734629028948167,
              0.1376728156265188,
              0.13799934096355598,
              0.13832586630059313,
              0.13930544231170458,
              0.13963196764874172,
              0.13995849298577887,
              0.140285018322816,
              0.14061154365985315,
              0.1415911196709646,
              0.14191764500800175,
              0.1422441703450389,
              0.14257069568207606,
              0.1428972210191132,
              0.14387679703022463,
              0.1442033223672618,
              0.14452984770429894,
              0.14485637304133608,
              0.14518289837837323,
              0.14616247438948468,
              0.14648899972652182,
              0.14681552506355897,
              0.14714205040059614,
              0.14746857573763328,
              0.1484481517487447,
              0.14877467708578188,
              0.14910120242281902,
              0.14942772775985616,
              0.1497542530968933,
              0.15073382910800476,
              0.1510603544450419,
              0.15138687978207904,
              0.15203993045615335,
              0.15301950646726478,
              0.15334603180430192,
              0.1536725571413391,
              0.15399908247837624,
              0.15432560781541338,
              0.15530518382652483,
              0.15563170916356198,
              0.15595823450059912,
              0.15628475983763626,
              0.15661128517467343
             ],
             "yaxis": "y"
            },
            {
             "mode": "markers",
             "name": "residual",
             "type": "scatter",
             "x": [
              1,
              2,
              3,
              4,
              7,
              8,
              9,
              10,
              11,
              15,
              16,
              17,
              18,
              21,
              22,
              23,
              24,
              25,
              28,
              29,
              30,
              31,
              32,
              35,
              36,
              37,
              38,
              39,
              42,
              43,
              44,
              45,
              46,
              50,
              51,
              52,
              53,
              56,
              57,
              58,
              59,
              60,
              63,
              64,
              65,
              66,
              67,
              70,
              71,
              72,
              73,
              74,
              77,
              78,
              79,
              80,
              81,
              84,
              85,
              86,
              87,
              91,
              92,
              93,
              94,
              95,
              98,
              99,
              100,
              101,
              102,
              105,
              106,
              107,
              108,
              109,
              112,
              113,
              114,
              115,
              116,
              119,
              120,
              121,
              122,
              123,
              126,
              127,
              128,
              129,
              130,
              133,
              134,
              135,
              136,
              137,
              140,
              141,
              142,
              143,
              144,
              148,
              149,
              150,
              151,
              154,
              155,
              156,
              157,
              158,
              161,
              162,
              163,
              164,
              165,
              168,
              169,
              170,
              171,
              172,
              175,
              176,
              177,
              178,
              179,
              182,
              183,
              185,
              186,
              189,
              190,
              191,
              192,
              193,
              196,
              197,
              198,
              199,
              200,
              203,
              204,
              205,
              206,
              207,
              210,
              211,
              212,
              213,
              214,
              217,
              218,
              219,
              220,
              221,
              224,
              225,
              226,
              227,
              228,
              231,
              232,
              233,
              234,
              235,
              238,
              239,
              240,
              241,
              242,
              246,
              247,
              248,
              249,
              252,
              253,
              254,
              255,
              256,
              259,
              260,
              261,
              262,
              263,
              266,
              267,
              268,
              269,
              270,
              273,
              274,
              275,
              276,
              277,
              280,
              281,
              282,
              283,
              284,
              287,
              288,
              289,
              290,
              291,
              294,
              295,
              296,
              297,
              298,
              301,
              302,
              303,
              304,
              305,
              308,
              309,
              310,
              311,
              312,
              315,
              316,
              317,
              318,
              319,
              322,
              323,
              324,
              326,
              329,
              330,
              331,
              332,
              333,
              336,
              337,
              339,
              340,
              343,
              344,
              345,
              346,
              347,
              350,
              351,
              352,
              353,
              354,
              357,
              359,
              360,
              361,
              364,
              366,
              367,
              368,
              371,
              372,
              373,
              374,
              375,
              378,
              379,
              380,
              381,
              382,
              386,
              387,
              388,
              389,
              392,
              393,
              394,
              395,
              396,
              399,
              400,
              401,
              402,
              403,
              406,
              407,
              408,
              409,
              410,
              414,
              415,
              416,
              417,
              420,
              421,
              422,
              423,
              424,
              427,
              428,
              429,
              430,
              431,
              434,
              435,
              436,
              437,
              438,
              441,
              442,
              443,
              444,
              445,
              448,
              449,
              450,
              451,
              452,
              455,
              456,
              457,
              458,
              459,
              462,
              463,
              464,
              465,
              466,
              469,
              470,
              471,
              472,
              476,
              477,
              478,
              479,
              480,
              483,
              484,
              485,
              486,
              487,
              490,
              491,
              492,
              493,
              494,
              497,
              498,
              499,
              500,
              501,
              504,
              505,
              506,
              507,
              508,
              512,
              513,
              514,
              515,
              518,
              519,
              520,
              521,
              522,
              525,
              526,
              527,
              528,
              529,
              532,
              533,
              534,
              535,
              536,
              539,
              540,
              541,
              542,
              543,
              546,
              547,
              548,
              550,
              553,
              554,
              555,
              556,
              557,
              560,
              561,
              562,
              563,
              564,
              567,
              568,
              569,
              570,
              571,
              574,
              575,
              576,
              577,
              578,
              581,
              582,
              583,
              584,
              585,
              588,
              589,
              590,
              591,
              592,
              595,
              596,
              597,
              598,
              599,
              602,
              603,
              604,
              605,
              606,
              610,
              611,
              612,
              613,
              616,
              617,
              618,
              619,
              620,
              623,
              624,
              625,
              626,
              627,
              630,
              631,
              632,
              633,
              634,
              637,
              638,
              639,
              640,
              641,
              644,
              645,
              646,
              647,
              648,
              651,
              652,
              653,
              654,
              655,
              658,
              659,
              660,
              661,
              662,
              665,
              666,
              667,
              668,
              669,
              672,
              673,
              674,
              675,
              676,
              679,
              680,
              681,
              682,
              683,
              686,
              687,
              688,
              689,
              690,
              693,
              694,
              695,
              697,
              700,
              701,
              702,
              703,
              704,
              707,
              708,
              709,
              710,
              711
             ],
             "xaxis": "x2",
             "y": [
              -0.06712982992360166,
              -0.0646049680379868,
              -0.07826475463419245,
              -0.0777211454967403,
              -0.07522099365107401,
              -0.07988199992320105,
              -0.07608851881155455,
              -0.07511062489002589,
              -0.07717048982615603,
              -0.08406463408748417,
              -0.08995132467334488,
              -0.0909055118443924,
              -0.09653389088820435,
              -0.10020846371768685,
              -0.10135825824116694,
              -0.10900828774414606,
              -0.10889077926426992,
              -0.12288427935885717,
              -0.10465397897303205,
              -0.09822921344271404,
              -0.10169217274944534,
              -0.0984195302078326,
              -0.08280281065245806,
              -0.04165192692217534,
              -0.036412456761225495,
              -0.033620463488811314,
              1.9726579694012703e-05,
              -0.00034962180155988926,
              -0.0186588213205788,
              -0.023323173094326397,
              -0.0209579075439755,
              -0.03593321826516857,
              -0.04006304537165064,
              -0.016501381185653696,
              -0.0012884819612748871,
              -0.005106570061461195,
              -0.016657764301290144,
              -0.015451047690470947,
              -0.0057690665967809265,
              0.0037698157042350758,
              -0.0007507332096205674,
              -0.007079445528279139,
              -0.00998066808164888,
              -0.010565117885414789,
              -0.007731454816841357,
              -0.021679581400692913,
              -0.02964253850361137,
              -0.022171592849199118,
              -0.02274295570295395,
              -0.004532514466614755,
              -0.0016902504856465203,
              0.0034566466572031676,
              0.009048794705219208,
              0.011689564913125255,
              0.01573011141113323,
              0.021653705538088215,
              0.03208717998927216,
              0.024598185188926952,
              0.020250694828755834,
              0.010601489375851439,
              0.008391976227419572,
              0.027352476861225536,
              0.011176526465153762,
              -0.008127813330890021,
              -0.01141139664456766,
              -0.000215123013303814,
              0.0028156523013968537,
              -0.0005016396708334356,
              -0.00017511433379628627,
              -0.0007574075237992833,
              -0.011273535461331325,
              -0.014106095163593225,
              -0.018245873809101015,
              -0.009640908776145585,
              -0.0048109543254258105,
              0.0084629335934625,
              0.003970588508757401,
              0.02520539658351606,
              0.04050294749430935,
              0.03331594385526371,
              0.02062807764013041,
              0.023919311830197923,
              0.03869827840538026,
              0.05154708833494152,
              0.055923696208690074,
              0.04509280679244742,
              0.05127952405329917,
              0.059467865068011466,
              0.06051224170850022,
              0.05131031167084195,
              0.05258562540144777,
              0.05594102751842194,
              0.06390846124974453,
              0.0683181430392793,
              0.050755103299974624,
              0.053922514367139136,
              0.04946409277538478,
              0.053570444197815925,
              0.05035292511241448,
              0.05256806833617714,
              0.05100597578648877,
              0.04573004177638332,
              0.03556816527252642,
              0.03891341034077075,
              0.03645314954139041,
              0.02888856217861962,
              0.03799114980247156,
              0.030231724294249314,
              0.031018559381426947,
              0.019673087240185037,
              0.016565457256451387,
              0.01056716421065839,
              0.016086150516289907,
              0.030086509220439824,
              0.018098235913909813,
              0.03208129632119177,
              0.03126039208027361,
              0.03941565104967399,
              0.04367960294322278,
              0.04029985007126205,
              0.03367828792784845,
              0.03975790678712303,
              0.046103018153893546,
              0.03718516238916565,
              0.028580003902764106,
              0.03207072401589842,
              0.02692648864028701,
              0.012463669835278343,
              0.013238133767365191,
              0.01960851037396142,
              0.007178911588370775,
              0.0115161441932069,
              0.014525495816569617,
              0.013286121948926262,
              0.014489284327214861,
              0.003257546729143952,
              0.00646115869507986,
              0.007009302598554989,
              0.003574385950254685,
              0.01186859100660385,
              0.005322291113941792,
              -0.012523590471691248,
              -0.015446315754730378,
              -0.014470734824403463,
              -0.013923881841697107,
              -0.022212562132811406,
              -0.01672580867605182,
              -0.011862188267072894,
              -0.021018463091805446,
              -0.020682236386617106,
              -0.017135063640451486,
              -0.00925321972242921,
              -0.013250959464133853,
              -0.007082231160094149,
              -0.0006625374991395577,
              -0.001644288794305448,
              -0.00544960447490841,
              -0.008156654270753036,
              -0.016018006064186477,
              -0.017824268582065563,
              -0.006524027585567296,
              9.662402634718037e-05,
              0.00544333975077711,
              0.007302761335000311,
              0.006968330175131049,
              0.01432321089709096,
              0.015531701021037032,
              0.024276553814015483,
              0.03309287693039838,
              0.030145112445433764,
              0.01671498083810507,
              0.008484144397031856,
              0.009903668774857818,
              0.0034741862043204557,
              0.004669541194880203,
              0.00022690042305273384,
              0.009459747949012037,
              0.006301193712096484,
              0.0001309610950662142,
              0.00891280812635019,
              0.008586405384992038,
              -0.0057741651733031335,
              -0.004160414646553576,
              0.007828492806992523,
              0.01665641843919393,
              0.013268350382044988,
              0.010111313454855329,
              0.006533271767626538,
              0.006647214391643223,
              0.0009353606792336759,
              0.015117907840600138,
              0.015880553078342168,
              0.015552928296252828,
              0.0035397171541226985,
              0.005804439579511392,
              0.02155429849475115,
              0.04491109145996856,
              0.044341940166056304,
              0.04018701350641307,
              0.027681464066058092,
              0.019907257143720516,
              0.025700069113956923,
              0.010363859606005587,
              0.019144138195203622,
              0.011022668267690812,
              0.0033998783253490657,
              0.008445443431088075,
              0.021538563779405218,
              0.010827144290390774,
              -0.013717459974051265,
              -0.018626000396926357,
              -0.015371228131129518,
              -0.02047605763279979,
              -0.033769112703620915,
              -0.042031637856167675,
              -0.04698535067558983,
              -0.045848347066813594,
              -0.052591813133701926,
              -0.055429391494576874,
              -0.054902358354218916,
              -0.05256815738014055,
              -0.05183968946349286,
              -0.060120894005545863,
              -0.0658954192448521,
              -0.0429430962057966,
              -0.029365912782739936,
              -0.034646402085399514,
              -0.03060212806182446,
              -0.04045484393484687,
              -0.04699148965115643,
              -0.03187090480299719,
              -0.06012354264056642,
              -0.044956439253815386,
              -0.04241379947808077,
              -0.03771869081320223,
              -0.03150201110689918,
              -0.03357341932121488,
              -0.0393210011222416,
              -0.032514103007289824,
              -0.03725395782162681,
              -0.034296096763139175,
              -0.012633930301732162,
              -0.01210042853203551,
              -0.0030438921565414806,
              0.004826688262783915,
              0.004522390761020491,
              0.03993283774055826,
              0.01948716030852625,
              0.007322781869009004,
              0.01461646339369035,
              0.012423160753727402,
              0.021985862525244062,
              0.028510995215597412,
              0.009093745479540567,
              0.023192403615229527,
              0.012293590756302201,
              0.03197212575238663,
              0.021619352601048906,
              0.016226119558619762,
              0.021227261437111962,
              0.012685524186949189,
              0.026770368792639252,
              0.02411746640899377,
              0.01282456820070569,
              0.01182288276485017,
              0.0006897717563368252,
              0.013104852735246787,
              0.02016398719889928,
              0.025374599119357515,
              0.020836922041791654,
              0.011505613038316737,
              0.0062065281011201845,
              -0.005240286809180178,
              -0.015491032661514872,
              -0.015367498325145501,
              -0.015040972988108359,
              -0.017957252541884933,
              -0.019248233269913068,
              -0.020488426300108914,
              -0.021169239354488417,
              -0.023457116051949264,
              0.06499519075464487,
              0.07302842531468455,
              0.08343861600038772,
              0.07776052767378056,
              0.061375974947438336,
              0.07443038408731582,
              0.08294713083550309,
              0.08885216015530924,
              0.08360018150957738,
              0.07506529460067721,
              0.0745099654936803,
              0.0695574039270405,
              0.07097988667257726,
              0.07460125765786321,
              0.07867521346879876,
              0.08876654413487126,
              0.06029991121813686,
              0.06344550095623669,
              0.060087141170010926,
              0.07172798316931818,
              0.08084580745397416,
              0.07940005736251013,
              0.0764287557277277,
              0.0774140272504898,
              0.07817992997597922,
              0.0693199954782226,
              0.0681247451619825,
              0.05528607285264357,
              0.0562560036659652,
              0.05722634871643027,
              0.05155973171490104,
              0.055531389182628565,
              0.05907372872646992,
              0.06780999396999127,
              0.06166122714673508,
              0.06220288581329774,
              0.061462443856524135,
              0.059214435799320855,
              0.06018395290820079,
              0.059010752287261284,
              0.05869516751664627,
              0.05412750683912486,
              0.05551841198190719,
              0.048840811944009375,
              0.044946124460017035,
              0.04793852501587494,
              0.03132086181835316,
              0.036429588711687666,
              0.0396782490876325,
              0.03126386183937534,
              0.028933549573873618,
              0.016128921782326472,
              0.02608176238365141,
              0.03053287108676335,
              0.02406291615872793,
              0.030187065584964465,
              0.04025765505610979,
              0.04371410529087154,
              0.053489455745506474,
              0.037286739820298384,
              0.04117569844795456,
              0.02827070133343723,
              0.018583825666969173,
              0.010809830458974365,
              0.018830280329210372,
              0.026949148092698702,
              0.032406521172758426,
              0.011358124795669763,
              0.007664605558154625,
              0.01281715807768019,
              0.024456694318269884,
              0.03481293976536337,
              0.022059381097757166,
              0.024825406131744693,
              0.008651933816134327,
              0.008578369972894781,
              -0.006574651499400855,
              -0.018383776072363994,
              -0.019806695243815245,
              -0.016688485047014534,
              -0.01538835948412319,
              -0.02108297606174736,
              -0.010831326547718928,
              -0.014019062947048772,
              -0.004427133055192059,
              0.00043096433639613907,
              -0.008676533718408166,
              -0.018858003920364033,
              -0.016399889532307144,
              -0.02257215498720329,
              -0.01915921028594883,
              -0.006390856359148142,
              -0.00528160885824544,
              -0.0018177542398327001,
              -0.014104083415176216,
              -0.021114935568728607,
              -0.023094309296699617,
              -0.022633219784683883,
              -0.01954048172112345,
              -0.01129809601692043,
              -0.015419881710435193,
              -0.01932985836565121,
              -0.020539393554806606,
              -0.01975170504990434,
              -0.01961695724274065,
              -0.020057320663464245,
              -0.016851961610011984,
              -0.0041485735595709755,
              0.00014448697489677365,
              -0.0584754773500307,
              -0.047973985889733006,
              -0.03435762349942956,
              -0.05454652294082804,
              -0.05023860638058672,
              -0.04489860010335414,
              -0.024073000048327464,
              -0.012280606891491908,
              -0.017703485088418097,
              -0.0036442788109730673,
              -0.015250129848124183,
              -0.032183394581999564,
              -0.04140121654786974,
              -0.036033125759745765,
              -0.03092678703196175,
              -0.03622350490831974,
              -0.02631857384915315,
              -0.04246251719708172,
              -0.05211023268867246,
              -0.05626355123235777,
              -0.041015545013226684,
              -0.04476380595771132,
              -0.05162035237123891,
              -0.03743423205643198,
              -0.05123141582866486,
              -0.05419979191030466,
              -0.06097516992109639,
              -0.05955929492342599,
              -0.05905113053566968,
              -0.06245771366049427,
              -0.07059439220106684,
              -0.05854437558190967,
              -0.06021151854224771,
              -0.04629328213093983,
              -0.04376332348045989,
              -0.05021522338583864,
              -0.05607728986553917,
              -0.040206841855214365,
              -0.033683003919872695,
              -0.0385321387873826,
              -0.03802119128483866,
              -0.043028028760568354,
              -0.031449874832105484,
              -0.03472758510041182,
              -0.037351999740237896,
              -0.034628477381561995,
              -0.038355038389832924,
              -0.03655660817259451,
              -0.0379677873860689,
              -0.041491352035017165,
              -0.012015828114639526,
              -0.025905746988035522,
              -0.03849692768421609,
              -0.025156674334112866,
              -0.019432330422960276,
              -0.023760873383612602,
              -0.020271223612076367,
              -0.013213172978904814,
              -0.012233596967793359,
              -0.015839275728883218,
              -0.015138981358216036,
              -0.020405297404495648,
              -0.03831632031310167,
              -0.02724585516261277,
              -0.019887452680428352,
              -0.03412475616883928,
              -0.033249054080299406,
              -0.01704916841041909,
              -0.012715129587637958,
              -0.00939739154926128,
              -0.018945166969441374,
              -0.027661827433289682,
              -0.01755033026777969,
              -0.00237017687821528,
              0.011598114339961413,
              0.004701626379194052,
              0.01473416227014615,
              0.01659182342889093,
              0.024683374339526137,
              0.027520785960926483,
              0.014401070098410879,
              0.010538685677610266,
              0.010105531944496676,
              0.004273338556310902,
              0.003657388063143585,
              0.001349868873851523,
              0.006573788355751148,
              0.005579439904459499,
              0.0029824955590372626,
              -0.009387196841850992,
              -0.009987871126167114,
              0.0009121108529930311,
              -0.004641205603007459,
              -0.005244466244906043,
              -0.013984552702166697,
              -0.011814326819998083,
              -0.015723136955463124,
              -0.008291358985801883,
              -0.0024010352338905416,
              -0.005416516407647037,
              -0.00860555813743999,
              -0.013437459596203072
             ],
             "yaxis": "y2"
            },
            {
             "cells": {
              "values": [
               0.000327,
               -0.075548,
               0.749314,
               0,
               9e-06
              ]
             },
             "header": {
              "values": [
               "slope",
               "intercept",
               "R^2",
               "p_value",
               "std_err"
              ]
             },
             "type": "table"
            }
           ],
           "layout": {
            "autosize": false,
            "height": 800,
            "margin": {
             "t": 100
            },
            "showlegend": false,
            "template": {
             "data": {
              "bar": [
               {
                "error_x": {
                 "color": "#2a3f5f"
                },
                "error_y": {
                 "color": "#2a3f5f"
                },
                "marker": {
                 "line": {
                  "color": "#E5ECF6",
                  "width": 0.5
                 }
                },
                "type": "bar"
               }
              ],
              "barpolar": [
               {
                "marker": {
                 "line": {
                  "color": "#E5ECF6",
                  "width": 0.5
                 }
                },
                "type": "barpolar"
               }
              ],
              "carpet": [
               {
                "aaxis": {
                 "endlinecolor": "#2a3f5f",
                 "gridcolor": "white",
                 "linecolor": "white",
                 "minorgridcolor": "white",
                 "startlinecolor": "#2a3f5f"
                },
                "baxis": {
                 "endlinecolor": "#2a3f5f",
                 "gridcolor": "white",
                 "linecolor": "white",
                 "minorgridcolor": "white",
                 "startlinecolor": "#2a3f5f"
                },
                "type": "carpet"
               }
              ],
              "choropleth": [
               {
                "colorbar": {
                 "outlinewidth": 0,
                 "ticks": ""
                },
                "type": "choropleth"
               }
              ],
              "contour": [
               {
                "colorbar": {
                 "outlinewidth": 0,
                 "ticks": ""
                },
                "colorscale": [
                 [
                  0,
                  "#0d0887"
                 ],
                 [
                  0.1111111111111111,
                  "#46039f"
                 ],
                 [
                  0.2222222222222222,
                  "#7201a8"
                 ],
                 [
                  0.3333333333333333,
                  "#9c179e"
                 ],
                 [
                  0.4444444444444444,
                  "#bd3786"
                 ],
                 [
                  0.5555555555555556,
                  "#d8576b"
                 ],
                 [
                  0.6666666666666666,
                  "#ed7953"
                 ],
                 [
                  0.7777777777777778,
                  "#fb9f3a"
                 ],
                 [
                  0.8888888888888888,
                  "#fdca26"
                 ],
                 [
                  1,
                  "#f0f921"
                 ]
                ],
                "type": "contour"
               }
              ],
              "contourcarpet": [
               {
                "colorbar": {
                 "outlinewidth": 0,
                 "ticks": ""
                },
                "type": "contourcarpet"
               }
              ],
              "heatmap": [
               {
                "colorbar": {
                 "outlinewidth": 0,
                 "ticks": ""
                },
                "colorscale": [
                 [
                  0,
                  "#0d0887"
                 ],
                 [
                  0.1111111111111111,
                  "#46039f"
                 ],
                 [
                  0.2222222222222222,
                  "#7201a8"
                 ],
                 [
                  0.3333333333333333,
                  "#9c179e"
                 ],
                 [
                  0.4444444444444444,
                  "#bd3786"
                 ],
                 [
                  0.5555555555555556,
                  "#d8576b"
                 ],
                 [
                  0.6666666666666666,
                  "#ed7953"
                 ],
                 [
                  0.7777777777777778,
                  "#fb9f3a"
                 ],
                 [
                  0.8888888888888888,
                  "#fdca26"
                 ],
                 [
                  1,
                  "#f0f921"
                 ]
                ],
                "type": "heatmap"
               }
              ],
              "heatmapgl": [
               {
                "colorbar": {
                 "outlinewidth": 0,
                 "ticks": ""
                },
                "colorscale": [
                 [
                  0,
                  "#0d0887"
                 ],
                 [
                  0.1111111111111111,
                  "#46039f"
                 ],
                 [
                  0.2222222222222222,
                  "#7201a8"
                 ],
                 [
                  0.3333333333333333,
                  "#9c179e"
                 ],
                 [
                  0.4444444444444444,
                  "#bd3786"
                 ],
                 [
                  0.5555555555555556,
                  "#d8576b"
                 ],
                 [
                  0.6666666666666666,
                  "#ed7953"
                 ],
                 [
                  0.7777777777777778,
                  "#fb9f3a"
                 ],
                 [
                  0.8888888888888888,
                  "#fdca26"
                 ],
                 [
                  1,
                  "#f0f921"
                 ]
                ],
                "type": "heatmapgl"
               }
              ],
              "histogram": [
               {
                "marker": {
                 "colorbar": {
                  "outlinewidth": 0,
                  "ticks": ""
                 }
                },
                "type": "histogram"
               }
              ],
              "histogram2d": [
               {
                "colorbar": {
                 "outlinewidth": 0,
                 "ticks": ""
                },
                "colorscale": [
                 [
                  0,
                  "#0d0887"
                 ],
                 [
                  0.1111111111111111,
                  "#46039f"
                 ],
                 [
                  0.2222222222222222,
                  "#7201a8"
                 ],
                 [
                  0.3333333333333333,
                  "#9c179e"
                 ],
                 [
                  0.4444444444444444,
                  "#bd3786"
                 ],
                 [
                  0.5555555555555556,
                  "#d8576b"
                 ],
                 [
                  0.6666666666666666,
                  "#ed7953"
                 ],
                 [
                  0.7777777777777778,
                  "#fb9f3a"
                 ],
                 [
                  0.8888888888888888,
                  "#fdca26"
                 ],
                 [
                  1,
                  "#f0f921"
                 ]
                ],
                "type": "histogram2d"
               }
              ],
              "histogram2dcontour": [
               {
                "colorbar": {
                 "outlinewidth": 0,
                 "ticks": ""
                },
                "colorscale": [
                 [
                  0,
                  "#0d0887"
                 ],
                 [
                  0.1111111111111111,
                  "#46039f"
                 ],
                 [
                  0.2222222222222222,
                  "#7201a8"
                 ],
                 [
                  0.3333333333333333,
                  "#9c179e"
                 ],
                 [
                  0.4444444444444444,
                  "#bd3786"
                 ],
                 [
                  0.5555555555555556,
                  "#d8576b"
                 ],
                 [
                  0.6666666666666666,
                  "#ed7953"
                 ],
                 [
                  0.7777777777777778,
                  "#fb9f3a"
                 ],
                 [
                  0.8888888888888888,
                  "#fdca26"
                 ],
                 [
                  1,
                  "#f0f921"
                 ]
                ],
                "type": "histogram2dcontour"
               }
              ],
              "mesh3d": [
               {
                "colorbar": {
                 "outlinewidth": 0,
                 "ticks": ""
                },
                "type": "mesh3d"
               }
              ],
              "parcoords": [
               {
                "line": {
                 "colorbar": {
                  "outlinewidth": 0,
                  "ticks": ""
                 }
                },
                "type": "parcoords"
               }
              ],
              "scatter": [
               {
                "marker": {
                 "colorbar": {
                  "outlinewidth": 0,
                  "ticks": ""
                 }
                },
                "type": "scatter"
               }
              ],
              "scatter3d": [
               {
                "line": {
                 "colorbar": {
                  "outlinewidth": 0,
                  "ticks": ""
                 }
                },
                "marker": {
                 "colorbar": {
                  "outlinewidth": 0,
                  "ticks": ""
                 }
                },
                "type": "scatter3d"
               }
              ],
              "scattercarpet": [
               {
                "marker": {
                 "colorbar": {
                  "outlinewidth": 0,
                  "ticks": ""
                 }
                },
                "type": "scattercarpet"
               }
              ],
              "scattergeo": [
               {
                "marker": {
                 "colorbar": {
                  "outlinewidth": 0,
                  "ticks": ""
                 }
                },
                "type": "scattergeo"
               }
              ],
              "scattergl": [
               {
                "marker": {
                 "colorbar": {
                  "outlinewidth": 0,
                  "ticks": ""
                 }
                },
                "type": "scattergl"
               }
              ],
              "scattermapbox": [
               {
                "marker": {
                 "colorbar": {
                  "outlinewidth": 0,
                  "ticks": ""
                 }
                },
                "type": "scattermapbox"
               }
              ],
              "scatterpolar": [
               {
                "marker": {
                 "colorbar": {
                  "outlinewidth": 0,
                  "ticks": ""
                 }
                },
                "type": "scatterpolar"
               }
              ],
              "scatterpolargl": [
               {
                "marker": {
                 "colorbar": {
                  "outlinewidth": 0,
                  "ticks": ""
                 }
                },
                "type": "scatterpolargl"
               }
              ],
              "scatterternary": [
               {
                "marker": {
                 "colorbar": {
                  "outlinewidth": 0,
                  "ticks": ""
                 }
                },
                "type": "scatterternary"
               }
              ],
              "surface": [
               {
                "colorbar": {
                 "outlinewidth": 0,
                 "ticks": ""
                },
                "colorscale": [
                 [
                  0,
                  "#0d0887"
                 ],
                 [
                  0.1111111111111111,
                  "#46039f"
                 ],
                 [
                  0.2222222222222222,
                  "#7201a8"
                 ],
                 [
                  0.3333333333333333,
                  "#9c179e"
                 ],
                 [
                  0.4444444444444444,
                  "#bd3786"
                 ],
                 [
                  0.5555555555555556,
                  "#d8576b"
                 ],
                 [
                  0.6666666666666666,
                  "#ed7953"
                 ],
                 [
                  0.7777777777777778,
                  "#fb9f3a"
                 ],
                 [
                  0.8888888888888888,
                  "#fdca26"
                 ],
                 [
                  1,
                  "#f0f921"
                 ]
                ],
                "type": "surface"
               }
              ],
              "table": [
               {
                "cells": {
                 "fill": {
                  "color": "#EBF0F8"
                 },
                 "line": {
                  "color": "white"
                 }
                },
                "header": {
                 "fill": {
                  "color": "#C8D4E3"
                 },
                 "line": {
                  "color": "white"
                 }
                },
                "type": "table"
               }
              ]
             },
             "layout": {
              "annotationdefaults": {
               "arrowcolor": "#2a3f5f",
               "arrowhead": 0,
               "arrowwidth": 1
              },
              "colorscale": {
               "diverging": [
                [
                 0,
                 "#8e0152"
                ],
                [
                 0.1,
                 "#c51b7d"
                ],
                [
                 0.2,
                 "#de77ae"
                ],
                [
                 0.3,
                 "#f1b6da"
                ],
                [
                 0.4,
                 "#fde0ef"
                ],
                [
                 0.5,
                 "#f7f7f7"
                ],
                [
                 0.6,
                 "#e6f5d0"
                ],
                [
                 0.7,
                 "#b8e186"
                ],
                [
                 0.8,
                 "#7fbc41"
                ],
                [
                 0.9,
                 "#4d9221"
                ],
                [
                 1,
                 "#276419"
                ]
               ],
               "sequential": [
                [
                 0,
                 "#0d0887"
                ],
                [
                 0.1111111111111111,
                 "#46039f"
                ],
                [
                 0.2222222222222222,
                 "#7201a8"
                ],
                [
                 0.3333333333333333,
                 "#9c179e"
                ],
                [
                 0.4444444444444444,
                 "#bd3786"
                ],
                [
                 0.5555555555555556,
                 "#d8576b"
                ],
                [
                 0.6666666666666666,
                 "#ed7953"
                ],
                [
                 0.7777777777777778,
                 "#fb9f3a"
                ],
                [
                 0.8888888888888888,
                 "#fdca26"
                ],
                [
                 1,
                 "#f0f921"
                ]
               ],
               "sequentialminus": [
                [
                 0,
                 "#0d0887"
                ],
                [
                 0.1111111111111111,
                 "#46039f"
                ],
                [
                 0.2222222222222222,
                 "#7201a8"
                ],
                [
                 0.3333333333333333,
                 "#9c179e"
                ],
                [
                 0.4444444444444444,
                 "#bd3786"
                ],
                [
                 0.5555555555555556,
                 "#d8576b"
                ],
                [
                 0.6666666666666666,
                 "#ed7953"
                ],
                [
                 0.7777777777777778,
                 "#fb9f3a"
                ],
                [
                 0.8888888888888888,
                 "#fdca26"
                ],
                [
                 1,
                 "#f0f921"
                ]
               ]
              },
              "colorway": [
               "#636efa",
               "#EF553B",
               "#00cc96",
               "#ab63fa",
               "#FFA15A",
               "#19d3f3",
               "#FF6692",
               "#B6E880",
               "#FF97FF",
               "#FECB52"
              ],
              "font": {
               "color": "#2a3f5f"
              },
              "geo": {
               "bgcolor": "white",
               "lakecolor": "white",
               "landcolor": "#E5ECF6",
               "showlakes": true,
               "showland": true,
               "subunitcolor": "white"
              },
              "hoverlabel": {
               "align": "left"
              },
              "hovermode": "closest",
              "mapbox": {
               "style": "light"
              },
              "paper_bgcolor": "white",
              "plot_bgcolor": "#E5ECF6",
              "polar": {
               "angularaxis": {
                "gridcolor": "white",
                "linecolor": "white",
                "ticks": ""
               },
               "bgcolor": "#E5ECF6",
               "radialaxis": {
                "gridcolor": "white",
                "linecolor": "white",
                "ticks": ""
               }
              },
              "scene": {
               "xaxis": {
                "backgroundcolor": "#E5ECF6",
                "gridcolor": "white",
                "gridwidth": 2,
                "linecolor": "white",
                "showbackground": true,
                "ticks": "",
                "zerolinecolor": "white"
               },
               "yaxis": {
                "backgroundcolor": "#E5ECF6",
                "gridcolor": "white",
                "gridwidth": 2,
                "linecolor": "white",
                "showbackground": true,
                "ticks": "",
                "zerolinecolor": "white"
               },
               "zaxis": {
                "backgroundcolor": "#E5ECF6",
                "gridcolor": "white",
                "gridwidth": 2,
                "linecolor": "white",
                "showbackground": true,
                "ticks": "",
                "zerolinecolor": "white"
               }
              },
              "shapedefaults": {
               "line": {
                "color": "#2a3f5f"
               }
              },
              "ternary": {
               "aaxis": {
                "gridcolor": "white",
                "linecolor": "white",
                "ticks": ""
               },
               "baxis": {
                "gridcolor": "white",
                "linecolor": "white",
                "ticks": ""
               },
               "bgcolor": "#E5ECF6",
               "caxis": {
                "gridcolor": "white",
                "linecolor": "white",
                "ticks": ""
               }
              },
              "title": {
               "x": 0.05
              },
              "xaxis": {
               "automargin": true,
               "gridcolor": "white",
               "linecolor": "white",
               "ticks": "",
               "zerolinecolor": "white",
               "zerolinewidth": 2
              },
              "yaxis": {
               "automargin": true,
               "gridcolor": "white",
               "linecolor": "white",
               "ticks": "",
               "zerolinecolor": "white",
               "zerolinewidth": 2
              }
             }
            },
            "title": {
             "text": "Regression Model of log return of The Coca-Cola Company vs Time"
            },
            "width": 950,
            "xaxis": {
             "anchor": "y",
             "domain": [
              0,
              1
             ],
             "gridcolor": "#ffffff",
             "mirror": true,
             "showgrid": true,
             "showline": true,
             "showticklabels": false,
             "tickfont": {
              "size": 10
             },
             "ticklen": 4,
             "zeroline": false
            },
            "xaxis2": {
             "anchor": "y2",
             "domain": [
              0,
              1
             ],
             "gridcolor": "#ffffff",
             "mirror": true,
             "showgrid": true,
             "showline": true,
             "showticklabels": true,
             "tickfont": {
              "size": 10
             },
             "ticklen": 4,
             "title": {
              "text": "Accumulated Datys"
             },
             "zeroline": false
            },
            "yaxis": {
             "anchor": "x",
             "domain": [
              0.45,
              0.85
             ],
             "gridcolor": "#ffffff",
             "hoverformat": ".2f",
             "mirror": true,
             "showgrid": true,
             "showline": true,
             "tickfont": {
              "size": 10
             },
             "ticklen": 4,
             "title": {
              "text": "Log return vs 2018-01-02"
             },
             "zeroline": false
            },
            "yaxis2": {
             "anchor": "x2",
             "domain": [
              0,
              0.4
             ],
             "gridcolor": "#ffffff",
             "hoverformat": ".2f",
             "mirror": true,
             "showgrid": true,
             "showline": true,
             "tickfont": {
              "size": 10
             },
             "ticklen": 4,
             "title": {
              "text": "Residual"
             },
             "zeroline": false
            }
           }
          },
          "text/html": "<div>\n        \n        \n            <div id=\"17de144c-c037-4a2f-a7a9-3402c63a6212\" class=\"plotly-graph-div\" style=\"height:800px; width:950px;\"></div>\n            <script type=\"text/javascript\">\n                require([\"plotly\"], function(Plotly) {\n                    window.PLOTLYENV=window.PLOTLYENV || {};\n                    \n                if (document.getElementById(\"17de144c-c037-4a2f-a7a9-3402c63a6212\")) {\n                    Plotly.newPlot(\n                        '17de144c-c037-4a2f-a7a9-3402c63a6212',\n                        [{\"mode\": \"markers\", \"name\": \"data\", \"type\": \"scatter\", \"x\": [1, 2, 3, 4, 7, 8, 9, 10, 11, 15, 16, 17, 18, 21, 22, 23, 24, 25, 28, 29, 30, 31, 32, 35, 36, 37, 38, 39, 42, 43, 44, 45, 46, 50, 51, 52, 53, 56, 57, 58, 59, 60, 63, 64, 65, 66, 67, 70, 71, 72, 73, 74, 77, 78, 79, 80, 81, 84, 85, 86, 87, 91, 92, 93, 94, 95, 98, 99, 100, 101, 102, 105, 106, 107, 108, 109, 112, 113, 114, 115, 116, 119, 120, 121, 122, 123, 126, 127, 128, 129, 130, 133, 134, 135, 136, 137, 140, 141, 142, 143, 144, 148, 149, 150, 151, 154, 155, 156, 157, 158, 161, 162, 163, 164, 165, 168, 169, 170, 171, 172, 175, 176, 177, 178, 179, 182, 183, 185, 186, 189, 190, 191, 192, 193, 196, 197, 198, 199, 200, 203, 204, 205, 206, 207, 210, 211, 212, 213, 214, 217, 218, 219, 220, 221, 224, 225, 226, 227, 228, 231, 232, 233, 234, 235, 238, 239, 240, 241, 242, 246, 247, 248, 249, 252, 253, 254, 255, 256, 259, 260, 261, 262, 263, 266, 267, 268, 269, 270, 273, 274, 275, 276, 277, 280, 281, 282, 283, 284, 287, 288, 289, 290, 291, 294, 295, 296, 297, 298, 301, 302, 303, 304, 305, 308, 309, 310, 311, 312, 315, 316, 317, 318, 319, 322, 323, 324, 326, 329, 330, 331, 332, 333, 336, 337, 339, 340, 343, 344, 345, 346, 347, 350, 351, 352, 353, 354, 357, 359, 360, 361, 364, 366, 367, 368, 371, 372, 373, 374, 375, 378, 379, 380, 381, 382, 386, 387, 388, 389, 392, 393, 394, 395, 396, 399, 400, 401, 402, 403, 406, 407, 408, 409, 410, 414, 415, 416, 417, 420, 421, 422, 423, 424, 427, 428, 429, 430, 431, 434, 435, 436, 437, 438, 441, 442, 443, 444, 445, 448, 449, 450, 451, 452, 455, 456, 457, 458, 459, 462, 463, 464, 465, 466, 469, 470, 471, 472, 476, 477, 478, 479, 480, 483, 484, 485, 486, 487, 490, 491, 492, 493, 494, 497, 498, 499, 500, 501, 504, 505, 506, 507, 508, 512, 513, 514, 515, 518, 519, 520, 521, 522, 525, 526, 527, 528, 529, 532, 533, 534, 535, 536, 539, 540, 541, 542, 543, 546, 547, 548, 550, 553, 554, 555, 556, 557, 560, 561, 562, 563, 564, 567, 568, 569, 570, 571, 574, 575, 576, 577, 578, 581, 582, 583, 584, 585, 588, 589, 590, 591, 592, 595, 596, 597, 598, 599, 602, 603, 604, 605, 606, 610, 611, 612, 613, 616, 617, 618, 619, 620, 623, 624, 625, 626, 627, 630, 631, 632, 633, 634, 637, 638, 639, 640, 641, 644, 645, 646, 647, 648, 651, 652, 653, 654, 655, 658, 659, 660, 661, 662, 665, 666, 667, 668, 669, 672, 673, 674, 675, 676, 679, 680, 681, 682, 683, 686, 687, 688, 689, 690, 693, 694, 695, 697, 700, 701, 702, 703, 704, 707, 708, 709, 710, 711], \"xaxis\": \"x\", \"y\": [-0.008091874198100127, -0.01029021074667782, 0.0036961011865649595, 0.003479017386149958, 0.001958441551595119, 0.006945973160759296, 0.003479017386149958, 0.0028276488016584296, 0.005214039074825736, 0.013414284684302455, 0.019627500607200317, 0.02090821311528499, 0.02686311749613409, 0.03151726633672803, 0.03299358619724527, 0.04097014103726155, 0.041179157894422544, 0.05549918332604693, 0.03824845895133328, 0.0321502187580524, 0.03593970340182084, 0.03299358619724527, 0.017703391978907867, -0.022467915740263397, -0.0273808605641761, -0.029846328499553126, -0.06315999323102131, -0.062464119512730266, -0.04317534398259991, -0.03818446687181516, -0.04022320708512891, -0.02492137102689869, -0.020465018583379478, -0.042720581421227824, -0.05760695530856949, -0.05346234187134603, -0.041584622294479935, -0.041811762894187685, -0.051167218650840555, -0.060379575614819415, -0.055532501363926616, -0.0488772637082309, -0.04499646514374972, -0.044085490002946655, -0.046592627734482944, -0.03231797581359424, -0.024028493373638632, -0.030519863016939444, -0.029621974826147455, -0.04750589072544951, -0.050021629369380594, -0.05484200117519313, -0.05945457321209773, -0.06176881808296663, -0.06548283924393745, -0.07107990803385529, -0.08118685714800208, -0.07271828633654544, -0.06804427063933717, -0.058068539849395626, -0.055532501363926616, -0.07318690064958398, -0.05668442491647506, -0.03705355978339413, -0.033443451132679346, -0.044313199426906036, -0.04636439873049526, -0.042720581421227824, -0.042720581421227824, -0.041811762894187685, -0.030969109619618494, -0.027156973906245146, -0.022690669923700207, -0.030969109619618494, -0.03547253873330112, -0.04841990131515228, -0.042947980219335734, -0.06385626295705725, -0.07882728853081339, -0.0713137595547306, -0.05829936800256015, -0.060611026181516224, -0.07506346741966141, -0.08758575201218552, -0.09163583454889693, -0.08047841979561712, -0.08568556104535743, -0.09354737672303258, -0.09426522802648418, -0.08473677265178876, -0.08568556104535743, -0.08806138715122017, -0.0957022955455056, -0.09978545199800323, -0.0818958869216614, -0.08473677265178876, -0.07929877504892296, -0.08307860113431696, -0.07953455671187837, -0.08142317459860388, -0.07953455671187837, -0.07295252135362432, -0.062464119512730266, -0.06548283924393745, -0.06269605310751997, -0.05415188973363773, -0.06292795202045252, -0.05484200117519313, -0.055302310925333616, -0.04363031344705456, -0.03954310745220946, -0.03321828906937932, -0.03841075003797369, -0.052084583405086454, -0.039769784761519295, -0.05277326915768981, -0.0516258395797345, -0.05945457321209773, -0.06339199976860938, -0.05968572155961149, -0.052084583405086454, -0.05783767692732388, -0.06385626295705725, -0.054611881855292206, -0.04568019803185351, -0.04819134213387639, -0.042720581421227824, -0.02760471194214486, -0.028052650537194565, -0.033443451132679346, -0.020687327010051552, -0.024698034277850528, -0.0273808605641761, -0.02581496135949559, -0.02603854772667275, -0.014480284791564697, -0.01735737142046345, -0.017578989986901435, -0.013817548001563975, -0.0211321770468017, -0.014259351817102498, 0.003913055105567697, 0.007162305725643969, 0.006513250132354211, 0.006945973160759296, 0.015561178788910736, 0.010400950669188308, 0.005863855597246524, 0.015346655759016217, 0.015990005064939333, 0.012769357655810856, 0.005214039074825736, 0.00953830415356752, 0.0036961011865649595, -0.0017440164632781768, -0.00043573983107514407, 0.0036961011865649595, 0.006729676319446742, 0.014917553449917326, 0.017703391978907867, 0.006729676319446742, 0.00043555004456940805, -0.004584640342823365, -0.006117536590009424, -0.004803529419028721, -0.011831884803951476, -0.012713849590860405, -0.0211321770468017, -0.029621974826147455, -0.025368108993034242, -0.011611452048668404, -0.0030540902705580354, -0.004147089311346853, 0.0032619692703019488, 0.0023931396167793575, 0.007162305725643969, -0.0017440164632781768, 0.0017410631106745175, 0.008890871738816229, 0.00043555004456940805, 0.0010884781229647026, 0.01577557401829703, 0.014488348828584616, 0.003479017386149958, -0.005022382909014292, -0.0013077895148282071, 0.0021757727493985925, 0.00608033977366454, 0.006945973160759296, 0.012984352210206, -0.0008716696141233209, -0.0013077895148282071, -0.0006536393957017118, 0.012339147757539859, 0.010400950669188308, -0.005022382909014292, -0.028052650537194565, -0.027156973906245146, -0.022022471235490476, -0.009190396458098353, -0.0010896641987236224, -0.006555950831922887, 0.009106784013065606, 0.0013060814349790128, 0.009754076699528965, 0.017703391978907867, 0.012984352210206, 0.00021775719892601242, 0.011908752699051898, 0.03677988230053108, 0.04201494806044333, 0.03908670113168363, 0.044518055970391046, 0.058790687052323626, 0.06737973754190753, 0.07265997569836684, 0.07184949742662775, 0.07891948883055322, 0.08273664320253962, 0.08253613539921881, 0.08052845976217758, 0.08012651718256705, 0.0887342470616572, 0.09548834831207488, 0.07286255061005653, 0.05961189252403701, 0.06554543250077088, 0.06248073448830729, 0.07265997569836684, 0.07952314675171354, 0.06472908724059145, 0.09330825041519783, 0.07912072303955824, 0.07690460860086078, 0.07286255061005653, 0.06697239624079063, 0.07002338046621777, 0.07609748760428164, 0.06961711482636701, 0.07468349497774115, 0.07205215925629066, 0.05136956880599509, 0.05116259237333559, 0.042432581334878705, 0.034888526252590465, 0.03551934909139103, 0.0010884781229647026, 0.022187206229071013, 0.0346781100056254, 0.02771095381798121, 0.0308838324690556, 0.02197418137161324, 0.01577557401829703, 0.03551934909139103, 0.022400266966813513, 0.03362560516277798, 0.014273595503730712, 0.024952893992105575, 0.030672652371571876, 0.026651086504191117, 0.03551934909139103, 0.021761029822738125, 0.02474045754342075, 0.036359881088745986, 0.038667667872750104, 0.05012730421830059, 0.03803874857642777, 0.03130613944981242, 0.02707510354046564, 0.03193930595506864, 0.041597140295580703, 0.047222750569814426, 0.05899609081715193, 0.07022641268059805, 0.07042940368126585, 0.07042940368126585, 0.07367220857207957, 0.07528971463714484, 0.07750948367845215, 0.07851682206986879, 0.08113122410436678, -0.0069945573651902125, -0.014701266588192725, -0.0238053559257473, -0.017800742262102983, -0.0010896641987236224, -0.013817548001563975, -0.021354718738639776, -0.026933222721408787, -0.021354718738639776, -0.012493306492702477, -0.011611452048668404, -0.0056793144709171685, -0.006775271879416782, -0.010070117527665567, -0.013817548001563975, -0.02358235333059933, 0.005863855597246524, 0.0030447911961838333, 0.006729676319446742, -0.004584640342823365, -0.013375939290442174, -0.010950613187866724, -0.007652786216047151, -0.00831153240177208, -0.008750909790224366, 0.00043555004456940805, 0.00261037637192096, 0.01577557401829703, 0.015132168542012544, 0.014488348828584616, 0.020481491167150995, 0.017489409710534917, 0.014273595503730712, 0.005863855597246524, 0.012339147757539859, 0.012124014428014343, 0.013844032395899401, 0.016418565790139828, 0.01577557401829703, 0.01727529997627368, 0.01791741008392584, 0.023464646772558707, 0.022400266966813513, 0.02940439234174847, 0.03362560516277798, 0.03193930595506864, 0.048883494489627595, 0.04410129293333023, 0.041179157894422544, 0.049920070479716847, 0.05322995875633002, 0.06636111188491431, 0.05673479662062651, 0.052610213254551744, 0.059406693519624305, 0.0542621201044992, 0.044518055970391046, 0.04138813107266644, 0.03193930595506864, 0.048468547217313876, 0.045559164600769156, 0.058790687052323626, 0.06880408805582883, 0.07690460860086078, 0.06921068406766194, 0.06207139231528504, 0.05694054457226248, 0.07831546628638829, 0.08233551086094057, 0.07750948367845215, 0.06717604878601105, 0.057146328675954705, 0.07022641268059805, 0.0677869129836477, 0.08493996131036949, 0.08534005049064618, 0.10081959729997898, 0.11295524720997926, 0.11470469171846766, 0.1125660575327784, 0.1115924573069242, 0.11761359922158551, 0.10768847504459422, 0.11120273678096124, 0.10259038290021595, 0.0980588108456649, 0.10749283423750637, 0.11800082977649938, 0.11586924072547963, 0.12302108219148723, 0.11993466282726992, 0.10749283423750637, 0.10671011207364081, 0.10357278279226521, 0.11683868797872018, 0.12417606546930972, 0.1264819645343179, 0.12667392569637645, 0.12456076364392747, 0.1166449032767616, 0.1210932143073135, 0.12532971629956666, 0.1268657768257592, 0.12705766433196838, 0.12724944186184184, 0.12801633061960258, 0.12513749690318748, 0.11276063418978362, 0.1094471496664273, 0.16839363932839194, 0.1582186732051314, 0.14492883615186508, 0.1654442609303007, 0.16211592038117084, 0.1571024394409754, 0.13660336472298587, 0.12513749690318748, 0.13088690043715082, 0.11780727017081721, 0.1297396465450055, 0.14699943661591802, 0.15654378391882534, 0.1515022184677385, 0.14737545575106595, 0.15299869896446108, 0.14342029324233163, 0.15989076192729737, 0.16986500275592525, 0.174997897310722, 0.16007641642862808, 0.16415120271014985, 0.1713342744607146, 0.1574746794829448, 0.17225143926628914, 0.17554634068496608, 0.18264824403279495, 0.1815588943721617, 0.18137725532144255, 0.1860899397944157, 0.19455314367202545, 0.18282965238990542, 0.1848233206872806, 0.17188466028708418, 0.16968122697364138, 0.17645965221605728, 0.18264824403279495, 0.1671043213595073, 0.16156005943527707, 0.16673571963982411, 0.16655129747431735, 0.17188466028708418, 0.16063303169565846, 0.16489031797507625, 0.16784125795193947, 0.1654442609303007, 0.16949734727560878, 0.1680254423954075, 0.17041619761999335, 0.17426628760597876, 0.1451172890226383, 0.15933373323307143, 0.17225143926628914, 0.15989076192729737, 0.15449294335318192, 0.1591480116508714, 0.1559848872163723, 0.1492533619202379, 0.1492533619202379, 0.1531855660183649, 0.15281179698473485, 0.15840463836805163, 0.1766421866136948, 0.16655129747431735, 0.15951942032917008, 0.17408324915461815, 0.1735340724031154, 0.15766071207027224, 0.15430624925860256, 0.15131503655726303, 0.16118933731448026, 0.17023252311536574, 0.1604475512868929, 0.1462469739084399, 0.1326052080273004, 0.1398282213251049, 0.13012221077118993, 0.1285910749494823, 0.12147910004995854, 0.11896821376559534, 0.1324144549651481, 0.13660336472298587, 0.1373630437931366, 0.1441748131924338, 0.1451172890226383, 0.1477513335489675, 0.142853939404105, 0.1441748131924338, 0.1477513335489675, 0.1604475512868929, 0.16137475090824616, 0.15112781960316032, 0.15766071207027224, 0.15859049804920797, 0.1676571098435058, 0.16581340929837432, 0.1700487447708765, 0.16359654281232672, 0.15803274439745252, 0.16137475090824616, 0.16489031797507625, 0.1700487447708765], \"yaxis\": \"y\"}, {\"mode\": \"lines\", \"name\": \"fit\", \"type\": \"scatter\", \"x\": [1, 2, 3, 4, 7, 8, 9, 10, 11, 15, 16, 17, 18, 21, 22, 23, 24, 25, 28, 29, 30, 31, 32, 35, 36, 37, 38, 39, 42, 43, 44, 45, 46, 50, 51, 52, 53, 56, 57, 58, 59, 60, 63, 64, 65, 66, 67, 70, 71, 72, 73, 74, 77, 78, 79, 80, 81, 84, 85, 86, 87, 91, 92, 93, 94, 95, 98, 99, 100, 101, 102, 105, 106, 107, 108, 109, 112, 113, 114, 115, 116, 119, 120, 121, 122, 123, 126, 127, 128, 129, 130, 133, 134, 135, 136, 137, 140, 141, 142, 143, 144, 148, 149, 150, 151, 154, 155, 156, 157, 158, 161, 162, 163, 164, 165, 168, 169, 170, 171, 172, 175, 176, 177, 178, 179, 182, 183, 185, 186, 189, 190, 191, 192, 193, 196, 197, 198, 199, 200, 203, 204, 205, 206, 207, 210, 211, 212, 213, 214, 217, 218, 219, 220, 221, 224, 225, 226, 227, 228, 231, 232, 233, 234, 235, 238, 239, 240, 241, 242, 246, 247, 248, 249, 252, 253, 254, 255, 256, 259, 260, 261, 262, 263, 266, 267, 268, 269, 270, 273, 274, 275, 276, 277, 280, 281, 282, 283, 284, 287, 288, 289, 290, 291, 294, 295, 296, 297, 298, 301, 302, 303, 304, 305, 308, 309, 310, 311, 312, 315, 316, 317, 318, 319, 322, 323, 324, 326, 329, 330, 331, 332, 333, 336, 337, 339, 340, 343, 344, 345, 346, 347, 350, 351, 352, 353, 354, 357, 359, 360, 361, 364, 366, 367, 368, 371, 372, 373, 374, 375, 378, 379, 380, 381, 382, 386, 387, 388, 389, 392, 393, 394, 395, 396, 399, 400, 401, 402, 403, 406, 407, 408, 409, 410, 414, 415, 416, 417, 420, 421, 422, 423, 424, 427, 428, 429, 430, 431, 434, 435, 436, 437, 438, 441, 442, 443, 444, 445, 448, 449, 450, 451, 452, 455, 456, 457, 458, 459, 462, 463, 464, 465, 466, 469, 470, 471, 472, 476, 477, 478, 479, 480, 483, 484, 485, 486, 487, 490, 491, 492, 493, 494, 497, 498, 499, 500, 501, 504, 505, 506, 507, 508, 512, 513, 514, 515, 518, 519, 520, 521, 522, 525, 526, 527, 528, 529, 532, 533, 534, 535, 536, 539, 540, 541, 542, 543, 546, 547, 548, 550, 553, 554, 555, 556, 557, 560, 561, 562, 563, 564, 567, 568, 569, 570, 571, 574, 575, 576, 577, 578, 581, 582, 583, 584, 585, 588, 589, 590, 591, 592, 595, 596, 597, 598, 599, 602, 603, 604, 605, 606, 610, 611, 612, 613, 616, 617, 618, 619, 620, 623, 624, 625, 626, 627, 630, 631, 632, 633, 634, 637, 638, 639, 640, 641, 644, 645, 646, 647, 648, 651, 652, 653, 654, 655, 658, 659, 660, 661, 662, 665, 666, 667, 668, 669, 672, 673, 674, 675, 676, 679, 680, 681, 682, 683, 686, 687, 688, 689, 690, 693, 694, 695, 697, 700, 701, 702, 703, 704, 707, 708, 709, 710, 711], \"xaxis\": \"x\", \"y\": [-0.07522170412170179, -0.07489517878466463, -0.07456865344762749, -0.07424212811059033, -0.07326255209947889, -0.07293602676244175, -0.0726095014254046, -0.07228297608836745, -0.0719564507513303, -0.07065034940318171, -0.07032382406614456, -0.06999729872910741, -0.06967077339207026, -0.06869119738095882, -0.06836467204392167, -0.06803814670688452, -0.06771162136984737, -0.06738509603281023, -0.06640552002169878, -0.06607899468466163, -0.06575246934762449, -0.06542594401058734, -0.0650994186735502, -0.06411984266243874, -0.0637933173254016, -0.06346679198836444, -0.0631402666513273, -0.06281374131429016, -0.06183416530317871, -0.06150763996614156, -0.06118111462910441, -0.06085458929206726, -0.06052806395503012, -0.05922196260688152, -0.05889543726984438, -0.05856891193280722, -0.05824238659577008, -0.05726281058465863, -0.05693628524762148, -0.05660975991058434, -0.05628323457354718, -0.05595670923651004, -0.0549771332253986, -0.054650607888361444, -0.0543240825513243, -0.05399755721428715, -0.05367103187725, -0.05269145586613856, -0.052364930529101406, -0.05203840519206426, -0.051711879855027114, -0.051385354517989965, -0.050405778506878524, -0.050079253169841374, -0.049752727832804225, -0.049426202495767076, -0.049099677158729926, -0.048120101147618485, -0.047793575810581336, -0.04746705047354419, -0.047140525136507044, -0.04583442378835845, -0.0455078984513213, -0.04518137311428415, -0.044854847777247006, -0.04452832244020985, -0.04354874642909841, -0.04322222109206126, -0.04289569575502411, -0.04256917041798697, -0.04224264508094982, -0.04126306906983837, -0.04093654373280122, -0.04061001839576408, -0.04028349305872693, -0.03995696772168978, -0.03897739171057833, -0.03865086637354119, -0.03832434103650404, -0.03799781569946689, -0.03767129036242974, -0.0366917143513183, -0.03636518901428115, -0.036038663677244, -0.03571213834020685, -0.035385613003169704, -0.03440603699205826, -0.034079511655021114, -0.033752986317983964, -0.033426460980946815, -0.033099935643909666, -0.032120359632798225, -0.031793834295761075, -0.031467308958723926, -0.031140783621686777, -0.030814258284649627, -0.029834682273538186, -0.029508156936501037, -0.029181631599463888, -0.02885510626242674, -0.028528580925389596, -0.027222479577241, -0.02689595424020385, -0.026569428903166707, -0.026242903566129558, -0.02526332755501811, -0.02493680221798096, -0.02461027688094382, -0.02428375154390667, -0.02395722620686952, -0.02297765019575807, -0.02265112485872093, -0.02232459952168378, -0.02199807418464663, -0.02167154884760948, -0.02069197283649804, -0.02036544749946089, -0.020038922162423742, -0.019712396825386592, -0.019385871488349443, -0.018406295477238002, -0.018079770140200853, -0.017753244803163704, -0.017426719466126554, -0.017100194129089405, -0.016120618117977964, -0.015794092780940815, -0.015141042106866516, -0.014814516769829374, -0.013834940758717926, -0.013508415421680776, -0.013181890084643627, -0.012855364747606485, -0.012528839410569328, -0.011549263399457887, -0.011222738062420745, -0.010896212725383589, -0.010569687388346446, -0.01024316205130929, -0.00926358604019785, -0.008937060703160707, -0.00861053536612355, -0.008284010029086408, -0.007957484692049252, -0.006977908680937811, -0.006651383343900669, -0.006324858006863512, -0.00599833266982637, -0.005671807332789228, -0.004692231321677773, -0.00436570598464063, -0.004039180647603474, -0.003712655310566332, -0.0033861299735291894, -0.0024065539624177346, -0.002080028625380592, -0.0017535032883434498, -0.0014269779513062936, -0.0011004526142691512, -0.00012087660315769633, 0.00020564873387944604, 0.0005321740709165884, 0.0008586994079537447, 0.001185224744990887, 0.002164800756102328, 0.0024913260931394843, 0.0028178514301766266, 0.003144376767213783, 0.0034709021042509253, 0.0047770034523995225, 0.005103528789436665, 0.005430054126473821, 0.0057565794635109635, 0.0067361554746224045, 0.007062680811659561, 0.007389206148696703, 0.007715731485733859, 0.008042256822771002, 0.009021832833882443, 0.009348358170919599, 0.009674883507956741, 0.010001408844993898, 0.01032793418203104, 0.011307510193142481, 0.011634035530179637, 0.01196056086721678, 0.012287086204253922, 0.012613611541291078, 0.01359318755240252, 0.013919712889439675, 0.014246238226476818, 0.01457276356351396, 0.014899288900551116, 0.015878864911662557, 0.0162053902486997, 0.016531915585736856, 0.016858440922774, 0.017184966259811155, 0.018164542270922596, 0.018491067607959738, 0.018817592944996894, 0.019144118282034037, 0.019470643619071193, 0.020450219630182634, 0.020776744967219776, 0.021103270304256933, 0.021429795641294075, 0.02175632097833123, 0.022735896989442672, 0.023062422326479814, 0.02338894766351697, 0.023715473000554113, 0.024041998337591255, 0.02502157434870271, 0.025348099685739853, 0.02567462502277701, 0.02600115035981415, 0.026327675696851294, 0.02730725170796275, 0.02763377704499989, 0.027960302382037033, 0.02828682771907419, 0.028613353056111332, 0.029592929067222787, 0.02991945440425993, 0.03024597974129707, 0.03089903041537137, 0.031878606426482825, 0.03220513176351997, 0.03253165710055711, 0.032858182437594266, 0.03318470777463141, 0.03416428378574285, 0.034490809122780006, 0.035143859796854304, 0.03547038513389145, 0.03644996114500289, 0.036776486482040044, 0.037103011819077186, 0.03742953715611434, 0.037756062493151485, 0.038735638504262926, 0.03906216384130008, 0.039388689178337224, 0.03971521451537438, 0.04004173985241152, 0.041021315863522964, 0.04167436653759726, 0.042000891874634405, 0.04232741721167156, 0.043306993222783, 0.0439600438968573, 0.04428656923389444, 0.0446130945709316, 0.04559267058204304, 0.04591919591908018, 0.04624572125611734, 0.04657224659315448, 0.04689877193019164, 0.04787834794130308, 0.04820487327834022, 0.04853139861537738, 0.04885792395241452, 0.049184449289451676, 0.05049055063760027, 0.050817075974637416, 0.05114360131167456, 0.0514701266487117, 0.052449702659823155, 0.0527762279968603, 0.05310275333389744, 0.05342927867093461, 0.05375580400797175, 0.05473538001908318, 0.05506190535612035, 0.05538843069315749, 0.055714956030194634, 0.05604148136723178, 0.05702105737834323, 0.057347582715380374, 0.057674108052417516, 0.05800063338945466, 0.05832715872649183, 0.059633260074640426, 0.05995978541167757, 0.06028631074871471, 0.06061283608575185, 0.06159241209686331, 0.06191893743390045, 0.06224546277093759, 0.06257198810797474, 0.0628985134450119, 0.06387808945612333, 0.06420461479316047, 0.06453114013019765, 0.06485766546723479, 0.06518419080427193, 0.06616376681538338, 0.06649029215242053, 0.06681681748945767, 0.06714334282649481, 0.06746986816353198, 0.06844944417464341, 0.06877596951168055, 0.06910249484871772, 0.06942902018575486, 0.069755545522792, 0.07073512153390346, 0.0710616468709406, 0.07138817220797775, 0.07171469754501489, 0.07204122288205203, 0.07302079889316349, 0.07334732423020063, 0.0736738495672378, 0.07400037490427494, 0.07432690024131208, 0.07530647625242354, 0.07563300158946068, 0.07595952692649782, 0.07628605226353496, 0.07661257760057211, 0.07759215361168356, 0.0779186789487207, 0.07824520428575785, 0.07857172962279502, 0.07987783097094359, 0.08020435630798076, 0.0805308816450179, 0.08085740698205504, 0.08118393231909218, 0.08216350833020364, 0.08249003366724078, 0.08281655900427792, 0.0831430843413151, 0.08346960967835224, 0.08444918568946366, 0.08477571102650083, 0.08510223636353798, 0.08542876170057512, 0.08575528703761226, 0.08673486304872371, 0.08706138838576086, 0.087387913722798, 0.08771443905983514, 0.08804096439687231, 0.08902054040798374, 0.08934706574502091, 0.08967359108205805, 0.0900001164190952, 0.09032664175613234, 0.09163274310428093, 0.09195926844131808, 0.09228579377835522, 0.09261231911539239, 0.09359189512650382, 0.09391842046354096, 0.09424494580057813, 0.09457147113761527, 0.09489799647465241, 0.09587757248576387, 0.09620409782280101, 0.09653062315983815, 0.0968571484968753, 0.09718367383391247, 0.09816324984502389, 0.09848977518206103, 0.0988163005190982, 0.09914282585613535, 0.09946935119317249, 0.10044892720428394, 0.10077545254132109, 0.10110197787835823, 0.10142850321539537, 0.10175502855243251, 0.10273460456354397, 0.10306112990058111, 0.10338765523761828, 0.10404070591169257, 0.10502028192280402, 0.10534680725984116, 0.1056733325968783, 0.10599985793391545, 0.10632638327095259, 0.10730595928206405, 0.10763248461910119, 0.10795900995613833, 0.1082855352931755, 0.10861206063021264, 0.10959163664132407, 0.10991816197836124, 0.11024468731539838, 0.11057121265243552, 0.11089773798947267, 0.11187731400058412, 0.11220383933762126, 0.1125303646746584, 0.11285689001169558, 0.11318341534873272, 0.11416299135984415, 0.11448951669688132, 0.11481604203391846, 0.1151425673709556, 0.11546909270799274, 0.1164486687191042, 0.11677519405614134, 0.11710171939317848, 0.11742824473021565, 0.1177547700672528, 0.11873434607836422, 0.11906087141540139, 0.11938739675243853, 0.11971392208947568, 0.12004044742651282, 0.12102002343762427, 0.12134654877466142, 0.12167307411169856, 0.1219995994487357, 0.12232612478577287, 0.12363222613392144, 0.12395875147095861, 0.12428527680799575, 0.1246118021450329, 0.12559137815614435, 0.1259179034931815, 0.12624442883021864, 0.12657095416725578, 0.12689747950429295, 0.12787705551540438, 0.12820358085244152, 0.1285301061894787, 0.12885663152651583, 0.12918315686355297, 0.13016273287466443, 0.13048925821170157, 0.1308157835487387, 0.13114230888577585, 0.131468834222813, 0.13244841023392445, 0.1327749355709616, 0.13310146090799876, 0.1334279862450359, 0.13375451158207305, 0.1347340875931845, 0.13506061293022165, 0.1353871382672588, 0.13571366360429593, 0.13604018894133307, 0.13701976495244453, 0.13734629028948167, 0.1376728156265188, 0.13799934096355598, 0.13832586630059313, 0.13930544231170458, 0.13963196764874172, 0.13995849298577887, 0.140285018322816, 0.14061154365985315, 0.1415911196709646, 0.14191764500800175, 0.1422441703450389, 0.14257069568207606, 0.1428972210191132, 0.14387679703022463, 0.1442033223672618, 0.14452984770429894, 0.14485637304133608, 0.14518289837837323, 0.14616247438948468, 0.14648899972652182, 0.14681552506355897, 0.14714205040059614, 0.14746857573763328, 0.1484481517487447, 0.14877467708578188, 0.14910120242281902, 0.14942772775985616, 0.1497542530968933, 0.15073382910800476, 0.1510603544450419, 0.15138687978207904, 0.15203993045615335, 0.15301950646726478, 0.15334603180430192, 0.1536725571413391, 0.15399908247837624, 0.15432560781541338, 0.15530518382652483, 0.15563170916356198, 0.15595823450059912, 0.15628475983763626, 0.15661128517467343], \"yaxis\": \"y\"}, {\"mode\": \"markers\", \"name\": \"residual\", \"type\": \"scatter\", \"x\": [1, 2, 3, 4, 7, 8, 9, 10, 11, 15, 16, 17, 18, 21, 22, 23, 24, 25, 28, 29, 30, 31, 32, 35, 36, 37, 38, 39, 42, 43, 44, 45, 46, 50, 51, 52, 53, 56, 57, 58, 59, 60, 63, 64, 65, 66, 67, 70, 71, 72, 73, 74, 77, 78, 79, 80, 81, 84, 85, 86, 87, 91, 92, 93, 94, 95, 98, 99, 100, 101, 102, 105, 106, 107, 108, 109, 112, 113, 114, 115, 116, 119, 120, 121, 122, 123, 126, 127, 128, 129, 130, 133, 134, 135, 136, 137, 140, 141, 142, 143, 144, 148, 149, 150, 151, 154, 155, 156, 157, 158, 161, 162, 163, 164, 165, 168, 169, 170, 171, 172, 175, 176, 177, 178, 179, 182, 183, 185, 186, 189, 190, 191, 192, 193, 196, 197, 198, 199, 200, 203, 204, 205, 206, 207, 210, 211, 212, 213, 214, 217, 218, 219, 220, 221, 224, 225, 226, 227, 228, 231, 232, 233, 234, 235, 238, 239, 240, 241, 242, 246, 247, 248, 249, 252, 253, 254, 255, 256, 259, 260, 261, 262, 263, 266, 267, 268, 269, 270, 273, 274, 275, 276, 277, 280, 281, 282, 283, 284, 287, 288, 289, 290, 291, 294, 295, 296, 297, 298, 301, 302, 303, 304, 305, 308, 309, 310, 311, 312, 315, 316, 317, 318, 319, 322, 323, 324, 326, 329, 330, 331, 332, 333, 336, 337, 339, 340, 343, 344, 345, 346, 347, 350, 351, 352, 353, 354, 357, 359, 360, 361, 364, 366, 367, 368, 371, 372, 373, 374, 375, 378, 379, 380, 381, 382, 386, 387, 388, 389, 392, 393, 394, 395, 396, 399, 400, 401, 402, 403, 406, 407, 408, 409, 410, 414, 415, 416, 417, 420, 421, 422, 423, 424, 427, 428, 429, 430, 431, 434, 435, 436, 437, 438, 441, 442, 443, 444, 445, 448, 449, 450, 451, 452, 455, 456, 457, 458, 459, 462, 463, 464, 465, 466, 469, 470, 471, 472, 476, 477, 478, 479, 480, 483, 484, 485, 486, 487, 490, 491, 492, 493, 494, 497, 498, 499, 500, 501, 504, 505, 506, 507, 508, 512, 513, 514, 515, 518, 519, 520, 521, 522, 525, 526, 527, 528, 529, 532, 533, 534, 535, 536, 539, 540, 541, 542, 543, 546, 547, 548, 550, 553, 554, 555, 556, 557, 560, 561, 562, 563, 564, 567, 568, 569, 570, 571, 574, 575, 576, 577, 578, 581, 582, 583, 584, 585, 588, 589, 590, 591, 592, 595, 596, 597, 598, 599, 602, 603, 604, 605, 606, 610, 611, 612, 613, 616, 617, 618, 619, 620, 623, 624, 625, 626, 627, 630, 631, 632, 633, 634, 637, 638, 639, 640, 641, 644, 645, 646, 647, 648, 651, 652, 653, 654, 655, 658, 659, 660, 661, 662, 665, 666, 667, 668, 669, 672, 673, 674, 675, 676, 679, 680, 681, 682, 683, 686, 687, 688, 689, 690, 693, 694, 695, 697, 700, 701, 702, 703, 704, 707, 708, 709, 710, 711], \"xaxis\": \"x2\", \"y\": [-0.06712982992360166, -0.0646049680379868, -0.07826475463419245, -0.0777211454967403, -0.07522099365107401, -0.07988199992320105, -0.07608851881155455, -0.07511062489002589, -0.07717048982615603, -0.08406463408748417, -0.08995132467334488, -0.0909055118443924, -0.09653389088820435, -0.10020846371768685, -0.10135825824116694, -0.10900828774414606, -0.10889077926426992, -0.12288427935885717, -0.10465397897303205, -0.09822921344271404, -0.10169217274944534, -0.0984195302078326, -0.08280281065245806, -0.04165192692217534, -0.036412456761225495, -0.033620463488811314, 1.9726579694012703e-05, -0.00034962180155988926, -0.0186588213205788, -0.023323173094326397, -0.0209579075439755, -0.03593321826516857, -0.04006304537165064, -0.016501381185653696, -0.0012884819612748871, -0.005106570061461195, -0.016657764301290144, -0.015451047690470947, -0.0057690665967809265, 0.0037698157042350758, -0.0007507332096205674, -0.007079445528279139, -0.00998066808164888, -0.010565117885414789, -0.007731454816841357, -0.021679581400692913, -0.02964253850361137, -0.022171592849199118, -0.02274295570295395, -0.004532514466614755, -0.0016902504856465203, 0.0034566466572031676, 0.009048794705219208, 0.011689564913125255, 0.01573011141113323, 0.021653705538088215, 0.03208717998927216, 0.024598185188926952, 0.020250694828755834, 0.010601489375851439, 0.008391976227419572, 0.027352476861225536, 0.011176526465153762, -0.008127813330890021, -0.01141139664456766, -0.000215123013303814, 0.0028156523013968537, -0.0005016396708334356, -0.00017511433379628627, -0.0007574075237992833, -0.011273535461331325, -0.014106095163593225, -0.018245873809101015, -0.009640908776145585, -0.0048109543254258105, 0.0084629335934625, 0.003970588508757401, 0.02520539658351606, 0.04050294749430935, 0.03331594385526371, 0.02062807764013041, 0.023919311830197923, 0.03869827840538026, 0.05154708833494152, 0.055923696208690074, 0.04509280679244742, 0.05127952405329917, 0.059467865068011466, 0.06051224170850022, 0.05131031167084195, 0.05258562540144777, 0.05594102751842194, 0.06390846124974453, 0.0683181430392793, 0.050755103299974624, 0.053922514367139136, 0.04946409277538478, 0.053570444197815925, 0.05035292511241448, 0.05256806833617714, 0.05100597578648877, 0.04573004177638332, 0.03556816527252642, 0.03891341034077075, 0.03645314954139041, 0.02888856217861962, 0.03799114980247156, 0.030231724294249314, 0.031018559381426947, 0.019673087240185037, 0.016565457256451387, 0.01056716421065839, 0.016086150516289907, 0.030086509220439824, 0.018098235913909813, 0.03208129632119177, 0.03126039208027361, 0.03941565104967399, 0.04367960294322278, 0.04029985007126205, 0.03367828792784845, 0.03975790678712303, 0.046103018153893546, 0.03718516238916565, 0.028580003902764106, 0.03207072401589842, 0.02692648864028701, 0.012463669835278343, 0.013238133767365191, 0.01960851037396142, 0.007178911588370775, 0.0115161441932069, 0.014525495816569617, 0.013286121948926262, 0.014489284327214861, 0.003257546729143952, 0.00646115869507986, 0.007009302598554989, 0.003574385950254685, 0.01186859100660385, 0.005322291113941792, -0.012523590471691248, -0.015446315754730378, -0.014470734824403463, -0.013923881841697107, -0.022212562132811406, -0.01672580867605182, -0.011862188267072894, -0.021018463091805446, -0.020682236386617106, -0.017135063640451486, -0.00925321972242921, -0.013250959464133853, -0.007082231160094149, -0.0006625374991395577, -0.001644288794305448, -0.00544960447490841, -0.008156654270753036, -0.016018006064186477, -0.017824268582065563, -0.006524027585567296, 9.662402634718037e-05, 0.00544333975077711, 0.007302761335000311, 0.006968330175131049, 0.01432321089709096, 0.015531701021037032, 0.024276553814015483, 0.03309287693039838, 0.030145112445433764, 0.01671498083810507, 0.008484144397031856, 0.009903668774857818, 0.0034741862043204557, 0.004669541194880203, 0.00022690042305273384, 0.009459747949012037, 0.006301193712096484, 0.0001309610950662142, 0.00891280812635019, 0.008586405384992038, -0.0057741651733031335, -0.004160414646553576, 0.007828492806992523, 0.01665641843919393, 0.013268350382044988, 0.010111313454855329, 0.006533271767626538, 0.006647214391643223, 0.0009353606792336759, 0.015117907840600138, 0.015880553078342168, 0.015552928296252828, 0.0035397171541226985, 0.005804439579511392, 0.02155429849475115, 0.04491109145996856, 0.044341940166056304, 0.04018701350641307, 0.027681464066058092, 0.019907257143720516, 0.025700069113956923, 0.010363859606005587, 0.019144138195203622, 0.011022668267690812, 0.0033998783253490657, 0.008445443431088075, 0.021538563779405218, 0.010827144290390774, -0.013717459974051265, -0.018626000396926357, -0.015371228131129518, -0.02047605763279979, -0.033769112703620915, -0.042031637856167675, -0.04698535067558983, -0.045848347066813594, -0.052591813133701926, -0.055429391494576874, -0.054902358354218916, -0.05256815738014055, -0.05183968946349286, -0.060120894005545863, -0.0658954192448521, -0.0429430962057966, -0.029365912782739936, -0.034646402085399514, -0.03060212806182446, -0.04045484393484687, -0.04699148965115643, -0.03187090480299719, -0.06012354264056642, -0.044956439253815386, -0.04241379947808077, -0.03771869081320223, -0.03150201110689918, -0.03357341932121488, -0.0393210011222416, -0.032514103007289824, -0.03725395782162681, -0.034296096763139175, -0.012633930301732162, -0.01210042853203551, -0.0030438921565414806, 0.004826688262783915, 0.004522390761020491, 0.03993283774055826, 0.01948716030852625, 0.007322781869009004, 0.01461646339369035, 0.012423160753727402, 0.021985862525244062, 0.028510995215597412, 0.009093745479540567, 0.023192403615229527, 0.012293590756302201, 0.03197212575238663, 0.021619352601048906, 0.016226119558619762, 0.021227261437111962, 0.012685524186949189, 0.026770368792639252, 0.02411746640899377, 0.01282456820070569, 0.01182288276485017, 0.0006897717563368252, 0.013104852735246787, 0.02016398719889928, 0.025374599119357515, 0.020836922041791654, 0.011505613038316737, 0.0062065281011201845, -0.005240286809180178, -0.015491032661514872, -0.015367498325145501, -0.015040972988108359, -0.017957252541884933, -0.019248233269913068, -0.020488426300108914, -0.021169239354488417, -0.023457116051949264, 0.06499519075464487, 0.07302842531468455, 0.08343861600038772, 0.07776052767378056, 0.061375974947438336, 0.07443038408731582, 0.08294713083550309, 0.08885216015530924, 0.08360018150957738, 0.07506529460067721, 0.0745099654936803, 0.0695574039270405, 0.07097988667257726, 0.07460125765786321, 0.07867521346879876, 0.08876654413487126, 0.06029991121813686, 0.06344550095623669, 0.060087141170010926, 0.07172798316931818, 0.08084580745397416, 0.07940005736251013, 0.0764287557277277, 0.0774140272504898, 0.07817992997597922, 0.0693199954782226, 0.0681247451619825, 0.05528607285264357, 0.0562560036659652, 0.05722634871643027, 0.05155973171490104, 0.055531389182628565, 0.05907372872646992, 0.06780999396999127, 0.06166122714673508, 0.06220288581329774, 0.061462443856524135, 0.059214435799320855, 0.06018395290820079, 0.059010752287261284, 0.05869516751664627, 0.05412750683912486, 0.05551841198190719, 0.048840811944009375, 0.044946124460017035, 0.04793852501587494, 0.03132086181835316, 0.036429588711687666, 0.0396782490876325, 0.03126386183937534, 0.028933549573873618, 0.016128921782326472, 0.02608176238365141, 0.03053287108676335, 0.02406291615872793, 0.030187065584964465, 0.04025765505610979, 0.04371410529087154, 0.053489455745506474, 0.037286739820298384, 0.04117569844795456, 0.02827070133343723, 0.018583825666969173, 0.010809830458974365, 0.018830280329210372, 0.026949148092698702, 0.032406521172758426, 0.011358124795669763, 0.007664605558154625, 0.01281715807768019, 0.024456694318269884, 0.03481293976536337, 0.022059381097757166, 0.024825406131744693, 0.008651933816134327, 0.008578369972894781, -0.006574651499400855, -0.018383776072363994, -0.019806695243815245, -0.016688485047014534, -0.01538835948412319, -0.02108297606174736, -0.010831326547718928, -0.014019062947048772, -0.004427133055192059, 0.00043096433639613907, -0.008676533718408166, -0.018858003920364033, -0.016399889532307144, -0.02257215498720329, -0.01915921028594883, -0.006390856359148142, -0.00528160885824544, -0.0018177542398327001, -0.014104083415176216, -0.021114935568728607, -0.023094309296699617, -0.022633219784683883, -0.01954048172112345, -0.01129809601692043, -0.015419881710435193, -0.01932985836565121, -0.020539393554806606, -0.01975170504990434, -0.01961695724274065, -0.020057320663464245, -0.016851961610011984, -0.0041485735595709755, 0.00014448697489677365, -0.0584754773500307, -0.047973985889733006, -0.03435762349942956, -0.05454652294082804, -0.05023860638058672, -0.04489860010335414, -0.024073000048327464, -0.012280606891491908, -0.017703485088418097, -0.0036442788109730673, -0.015250129848124183, -0.032183394581999564, -0.04140121654786974, -0.036033125759745765, -0.03092678703196175, -0.03622350490831974, -0.02631857384915315, -0.04246251719708172, -0.05211023268867246, -0.05626355123235777, -0.041015545013226684, -0.04476380595771132, -0.05162035237123891, -0.03743423205643198, -0.05123141582866486, -0.05419979191030466, -0.06097516992109639, -0.05955929492342599, -0.05905113053566968, -0.06245771366049427, -0.07059439220106684, -0.05854437558190967, -0.06021151854224771, -0.04629328213093983, -0.04376332348045989, -0.05021522338583864, -0.05607728986553917, -0.040206841855214365, -0.033683003919872695, -0.0385321387873826, -0.03802119128483866, -0.043028028760568354, -0.031449874832105484, -0.03472758510041182, -0.037351999740237896, -0.034628477381561995, -0.038355038389832924, -0.03655660817259451, -0.0379677873860689, -0.041491352035017165, -0.012015828114639526, -0.025905746988035522, -0.03849692768421609, -0.025156674334112866, -0.019432330422960276, -0.023760873383612602, -0.020271223612076367, -0.013213172978904814, -0.012233596967793359, -0.015839275728883218, -0.015138981358216036, -0.020405297404495648, -0.03831632031310167, -0.02724585516261277, -0.019887452680428352, -0.03412475616883928, -0.033249054080299406, -0.01704916841041909, -0.012715129587637958, -0.00939739154926128, -0.018945166969441374, -0.027661827433289682, -0.01755033026777969, -0.00237017687821528, 0.011598114339961413, 0.004701626379194052, 0.01473416227014615, 0.01659182342889093, 0.024683374339526137, 0.027520785960926483, 0.014401070098410879, 0.010538685677610266, 0.010105531944496676, 0.004273338556310902, 0.003657388063143585, 0.001349868873851523, 0.006573788355751148, 0.005579439904459499, 0.0029824955590372626, -0.009387196841850992, -0.009987871126167114, 0.0009121108529930311, -0.004641205603007459, -0.005244466244906043, -0.013984552702166697, -0.011814326819998083, -0.015723136955463124, -0.008291358985801883, -0.0024010352338905416, -0.005416516407647037, -0.00860555813743999, -0.013437459596203072], \"yaxis\": \"y2\"}, {\"cells\": {\"values\": [0.000327, -0.075548, 0.749314, 0.0, 9e-06]}, \"header\": {\"values\": [\"slope\", \"intercept\", \"R^2\", \"p_value\", \"std_err\"]}, \"type\": \"table\"}],\n                        {\"autosize\": false, \"height\": 800, \"margin\": {\"t\": 100}, \"showlegend\": false, \"template\": {\"data\": {\"bar\": [{\"error_x\": {\"color\": \"#2a3f5f\"}, \"error_y\": {\"color\": \"#2a3f5f\"}, \"marker\": {\"line\": {\"color\": \"#E5ECF6\", \"width\": 0.5}}, \"type\": \"bar\"}], \"barpolar\": [{\"marker\": {\"line\": {\"color\": \"#E5ECF6\", \"width\": 0.5}}, \"type\": \"barpolar\"}], \"carpet\": [{\"aaxis\": {\"endlinecolor\": \"#2a3f5f\", \"gridcolor\": \"white\", \"linecolor\": \"white\", \"minorgridcolor\": \"white\", \"startlinecolor\": \"#2a3f5f\"}, \"baxis\": {\"endlinecolor\": \"#2a3f5f\", \"gridcolor\": \"white\", \"linecolor\": \"white\", \"minorgridcolor\": \"white\", \"startlinecolor\": \"#2a3f5f\"}, \"type\": \"carpet\"}], \"choropleth\": [{\"colorbar\": {\"outlinewidth\": 0, \"ticks\": \"\"}, \"type\": \"choropleth\"}], \"contour\": [{\"colorbar\": {\"outlinewidth\": 0, \"ticks\": \"\"}, \"colorscale\": [[0.0, \"#0d0887\"], [0.1111111111111111, \"#46039f\"], [0.2222222222222222, \"#7201a8\"], [0.3333333333333333, \"#9c179e\"], [0.4444444444444444, \"#bd3786\"], [0.5555555555555556, \"#d8576b\"], [0.6666666666666666, \"#ed7953\"], [0.7777777777777778, \"#fb9f3a\"], [0.8888888888888888, \"#fdca26\"], [1.0, \"#f0f921\"]], \"type\": \"contour\"}], \"contourcarpet\": [{\"colorbar\": {\"outlinewidth\": 0, \"ticks\": \"\"}, \"type\": \"contourcarpet\"}], \"heatmap\": [{\"colorbar\": {\"outlinewidth\": 0, \"ticks\": \"\"}, \"colorscale\": [[0.0, \"#0d0887\"], [0.1111111111111111, \"#46039f\"], [0.2222222222222222, \"#7201a8\"], [0.3333333333333333, \"#9c179e\"], [0.4444444444444444, \"#bd3786\"], [0.5555555555555556, \"#d8576b\"], [0.6666666666666666, \"#ed7953\"], [0.7777777777777778, \"#fb9f3a\"], [0.8888888888888888, \"#fdca26\"], [1.0, \"#f0f921\"]], \"type\": \"heatmap\"}], \"heatmapgl\": [{\"colorbar\": {\"outlinewidth\": 0, \"ticks\": \"\"}, \"colorscale\": [[0.0, \"#0d0887\"], [0.1111111111111111, \"#46039f\"], [0.2222222222222222, \"#7201a8\"], [0.3333333333333333, \"#9c179e\"], [0.4444444444444444, \"#bd3786\"], [0.5555555555555556, \"#d8576b\"], [0.6666666666666666, \"#ed7953\"], [0.7777777777777778, \"#fb9f3a\"], [0.8888888888888888, \"#fdca26\"], [1.0, \"#f0f921\"]], \"type\": \"heatmapgl\"}], \"histogram\": [{\"marker\": {\"colorbar\": {\"outlinewidth\": 0, \"ticks\": \"\"}}, \"type\": \"histogram\"}], \"histogram2d\": [{\"colorbar\": {\"outlinewidth\": 0, \"ticks\": \"\"}, \"colorscale\": [[0.0, \"#0d0887\"], [0.1111111111111111, \"#46039f\"], [0.2222222222222222, \"#7201a8\"], [0.3333333333333333, \"#9c179e\"], [0.4444444444444444, \"#bd3786\"], [0.5555555555555556, \"#d8576b\"], [0.6666666666666666, \"#ed7953\"], [0.7777777777777778, \"#fb9f3a\"], [0.8888888888888888, \"#fdca26\"], [1.0, \"#f0f921\"]], \"type\": \"histogram2d\"}], \"histogram2dcontour\": [{\"colorbar\": {\"outlinewidth\": 0, \"ticks\": \"\"}, \"colorscale\": [[0.0, \"#0d0887\"], [0.1111111111111111, \"#46039f\"], [0.2222222222222222, \"#7201a8\"], [0.3333333333333333, \"#9c179e\"], [0.4444444444444444, \"#bd3786\"], [0.5555555555555556, \"#d8576b\"], [0.6666666666666666, \"#ed7953\"], [0.7777777777777778, \"#fb9f3a\"], [0.8888888888888888, \"#fdca26\"], [1.0, \"#f0f921\"]], \"type\": \"histogram2dcontour\"}], \"mesh3d\": [{\"colorbar\": {\"outlinewidth\": 0, \"ticks\": \"\"}, \"type\": \"mesh3d\"}], \"parcoords\": [{\"line\": {\"colorbar\": {\"outlinewidth\": 0, \"ticks\": \"\"}}, \"type\": \"parcoords\"}], \"scatter\": [{\"marker\": {\"colorbar\": {\"outlinewidth\": 0, \"ticks\": \"\"}}, \"type\": \"scatter\"}], \"scatter3d\": [{\"line\": {\"colorbar\": {\"outlinewidth\": 0, \"ticks\": \"\"}}, \"marker\": {\"colorbar\": {\"outlinewidth\": 0, \"ticks\": \"\"}}, \"type\": \"scatter3d\"}], \"scattercarpet\": [{\"marker\": {\"colorbar\": {\"outlinewidth\": 0, \"ticks\": \"\"}}, \"type\": \"scattercarpet\"}], \"scattergeo\": [{\"marker\": {\"colorbar\": {\"outlinewidth\": 0, \"ticks\": \"\"}}, \"type\": \"scattergeo\"}], \"scattergl\": [{\"marker\": {\"colorbar\": {\"outlinewidth\": 0, \"ticks\": \"\"}}, \"type\": \"scattergl\"}], \"scattermapbox\": [{\"marker\": {\"colorbar\": {\"outlinewidth\": 0, \"ticks\": \"\"}}, \"type\": \"scattermapbox\"}], \"scatterpolar\": [{\"marker\": {\"colorbar\": {\"outlinewidth\": 0, \"ticks\": \"\"}}, \"type\": \"scatterpolar\"}], \"scatterpolargl\": [{\"marker\": {\"colorbar\": {\"outlinewidth\": 0, \"ticks\": \"\"}}, \"type\": \"scatterpolargl\"}], \"scatterternary\": [{\"marker\": {\"colorbar\": {\"outlinewidth\": 0, \"ticks\": \"\"}}, \"type\": \"scatterternary\"}], \"surface\": [{\"colorbar\": {\"outlinewidth\": 0, \"ticks\": \"\"}, \"colorscale\": [[0.0, \"#0d0887\"], [0.1111111111111111, \"#46039f\"], [0.2222222222222222, \"#7201a8\"], [0.3333333333333333, \"#9c179e\"], [0.4444444444444444, \"#bd3786\"], [0.5555555555555556, \"#d8576b\"], [0.6666666666666666, \"#ed7953\"], [0.7777777777777778, \"#fb9f3a\"], [0.8888888888888888, \"#fdca26\"], [1.0, \"#f0f921\"]], \"type\": \"surface\"}], \"table\": [{\"cells\": {\"fill\": {\"color\": \"#EBF0F8\"}, \"line\": {\"color\": \"white\"}}, \"header\": {\"fill\": {\"color\": \"#C8D4E3\"}, \"line\": {\"color\": \"white\"}}, \"type\": \"table\"}]}, \"layout\": {\"annotationdefaults\": {\"arrowcolor\": \"#2a3f5f\", \"arrowhead\": 0, \"arrowwidth\": 1}, \"colorscale\": {\"diverging\": [[0, \"#8e0152\"], [0.1, \"#c51b7d\"], [0.2, \"#de77ae\"], [0.3, \"#f1b6da\"], [0.4, \"#fde0ef\"], [0.5, \"#f7f7f7\"], [0.6, \"#e6f5d0\"], [0.7, \"#b8e186\"], [0.8, \"#7fbc41\"], [0.9, \"#4d9221\"], [1, \"#276419\"]], \"sequential\": [[0.0, \"#0d0887\"], [0.1111111111111111, \"#46039f\"], [0.2222222222222222, \"#7201a8\"], [0.3333333333333333, \"#9c179e\"], [0.4444444444444444, \"#bd3786\"], [0.5555555555555556, \"#d8576b\"], [0.6666666666666666, \"#ed7953\"], [0.7777777777777778, \"#fb9f3a\"], [0.8888888888888888, \"#fdca26\"], [1.0, \"#f0f921\"]], \"sequentialminus\": [[0.0, \"#0d0887\"], [0.1111111111111111, \"#46039f\"], [0.2222222222222222, \"#7201a8\"], [0.3333333333333333, \"#9c179e\"], [0.4444444444444444, \"#bd3786\"], [0.5555555555555556, \"#d8576b\"], [0.6666666666666666, \"#ed7953\"], [0.7777777777777778, \"#fb9f3a\"], [0.8888888888888888, \"#fdca26\"], [1.0, \"#f0f921\"]]}, \"colorway\": [\"#636efa\", \"#EF553B\", \"#00cc96\", \"#ab63fa\", \"#FFA15A\", \"#19d3f3\", \"#FF6692\", \"#B6E880\", \"#FF97FF\", \"#FECB52\"], \"font\": {\"color\": \"#2a3f5f\"}, \"geo\": {\"bgcolor\": \"white\", \"lakecolor\": \"white\", \"landcolor\": \"#E5ECF6\", \"showlakes\": true, \"showland\": true, \"subunitcolor\": \"white\"}, \"hoverlabel\": {\"align\": \"left\"}, \"hovermode\": \"closest\", \"mapbox\": {\"style\": \"light\"}, \"paper_bgcolor\": \"white\", \"plot_bgcolor\": \"#E5ECF6\", \"polar\": {\"angularaxis\": {\"gridcolor\": \"white\", \"linecolor\": \"white\", \"ticks\": \"\"}, \"bgcolor\": \"#E5ECF6\", \"radialaxis\": {\"gridcolor\": \"white\", \"linecolor\": \"white\", \"ticks\": \"\"}}, \"scene\": {\"xaxis\": {\"backgroundcolor\": \"#E5ECF6\", \"gridcolor\": \"white\", \"gridwidth\": 2, \"linecolor\": \"white\", \"showbackground\": true, \"ticks\": \"\", \"zerolinecolor\": \"white\"}, \"yaxis\": {\"backgroundcolor\": \"#E5ECF6\", \"gridcolor\": \"white\", \"gridwidth\": 2, \"linecolor\": \"white\", \"showbackground\": true, \"ticks\": \"\", \"zerolinecolor\": \"white\"}, \"zaxis\": {\"backgroundcolor\": \"#E5ECF6\", \"gridcolor\": \"white\", \"gridwidth\": 2, \"linecolor\": \"white\", \"showbackground\": true, \"ticks\": \"\", \"zerolinecolor\": \"white\"}}, \"shapedefaults\": {\"line\": {\"color\": \"#2a3f5f\"}}, \"ternary\": {\"aaxis\": {\"gridcolor\": \"white\", \"linecolor\": \"white\", \"ticks\": \"\"}, \"baxis\": {\"gridcolor\": \"white\", \"linecolor\": \"white\", \"ticks\": \"\"}, \"bgcolor\": \"#E5ECF6\", \"caxis\": {\"gridcolor\": \"white\", \"linecolor\": \"white\", \"ticks\": \"\"}}, \"title\": {\"x\": 0.05}, \"xaxis\": {\"automargin\": true, \"gridcolor\": \"white\", \"linecolor\": \"white\", \"ticks\": \"\", \"zerolinecolor\": \"white\", \"zerolinewidth\": 2}, \"yaxis\": {\"automargin\": true, \"gridcolor\": \"white\", \"linecolor\": \"white\", \"ticks\": \"\", \"zerolinecolor\": \"white\", \"zerolinewidth\": 2}}}, \"title\": {\"text\": \"Regression Model of log return of The Coca-Cola Company vs Time\"}, \"width\": 950, \"xaxis\": {\"anchor\": \"y\", \"domain\": [0, 1], \"gridcolor\": \"#ffffff\", \"mirror\": true, \"showgrid\": true, \"showline\": true, \"showticklabels\": false, \"tickfont\": {\"size\": 10}, \"ticklen\": 4, \"zeroline\": false}, \"xaxis2\": {\"anchor\": \"y2\", \"domain\": [0, 1], \"gridcolor\": \"#ffffff\", \"mirror\": true, \"showgrid\": true, \"showline\": true, \"showticklabels\": true, \"tickfont\": {\"size\": 10}, \"ticklen\": 4, \"title\": {\"text\": \"Accumulated Datys\"}, \"zeroline\": false}, \"yaxis\": {\"anchor\": \"x\", \"domain\": [0.45, 0.85], \"gridcolor\": \"#ffffff\", \"hoverformat\": \".2f\", \"mirror\": true, \"showgrid\": true, \"showline\": true, \"tickfont\": {\"size\": 10}, \"ticklen\": 4, \"title\": {\"text\": \"Log return vs 2018-01-02\"}, \"zeroline\": false}, \"yaxis2\": {\"anchor\": \"x2\", \"domain\": [0.0, 0.4], \"gridcolor\": \"#ffffff\", \"hoverformat\": \".2f\", \"mirror\": true, \"showgrid\": true, \"showline\": true, \"tickfont\": {\"size\": 10}, \"ticklen\": 4, \"title\": {\"text\": \"Residual\"}, \"zeroline\": false}},\n                        {\"responsive\": true}\n                    ).then(function(){\n                            \nvar gd = document.getElementById('17de144c-c037-4a2f-a7a9-3402c63a6212');\nvar x = new MutationObserver(function (mutations, observer) {{\n        var display = window.getComputedStyle(gd).display;\n        if (!display || display === 'none') {{\n            console.log([gd, 'removed!']);\n            Plotly.purge(gd);\n            observer.disconnect();\n        }}\n}});\n\n// Listen for the removal of the full notebook cells\nvar notebookContainer = gd.closest('#notebook-container');\nif (notebookContainer) {{\n    x.observe(notebookContainer, {childList: true});\n}}\n\n// Listen for the clearing of the current output cell\nvar outputEl = gd.closest('.output');\nif (outputEl) {{\n    x.observe(outputEl, {childList: true});\n}}\n\n                        })\n                };\n                });\n            </script>\n        </div>"
         },
         "metadata": {},
         "output_type": "display_data"
        }
       ]
      }
     },
     "b7cc95727285420ea68035a3f08ae9b6": {
      "model_module": "@jupyter-widgets/base",
      "model_module_version": "1.2.0",
      "model_name": "LayoutModel",
      "state": {}
     },
     "ba90345942a547e99fa2562bdc39cc46": {
      "model_module": "@jupyter-widgets/controls",
      "model_module_version": "1.5.0",
      "model_name": "DatePickerModel",
      "state": {
       "description": "Start Date",
       "disabled": false,
       "layout": "IPY_MODEL_e09dbb33d99d485696902bc142ce67c2",
       "style": "IPY_MODEL_21522587315e48fda135ed76e94ce004",
       "value": {
        "date": 1,
        "month": 10,
        "year": 2018
       }
      }
     },
     "be2267d79ca644bdb83665c7d9b0686e": {
      "model_module": "@jupyter-widgets/controls",
      "model_module_version": "1.5.0",
      "model_name": "HBoxModel",
      "state": {
       "children": [
        "IPY_MODEL_dc175d5239024a808bdea6729240f6cf",
        "IPY_MODEL_174f4b33c50a401b920b2bb51a9d883e"
       ],
       "layout": "IPY_MODEL_d41b4efef64f4386a431e640044a15a2"
      }
     },
     "c018c20c46bd423cacb894f640e5b570": {
      "model_module": "@jupyter-widgets/base",
      "model_module_version": "1.2.0",
      "model_name": "LayoutModel",
      "state": {}
     },
     "c24b4a26d6b240cb9d169369230c78b1": {
      "model_module": "@jupyter-widgets/base",
      "model_module_version": "1.2.0",
      "model_name": "LayoutModel",
      "state": {}
     },
     "c9f53f1b6a60487bacfb2796f444d72b": {
      "model_module": "@jupyter-widgets/controls",
      "model_module_version": "1.5.0",
      "model_name": "DescriptionStyleModel",
      "state": {
       "description_width": ""
      }
     },
     "cb5eb90146874806b4e4b0a6df7f2bbf": {
      "model_module": "@jupyter-widgets/base",
      "model_module_version": "1.2.0",
      "model_name": "LayoutModel",
      "state": {}
     },
     "cc61115656564470b31059e9c73f71ae": {
      "model_module": "@jupyter-widgets/base",
      "model_module_version": "1.2.0",
      "model_name": "LayoutModel",
      "state": {}
     },
     "d34c251ecd20473796d27d073bd66cae": {
      "model_module": "@jupyter-widgets/base",
      "model_module_version": "1.2.0",
      "model_name": "LayoutModel",
      "state": {}
     },
     "d41b4efef64f4386a431e640044a15a2": {
      "model_module": "@jupyter-widgets/base",
      "model_module_version": "1.2.0",
      "model_name": "LayoutModel",
      "state": {}
     },
     "d9066d67a55e4e989b175d301b8490a4": {
      "model_module": "@jupyter-widgets/base",
      "model_module_version": "1.2.0",
      "model_name": "LayoutModel",
      "state": {}
     },
     "dc175d5239024a808bdea6729240f6cf": {
      "model_module": "@jupyter-widgets/controls",
      "model_module_version": "1.5.0",
      "model_name": "DropdownModel",
      "state": {
       "_options_labels": [
        "Campbell Soup Company",
        "Colgate-Palmolive Company",
        "Costco Wholesale Corporation",
        "J.M.Smucker Company",
        "Kellogg Company",
        "PepsiCo, Inc.",
        "The Coca-Cola Company",
        "The Hershey Company",
        "The Kraft Heinz Company",
        "Walmart Inc."
       ],
       "description": "Symbol 1",
       "index": 6,
       "layout": "IPY_MODEL_764cc92972e84e828926d34418bc7714",
       "style": "IPY_MODEL_467315c0541c447989467cc4d5b48b23"
      }
     },
     "e09dbb33d99d485696902bc142ce67c2": {
      "model_module": "@jupyter-widgets/base",
      "model_module_version": "1.2.0",
      "model_name": "LayoutModel",
      "state": {}
     },
     "e171a90895784a43948b959c3638845c": {
      "model_module": "@jupyter-widgets/controls",
      "model_module_version": "1.5.0",
      "model_name": "DescriptionStyleModel",
      "state": {
       "description_width": ""
      }
     },
     "e1e09d5f2acf4f9f900be6a9ddedf6bf": {
      "model_module": "@jupyter-widgets/controls",
      "model_module_version": "1.5.0",
      "model_name": "BoundedIntTextModel",
      "state": {
       "description": "1 Amounts",
       "layout": "IPY_MODEL_6d609d44fbb6400e9f23256009d90d3e",
       "max": 4920,
       "min": 1,
       "style": "IPY_MODEL_649feebf7e294e238fd7966edf6006f3",
       "value": 300
      }
     },
     "e2f79f6f944d42efb420d087e99289e5": {
      "model_module": "@jupyter-widgets/controls",
      "model_module_version": "1.5.0",
      "model_name": "BoundedIntTextModel",
      "state": {
       "description": "#Samples",
       "layout": "IPY_MODEL_5ef7f954dee84e01be27a3a9d96ee51c",
       "max": 4920,
       "min": 1,
       "style": "IPY_MODEL_7debb2ead7a5474aa9a0044e7589ca3f",
       "value": 300
      }
     },
     "e3decd9a3dac45c19189d06dbf6c97e9": {
      "model_module": "@jupyter-widgets/base",
      "model_module_version": "1.2.0",
      "model_name": "LayoutModel",
      "state": {}
     },
     "e5b98534ef68411781b52963d99f50d8": {
      "model_module": "@jupyter-widgets/base",
      "model_module_version": "1.2.0",
      "model_name": "LayoutModel",
      "state": {}
     },
     "ebf56c0d86c847c79e0fb002d11da9c7": {
      "buffers": [
       {
        "data": "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",
        "encoding": "base64",
        "path": [
         "_data",
         0,
         "y",
         "value"
        ]
       },
       {
        "data": "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",
        "encoding": "base64",
        "path": [
         "_data",
         1,
         "y",
         "value"
        ]
       }
      ],
      "model_module": "plotlywidget",
      "model_module_version": "^1.2.0",
      "model_name": "FigureModel",
      "state": {
       "_config": {
        "plotlyServerURL": "https://plot.ly"
       },
       "_data": [
        {
         "mode": "markers+lines",
         "name": "Open",
         "opacity": 0.75,
         "type": "scatter",
         "uid": "8d8b0bba-8ade-477b-b8ed-5b85c0d8abe3",
         "x": [
          "2018-01-02T00:00:00.000000",
          "2018-01-03T00:00:00.000000",
          "2018-01-04T00:00:00.000000",
          "2018-01-05T00:00:00.000000",
          "2018-01-08T00:00:00.000000",
          "2018-01-09T00:00:00.000000",
          "2018-01-10T00:00:00.000000",
          "2018-01-11T00:00:00.000000",
          "2018-01-12T00:00:00.000000",
          "2018-01-16T00:00:00.000000",
          "2018-01-17T00:00:00.000000",
          "2018-01-18T00:00:00.000000",
          "2018-01-19T00:00:00.000000",
          "2018-01-22T00:00:00.000000",
          "2018-01-23T00:00:00.000000",
          "2018-01-24T00:00:00.000000",
          "2018-01-25T00:00:00.000000",
          "2018-01-26T00:00:00.000000",
          "2018-01-29T00:00:00.000000",
          "2018-01-30T00:00:00.000000",
          "2018-01-31T00:00:00.000000",
          "2018-02-01T00:00:00.000000",
          "2018-02-02T00:00:00.000000",
          "2018-02-05T00:00:00.000000",
          "2018-02-06T00:00:00.000000",
          "2018-02-07T00:00:00.000000",
          "2018-02-08T00:00:00.000000",
          "2018-02-09T00:00:00.000000",
          "2018-02-12T00:00:00.000000",
          "2018-02-13T00:00:00.000000",
          "2018-02-14T00:00:00.000000",
          "2018-02-15T00:00:00.000000",
          "2018-02-16T00:00:00.000000",
          "2018-02-20T00:00:00.000000",
          "2018-02-21T00:00:00.000000",
          "2018-02-22T00:00:00.000000",
          "2018-02-23T00:00:00.000000",
          "2018-02-26T00:00:00.000000",
          "2018-02-27T00:00:00.000000",
          "2018-02-28T00:00:00.000000",
          "2018-03-01T00:00:00.000000",
          "2018-03-02T00:00:00.000000",
          "2018-03-05T00:00:00.000000",
          "2018-03-06T00:00:00.000000",
          "2018-03-07T00:00:00.000000",
          "2018-03-08T00:00:00.000000",
          "2018-03-09T00:00:00.000000",
          "2018-03-12T00:00:00.000000",
          "2018-03-13T00:00:00.000000",
          "2018-03-14T00:00:00.000000",
          "2018-03-15T00:00:00.000000",
          "2018-03-16T00:00:00.000000",
          "2018-03-19T00:00:00.000000",
          "2018-03-20T00:00:00.000000",
          "2018-03-21T00:00:00.000000",
          "2018-03-22T00:00:00.000000",
          "2018-03-23T00:00:00.000000",
          "2018-03-26T00:00:00.000000",
          "2018-03-27T00:00:00.000000",
          "2018-03-28T00:00:00.000000",
          "2018-03-29T00:00:00.000000",
          "2018-04-02T00:00:00.000000",
          "2018-04-03T00:00:00.000000",
          "2018-04-04T00:00:00.000000",
          "2018-04-05T00:00:00.000000",
          "2018-04-06T00:00:00.000000",
          "2018-04-09T00:00:00.000000",
          "2018-04-10T00:00:00.000000",
          "2018-04-11T00:00:00.000000",
          "2018-04-12T00:00:00.000000",
          "2018-04-13T00:00:00.000000",
          "2018-04-16T00:00:00.000000",
          "2018-04-17T00:00:00.000000",
          "2018-04-18T00:00:00.000000",
          "2018-04-19T00:00:00.000000",
          "2018-04-20T00:00:00.000000",
          "2018-04-23T00:00:00.000000",
          "2018-04-24T00:00:00.000000",
          "2018-04-25T00:00:00.000000",
          "2018-04-26T00:00:00.000000",
          "2018-04-27T00:00:00.000000",
          "2018-04-30T00:00:00.000000",
          "2018-05-01T00:00:00.000000",
          "2018-05-02T00:00:00.000000",
          "2018-05-03T00:00:00.000000",
          "2018-05-04T00:00:00.000000",
          "2018-05-07T00:00:00.000000",
          "2018-05-08T00:00:00.000000",
          "2018-05-09T00:00:00.000000",
          "2018-05-10T00:00:00.000000",
          "2018-05-11T00:00:00.000000",
          "2018-05-14T00:00:00.000000",
          "2018-05-15T00:00:00.000000",
          "2018-05-16T00:00:00.000000",
          "2018-05-17T00:00:00.000000",
          "2018-05-18T00:00:00.000000",
          "2018-05-21T00:00:00.000000",
          "2018-05-22T00:00:00.000000",
          "2018-05-23T00:00:00.000000",
          "2018-05-24T00:00:00.000000",
          "2018-05-25T00:00:00.000000",
          "2018-05-29T00:00:00.000000",
          "2018-05-30T00:00:00.000000",
          "2018-05-31T00:00:00.000000",
          "2018-06-01T00:00:00.000000",
          "2018-06-04T00:00:00.000000",
          "2018-06-05T00:00:00.000000",
          "2018-06-06T00:00:00.000000",
          "2018-06-07T00:00:00.000000",
          "2018-06-08T00:00:00.000000",
          "2018-06-11T00:00:00.000000",
          "2018-06-12T00:00:00.000000",
          "2018-06-13T00:00:00.000000",
          "2018-06-14T00:00:00.000000",
          "2018-06-15T00:00:00.000000",
          "2018-06-18T00:00:00.000000",
          "2018-06-19T00:00:00.000000",
          "2018-06-20T00:00:00.000000",
          "2018-06-21T00:00:00.000000",
          "2018-06-22T00:00:00.000000",
          "2018-06-25T00:00:00.000000",
          "2018-06-26T00:00:00.000000",
          "2018-06-27T00:00:00.000000",
          "2018-06-28T00:00:00.000000",
          "2018-06-29T00:00:00.000000",
          "2018-07-02T00:00:00.000000",
          "2018-07-03T00:00:00.000000",
          "2018-07-05T00:00:00.000000",
          "2018-07-06T00:00:00.000000",
          "2018-07-09T00:00:00.000000",
          "2018-07-10T00:00:00.000000",
          "2018-07-11T00:00:00.000000",
          "2018-07-12T00:00:00.000000",
          "2018-07-13T00:00:00.000000",
          "2018-07-16T00:00:00.000000",
          "2018-07-17T00:00:00.000000",
          "2018-07-18T00:00:00.000000",
          "2018-07-19T00:00:00.000000",
          "2018-07-20T00:00:00.000000",
          "2018-07-23T00:00:00.000000",
          "2018-07-24T00:00:00.000000",
          "2018-07-25T00:00:00.000000",
          "2018-07-26T00:00:00.000000",
          "2018-07-27T00:00:00.000000",
          "2018-07-30T00:00:00.000000",
          "2018-07-31T00:00:00.000000",
          "2018-08-01T00:00:00.000000",
          "2018-08-02T00:00:00.000000",
          "2018-08-03T00:00:00.000000",
          "2018-08-06T00:00:00.000000",
          "2018-08-07T00:00:00.000000",
          "2018-08-08T00:00:00.000000",
          "2018-08-09T00:00:00.000000",
          "2018-08-10T00:00:00.000000",
          "2018-08-13T00:00:00.000000",
          "2018-08-14T00:00:00.000000",
          "2018-08-15T00:00:00.000000",
          "2018-08-16T00:00:00.000000",
          "2018-08-17T00:00:00.000000",
          "2018-08-20T00:00:00.000000",
          "2018-08-21T00:00:00.000000",
          "2018-08-22T00:00:00.000000",
          "2018-08-23T00:00:00.000000",
          "2018-08-24T00:00:00.000000",
          "2018-08-27T00:00:00.000000",
          "2018-08-28T00:00:00.000000",
          "2018-08-29T00:00:00.000000",
          "2018-08-30T00:00:00.000000",
          "2018-08-31T00:00:00.000000",
          "2018-09-04T00:00:00.000000",
          "2018-09-05T00:00:00.000000",
          "2018-09-06T00:00:00.000000",
          "2018-09-07T00:00:00.000000",
          "2018-09-10T00:00:00.000000",
          "2018-09-11T00:00:00.000000",
          "2018-09-12T00:00:00.000000",
          "2018-09-13T00:00:00.000000",
          "2018-09-14T00:00:00.000000",
          "2018-09-17T00:00:00.000000",
          "2018-09-18T00:00:00.000000",
          "2018-09-19T00:00:00.000000",
          "2018-09-20T00:00:00.000000",
          "2018-09-21T00:00:00.000000",
          "2018-09-24T00:00:00.000000",
          "2018-09-25T00:00:00.000000",
          "2018-09-26T00:00:00.000000",
          "2018-09-27T00:00:00.000000",
          "2018-09-28T00:00:00.000000",
          "2018-10-01T00:00:00.000000",
          "2018-10-02T00:00:00.000000",
          "2018-10-03T00:00:00.000000",
          "2018-10-04T00:00:00.000000",
          "2018-10-05T00:00:00.000000",
          "2018-10-08T00:00:00.000000",
          "2018-10-09T00:00:00.000000",
          "2018-10-10T00:00:00.000000",
          "2018-10-11T00:00:00.000000",
          "2018-10-12T00:00:00.000000",
          "2018-10-15T00:00:00.000000",
          "2018-10-16T00:00:00.000000",
          "2018-10-17T00:00:00.000000",
          "2018-10-18T00:00:00.000000",
          "2018-10-19T00:00:00.000000",
          "2018-10-22T00:00:00.000000",
          "2018-10-23T00:00:00.000000",
          "2018-10-24T00:00:00.000000",
          "2018-10-25T00:00:00.000000",
          "2018-10-26T00:00:00.000000",
          "2018-10-29T00:00:00.000000",
          "2018-10-30T00:00:00.000000",
          "2018-10-31T00:00:00.000000",
          "2018-11-01T00:00:00.000000",
          "2018-11-02T00:00:00.000000",
          "2018-11-05T00:00:00.000000",
          "2018-11-06T00:00:00.000000",
          "2018-11-07T00:00:00.000000",
          "2018-11-08T00:00:00.000000",
          "2018-11-09T00:00:00.000000",
          "2018-11-12T00:00:00.000000",
          "2018-11-13T00:00:00.000000",
          "2018-11-14T00:00:00.000000",
          "2018-11-15T00:00:00.000000",
          "2018-11-16T00:00:00.000000",
          "2018-11-19T00:00:00.000000",
          "2018-11-20T00:00:00.000000",
          "2018-11-21T00:00:00.000000",
          "2018-11-23T00:00:00.000000",
          "2018-11-26T00:00:00.000000",
          "2018-11-27T00:00:00.000000",
          "2018-11-28T00:00:00.000000",
          "2018-11-29T00:00:00.000000",
          "2018-11-30T00:00:00.000000",
          "2018-12-03T00:00:00.000000",
          "2018-12-04T00:00:00.000000",
          "2018-12-06T00:00:00.000000",
          "2018-12-07T00:00:00.000000",
          "2018-12-10T00:00:00.000000",
          "2018-12-11T00:00:00.000000",
          "2018-12-12T00:00:00.000000",
          "2018-12-13T00:00:00.000000",
          "2018-12-14T00:00:00.000000",
          "2018-12-17T00:00:00.000000",
          "2018-12-18T00:00:00.000000",
          "2018-12-19T00:00:00.000000",
          "2018-12-20T00:00:00.000000",
          "2018-12-21T00:00:00.000000",
          "2018-12-24T00:00:00.000000",
          "2018-12-26T00:00:00.000000",
          "2018-12-27T00:00:00.000000",
          "2018-12-28T00:00:00.000000",
          "2018-12-31T00:00:00.000000",
          "2019-01-02T00:00:00.000000",
          "2019-01-03T00:00:00.000000",
          "2019-01-04T00:00:00.000000",
          "2019-01-07T00:00:00.000000",
          "2019-01-08T00:00:00.000000",
          "2019-01-09T00:00:00.000000",
          "2019-01-10T00:00:00.000000",
          "2019-01-11T00:00:00.000000",
          "2019-01-14T00:00:00.000000",
          "2019-01-15T00:00:00.000000",
          "2019-01-16T00:00:00.000000",
          "2019-01-17T00:00:00.000000",
          "2019-01-18T00:00:00.000000",
          "2019-01-22T00:00:00.000000",
          "2019-01-23T00:00:00.000000",
          "2019-01-24T00:00:00.000000",
          "2019-01-25T00:00:00.000000",
          "2019-01-28T00:00:00.000000",
          "2019-01-29T00:00:00.000000",
          "2019-01-30T00:00:00.000000",
          "2019-01-31T00:00:00.000000",
          "2019-02-01T00:00:00.000000",
          "2019-02-04T00:00:00.000000",
          "2019-02-05T00:00:00.000000",
          "2019-02-06T00:00:00.000000",
          "2019-02-07T00:00:00.000000",
          "2019-02-08T00:00:00.000000",
          "2019-02-11T00:00:00.000000",
          "2019-02-12T00:00:00.000000",
          "2019-02-13T00:00:00.000000",
          "2019-02-14T00:00:00.000000",
          "2019-02-15T00:00:00.000000",
          "2019-02-19T00:00:00.000000",
          "2019-02-20T00:00:00.000000",
          "2019-02-21T00:00:00.000000",
          "2019-02-22T00:00:00.000000",
          "2019-02-25T00:00:00.000000",
          "2019-02-26T00:00:00.000000",
          "2019-02-27T00:00:00.000000",
          "2019-02-28T00:00:00.000000",
          "2019-03-01T00:00:00.000000",
          "2019-03-04T00:00:00.000000",
          "2019-03-05T00:00:00.000000",
          "2019-03-06T00:00:00.000000",
          "2019-03-07T00:00:00.000000",
          "2019-03-08T00:00:00.000000",
          "2019-03-11T00:00:00.000000",
          "2019-03-12T00:00:00.000000",
          "2019-03-13T00:00:00.000000",
          "2019-03-14T00:00:00.000000",
          "2019-03-15T00:00:00.000000",
          "2019-03-18T00:00:00.000000",
          "2019-03-19T00:00:00.000000",
          "2019-03-20T00:00:00.000000",
          "2019-03-21T00:00:00.000000",
          "2019-03-22T00:00:00.000000",
          "2019-03-25T00:00:00.000000",
          "2019-03-26T00:00:00.000000",
          "2019-03-27T00:00:00.000000",
          "2019-03-28T00:00:00.000000",
          "2019-03-29T00:00:00.000000",
          "2019-04-01T00:00:00.000000",
          "2019-04-02T00:00:00.000000",
          "2019-04-03T00:00:00.000000",
          "2019-04-04T00:00:00.000000",
          "2019-04-05T00:00:00.000000",
          "2019-04-08T00:00:00.000000",
          "2019-04-09T00:00:00.000000",
          "2019-04-10T00:00:00.000000",
          "2019-04-11T00:00:00.000000",
          "2019-04-12T00:00:00.000000",
          "2019-04-15T00:00:00.000000",
          "2019-04-16T00:00:00.000000",
          "2019-04-17T00:00:00.000000",
          "2019-04-18T00:00:00.000000",
          "2019-04-22T00:00:00.000000",
          "2019-04-23T00:00:00.000000",
          "2019-04-24T00:00:00.000000",
          "2019-04-25T00:00:00.000000",
          "2019-04-26T00:00:00.000000",
          "2019-04-29T00:00:00.000000",
          "2019-04-30T00:00:00.000000",
          "2019-05-01T00:00:00.000000",
          "2019-05-02T00:00:00.000000",
          "2019-05-03T00:00:00.000000",
          "2019-05-06T00:00:00.000000",
          "2019-05-07T00:00:00.000000",
          "2019-05-08T00:00:00.000000",
          "2019-05-09T00:00:00.000000",
          "2019-05-10T00:00:00.000000",
          "2019-05-13T00:00:00.000000",
          "2019-05-14T00:00:00.000000",
          "2019-05-15T00:00:00.000000",
          "2019-05-16T00:00:00.000000",
          "2019-05-17T00:00:00.000000",
          "2019-05-20T00:00:00.000000",
          "2019-05-21T00:00:00.000000",
          "2019-05-22T00:00:00.000000",
          "2019-05-23T00:00:00.000000",
          "2019-05-24T00:00:00.000000",
          "2019-05-28T00:00:00.000000",
          "2019-05-29T00:00:00.000000",
          "2019-05-30T00:00:00.000000",
          "2019-05-31T00:00:00.000000",
          "2019-06-03T00:00:00.000000",
          "2019-06-04T00:00:00.000000",
          "2019-06-05T00:00:00.000000",
          "2019-06-06T00:00:00.000000",
          "2019-06-07T00:00:00.000000",
          "2019-06-10T00:00:00.000000",
          "2019-06-11T00:00:00.000000",
          "2019-06-12T00:00:00.000000",
          "2019-06-13T00:00:00.000000",
          "2019-06-14T00:00:00.000000",
          "2019-06-17T00:00:00.000000",
          "2019-06-18T00:00:00.000000",
          "2019-06-19T00:00:00.000000",
          "2019-06-20T00:00:00.000000",
          "2019-06-21T00:00:00.000000",
          "2019-06-24T00:00:00.000000",
          "2019-06-25T00:00:00.000000",
          "2019-06-26T00:00:00.000000",
          "2019-06-27T00:00:00.000000",
          "2019-06-28T00:00:00.000000",
          "2019-07-01T00:00:00.000000",
          "2019-07-02T00:00:00.000000",
          "2019-07-03T00:00:00.000000",
          "2019-07-05T00:00:00.000000",
          "2019-07-08T00:00:00.000000",
          "2019-07-09T00:00:00.000000",
          "2019-07-10T00:00:00.000000",
          "2019-07-11T00:00:00.000000",
          "2019-07-12T00:00:00.000000",
          "2019-07-15T00:00:00.000000",
          "2019-07-16T00:00:00.000000",
          "2019-07-17T00:00:00.000000",
          "2019-07-18T00:00:00.000000",
          "2019-07-19T00:00:00.000000",
          "2019-07-22T00:00:00.000000",
          "2019-07-23T00:00:00.000000",
          "2019-07-24T00:00:00.000000",
          "2019-07-25T00:00:00.000000",
          "2019-07-26T00:00:00.000000",
          "2019-07-29T00:00:00.000000",
          "2019-07-30T00:00:00.000000",
          "2019-07-31T00:00:00.000000",
          "2019-08-01T00:00:00.000000",
          "2019-08-02T00:00:00.000000",
          "2019-08-05T00:00:00.000000",
          "2019-08-06T00:00:00.000000",
          "2019-08-07T00:00:00.000000",
          "2019-08-08T00:00:00.000000",
          "2019-08-09T00:00:00.000000",
          "2019-08-12T00:00:00.000000",
          "2019-08-13T00:00:00.000000",
          "2019-08-14T00:00:00.000000",
          "2019-08-15T00:00:00.000000",
          "2019-08-16T00:00:00.000000",
          "2019-08-19T00:00:00.000000",
          "2019-08-20T00:00:00.000000",
          "2019-08-21T00:00:00.000000",
          "2019-08-22T00:00:00.000000",
          "2019-08-23T00:00:00.000000",
          "2019-08-26T00:00:00.000000",
          "2019-08-27T00:00:00.000000",
          "2019-08-28T00:00:00.000000",
          "2019-08-29T00:00:00.000000",
          "2019-08-30T00:00:00.000000",
          "2019-09-03T00:00:00.000000",
          "2019-09-04T00:00:00.000000",
          "2019-09-05T00:00:00.000000",
          "2019-09-06T00:00:00.000000",
          "2019-09-09T00:00:00.000000",
          "2019-09-10T00:00:00.000000",
          "2019-09-11T00:00:00.000000",
          "2019-09-12T00:00:00.000000",
          "2019-09-13T00:00:00.000000",
          "2019-09-16T00:00:00.000000",
          "2019-09-17T00:00:00.000000",
          "2019-09-18T00:00:00.000000",
          "2019-09-19T00:00:00.000000",
          "2019-09-20T00:00:00.000000",
          "2019-09-23T00:00:00.000000",
          "2019-09-24T00:00:00.000000",
          "2019-09-25T00:00:00.000000",
          "2019-09-26T00:00:00.000000",
          "2019-09-27T00:00:00.000000",
          "2019-09-30T00:00:00.000000",
          "2019-10-01T00:00:00.000000",
          "2019-10-02T00:00:00.000000",
          "2019-10-03T00:00:00.000000",
          "2019-10-04T00:00:00.000000",
          "2019-10-07T00:00:00.000000",
          "2019-10-08T00:00:00.000000",
          "2019-10-09T00:00:00.000000",
          "2019-10-10T00:00:00.000000",
          "2019-10-11T00:00:00.000000",
          "2019-10-14T00:00:00.000000",
          "2019-10-15T00:00:00.000000",
          "2019-10-16T00:00:00.000000",
          "2019-10-17T00:00:00.000000",
          "2019-10-18T00:00:00.000000",
          "2019-10-21T00:00:00.000000",
          "2019-10-22T00:00:00.000000",
          "2019-10-23T00:00:00.000000",
          "2019-10-24T00:00:00.000000",
          "2019-10-25T00:00:00.000000",
          "2019-10-28T00:00:00.000000",
          "2019-10-29T00:00:00.000000",
          "2019-10-30T00:00:00.000000",
          "2019-10-31T00:00:00.000000",
          "2019-11-01T00:00:00.000000",
          "2019-11-04T00:00:00.000000",
          "2019-11-05T00:00:00.000000",
          "2019-11-06T00:00:00.000000",
          "2019-11-07T00:00:00.000000",
          "2019-11-08T00:00:00.000000",
          "2019-11-11T00:00:00.000000",
          "2019-11-12T00:00:00.000000",
          "2019-11-13T00:00:00.000000",
          "2019-11-14T00:00:00.000000",
          "2019-11-15T00:00:00.000000",
          "2019-11-18T00:00:00.000000",
          "2019-11-19T00:00:00.000000",
          "2019-11-20T00:00:00.000000",
          "2019-11-21T00:00:00.000000",
          "2019-11-22T00:00:00.000000",
          "2019-11-25T00:00:00.000000",
          "2019-11-26T00:00:00.000000",
          "2019-11-27T00:00:00.000000",
          "2019-11-29T00:00:00.000000",
          "2019-12-02T00:00:00.000000",
          "2019-12-03T00:00:00.000000",
          "2019-12-04T00:00:00.000000",
          "2019-12-05T00:00:00.000000",
          "2019-12-06T00:00:00.000000",
          "2019-12-09T00:00:00.000000",
          "2019-12-10T00:00:00.000000",
          "2019-12-11T00:00:00.000000",
          "2019-12-12T00:00:00.000000",
          "2019-12-13T00:00:00.000000"
         ],
         "y": {
          "dtype": "float64",
          "shape": [
           275
          ]
         }
        },
        {
         "mode": "markers+lines",
         "name": "Close",
         "opacity": 0.75,
         "type": "scatter",
         "uid": "5894bf2a-6349-4816-8984-66a45314a2bb",
         "x": [
          "2018-01-02T00:00:00.000000",
          "2018-01-03T00:00:00.000000",
          "2018-01-04T00:00:00.000000",
          "2018-01-05T00:00:00.000000",
          "2018-01-08T00:00:00.000000",
          "2018-01-09T00:00:00.000000",
          "2018-01-10T00:00:00.000000",
          "2018-01-11T00:00:00.000000",
          "2018-01-12T00:00:00.000000",
          "2018-01-16T00:00:00.000000",
          "2018-01-17T00:00:00.000000",
          "2018-01-18T00:00:00.000000",
          "2018-01-19T00:00:00.000000",
          "2018-01-22T00:00:00.000000",
          "2018-01-23T00:00:00.000000",
          "2018-01-24T00:00:00.000000",
          "2018-01-25T00:00:00.000000",
          "2018-01-26T00:00:00.000000",
          "2018-01-29T00:00:00.000000",
          "2018-01-30T00:00:00.000000",
          "2018-01-31T00:00:00.000000",
          "2018-02-01T00:00:00.000000",
          "2018-02-02T00:00:00.000000",
          "2018-02-05T00:00:00.000000",
          "2018-02-06T00:00:00.000000",
          "2018-02-07T00:00:00.000000",
          "2018-02-08T00:00:00.000000",
          "2018-02-09T00:00:00.000000",
          "2018-02-12T00:00:00.000000",
          "2018-02-13T00:00:00.000000",
          "2018-02-14T00:00:00.000000",
          "2018-02-15T00:00:00.000000",
          "2018-02-16T00:00:00.000000",
          "2018-02-20T00:00:00.000000",
          "2018-02-21T00:00:00.000000",
          "2018-02-22T00:00:00.000000",
          "2018-02-23T00:00:00.000000",
          "2018-02-26T00:00:00.000000",
          "2018-02-27T00:00:00.000000",
          "2018-02-28T00:00:00.000000",
          "2018-03-01T00:00:00.000000",
          "2018-03-02T00:00:00.000000",
          "2018-03-05T00:00:00.000000",
          "2018-03-06T00:00:00.000000",
          "2018-03-07T00:00:00.000000",
          "2018-03-08T00:00:00.000000",
          "2018-03-09T00:00:00.000000",
          "2018-03-12T00:00:00.000000",
          "2018-03-13T00:00:00.000000",
          "2018-03-14T00:00:00.000000",
          "2018-03-15T00:00:00.000000",
          "2018-03-16T00:00:00.000000",
          "2018-03-19T00:00:00.000000",
          "2018-03-20T00:00:00.000000",
          "2018-03-21T00:00:00.000000",
          "2018-03-22T00:00:00.000000",
          "2018-03-23T00:00:00.000000",
          "2018-03-26T00:00:00.000000",
          "2018-03-27T00:00:00.000000",
          "2018-03-28T00:00:00.000000",
          "2018-03-29T00:00:00.000000",
          "2018-04-02T00:00:00.000000",
          "2018-04-03T00:00:00.000000",
          "2018-04-04T00:00:00.000000",
          "2018-04-05T00:00:00.000000",
          "2018-04-06T00:00:00.000000",
          "2018-04-09T00:00:00.000000",
          "2018-04-10T00:00:00.000000",
          "2018-04-11T00:00:00.000000",
          "2018-04-12T00:00:00.000000",
          "2018-04-13T00:00:00.000000",
          "2018-04-16T00:00:00.000000",
          "2018-04-17T00:00:00.000000",
          "2018-04-18T00:00:00.000000",
          "2018-04-19T00:00:00.000000",
          "2018-04-20T00:00:00.000000",
          "2018-04-23T00:00:00.000000",
          "2018-04-24T00:00:00.000000",
          "2018-04-25T00:00:00.000000",
          "2018-04-26T00:00:00.000000",
          "2018-04-27T00:00:00.000000",
          "2018-04-30T00:00:00.000000",
          "2018-05-01T00:00:00.000000",
          "2018-05-02T00:00:00.000000",
          "2018-05-03T00:00:00.000000",
          "2018-05-04T00:00:00.000000",
          "2018-05-07T00:00:00.000000",
          "2018-05-08T00:00:00.000000",
          "2018-05-09T00:00:00.000000",
          "2018-05-10T00:00:00.000000",
          "2018-05-11T00:00:00.000000",
          "2018-05-14T00:00:00.000000",
          "2018-05-15T00:00:00.000000",
          "2018-05-16T00:00:00.000000",
          "2018-05-17T00:00:00.000000",
          "2018-05-18T00:00:00.000000",
          "2018-05-21T00:00:00.000000",
          "2018-05-22T00:00:00.000000",
          "2018-05-23T00:00:00.000000",
          "2018-05-24T00:00:00.000000",
          "2018-05-25T00:00:00.000000",
          "2018-05-29T00:00:00.000000",
          "2018-05-30T00:00:00.000000",
          "2018-05-31T00:00:00.000000",
          "2018-06-01T00:00:00.000000",
          "2018-06-04T00:00:00.000000",
          "2018-06-05T00:00:00.000000",
          "2018-06-06T00:00:00.000000",
          "2018-06-07T00:00:00.000000",
          "2018-06-08T00:00:00.000000",
          "2018-06-11T00:00:00.000000",
          "2018-06-12T00:00:00.000000",
          "2018-06-13T00:00:00.000000",
          "2018-06-14T00:00:00.000000",
          "2018-06-15T00:00:00.000000",
          "2018-06-18T00:00:00.000000",
          "2018-06-19T00:00:00.000000",
          "2018-06-20T00:00:00.000000",
          "2018-06-21T00:00:00.000000",
          "2018-06-22T00:00:00.000000",
          "2018-06-25T00:00:00.000000",
          "2018-06-26T00:00:00.000000",
          "2018-06-27T00:00:00.000000",
          "2018-06-28T00:00:00.000000",
          "2018-06-29T00:00:00.000000",
          "2018-07-02T00:00:00.000000",
          "2018-07-03T00:00:00.000000",
          "2018-07-05T00:00:00.000000",
          "2018-07-06T00:00:00.000000",
          "2018-07-09T00:00:00.000000",
          "2018-07-10T00:00:00.000000",
          "2018-07-11T00:00:00.000000",
          "2018-07-12T00:00:00.000000",
          "2018-07-13T00:00:00.000000",
          "2018-07-16T00:00:00.000000",
          "2018-07-17T00:00:00.000000",
          "2018-07-18T00:00:00.000000",
          "2018-07-19T00:00:00.000000",
          "2018-07-20T00:00:00.000000",
          "2018-07-23T00:00:00.000000",
          "2018-07-24T00:00:00.000000",
          "2018-07-25T00:00:00.000000",
          "2018-07-26T00:00:00.000000",
          "2018-07-27T00:00:00.000000",
          "2018-07-30T00:00:00.000000",
          "2018-07-31T00:00:00.000000",
          "2018-08-01T00:00:00.000000",
          "2018-08-02T00:00:00.000000",
          "2018-08-03T00:00:00.000000",
          "2018-08-06T00:00:00.000000",
          "2018-08-07T00:00:00.000000",
          "2018-08-08T00:00:00.000000",
          "2018-08-09T00:00:00.000000",
          "2018-08-10T00:00:00.000000",
          "2018-08-13T00:00:00.000000",
          "2018-08-14T00:00:00.000000",
          "2018-08-15T00:00:00.000000",
          "2018-08-16T00:00:00.000000",
          "2018-08-17T00:00:00.000000",
          "2018-08-20T00:00:00.000000",
          "2018-08-21T00:00:00.000000",
          "2018-08-22T00:00:00.000000",
          "2018-08-23T00:00:00.000000",
          "2018-08-24T00:00:00.000000",
          "2018-08-27T00:00:00.000000",
          "2018-08-28T00:00:00.000000",
          "2018-08-29T00:00:00.000000",
          "2018-08-30T00:00:00.000000",
          "2018-08-31T00:00:00.000000",
          "2018-09-04T00:00:00.000000",
          "2018-09-05T00:00:00.000000",
          "2018-09-06T00:00:00.000000",
          "2018-09-07T00:00:00.000000",
          "2018-09-10T00:00:00.000000",
          "2018-09-11T00:00:00.000000",
          "2018-09-12T00:00:00.000000",
          "2018-09-13T00:00:00.000000",
          "2018-09-14T00:00:00.000000",
          "2018-09-17T00:00:00.000000",
          "2018-09-18T00:00:00.000000",
          "2018-09-19T00:00:00.000000",
          "2018-09-20T00:00:00.000000",
          "2018-09-21T00:00:00.000000",
          "2018-09-24T00:00:00.000000",
          "2018-09-25T00:00:00.000000",
          "2018-09-26T00:00:00.000000",
          "2018-09-27T00:00:00.000000",
          "2018-09-28T00:00:00.000000",
          "2018-10-01T00:00:00.000000",
          "2018-10-02T00:00:00.000000",
          "2018-10-03T00:00:00.000000",
          "2018-10-04T00:00:00.000000",
          "2018-10-05T00:00:00.000000",
          "2018-10-08T00:00:00.000000",
          "2018-10-09T00:00:00.000000",
          "2018-10-10T00:00:00.000000",
          "2018-10-11T00:00:00.000000",
          "2018-10-12T00:00:00.000000",
          "2018-10-15T00:00:00.000000",
          "2018-10-16T00:00:00.000000",
          "2018-10-17T00:00:00.000000",
          "2018-10-18T00:00:00.000000",
          "2018-10-19T00:00:00.000000",
          "2018-10-22T00:00:00.000000",
          "2018-10-23T00:00:00.000000",
          "2018-10-24T00:00:00.000000",
          "2018-10-25T00:00:00.000000",
          "2018-10-26T00:00:00.000000",
          "2018-10-29T00:00:00.000000",
          "2018-10-30T00:00:00.000000",
          "2018-10-31T00:00:00.000000",
          "2018-11-01T00:00:00.000000",
          "2018-11-02T00:00:00.000000",
          "2018-11-05T00:00:00.000000",
          "2018-11-06T00:00:00.000000",
          "2018-11-07T00:00:00.000000",
          "2018-11-08T00:00:00.000000",
          "2018-11-09T00:00:00.000000",
          "2018-11-12T00:00:00.000000",
          "2018-11-13T00:00:00.000000",
          "2018-11-14T00:00:00.000000",
          "2018-11-15T00:00:00.000000",
          "2018-11-16T00:00:00.000000",
          "2018-11-19T00:00:00.000000",
          "2018-11-20T00:00:00.000000",
          "2018-11-21T00:00:00.000000",
          "2018-11-23T00:00:00.000000",
          "2018-11-26T00:00:00.000000",
          "2018-11-27T00:00:00.000000",
          "2018-11-28T00:00:00.000000",
          "2018-11-29T00:00:00.000000",
          "2018-11-30T00:00:00.000000",
          "2018-12-03T00:00:00.000000",
          "2018-12-04T00:00:00.000000",
          "2018-12-06T00:00:00.000000",
          "2018-12-07T00:00:00.000000",
          "2018-12-10T00:00:00.000000",
          "2018-12-11T00:00:00.000000",
          "2018-12-12T00:00:00.000000",
          "2018-12-13T00:00:00.000000",
          "2018-12-14T00:00:00.000000",
          "2018-12-17T00:00:00.000000",
          "2018-12-18T00:00:00.000000",
          "2018-12-19T00:00:00.000000",
          "2018-12-20T00:00:00.000000",
          "2018-12-21T00:00:00.000000",
          "2018-12-24T00:00:00.000000",
          "2018-12-26T00:00:00.000000",
          "2018-12-27T00:00:00.000000",
          "2018-12-28T00:00:00.000000",
          "2018-12-31T00:00:00.000000",
          "2019-01-02T00:00:00.000000",
          "2019-01-03T00:00:00.000000",
          "2019-01-04T00:00:00.000000",
          "2019-01-07T00:00:00.000000",
          "2019-01-08T00:00:00.000000",
          "2019-01-09T00:00:00.000000",
          "2019-01-10T00:00:00.000000",
          "2019-01-11T00:00:00.000000",
          "2019-01-14T00:00:00.000000",
          "2019-01-15T00:00:00.000000",
          "2019-01-16T00:00:00.000000",
          "2019-01-17T00:00:00.000000",
          "2019-01-18T00:00:00.000000",
          "2019-01-22T00:00:00.000000",
          "2019-01-23T00:00:00.000000",
          "2019-01-24T00:00:00.000000",
          "2019-01-25T00:00:00.000000",
          "2019-01-28T00:00:00.000000",
          "2019-01-29T00:00:00.000000",
          "2019-01-30T00:00:00.000000",
          "2019-01-31T00:00:00.000000",
          "2019-02-01T00:00:00.000000",
          "2019-02-04T00:00:00.000000",
          "2019-02-05T00:00:00.000000",
          "2019-02-06T00:00:00.000000",
          "2019-02-07T00:00:00.000000",
          "2019-02-08T00:00:00.000000",
          "2019-02-11T00:00:00.000000",
          "2019-02-12T00:00:00.000000",
          "2019-02-13T00:00:00.000000",
          "2019-02-14T00:00:00.000000",
          "2019-02-15T00:00:00.000000",
          "2019-02-19T00:00:00.000000",
          "2019-02-20T00:00:00.000000",
          "2019-02-21T00:00:00.000000",
          "2019-02-22T00:00:00.000000",
          "2019-02-25T00:00:00.000000",
          "2019-02-26T00:00:00.000000",
          "2019-02-27T00:00:00.000000",
          "2019-02-28T00:00:00.000000",
          "2019-03-01T00:00:00.000000",
          "2019-03-04T00:00:00.000000",
          "2019-03-05T00:00:00.000000",
          "2019-03-06T00:00:00.000000",
          "2019-03-07T00:00:00.000000",
          "2019-03-08T00:00:00.000000",
          "2019-03-11T00:00:00.000000",
          "2019-03-12T00:00:00.000000",
          "2019-03-13T00:00:00.000000",
          "2019-03-14T00:00:00.000000",
          "2019-03-15T00:00:00.000000",
          "2019-03-18T00:00:00.000000",
          "2019-03-19T00:00:00.000000",
          "2019-03-20T00:00:00.000000",
          "2019-03-21T00:00:00.000000",
          "2019-03-22T00:00:00.000000",
          "2019-03-25T00:00:00.000000",
          "2019-03-26T00:00:00.000000",
          "2019-03-27T00:00:00.000000",
          "2019-03-28T00:00:00.000000",
          "2019-03-29T00:00:00.000000",
          "2019-04-01T00:00:00.000000",
          "2019-04-02T00:00:00.000000",
          "2019-04-03T00:00:00.000000",
          "2019-04-04T00:00:00.000000",
          "2019-04-05T00:00:00.000000",
          "2019-04-08T00:00:00.000000",
          "2019-04-09T00:00:00.000000",
          "2019-04-10T00:00:00.000000",
          "2019-04-11T00:00:00.000000",
          "2019-04-12T00:00:00.000000",
          "2019-04-15T00:00:00.000000",
          "2019-04-16T00:00:00.000000",
          "2019-04-17T00:00:00.000000",
          "2019-04-18T00:00:00.000000",
          "2019-04-22T00:00:00.000000",
          "2019-04-23T00:00:00.000000",
          "2019-04-24T00:00:00.000000",
          "2019-04-25T00:00:00.000000",
          "2019-04-26T00:00:00.000000",
          "2019-04-29T00:00:00.000000",
          "2019-04-30T00:00:00.000000",
          "2019-05-01T00:00:00.000000",
          "2019-05-02T00:00:00.000000",
          "2019-05-03T00:00:00.000000",
          "2019-05-06T00:00:00.000000",
          "2019-05-07T00:00:00.000000",
          "2019-05-08T00:00:00.000000",
          "2019-05-09T00:00:00.000000",
          "2019-05-10T00:00:00.000000",
          "2019-05-13T00:00:00.000000",
          "2019-05-14T00:00:00.000000",
          "2019-05-15T00:00:00.000000",
          "2019-05-16T00:00:00.000000",
          "2019-05-17T00:00:00.000000",
          "2019-05-20T00:00:00.000000",
          "2019-05-21T00:00:00.000000",
          "2019-05-22T00:00:00.000000",
          "2019-05-23T00:00:00.000000",
          "2019-05-24T00:00:00.000000",
          "2019-05-28T00:00:00.000000",
          "2019-05-29T00:00:00.000000",
          "2019-05-30T00:00:00.000000",
          "2019-05-31T00:00:00.000000",
          "2019-06-03T00:00:00.000000",
          "2019-06-04T00:00:00.000000",
          "2019-06-05T00:00:00.000000",
          "2019-06-06T00:00:00.000000",
          "2019-06-07T00:00:00.000000",
          "2019-06-10T00:00:00.000000",
          "2019-06-11T00:00:00.000000",
          "2019-06-12T00:00:00.000000",
          "2019-06-13T00:00:00.000000",
          "2019-06-14T00:00:00.000000",
          "2019-06-17T00:00:00.000000",
          "2019-06-18T00:00:00.000000",
          "2019-06-19T00:00:00.000000",
          "2019-06-20T00:00:00.000000",
          "2019-06-21T00:00:00.000000",
          "2019-06-24T00:00:00.000000",
          "2019-06-25T00:00:00.000000",
          "2019-06-26T00:00:00.000000",
          "2019-06-27T00:00:00.000000",
          "2019-06-28T00:00:00.000000",
          "2019-07-01T00:00:00.000000",
          "2019-07-02T00:00:00.000000",
          "2019-07-03T00:00:00.000000",
          "2019-07-05T00:00:00.000000",
          "2019-07-08T00:00:00.000000",
          "2019-07-09T00:00:00.000000",
          "2019-07-10T00:00:00.000000",
          "2019-07-11T00:00:00.000000",
          "2019-07-12T00:00:00.000000",
          "2019-07-15T00:00:00.000000",
          "2019-07-16T00:00:00.000000",
          "2019-07-17T00:00:00.000000",
          "2019-07-18T00:00:00.000000",
          "2019-07-19T00:00:00.000000",
          "2019-07-22T00:00:00.000000",
          "2019-07-23T00:00:00.000000",
          "2019-07-24T00:00:00.000000",
          "2019-07-25T00:00:00.000000",
          "2019-07-26T00:00:00.000000",
          "2019-07-29T00:00:00.000000",
          "2019-07-30T00:00:00.000000",
          "2019-07-31T00:00:00.000000",
          "2019-08-01T00:00:00.000000",
          "2019-08-02T00:00:00.000000",
          "2019-08-05T00:00:00.000000",
          "2019-08-06T00:00:00.000000",
          "2019-08-07T00:00:00.000000",
          "2019-08-08T00:00:00.000000",
          "2019-08-09T00:00:00.000000",
          "2019-08-12T00:00:00.000000",
          "2019-08-13T00:00:00.000000",
          "2019-08-14T00:00:00.000000",
          "2019-08-15T00:00:00.000000",
          "2019-08-16T00:00:00.000000",
          "2019-08-19T00:00:00.000000",
          "2019-08-20T00:00:00.000000",
          "2019-08-21T00:00:00.000000",
          "2019-08-22T00:00:00.000000",
          "2019-08-23T00:00:00.000000",
          "2019-08-26T00:00:00.000000",
          "2019-08-27T00:00:00.000000",
          "2019-08-28T00:00:00.000000",
          "2019-08-29T00:00:00.000000",
          "2019-08-30T00:00:00.000000",
          "2019-09-03T00:00:00.000000",
          "2019-09-04T00:00:00.000000",
          "2019-09-05T00:00:00.000000",
          "2019-09-06T00:00:00.000000",
          "2019-09-09T00:00:00.000000",
          "2019-09-10T00:00:00.000000",
          "2019-09-11T00:00:00.000000",
          "2019-09-12T00:00:00.000000",
          "2019-09-13T00:00:00.000000",
          "2019-09-16T00:00:00.000000",
          "2019-09-17T00:00:00.000000",
          "2019-09-18T00:00:00.000000",
          "2019-09-19T00:00:00.000000",
          "2019-09-20T00:00:00.000000",
          "2019-09-23T00:00:00.000000",
          "2019-09-24T00:00:00.000000",
          "2019-09-25T00:00:00.000000",
          "2019-09-26T00:00:00.000000",
          "2019-09-27T00:00:00.000000",
          "2019-09-30T00:00:00.000000",
          "2019-10-01T00:00:00.000000",
          "2019-10-02T00:00:00.000000",
          "2019-10-03T00:00:00.000000",
          "2019-10-04T00:00:00.000000",
          "2019-10-07T00:00:00.000000",
          "2019-10-08T00:00:00.000000",
          "2019-10-09T00:00:00.000000",
          "2019-10-10T00:00:00.000000",
          "2019-10-11T00:00:00.000000",
          "2019-10-14T00:00:00.000000",
          "2019-10-15T00:00:00.000000",
          "2019-10-16T00:00:00.000000",
          "2019-10-17T00:00:00.000000",
          "2019-10-18T00:00:00.000000",
          "2019-10-21T00:00:00.000000",
          "2019-10-22T00:00:00.000000",
          "2019-10-23T00:00:00.000000",
          "2019-10-24T00:00:00.000000",
          "2019-10-25T00:00:00.000000",
          "2019-10-28T00:00:00.000000",
          "2019-10-29T00:00:00.000000",
          "2019-10-30T00:00:00.000000",
          "2019-10-31T00:00:00.000000",
          "2019-11-01T00:00:00.000000",
          "2019-11-04T00:00:00.000000",
          "2019-11-05T00:00:00.000000",
          "2019-11-06T00:00:00.000000",
          "2019-11-07T00:00:00.000000",
          "2019-11-08T00:00:00.000000",
          "2019-11-11T00:00:00.000000",
          "2019-11-12T00:00:00.000000",
          "2019-11-13T00:00:00.000000",
          "2019-11-14T00:00:00.000000",
          "2019-11-15T00:00:00.000000",
          "2019-11-18T00:00:00.000000",
          "2019-11-19T00:00:00.000000",
          "2019-11-20T00:00:00.000000",
          "2019-11-21T00:00:00.000000",
          "2019-11-22T00:00:00.000000",
          "2019-11-25T00:00:00.000000",
          "2019-11-26T00:00:00.000000",
          "2019-11-27T00:00:00.000000",
          "2019-11-29T00:00:00.000000",
          "2019-12-02T00:00:00.000000",
          "2019-12-03T00:00:00.000000",
          "2019-12-04T00:00:00.000000",
          "2019-12-05T00:00:00.000000",
          "2019-12-06T00:00:00.000000",
          "2019-12-09T00:00:00.000000",
          "2019-12-10T00:00:00.000000",
          "2019-12-11T00:00:00.000000",
          "2019-12-12T00:00:00.000000",
          "2019-12-13T00:00:00.000000"
         ],
         "y": {
          "dtype": "float64",
          "shape": [
           275
          ]
         }
        }
       ],
       "_js2py_pointsCallback": {},
       "_js2py_relayout": {},
       "_js2py_restyle": {},
       "_js2py_update": {},
       "_last_layout_edit_id": 1,
       "_last_trace_edit_id": 1,
       "_layout": {
        "barmode": "overlay",
        "height": 600,
        "template": {
         "data": {
          "bar": [
           {
            "error_x": {
             "color": "#2a3f5f"
            },
            "error_y": {
             "color": "#2a3f5f"
            },
            "marker": {
             "line": {
              "color": "#E5ECF6",
              "width": 0.5
             }
            },
            "type": "bar"
           }
          ],
          "barpolar": [
           {
            "marker": {
             "line": {
              "color": "#E5ECF6",
              "width": 0.5
             }
            },
            "type": "barpolar"
           }
          ],
          "carpet": [
           {
            "aaxis": {
             "endlinecolor": "#2a3f5f",
             "gridcolor": "white",
             "linecolor": "white",
             "minorgridcolor": "white",
             "startlinecolor": "#2a3f5f"
            },
            "baxis": {
             "endlinecolor": "#2a3f5f",
             "gridcolor": "white",
             "linecolor": "white",
             "minorgridcolor": "white",
             "startlinecolor": "#2a3f5f"
            },
            "type": "carpet"
           }
          ],
          "choropleth": [
           {
            "colorbar": {
             "outlinewidth": 0,
             "ticks": ""
            },
            "type": "choropleth"
           }
          ],
          "contour": [
           {
            "colorbar": {
             "outlinewidth": 0,
             "ticks": ""
            },
            "colorscale": [
             [
              0,
              "#0d0887"
             ],
             [
              0.1111111111111111,
              "#46039f"
             ],
             [
              0.2222222222222222,
              "#7201a8"
             ],
             [
              0.3333333333333333,
              "#9c179e"
             ],
             [
              0.4444444444444444,
              "#bd3786"
             ],
             [
              0.5555555555555556,
              "#d8576b"
             ],
             [
              0.6666666666666666,
              "#ed7953"
             ],
             [
              0.7777777777777778,
              "#fb9f3a"
             ],
             [
              0.8888888888888888,
              "#fdca26"
             ],
             [
              1,
              "#f0f921"
             ]
            ],
            "type": "contour"
           }
          ],
          "contourcarpet": [
           {
            "colorbar": {
             "outlinewidth": 0,
             "ticks": ""
            },
            "type": "contourcarpet"
           }
          ],
          "heatmap": [
           {
            "colorbar": {
             "outlinewidth": 0,
             "ticks": ""
            },
            "colorscale": [
             [
              0,
              "#0d0887"
             ],
             [
              0.1111111111111111,
              "#46039f"
             ],
             [
              0.2222222222222222,
              "#7201a8"
             ],
             [
              0.3333333333333333,
              "#9c179e"
             ],
             [
              0.4444444444444444,
              "#bd3786"
             ],
             [
              0.5555555555555556,
              "#d8576b"
             ],
             [
              0.6666666666666666,
              "#ed7953"
             ],
             [
              0.7777777777777778,
              "#fb9f3a"
             ],
             [
              0.8888888888888888,
              "#fdca26"
             ],
             [
              1,
              "#f0f921"
             ]
            ],
            "type": "heatmap"
           }
          ],
          "heatmapgl": [
           {
            "colorbar": {
             "outlinewidth": 0,
             "ticks": ""
            },
            "colorscale": [
             [
              0,
              "#0d0887"
             ],
             [
              0.1111111111111111,
              "#46039f"
             ],
             [
              0.2222222222222222,
              "#7201a8"
             ],
             [
              0.3333333333333333,
              "#9c179e"
             ],
             [
              0.4444444444444444,
              "#bd3786"
             ],
             [
              0.5555555555555556,
              "#d8576b"
             ],
             [
              0.6666666666666666,
              "#ed7953"
             ],
             [
              0.7777777777777778,
              "#fb9f3a"
             ],
             [
              0.8888888888888888,
              "#fdca26"
             ],
             [
              1,
              "#f0f921"
             ]
            ],
            "type": "heatmapgl"
           }
          ],
          "histogram": [
           {
            "marker": {
             "colorbar": {
              "outlinewidth": 0,
              "ticks": ""
             }
            },
            "type": "histogram"
           }
          ],
          "histogram2d": [
           {
            "colorbar": {
             "outlinewidth": 0,
             "ticks": ""
            },
            "colorscale": [
             [
              0,
              "#0d0887"
             ],
             [
              0.1111111111111111,
              "#46039f"
             ],
             [
              0.2222222222222222,
              "#7201a8"
             ],
             [
              0.3333333333333333,
              "#9c179e"
             ],
             [
              0.4444444444444444,
              "#bd3786"
             ],
             [
              0.5555555555555556,
              "#d8576b"
             ],
             [
              0.6666666666666666,
              "#ed7953"
             ],
             [
              0.7777777777777778,
              "#fb9f3a"
             ],
             [
              0.8888888888888888,
              "#fdca26"
             ],
             [
              1,
              "#f0f921"
             ]
            ],
            "type": "histogram2d"
           }
          ],
          "histogram2dcontour": [
           {
            "colorbar": {
             "outlinewidth": 0,
             "ticks": ""
            },
            "colorscale": [
             [
              0,
              "#0d0887"
             ],
             [
              0.1111111111111111,
              "#46039f"
             ],
             [
              0.2222222222222222,
              "#7201a8"
             ],
             [
              0.3333333333333333,
              "#9c179e"
             ],
             [
              0.4444444444444444,
              "#bd3786"
             ],
             [
              0.5555555555555556,
              "#d8576b"
             ],
             [
              0.6666666666666666,
              "#ed7953"
             ],
             [
              0.7777777777777778,
              "#fb9f3a"
             ],
             [
              0.8888888888888888,
              "#fdca26"
             ],
             [
              1,
              "#f0f921"
             ]
            ],
            "type": "histogram2dcontour"
           }
          ],
          "mesh3d": [
           {
            "colorbar": {
             "outlinewidth": 0,
             "ticks": ""
            },
            "type": "mesh3d"
           }
          ],
          "parcoords": [
           {
            "line": {
             "colorbar": {
              "outlinewidth": 0,
              "ticks": ""
             }
            },
            "type": "parcoords"
           }
          ],
          "scatter": [
           {
            "marker": {
             "colorbar": {
              "outlinewidth": 0,
              "ticks": ""
             }
            },
            "type": "scatter"
           }
          ],
          "scatter3d": [
           {
            "line": {
             "colorbar": {
              "outlinewidth": 0,
              "ticks": ""
             }
            },
            "marker": {
             "colorbar": {
              "outlinewidth": 0,
              "ticks": ""
             }
            },
            "type": "scatter3d"
           }
          ],
          "scattercarpet": [
           {
            "marker": {
             "colorbar": {
              "outlinewidth": 0,
              "ticks": ""
             }
            },
            "type": "scattercarpet"
           }
          ],
          "scattergeo": [
           {
            "marker": {
             "colorbar": {
              "outlinewidth": 0,
              "ticks": ""
             }
            },
            "type": "scattergeo"
           }
          ],
          "scattergl": [
           {
            "marker": {
             "colorbar": {
              "outlinewidth": 0,
              "ticks": ""
             }
            },
            "type": "scattergl"
           }
          ],
          "scattermapbox": [
           {
            "marker": {
             "colorbar": {
              "outlinewidth": 0,
              "ticks": ""
             }
            },
            "type": "scattermapbox"
           }
          ],
          "scatterpolar": [
           {
            "marker": {
             "colorbar": {
              "outlinewidth": 0,
              "ticks": ""
             }
            },
            "type": "scatterpolar"
           }
          ],
          "scatterpolargl": [
           {
            "marker": {
             "colorbar": {
              "outlinewidth": 0,
              "ticks": ""
             }
            },
            "type": "scatterpolargl"
           }
          ],
          "scatterternary": [
           {
            "marker": {
             "colorbar": {
              "outlinewidth": 0,
              "ticks": ""
             }
            },
            "type": "scatterternary"
           }
          ],
          "surface": [
           {
            "colorbar": {
             "outlinewidth": 0,
             "ticks": ""
            },
            "colorscale": [
             [
              0,
              "#0d0887"
             ],
             [
              0.1111111111111111,
              "#46039f"
             ],
             [
              0.2222222222222222,
              "#7201a8"
             ],
             [
              0.3333333333333333,
              "#9c179e"
             ],
             [
              0.4444444444444444,
              "#bd3786"
             ],
             [
              0.5555555555555556,
              "#d8576b"
             ],
             [
              0.6666666666666666,
              "#ed7953"
             ],
             [
              0.7777777777777778,
              "#fb9f3a"
             ],
             [
              0.8888888888888888,
              "#fdca26"
             ],
             [
              1,
              "#f0f921"
             ]
            ],
            "type": "surface"
           }
          ],
          "table": [
           {
            "cells": {
             "fill": {
              "color": "#EBF0F8"
             },
             "line": {
              "color": "white"
             }
            },
            "header": {
             "fill": {
              "color": "#C8D4E3"
             },
             "line": {
              "color": "white"
             }
            },
            "type": "table"
           }
          ]
         },
         "layout": {
          "annotationdefaults": {
           "arrowcolor": "#2a3f5f",
           "arrowhead": 0,
           "arrowwidth": 1
          },
          "colorscale": {
           "diverging": [
            [
             0,
             "#8e0152"
            ],
            [
             0.1,
             "#c51b7d"
            ],
            [
             0.2,
             "#de77ae"
            ],
            [
             0.3,
             "#f1b6da"
            ],
            [
             0.4,
             "#fde0ef"
            ],
            [
             0.5,
             "#f7f7f7"
            ],
            [
             0.6,
             "#e6f5d0"
            ],
            [
             0.7,
             "#b8e186"
            ],
            [
             0.8,
             "#7fbc41"
            ],
            [
             0.9,
             "#4d9221"
            ],
            [
             1,
             "#276419"
            ]
           ],
           "sequential": [
            [
             0,
             "#0d0887"
            ],
            [
             0.1111111111111111,
             "#46039f"
            ],
            [
             0.2222222222222222,
             "#7201a8"
            ],
            [
             0.3333333333333333,
             "#9c179e"
            ],
            [
             0.4444444444444444,
             "#bd3786"
            ],
            [
             0.5555555555555556,
             "#d8576b"
            ],
            [
             0.6666666666666666,
             "#ed7953"
            ],
            [
             0.7777777777777778,
             "#fb9f3a"
            ],
            [
             0.8888888888888888,
             "#fdca26"
            ],
            [
             1,
             "#f0f921"
            ]
           ],
           "sequentialminus": [
            [
             0,
             "#0d0887"
            ],
            [
             0.1111111111111111,
             "#46039f"
            ],
            [
             0.2222222222222222,
             "#7201a8"
            ],
            [
             0.3333333333333333,
             "#9c179e"
            ],
            [
             0.4444444444444444,
             "#bd3786"
            ],
            [
             0.5555555555555556,
             "#d8576b"
            ],
            [
             0.6666666666666666,
             "#ed7953"
            ],
            [
             0.7777777777777778,
             "#fb9f3a"
            ],
            [
             0.8888888888888888,
             "#fdca26"
            ],
            [
             1,
             "#f0f921"
            ]
           ]
          },
          "colorway": [
           "#636efa",
           "#EF553B",
           "#00cc96",
           "#ab63fa",
           "#FFA15A",
           "#19d3f3",
           "#FF6692",
           "#B6E880",
           "#FF97FF",
           "#FECB52"
          ],
          "font": {
           "color": "#2a3f5f"
          },
          "geo": {
           "bgcolor": "white",
           "lakecolor": "white",
           "landcolor": "#E5ECF6",
           "showlakes": true,
           "showland": true,
           "subunitcolor": "white"
          },
          "hoverlabel": {
           "align": "left"
          },
          "hovermode": "closest",
          "mapbox": {
           "style": "light"
          },
          "paper_bgcolor": "white",
          "plot_bgcolor": "#E5ECF6",
          "polar": {
           "angularaxis": {
            "gridcolor": "white",
            "linecolor": "white",
            "ticks": ""
           },
           "bgcolor": "#E5ECF6",
           "radialaxis": {
            "gridcolor": "white",
            "linecolor": "white",
            "ticks": ""
           }
          },
          "scene": {
           "xaxis": {
            "backgroundcolor": "#E5ECF6",
            "gridcolor": "white",
            "gridwidth": 2,
            "linecolor": "white",
            "showbackground": true,
            "ticks": "",
            "zerolinecolor": "white"
           },
           "yaxis": {
            "backgroundcolor": "#E5ECF6",
            "gridcolor": "white",
            "gridwidth": 2,
            "linecolor": "white",
            "showbackground": true,
            "ticks": "",
            "zerolinecolor": "white"
           },
           "zaxis": {
            "backgroundcolor": "#E5ECF6",
            "gridcolor": "white",
            "gridwidth": 2,
            "linecolor": "white",
            "showbackground": true,
            "ticks": "",
            "zerolinecolor": "white"
           }
          },
          "shapedefaults": {
           "line": {
            "color": "#2a3f5f"
           }
          },
          "ternary": {
           "aaxis": {
            "gridcolor": "white",
            "linecolor": "white",
            "ticks": ""
           },
           "baxis": {
            "gridcolor": "white",
            "linecolor": "white",
            "ticks": ""
           },
           "bgcolor": "#E5ECF6",
           "caxis": {
            "gridcolor": "white",
            "linecolor": "white",
            "ticks": ""
           }
          },
          "title": {
           "x": 0.05
          },
          "xaxis": {
           "automargin": true,
           "gridcolor": "white",
           "linecolor": "white",
           "ticks": "",
           "zerolinecolor": "white",
           "zerolinewidth": 2
          },
          "yaxis": {
           "automargin": true,
           "gridcolor": "white",
           "linecolor": "white",
           "ticks": "",
           "zerolinecolor": "white",
           "zerolinewidth": 2
          }
         }
        },
        "title": {
         "text": "The Open and Close Price of The Coca-Cola Company(USD)"
        },
        "width": 1000,
        "yaxis": {
         "title": {
          "text": "Price(USD)"
         }
        }
       },
       "_py2js_addTraces": {},
       "_py2js_animate": {},
       "_py2js_deleteTraces": {},
       "_py2js_moveTraces": {},
       "_py2js_removeLayoutProps": {},
       "_py2js_removeTraceProps": {},
       "_py2js_restyle": {},
       "_view_count": 1
      }
     },
     "ee7b50238eb24cd6af88eb9f7a558860": {
      "model_module": "@jupyter-widgets/base",
      "model_module_version": "1.2.0",
      "model_name": "LayoutModel",
      "state": {}
     },
     "fa017e0746364ac2ad457790ec4fe43c": {
      "model_module": "@jupyter-widgets/controls",
      "model_module_version": "1.5.0",
      "model_name": "HBoxModel",
      "state": {
       "children": [
        "IPY_MODEL_9749bc8b362d4a79bbaf1cd7c802f931",
        "IPY_MODEL_2a010c081b5d4929808441bf1af29857",
        "IPY_MODEL_e2f79f6f944d42efb420d087e99289e5"
       ],
       "layout": "IPY_MODEL_797005bae0574a31a99fefb3d633c05c"
      }
     }
    },
    "version_major": 2,
    "version_minor": 0
   }
  }
 },
 "nbformat": 4,
 "nbformat_minor": 2
}
